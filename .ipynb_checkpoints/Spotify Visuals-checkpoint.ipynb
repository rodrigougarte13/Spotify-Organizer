{
 "cells": [
  {
   "cell_type": "markdown",
   "id": "77aa9890-79b9-47de-bb7c-68815431492f",
   "metadata": {},
   "source": [
    "# Imports"
   ]
  },
  {
   "cell_type": "code",
   "execution_count": 25,
   "id": "32c5da53-1c05-47ef-961b-ada276b073df",
   "metadata": {},
   "outputs": [],
   "source": [
    "import pandas as pd\n",
    "import matplotlib as plt\n",
    "import seaborn as sns\n",
    "import numpy as np\n",
    "import plotly.express as px"
   ]
  },
  {
   "cell_type": "code",
   "execution_count": 27,
   "id": "78124e9a-d23c-4570-a524-13a504b58d10",
   "metadata": {},
   "outputs": [
    {
     "data": {
      "text/html": [
       "<div>\n",
       "<style scoped>\n",
       "    .dataframe tbody tr th:only-of-type {\n",
       "        vertical-align: middle;\n",
       "    }\n",
       "\n",
       "    .dataframe tbody tr th {\n",
       "        vertical-align: top;\n",
       "    }\n",
       "\n",
       "    .dataframe thead th {\n",
       "        text-align: right;\n",
       "    }\n",
       "</style>\n",
       "<table border=\"1\" class=\"dataframe\">\n",
       "  <thead>\n",
       "    <tr style=\"text-align: right;\">\n",
       "      <th></th>\n",
       "      <th>Track ID</th>\n",
       "      <th>Track Name</th>\n",
       "      <th>Artist</th>\n",
       "      <th>Album</th>\n",
       "      <th>Genre</th>\n",
       "      <th>Date Added</th>\n",
       "      <th>Popularity</th>\n",
       "      <th>Duration</th>\n",
       "      <th>Album Release Date</th>\n",
       "      <th>Tempo</th>\n",
       "      <th>Energy</th>\n",
       "      <th>Danceability</th>\n",
       "      <th>Year Added</th>\n",
       "      <th>Month Added</th>\n",
       "      <th>Day Added</th>\n",
       "      <th>Hour Added</th>\n",
       "      <th>Broad Genre</th>\n",
       "    </tr>\n",
       "  </thead>\n",
       "  <tbody>\n",
       "    <tr>\n",
       "      <th>0</th>\n",
       "      <td>5rAxhWcgFng3s570sGO2F8</td>\n",
       "      <td>A Place for My Head</td>\n",
       "      <td>Linkin Park</td>\n",
       "      <td>Hybrid Theory (Bonus Edition)</td>\n",
       "      <td>alternative metal</td>\n",
       "      <td>2024-06-12 12:45:21-05:00</td>\n",
       "      <td>65</td>\n",
       "      <td>3.077333</td>\n",
       "      <td>2000</td>\n",
       "      <td>133.063</td>\n",
       "      <td>0.908</td>\n",
       "      <td>0.603</td>\n",
       "      <td>2024</td>\n",
       "      <td>6</td>\n",
       "      <td>12</td>\n",
       "      <td>12</td>\n",
       "      <td>Metal</td>\n",
       "    </tr>\n",
       "    <tr>\n",
       "      <th>1</th>\n",
       "      <td>0rNqDh9zWWJVTLS4VfceHP</td>\n",
       "      <td>Brickell</td>\n",
       "      <td>Feid</td>\n",
       "      <td>MANIFESTING 20-05</td>\n",
       "      <td>colombian pop</td>\n",
       "      <td>2024-06-11 17:57:50-05:00</td>\n",
       "      <td>79</td>\n",
       "      <td>3.006000</td>\n",
       "      <td>2024-04-10</td>\n",
       "      <td>93.037</td>\n",
       "      <td>0.890</td>\n",
       "      <td>0.805</td>\n",
       "      <td>2024</td>\n",
       "      <td>6</td>\n",
       "      <td>11</td>\n",
       "      <td>17</td>\n",
       "      <td>Pop</td>\n",
       "    </tr>\n",
       "    <tr>\n",
       "      <th>2</th>\n",
       "      <td>4kjI1gwQZRKNDkw1nI475M</td>\n",
       "      <td>MY EYES</td>\n",
       "      <td>Travis Scott</td>\n",
       "      <td>UTOPIA</td>\n",
       "      <td>rap</td>\n",
       "      <td>2024-06-10 20:04:56-05:00</td>\n",
       "      <td>79</td>\n",
       "      <td>4.187483</td>\n",
       "      <td>2023-07-28</td>\n",
       "      <td>119.043</td>\n",
       "      <td>0.621</td>\n",
       "      <td>0.455</td>\n",
       "      <td>2024</td>\n",
       "      <td>6</td>\n",
       "      <td>10</td>\n",
       "      <td>20</td>\n",
       "      <td>Hip Hop</td>\n",
       "    </tr>\n",
       "    <tr>\n",
       "      <th>3</th>\n",
       "      <td>6F9yAYUaNbUhdlQyt5uZ3b</td>\n",
       "      <td>La Incondicional</td>\n",
       "      <td>Luis Miguel</td>\n",
       "      <td>Busca Una Mujer</td>\n",
       "      <td>bolero</td>\n",
       "      <td>2024-06-07 21:34:11-05:00</td>\n",
       "      <td>73</td>\n",
       "      <td>4.283767</td>\n",
       "      <td>1988-11-25</td>\n",
       "      <td>155.127</td>\n",
       "      <td>0.727</td>\n",
       "      <td>0.374</td>\n",
       "      <td>2024</td>\n",
       "      <td>6</td>\n",
       "      <td>7</td>\n",
       "      <td>21</td>\n",
       "      <td>Latin</td>\n",
       "    </tr>\n",
       "    <tr>\n",
       "      <th>4</th>\n",
       "      <td>7alVaT3Dl9jsT1vzcUz6rj</td>\n",
       "      <td>El Día De Mi Suerte</td>\n",
       "      <td>Willie Colón</td>\n",
       "      <td>Greatest Hits</td>\n",
       "      <td>salsa</td>\n",
       "      <td>2024-06-06 09:02:55-05:00</td>\n",
       "      <td>38</td>\n",
       "      <td>5.479767</td>\n",
       "      <td>2008-02-26</td>\n",
       "      <td>97.097</td>\n",
       "      <td>0.855</td>\n",
       "      <td>0.560</td>\n",
       "      <td>2024</td>\n",
       "      <td>6</td>\n",
       "      <td>6</td>\n",
       "      <td>9</td>\n",
       "      <td>Latin</td>\n",
       "    </tr>\n",
       "    <tr>\n",
       "      <th>...</th>\n",
       "      <td>...</td>\n",
       "      <td>...</td>\n",
       "      <td>...</td>\n",
       "      <td>...</td>\n",
       "      <td>...</td>\n",
       "      <td>...</td>\n",
       "      <td>...</td>\n",
       "      <td>...</td>\n",
       "      <td>...</td>\n",
       "      <td>...</td>\n",
       "      <td>...</td>\n",
       "      <td>...</td>\n",
       "      <td>...</td>\n",
       "      <td>...</td>\n",
       "      <td>...</td>\n",
       "      <td>...</td>\n",
       "      <td>...</td>\n",
       "    </tr>\n",
       "    <tr>\n",
       "      <th>1496</th>\n",
       "      <td>7Jzsc04YpkRwB1zeyM39wE</td>\n",
       "      <td>R U Mine?</td>\n",
       "      <td>Arctic Monkeys</td>\n",
       "      <td>AM</td>\n",
       "      <td>garage rock</td>\n",
       "      <td>2017-02-13 10:22:27-05:00</td>\n",
       "      <td>0</td>\n",
       "      <td>3.362217</td>\n",
       "      <td>2013-09-10</td>\n",
       "      <td>97.076</td>\n",
       "      <td>0.763</td>\n",
       "      <td>0.509</td>\n",
       "      <td>2017</td>\n",
       "      <td>2</td>\n",
       "      <td>13</td>\n",
       "      <td>10</td>\n",
       "      <td>Rock</td>\n",
       "    </tr>\n",
       "    <tr>\n",
       "      <th>1497</th>\n",
       "      <td>4kTd0TND65MUY4BlcmJ2cM</td>\n",
       "      <td>Why'd You Only Call Me When You're High?</td>\n",
       "      <td>Arctic Monkeys</td>\n",
       "      <td>AM</td>\n",
       "      <td>garage rock</td>\n",
       "      <td>2017-02-13 10:20:57-05:00</td>\n",
       "      <td>0</td>\n",
       "      <td>2.685550</td>\n",
       "      <td>2013-09-10</td>\n",
       "      <td>91.989</td>\n",
       "      <td>0.627</td>\n",
       "      <td>0.698</td>\n",
       "      <td>2017</td>\n",
       "      <td>2</td>\n",
       "      <td>13</td>\n",
       "      <td>10</td>\n",
       "      <td>Rock</td>\n",
       "    </tr>\n",
       "    <tr>\n",
       "      <th>1498</th>\n",
       "      <td>2x8evxqUlF0eRabbW2JBJd</td>\n",
       "      <td>Fluorescent Adolescent</td>\n",
       "      <td>Arctic Monkeys</td>\n",
       "      <td>Favourite Worst Nightmare</td>\n",
       "      <td>garage rock</td>\n",
       "      <td>2017-02-13 10:16:12-05:00</td>\n",
       "      <td>72</td>\n",
       "      <td>3.064883</td>\n",
       "      <td>2007-04-22</td>\n",
       "      <td>112.056</td>\n",
       "      <td>0.828</td>\n",
       "      <td>0.654</td>\n",
       "      <td>2017</td>\n",
       "      <td>2</td>\n",
       "      <td>13</td>\n",
       "      <td>10</td>\n",
       "      <td>Rock</td>\n",
       "    </tr>\n",
       "    <tr>\n",
       "      <th>1499</th>\n",
       "      <td>6nFvbLWccsEydO36fyBBlm</td>\n",
       "      <td>Ruby Tuesday - Stereo Version</td>\n",
       "      <td>The Rolling Stones</td>\n",
       "      <td>Between The Buttons (Remastered)</td>\n",
       "      <td>album rock</td>\n",
       "      <td>2017-02-13 10:15:40-05:00</td>\n",
       "      <td>0</td>\n",
       "      <td>3.274883</td>\n",
       "      <td>1967-01-20</td>\n",
       "      <td>104.528</td>\n",
       "      <td>0.543</td>\n",
       "      <td>0.518</td>\n",
       "      <td>2017</td>\n",
       "      <td>2</td>\n",
       "      <td>13</td>\n",
       "      <td>10</td>\n",
       "      <td>Rock</td>\n",
       "    </tr>\n",
       "    <tr>\n",
       "      <th>1500</th>\n",
       "      <td>0K3i1MJwU4v0Aq0VdYZnPg</td>\n",
       "      <td>Bus Stop - 1997 Remaster</td>\n",
       "      <td>The Hollies</td>\n",
       "      <td>Midas Touch - The Very Best of the Hollies</td>\n",
       "      <td>album rock</td>\n",
       "      <td>2017-02-12 20:16:45-05:00</td>\n",
       "      <td>33</td>\n",
       "      <td>2.919333</td>\n",
       "      <td>2010-02-19</td>\n",
       "      <td>136.541</td>\n",
       "      <td>0.760</td>\n",
       "      <td>0.625</td>\n",
       "      <td>2017</td>\n",
       "      <td>2</td>\n",
       "      <td>12</td>\n",
       "      <td>20</td>\n",
       "      <td>Rock</td>\n",
       "    </tr>\n",
       "  </tbody>\n",
       "</table>\n",
       "<p>1501 rows × 17 columns</p>\n",
       "</div>"
      ],
      "text/plain": [
       "                    Track ID                                Track Name  \\\n",
       "0     5rAxhWcgFng3s570sGO2F8                       A Place for My Head   \n",
       "1     0rNqDh9zWWJVTLS4VfceHP                                  Brickell   \n",
       "2     4kjI1gwQZRKNDkw1nI475M                                   MY EYES   \n",
       "3     6F9yAYUaNbUhdlQyt5uZ3b                          La Incondicional   \n",
       "4     7alVaT3Dl9jsT1vzcUz6rj                       El Día De Mi Suerte   \n",
       "...                      ...                                       ...   \n",
       "1496  7Jzsc04YpkRwB1zeyM39wE                                 R U Mine?   \n",
       "1497  4kTd0TND65MUY4BlcmJ2cM  Why'd You Only Call Me When You're High?   \n",
       "1498  2x8evxqUlF0eRabbW2JBJd                    Fluorescent Adolescent   \n",
       "1499  6nFvbLWccsEydO36fyBBlm             Ruby Tuesday - Stereo Version   \n",
       "1500  0K3i1MJwU4v0Aq0VdYZnPg                  Bus Stop - 1997 Remaster   \n",
       "\n",
       "                  Artist                                       Album  \\\n",
       "0            Linkin Park               Hybrid Theory (Bonus Edition)   \n",
       "1                   Feid                           MANIFESTING 20-05   \n",
       "2           Travis Scott                                      UTOPIA   \n",
       "3            Luis Miguel                             Busca Una Mujer   \n",
       "4           Willie Colón                               Greatest Hits   \n",
       "...                  ...                                         ...   \n",
       "1496      Arctic Monkeys                                          AM   \n",
       "1497      Arctic Monkeys                                          AM   \n",
       "1498      Arctic Monkeys                   Favourite Worst Nightmare   \n",
       "1499  The Rolling Stones            Between The Buttons (Remastered)   \n",
       "1500         The Hollies  Midas Touch - The Very Best of the Hollies   \n",
       "\n",
       "                  Genre                 Date Added  Popularity  Duration  \\\n",
       "0     alternative metal  2024-06-12 12:45:21-05:00          65  3.077333   \n",
       "1         colombian pop  2024-06-11 17:57:50-05:00          79  3.006000   \n",
       "2                   rap  2024-06-10 20:04:56-05:00          79  4.187483   \n",
       "3                bolero  2024-06-07 21:34:11-05:00          73  4.283767   \n",
       "4                 salsa  2024-06-06 09:02:55-05:00          38  5.479767   \n",
       "...                 ...                        ...         ...       ...   \n",
       "1496        garage rock  2017-02-13 10:22:27-05:00           0  3.362217   \n",
       "1497        garage rock  2017-02-13 10:20:57-05:00           0  2.685550   \n",
       "1498        garage rock  2017-02-13 10:16:12-05:00          72  3.064883   \n",
       "1499         album rock  2017-02-13 10:15:40-05:00           0  3.274883   \n",
       "1500         album rock  2017-02-12 20:16:45-05:00          33  2.919333   \n",
       "\n",
       "     Album Release Date    Tempo  Energy  Danceability  Year Added  \\\n",
       "0                  2000  133.063   0.908         0.603        2024   \n",
       "1            2024-04-10   93.037   0.890         0.805        2024   \n",
       "2            2023-07-28  119.043   0.621         0.455        2024   \n",
       "3            1988-11-25  155.127   0.727         0.374        2024   \n",
       "4            2008-02-26   97.097   0.855         0.560        2024   \n",
       "...                 ...      ...     ...           ...         ...   \n",
       "1496         2013-09-10   97.076   0.763         0.509        2017   \n",
       "1497         2013-09-10   91.989   0.627         0.698        2017   \n",
       "1498         2007-04-22  112.056   0.828         0.654        2017   \n",
       "1499         1967-01-20  104.528   0.543         0.518        2017   \n",
       "1500         2010-02-19  136.541   0.760         0.625        2017   \n",
       "\n",
       "      Month Added  Day Added  Hour Added Broad Genre  \n",
       "0               6         12          12       Metal  \n",
       "1               6         11          17         Pop  \n",
       "2               6         10          20     Hip Hop  \n",
       "3               6          7          21       Latin  \n",
       "4               6          6           9       Latin  \n",
       "...           ...        ...         ...         ...  \n",
       "1496            2         13          10        Rock  \n",
       "1497            2         13          10        Rock  \n",
       "1498            2         13          10        Rock  \n",
       "1499            2         13          10        Rock  \n",
       "1500            2         12          20        Rock  \n",
       "\n",
       "[1501 rows x 17 columns]"
      ]
     },
     "execution_count": 27,
     "metadata": {},
     "output_type": "execute_result"
    }
   ],
   "source": [
    "df = pd.read_csv('liked_tracks.csv')\n",
    "df"
   ]
  },
  {
   "cell_type": "code",
   "execution_count": 10,
   "id": "ce193111-454a-45e1-8ced-a6d62b0a91a7",
   "metadata": {},
   "outputs": [],
   "source": [
    "def get_mode(series):\n",
    "    mode = series.mode()\n",
    "    return mode[0] if not mode.empty else None"
   ]
  },
  {
   "cell_type": "code",
   "execution_count": 33,
   "id": "e20e950e-61d1-4014-9dab-6d2e6c83e0ad",
   "metadata": {
    "scrolled": true
   },
   "outputs": [
    {
     "data": {
      "text/html": [
       "<div>\n",
       "<style scoped>\n",
       "    .dataframe tbody tr th:only-of-type {\n",
       "        vertical-align: middle;\n",
       "    }\n",
       "\n",
       "    .dataframe tbody tr th {\n",
       "        vertical-align: top;\n",
       "    }\n",
       "\n",
       "    .dataframe thead th {\n",
       "        text-align: right;\n",
       "    }\n",
       "</style>\n",
       "<table border=\"1\" class=\"dataframe\">\n",
       "  <thead>\n",
       "    <tr style=\"text-align: right;\">\n",
       "      <th></th>\n",
       "      <th>Artist</th>\n",
       "      <th>Duration</th>\n",
       "      <th>Tempo</th>\n",
       "      <th>Energy</th>\n",
       "      <th>Danceability</th>\n",
       "      <th>Track Count</th>\n",
       "    </tr>\n",
       "    <tr>\n",
       "      <th>Broad Genre</th>\n",
       "      <th></th>\n",
       "      <th></th>\n",
       "      <th></th>\n",
       "      <th></th>\n",
       "      <th></th>\n",
       "      <th></th>\n",
       "    </tr>\n",
       "  </thead>\n",
       "  <tbody>\n",
       "    <tr>\n",
       "      <th>Alternative</th>\n",
       "      <td>Coldplay</td>\n",
       "      <td>4.373979</td>\n",
       "      <td>128.707158</td>\n",
       "      <td>0.671053</td>\n",
       "      <td>0.504947</td>\n",
       "      <td>38</td>\n",
       "    </tr>\n",
       "    <tr>\n",
       "      <th>Dance</th>\n",
       "      <td>Earth, Wind &amp; Fire</td>\n",
       "      <td>4.253727</td>\n",
       "      <td>120.378000</td>\n",
       "      <td>0.688846</td>\n",
       "      <td>0.760692</td>\n",
       "      <td>13</td>\n",
       "    </tr>\n",
       "    <tr>\n",
       "      <th>Electronic</th>\n",
       "      <td>Disclosure</td>\n",
       "      <td>3.948049</td>\n",
       "      <td>120.153389</td>\n",
       "      <td>0.752111</td>\n",
       "      <td>0.681556</td>\n",
       "      <td>18</td>\n",
       "    </tr>\n",
       "    <tr>\n",
       "      <th>Hip Hop</th>\n",
       "      <td>Duki</td>\n",
       "      <td>3.419382</td>\n",
       "      <td>123.534573</td>\n",
       "      <td>0.691238</td>\n",
       "      <td>0.715529</td>\n",
       "      <td>227</td>\n",
       "    </tr>\n",
       "    <tr>\n",
       "      <th>Indie</th>\n",
       "      <td>The Kooks</td>\n",
       "      <td>3.742674</td>\n",
       "      <td>116.395421</td>\n",
       "      <td>0.713447</td>\n",
       "      <td>0.625237</td>\n",
       "      <td>38</td>\n",
       "    </tr>\n",
       "    <tr>\n",
       "      <th>Latin</th>\n",
       "      <td>Grupo 5</td>\n",
       "      <td>4.011083</td>\n",
       "      <td>116.640703</td>\n",
       "      <td>0.756519</td>\n",
       "      <td>0.684178</td>\n",
       "      <td>185</td>\n",
       "    </tr>\n",
       "    <tr>\n",
       "      <th>Metal</th>\n",
       "      <td>Linkin Park</td>\n",
       "      <td>4.292421</td>\n",
       "      <td>122.317802</td>\n",
       "      <td>0.851283</td>\n",
       "      <td>0.478151</td>\n",
       "      <td>106</td>\n",
       "    </tr>\n",
       "    <tr>\n",
       "      <th>Other</th>\n",
       "      <td>Nuria Saba</td>\n",
       "      <td>3.922928</td>\n",
       "      <td>120.531738</td>\n",
       "      <td>0.711595</td>\n",
       "      <td>0.631357</td>\n",
       "      <td>42</td>\n",
       "    </tr>\n",
       "    <tr>\n",
       "      <th>Pop</th>\n",
       "      <td>Paramore</td>\n",
       "      <td>3.886961</td>\n",
       "      <td>121.803811</td>\n",
       "      <td>0.727924</td>\n",
       "      <td>0.621589</td>\n",
       "      <td>186</td>\n",
       "    </tr>\n",
       "    <tr>\n",
       "      <th>Rock</th>\n",
       "      <td>Dire Straits</td>\n",
       "      <td>4.430189</td>\n",
       "      <td>126.084323</td>\n",
       "      <td>0.729675</td>\n",
       "      <td>0.529043</td>\n",
       "      <td>601</td>\n",
       "    </tr>\n",
       "  </tbody>\n",
       "</table>\n",
       "</div>"
      ],
      "text/plain": [
       "                         Artist  Duration       Tempo    Energy  Danceability  \\\n",
       "Broad Genre                                                                     \n",
       "Alternative            Coldplay  4.373979  128.707158  0.671053      0.504947   \n",
       "Dance        Earth, Wind & Fire  4.253727  120.378000  0.688846      0.760692   \n",
       "Electronic           Disclosure  3.948049  120.153389  0.752111      0.681556   \n",
       "Hip Hop                    Duki  3.419382  123.534573  0.691238      0.715529   \n",
       "Indie                 The Kooks  3.742674  116.395421  0.713447      0.625237   \n",
       "Latin                   Grupo 5  4.011083  116.640703  0.756519      0.684178   \n",
       "Metal               Linkin Park  4.292421  122.317802  0.851283      0.478151   \n",
       "Other                Nuria Saba  3.922928  120.531738  0.711595      0.631357   \n",
       "Pop                    Paramore  3.886961  121.803811  0.727924      0.621589   \n",
       "Rock               Dire Straits  4.430189  126.084323  0.729675      0.529043   \n",
       "\n",
       "             Track Count  \n",
       "Broad Genre               \n",
       "Alternative           38  \n",
       "Dance                 13  \n",
       "Electronic            18  \n",
       "Hip Hop              227  \n",
       "Indie                 38  \n",
       "Latin                185  \n",
       "Metal                106  \n",
       "Other                 42  \n",
       "Pop                  186  \n",
       "Rock                 601  "
      ]
     },
     "execution_count": 33,
     "metadata": {},
     "output_type": "execute_result"
    }
   ],
   "source": [
    "df_group_genre = df.groupby('Broad Genre').agg({\n",
    "    'Artist': get_mode,\n",
    "    'Duration': 'mean',\n",
    "    'Tempo': 'mean',\n",
    "    'Energy': 'mean',\n",
    "    'Danceability': 'mean',\n",
    "    'Track Name': 'count'}).rename(columns={'Track Name': 'Track Count'})\n",
    "df_group_genre = df_group_genre[df_group_genre['Track Count']>10]\n",
    "df_group_genre.sort_values(by='Track Count')\n",
    "df_group_genre"
   ]
  },
  {
   "cell_type": "code",
   "execution_count": 34,
   "id": "2314675a-cf08-424f-9c9b-4bd8df04b0c1",
   "metadata": {},
   "outputs": [
    {
     "data": {
      "text/plain": [
       "['Alternative',\n",
       " 'Dance',\n",
       " 'Electronic',\n",
       " 'Hip Hop',\n",
       " 'Indie',\n",
       " 'Latin',\n",
       " 'Metal',\n",
       " 'Other',\n",
       " 'Pop',\n",
       " 'Rock']"
      ]
     },
     "execution_count": 34,
     "metadata": {},
     "output_type": "execute_result"
    }
   ],
   "source": [
    "df_group_genre.index.tolist()"
   ]
  },
  {
   "cell_type": "code",
   "execution_count": 52,
   "id": "2cf639bb-a6ce-4c8a-88ba-1aeaa16462a4",
   "metadata": {},
   "outputs": [
    {
     "data": {
      "application/vnd.plotly.v1+json": {
       "config": {
        "plotlyServerURL": "https://plot.ly"
       },
       "data": [
        {
         "customdata": [
          [
           "A Place for My Head"
          ],
          [
           "Lying from You"
          ],
          [
           "Figure.09"
          ],
          [
           "Hearts Burst into Fire"
          ],
          [
           "Question!"
          ],
          [
           "Wish I Had an Angel"
          ],
          [
           "Animal I Have Become"
          ],
          [
           "Welcome to the Family"
          ],
          [
           "The Trooper - 2015 Remaster"
          ],
          [
           "Everybody's Fool"
          ],
          [
           "Unholy Confessions"
          ],
          [
           "Almost Easy"
          ],
          [
           "Chop Suey!"
          ],
          [
           "So Far Away"
          ],
          [
           "Afterlife"
          ],
          [
           "Aerials"
          ],
          [
           "The Middle"
          ],
          [
           "Lost"
          ],
          [
           "The Phantom Of The Opera"
          ],
          [
           "IN MY REMAINS"
          ],
          [
           "Points of Authority"
          ],
          [
           "No More Sorrow"
          ],
          [
           "Bleed It Out"
          ],
          [
           "I Miss You"
          ],
          [
           "Show Me How to Live"
          ],
          [
           "Toxicity"
          ],
          [
           "Final Masquerade"
          ],
          [
           "POWERLESS"
          ],
          [
           "Amaranth"
          ],
          [
           "End Of All Hope"
          ],
          [
           "One Step Closer"
          ],
          [
           "Bullet With Butterfly Wings - Remastered 2012"
          ],
          [
           "Future Days"
          ],
          [
           "Conquer Or Die"
          ],
          [
           "Tornado Of Souls - 2004 Remix"
          ],
          [
           "This Ain't A Love Song"
          ],
          [
           "The Devil in I"
          ],
          [
           "Alone"
          ],
          [
           "Heretic"
          ],
          [
           "Buried Alive"
          ],
          [
           "Dear God"
          ],
          [
           "Solway Firth"
          ],
          [
           "Duality"
          ],
          [
           "Psychosocial"
          ],
          [
           "New Divide"
          ],
          [
           "Hail to the King"
          ],
          [
           "Carry On"
          ],
          [
           "Shepherd of Fire"
          ],
          [
           "Even Flow"
          ],
          [
           "B.Y.O.B."
          ],
          [
           "Sirens"
          ],
          [
           "Waiting for the End"
          ],
          [
           "Don't Stay"
          ],
          [
           "One Last Breath"
          ],
          [
           "Iridescent"
          ],
          [
           "BURN IT DOWN"
          ],
          [
           "Shadow of the Day"
          ],
          [
           "Forgotten"
          ],
          [
           "Leave Out All The Rest"
          ],
          [
           "Runaway"
          ],
          [
           "You Give Love A Bad Name"
          ],
          [
           "Fury Of The Storm"
          ],
          [
           "Through The Fire And Flames"
          ],
          [
           "1979 - Remastered 2012"
          ],
          [
           "Black"
          ],
          [
           "Sirens"
          ],
          [
           "Always"
          ],
          [
           "Somewhere I Belong"
          ],
          [
           "Numb"
          ],
          [
           "In Pieces"
          ],
          [
           "CASTLE OF GLASS"
          ],
          [
           "Welcome To The Jungle"
          ],
          [
           "Burning in the Skies"
          ],
          [
           "Runaway"
          ],
          [
           "Walk"
          ],
          [
           "The Pretender"
          ],
          [
           "Battle Symphony"
          ],
          [
           "One More Light"
          ],
          [
           "Heavy (feat. Kiiara)"
          ],
          [
           "Talking to Myself"
          ],
          [
           "Going Under"
          ],
          [
           "Crawling"
          ],
          [
           "Breaking the Habit"
          ],
          [
           "In the End"
          ],
          [
           "Everlong"
          ],
          [
           "Today - 2011 Remaster"
          ],
          [
           "Livin' On A Prayer"
          ],
          [
           "Be Yourself"
          ],
          [
           "Knockin' On Heaven's Door"
          ],
          [
           "Over and Over"
          ],
          [
           "Given Up"
          ],
          [
           "Faint"
          ],
          [
           "LOST IN THE ECHO"
          ],
          [
           "What I've Done"
          ],
          [
           "Like a Stone"
          ],
          [
           "Invisible"
          ],
          [
           "Sweet Child O' Mine"
          ],
          [
           "Paradise City"
          ],
          [
           "November Rain"
          ],
          [
           "It's My Life"
          ],
          [
           "I Hate Everything About You"
          ],
          [
           "Last Resort"
          ],
          [
           "Kryptonite"
          ],
          [
           "Symphony Of Destruction - Remastered 2012"
          ],
          [
           "Alive"
          ],
          [
           "Sweet Child O' Mine"
          ]
         ],
         "hovertemplate": "Broad Genre=Metal<br>Date Added=%{x}<br>Duration=%{y}<br>Track Name=%{customdata[0]}<extra></extra>",
         "legendgroup": "Metal",
         "marker": {
          "color": "#636efa",
          "symbol": "circle"
         },
         "mode": "markers",
         "name": "Metal",
         "showlegend": true,
         "type": "scattergl",
         "x": [
          "2024-06-12 12:45:21-05:00",
          "2024-04-05 14:12:20-05:00",
          "2024-04-05 14:01:47-05:00",
          "2024-02-26 15:27:38-05:00",
          "2024-02-26 15:16:37-05:00",
          "2024-02-26 15:11:24-05:00",
          "2024-02-26 15:08:43-05:00",
          "2024-02-25 22:23:43-05:00",
          "2024-02-24 21:06:19-05:00",
          "2024-02-24 21:00:20-05:00",
          "2024-02-24 20:38:17-05:00",
          "2024-02-24 20:34:31-05:00",
          "2024-02-05 23:14:25-05:00",
          "2023-09-01 12:45:59-05:00",
          "2023-05-16 07:57:03-05:00",
          "2023-05-08 08:20:09-05:00",
          "2023-04-19 22:25:57-05:00",
          "2023-02-13 11:52:50-05:00",
          "2022-12-05 21:46:52-05:00",
          "2022-12-03 21:44:56-05:00",
          "2022-12-03 21:38:09-05:00",
          "2022-12-03 21:36:17-05:00",
          "2022-12-03 21:36:07-05:00",
          "2022-09-28 19:29:05-05:00",
          "2022-09-21 16:19:09-05:00",
          "2021-04-17 11:12:21-05:00",
          "2020-11-19 17:15:36-05:00",
          "2020-11-19 16:15:03-05:00",
          "2020-11-05 17:54:15-05:00",
          "2020-11-05 17:51:03-05:00",
          "2020-10-23 09:33:54-05:00",
          "2020-08-16 20:56:29-05:00",
          "2020-07-21 10:50:43-05:00",
          "2020-04-21 18:36:14-05:00",
          "2020-04-21 18:28:15-05:00",
          "2020-01-31 08:20:37-05:00",
          "2020-01-01 01:25:29-05:00",
          "2019-11-28 10:47:20-05:00",
          "2019-11-27 16:33:56-05:00",
          "2019-11-27 16:30:02-05:00",
          "2019-11-27 16:28:32-05:00",
          "2019-11-25 22:40:28-05:00",
          "2019-11-25 22:36:25-05:00",
          "2019-11-25 22:30:48-05:00",
          "2019-11-07 22:14:28-05:00",
          "2019-10-31 16:00:43-05:00",
          "2019-10-31 15:55:57-05:00",
          "2019-10-31 15:54:20-05:00",
          "2019-09-11 20:58:56-05:00",
          "2019-07-12 11:09:43-05:00",
          "2018-12-29 23:48:55-05:00",
          "2018-12-05 18:47:50-05:00",
          "2018-11-27 13:27:13-05:00",
          "2018-10-24 17:32:56-05:00",
          "2018-09-29 21:11:39-05:00",
          "2018-09-29 21:11:10-05:00",
          "2018-09-29 21:10:45-05:00",
          "2018-09-29 21:08:14-05:00",
          "2018-09-29 21:08:09-05:00",
          "2018-09-29 21:04:36-05:00",
          "2018-09-20 23:11:33-05:00",
          "2018-09-01 08:49:51-05:00",
          "2018-08-31 22:25:44-05:00",
          "2018-08-16 00:13:46-05:00",
          "2018-08-04 21:54:30-05:00",
          "2018-07-01 21:38:27-05:00",
          "2018-05-22 15:52:06-05:00",
          "2018-04-04 06:39:13-05:00",
          "2018-03-06 12:44:06-05:00",
          "2018-03-06 12:42:37-05:00",
          "2018-03-06 12:42:11-05:00",
          "2018-02-25 11:23:23-05:00",
          "2017-10-31 18:00:24-05:00",
          "2017-10-30 18:12:39-05:00",
          "2017-09-10 18:31:56-05:00",
          "2017-09-10 18:31:29-05:00",
          "2017-09-10 02:10:53-05:00",
          "2017-08-10 23:53:24-05:00",
          "2017-08-10 22:15:07-05:00",
          "2017-08-06 01:30:41-05:00",
          "2017-08-02 11:47:34-05:00",
          "2017-07-20 22:10:53-05:00",
          "2017-07-20 22:10:45-05:00",
          "2017-07-20 22:10:36-05:00",
          "2017-07-16 21:30:15-05:00",
          "2017-06-28 20:51:52-05:00",
          "2017-06-25 20:47:18-05:00",
          "2017-06-23 18:57:22-05:00",
          "2017-06-23 18:45:12-05:00",
          "2017-06-09 06:27:56-05:00",
          "2017-05-18 22:11:28-05:00",
          "2017-05-18 21:58:52-05:00",
          "2017-05-18 21:58:22-05:00",
          "2017-05-18 21:58:09-05:00",
          "2017-05-18 13:19:59-05:00",
          "2017-05-14 10:45:40-05:00",
          "2017-05-01 22:03:12-05:00",
          "2017-05-01 22:03:04-05:00",
          "2017-05-01 22:02:49-05:00",
          "2017-04-21 16:09:54-05:00",
          "2017-04-09 18:45:17-05:00",
          "2017-04-09 18:40:14-05:00",
          "2017-04-09 18:33:46-05:00",
          "2017-04-02 17:26:17-05:00",
          "2017-02-14 09:32:42-05:00",
          "2017-02-14 09:32:04-05:00"
         ],
         "xaxis": "x",
         "y": [
          3.0773333333333333,
          2.91755,
          3.2917666666666667,
          4.965766666666667,
          3.3433333333333333,
          4.09955,
          3.8566666666666665,
          4.092883333333333,
          4.2122166666666665,
          3.264666666666667,
          4.730433333333333,
          3.90155,
          3.504,
          5.446883333333333,
          5.873766666666667,
          3.91755,
          2.7642166666666665,
          3.3223666666666665,
          4.1451,
          3.344883333333333,
          3.337333333333333,
          3.694883333333333,
          2.7404333333333333,
          3.7875,
          4.6306666666666665,
          3.6488833333333335,
          3.626883333333333,
          3.7411,
          3.8574,
          3.8966666666666665,
          2.622216666666666,
          4.307766666666667,
          4.38155,
          3.558,
          5.3211,
          5.104,
          5.713683333333333,
          5.938,
          4.920216666666667,
          6.739766666666666,
          6.558,
          5.925666666666666,
          4.210216666666667,
          4.723333333333334,
          4.476883333333333,
          5.098433333333333,
          4.251266666666667,
          5.3966666666666665,
          4.876333333333333,
          4.257766666666667,
          5.672,
          3.8613333333333335,
          3.132216666666667,
          3.970666666666667,
          4.942666666666667,
          3.83755,
          4.831766666666667,
          3.2404333333333333,
          3.488433333333333,
          3.0662166666666666,
          3.711766666666666,
          6.780433333333334,
          7.320216666666667,
          4.4366666666666665,
          5.710883333333333,
          5.672,
          5.8886666666666665,
          3.56555,
          3.1253333333333333,
          3.63355,
          3.4233333333333333,
          4.533766666666667,
          4.219333333333333,
          3.844433333333333,
          4.266,
          4.48955,
          3.6046833333333335,
          4.2511,
          2.83,
          3.8551,
          3.5824333333333334,
          3.482666666666667,
          3.268883333333333,
          3.6146666666666665,
          4.175766666666667,
          3.352883333333333,
          4.171766666666667,
          4.64955,
          5.6,
          3.198433333333333,
          3.1548833333333333,
          2.701766666666667,
          3.4186666666666667,
          3.420433333333333,
          4.899333333333334,
          3.572433333333333,
          5.908666666666667,
          6.760666666666666,
          8.958433333333334,
          3.74155,
          3.858,
          3.33155,
          3.8988833333333335,
          4.031766666666667,
          5.681783333333334,
          5.94
         ],
         "yaxis": "y"
        },
        {
         "customdata": [
          [
           "Brickell"
          ],
          [
           "Exclusive.mp3"
          ],
          [
           "Llorarás"
          ],
          [
           "Perdóname"
          ],
          [
           "50 Ways to Say Goodbye"
          ],
          [
           "Darte Amor"
          ],
          [
           "Murder On The Dancefloor"
          ],
          [
           "50 Horas"
          ],
          [
           "Nada Valgo Sin Tu Amor"
          ],
          [
           "Nada Fue Un Error"
          ],
          [
           "Niña"
          ],
          [
           "Por Fin Te Encontré"
          ],
          [
           "Burning Friday Night"
          ],
          [
           "CLASSY 101"
          ],
          [
           "DE LUNES A LUNES"
          ],
          [
           "Para Ti"
          ],
          [
           "Quisiera"
          ],
          [
           "El Calendario"
          ],
          [
           "Reggaetón Lento (Bailemos)"
          ],
          [
           "La Tortura (feat. Alejandro Sanz)"
          ],
          [
           "Hips Don't Lie (feat. Wyclef Jean)"
          ],
          [
           "ADIÓS (Live Version)"
          ],
          [
           "Hang The Cyst"
          ],
          [
           "Pattern"
          ],
          [
           "She Does The Woods"
          ],
          [
           "Used To Be My Girl"
          ],
          [
           "Aviation"
          ],
          [
           "My Mistakes Were Made For You"
          ],
          [
           "Standing Next To Me"
          ],
          [
           "Miracle Aligner"
          ],
          [
           "Sweet Dreams, TN"
          ],
          [
           "PROBLEMI CON TUTTI (GIUDA)"
          ],
          [
           "Hey Baby (Drop It to the Floor) (feat. T-Pain)"
          ],
          [
           "A Dios Le Pido"
          ],
          [
           "Pídeme"
          ],
          [
           "Perderme Contigo"
          ],
          [
           "NIGHT DANCER"
          ],
          [
           "Pedro"
          ],
          [
           "Io non vivo senza te"
          ],
          [
           "The Only Exception"
          ],
          [
           "You First"
          ],
          [
           "This Is Why"
          ],
          [
           "Pool"
          ],
          [
           "Rose-Colored Boy"
          ],
          [
           "Otra Ocupa Mi Lugar"
          ],
          [
           "Hace Tiempo"
          ],
          [
           "Deamon Lover"
          ],
          [
           "Emergency"
          ],
          [
           "Hello Cold World"
          ],
          [
           "No Te Pido Flores"
          ],
          [
           "Esa Muchachita"
          ],
          [
           "El Problemón"
          ],
          [
           "Readymade"
          ],
          [
           "Stop This Song (Love Sick Melody)"
          ],
          [
           "Backlight"
          ],
          [
           "Todo Lo Que Quieres Es Bailar (feat. Descemer Bueno)"
          ],
          [
           "Told You So"
          ],
          [
           "I Caught Myself"
          ],
          [
           "Pressure"
          ],
          [
           "Non c'è rimedio"
          ],
          [
           "Ignorance"
          ],
          [
           "Let the Flames Begin"
          ],
          [
           "crushcrushcrush"
          ],
          [
           "Tacones Rojos"
          ],
          [
           "Total Eclipse of the Heart"
          ],
          [
           "It's Not Unusual"
          ],
          [
           "This Is Me"
          ],
          [
           "Venus"
          ],
          [
           "My Way - 2008 Remastered"
          ],
          [
           "Sara' Perche Ti Amo"
          ],
          [
           "La solitudine"
          ],
          [
           "Like a Prayer"
          ],
          [
           "Like a Virgin"
          ],
          [
           "Gimme! Gimme! Gimme! (A Man After Midnight)"
          ],
          [
           "Lay All Your Love On Me"
          ],
          [
           "Thinking out Loud"
          ],
          [
           "Perfect"
          ],
          [
           "Save You"
          ],
          [
           "Team"
          ],
          [
           "Som Ocells"
          ],
          [
           "como si no importara"
          ],
          [
           "Wild Blue"
          ],
          [
           "Your Love"
          ],
          [
           "Harvest Moon"
          ],
          [
           "Covered in Rain - Live at Tweeter Center, Philadelphia, Pennsylvania, August 2004"
          ],
          [
           "Belief - Live at the Nokia Theatre, Los Angeles, CA - December 2007"
          ],
          [
           "Belief"
          ],
          [
           "good 4 u"
          ],
          [
           "Ibiza"
          ],
          [
           "Devuelveme"
          ],
          [
           "Todo De Ti"
          ],
          [
           "Toxic"
          ],
          [
           "Brick by Boring Brick"
          ],
          [
           "Homecoming"
          ],
          [
           "Hey, Soul Sister"
          ],
          [
           "I Don't Need No Doctor - Live at the Nokia Theatre, Los Angeles, CA - December 2007"
          ],
          [
           "I'm Gonna Find Another You"
          ],
          [
           "Caramelo"
          ],
          [
           "Torn"
          ],
          [
           "Una voglia assurda"
          ],
          [
           "Rude"
          ],
          [
           "Magic"
          ],
          [
           "Moving On and Getting Over"
          ],
          [
           "Gravity - Live at the Nokia Theatre, Los Angeles, CA - December 2007"
          ],
          [
           "Slow Dancing in a Burning Room"
          ],
          [
           "Helpless"
          ],
          [
           "Yo x Ti, Tu x Mi"
          ],
          [
           "Le luci della città"
          ],
          [
           "Mal di gola"
          ],
          [
           "Neon - Live at the Nokia Theatre, Los Angeles, CA - December 2007"
          ],
          [
           "Nandemonaiya - movie ver."
          ],
          [
           "You Are Young"
          ],
          [
           "My Way"
          ],
          [
           "Te Quiero Amar"
          ],
          [
           "Te Voy A Amar"
          ],
          [
           "Brandy (You're a Fine Girl)"
          ],
          [
           "Trouble"
          ],
          [
           "For A Better Day"
          ],
          [
           "99 Luftballons"
          ],
          [
           "Drown"
          ],
          [
           "Buona fortuna"
          ],
          [
           "all the good girls go to hell"
          ],
          [
           "I Have Nothing"
          ],
          [
           "ocean eyes"
          ],
          [
           "Sunday Morning"
          ],
          [
           "1973"
          ],
          [
           "You're Beautiful"
          ],
          [
           "Goodbye My Lover"
          ],
          [
           "Complicated"
          ],
          [
           "I Write Sins Not Tragedies"
          ],
          [
           "Time to Dance"
          ],
          [
           "50 Special"
          ],
          [
           "Summer Of '69"
          ],
          [
           "I'm Yours"
          ],
          [
           "Kangaroo Court"
          ],
          [
           "Pump It"
          ],
          [
           "High Hopes"
          ],
          [
           "Mi Primer Millon"
          ],
          [
           "I Want It That Way"
          ],
          [
           "Billionaire (feat. Bruno Mars)"
          ],
          [
           "Te Mando Flores"
          ],
          [
           "Space"
          ],
          [
           "Something Just Like This"
          ],
          [
           "Perfect"
          ],
          [
           "Se Preparó"
          ],
          [
           "Me Rehúso"
          ],
          [
           "Sovereign Light Café"
          ],
          [
           "Everybody's Changing"
          ],
          [
           "Cuando Me Enamoro"
          ],
          [
           "Nuova Ossessione"
          ],
          [
           "Miracle"
          ],
          [
           "Cooler Than Me - Single Mix"
          ],
          [
           "Ain't It Fun"
          ],
          [
           "Still into You"
          ],
          [
           "Déjala Que Vuelva (feat. Manuel Turizo)"
          ],
          [
           "Misery Business"
          ],
          [
           "Hard Times"
          ],
          [
           "What You Say"
          ],
          [
           "Somewhere Only We Know"
          ],
          [
           "Piccole cose (feat. Alessandra Amoroso)"
          ],
          [
           "Vorrei ma non posto"
          ],
          [
           "Libero"
          ],
          [
           "That's What You Get"
          ],
          [
           "Decode - Twilight Soundtrack Version"
          ],
          [
           "La Camisa Negra"
          ],
          [
           "Tabaco y Chanel"
          ],
          [
           "Caraluna"
          ],
          [
           "Extraordinary (feat. Sharna Bass)"
          ],
          [
           "Carry On"
          ],
          [
           "Slow Hands"
          ],
          [
           "No Diggity"
          ],
          [
           "Faith - Remastered"
          ],
          [
           "Talk Is Cheap"
          ],
          [
           "December, 1963 (Oh What a Night!)"
          ],
          [
           "Sugar"
          ],
          [
           "Somebody That I Used To Know"
          ],
          [
           "Sign of the Times"
          ],
          [
           "The Tracks Of My Tears"
          ],
          [
           "Iris"
          ],
          [
           "Live Is Life (Digitally Remastered) (Single Version)"
          ],
          [
           "End Of The Road"
          ],
          [
           "She Will Be Loved"
          ],
          [
           "The Sweet Escape"
          ],
          [
           "Corner of the Earth"
          ],
          [
           "Symphony (feat. Zara Larsson)"
          ],
          [
           "Old Thing Back (feat. Ja Rule and Ralph Tresvant)"
          ]
         ],
         "hovertemplate": "Broad Genre=Pop<br>Date Added=%{x}<br>Duration=%{y}<br>Track Name=%{customdata[0]}<extra></extra>",
         "legendgroup": "Pop",
         "marker": {
          "color": "#EF553B",
          "symbol": "circle"
         },
         "mode": "markers",
         "name": "Pop",
         "showlegend": true,
         "type": "scattergl",
         "x": [
          "2024-06-11 17:57:50-05:00",
          "2024-05-24 17:12:24-05:00",
          "2024-05-02 00:41:05-05:00",
          "2024-04-15 22:26:31-05:00",
          "2024-02-27 20:45:03-05:00",
          "2024-02-08 14:37:00-05:00",
          "2024-01-22 00:27:52-05:00",
          "2024-01-11 17:33:06-05:00",
          "2024-01-01 18:34:49-05:00",
          "2024-01-01 16:41:24-05:00",
          "2023-12-07 16:00:10-05:00",
          "2023-10-26 23:07:52-05:00",
          "2023-10-15 20:37:22-05:00",
          "2023-10-13 22:50:21-05:00",
          "2023-09-25 20:45:54-05:00",
          "2023-09-23 20:38:10-05:00",
          "2023-09-23 20:33:28-05:00",
          "2023-09-23 20:29:32-05:00",
          "2023-09-09 13:42:31-05:00",
          "2023-09-08 18:41:34-05:00",
          "2023-09-08 18:41:33-05:00",
          "2023-08-01 23:45:39-05:00",
          "2023-08-01 20:30:18-05:00",
          "2023-08-01 20:14:35-05:00",
          "2023-07-16 21:08:23-05:00",
          "2023-07-16 21:05:12-05:00",
          "2023-07-16 20:57:59-05:00",
          "2023-07-16 12:19:53-05:00",
          "2023-07-16 12:19:51-05:00",
          "2023-07-16 12:19:49-05:00",
          "2023-07-16 12:19:48-05:00",
          "2023-07-04 19:34:08-05:00",
          "2023-06-23 21:11:43-05:00",
          "2023-06-20 07:42:15-05:00",
          "2023-06-12 16:39:51-05:00",
          "2023-06-08 22:17:43-05:00",
          "2023-05-08 20:04:25-05:00",
          "2023-04-03 19:21:36-05:00",
          "2023-04-02 17:38:54-05:00",
          "2023-03-02 07:21:20-05:00",
          "2023-03-02 07:21:05-05:00",
          "2023-03-01 18:57:57-05:00",
          "2023-02-28 08:09:29-05:00",
          "2023-02-28 08:09:21-05:00",
          "2023-02-15 16:40:13-05:00",
          "2023-01-20 16:55:36-05:00",
          "2023-01-01 21:17:51-05:00",
          "2022-12-06 18:12:41-05:00",
          "2022-12-06 18:07:50-05:00",
          "2022-11-29 07:53:58-05:00",
          "2022-11-29 07:53:39-05:00",
          "2022-11-24 13:36:01-05:00",
          "2022-11-09 22:40:18-05:00",
          "2022-11-09 18:19:25-05:00",
          "2022-11-02 22:07:21-05:00",
          "2022-10-26 23:24:16-05:00",
          "2022-10-26 21:36:36-05:00",
          "2022-10-23 18:35:40-05:00",
          "2022-10-23 18:20:07-05:00",
          "2022-10-23 16:20:04-05:00",
          "2022-10-10 12:34:45-05:00",
          "2022-10-08 11:38:09-05:00",
          "2022-10-07 18:21:37-05:00",
          "2022-09-25 17:40:19-05:00",
          "2022-08-27 18:13:09-05:00",
          "2022-08-05 18:56:14-05:00",
          "2022-07-07 07:54:53-05:00",
          "2022-05-29 22:35:57-05:00",
          "2022-04-22 07:47:55-05:00",
          "2022-04-21 18:09:02-05:00",
          "2022-04-11 15:52:07-05:00",
          "2022-04-07 07:57:22-05:00",
          "2022-04-07 07:55:15-05:00",
          "2022-03-12 09:31:40-05:00",
          "2022-03-12 09:27:41-05:00",
          "2021-12-11 00:29:41-05:00",
          "2021-10-21 10:10:19-05:00",
          "2021-10-21 10:10:09-05:00",
          "2021-08-14 11:20:32-05:00",
          "2021-07-27 21:18:17-05:00",
          "2021-07-25 19:36:30-05:00",
          "2021-07-16 11:37:11-05:00",
          "2021-07-14 10:56:09-05:00",
          "2021-06-15 20:13:38-05:00",
          "2021-06-12 20:26:40-05:00",
          "2021-06-12 20:26:37-05:00",
          "2021-06-12 09:00:25-05:00",
          "2021-06-03 09:57:30-05:00",
          "2021-06-02 00:17:55-05:00",
          "2021-05-31 11:27:54-05:00",
          "2021-05-28 19:41:46-05:00",
          "2021-04-17 11:12:23-05:00",
          "2020-11-19 16:28:08-05:00",
          "2020-10-25 19:49:50-05:00",
          "2020-10-03 00:31:49-05:00",
          "2020-08-14 00:23:02-05:00",
          "2020-08-14 00:17:23-05:00",
          "2020-07-06 22:35:11-05:00",
          "2020-06-18 10:52:34-05:00",
          "2020-06-05 08:45:13-05:00",
          "2020-05-13 20:20:41-05:00",
          "2020-05-05 14:07:10-05:00",
          "2020-03-18 23:19:20-05:00",
          "2020-03-18 22:55:43-05:00",
          "2020-03-18 22:46:34-05:00",
          "2020-03-18 22:34:26-05:00",
          "2020-03-11 19:44:44-05:00",
          "2020-03-01 00:55:52-05:00",
          "2020-02-21 14:09:56-05:00",
          "2020-02-19 17:10:03-05:00",
          "2020-02-16 11:41:54-05:00",
          "2020-01-31 07:04:39-05:00",
          "2020-01-30 20:05:11-05:00",
          "2020-01-14 13:21:03-05:00",
          "2020-01-12 18:52:21-05:00",
          "2019-12-24 21:22:42-05:00",
          "2019-12-15 11:36:26-05:00",
          "2019-12-15 11:31:53-05:00",
          "2019-11-18 21:20:42-05:00",
          "2019-10-22 22:56:46-05:00",
          "2019-10-13 22:34:41-05:00",
          "2019-09-07 07:49:49-05:00",
          "2019-07-29 22:11:12-05:00",
          "2019-07-25 13:03:21-05:00",
          "2019-05-05 00:58:20-05:00",
          "2019-04-02 16:55:41-05:00",
          "2019-03-29 21:42:43-05:00",
          "2019-03-29 21:42:40-05:00",
          "2019-02-20 23:05:00-05:00",
          "2019-02-08 10:34:44-05:00",
          "2019-02-08 10:34:39-05:00",
          "2018-12-29 01:13:26-05:00",
          "2018-12-28 10:35:46-05:00",
          "2018-12-15 23:42:55-05:00",
          "2018-11-12 20:34:02-05:00",
          "2018-10-26 20:12:01-05:00",
          "2018-10-23 11:19:36-05:00",
          "2018-09-23 22:41:24-05:00",
          "2018-09-21 18:10:51-05:00",
          "2018-09-06 09:43:28-05:00",
          "2018-08-14 17:46:54-05:00",
          "2018-08-03 16:58:23-05:00",
          "2018-07-16 07:21:41-05:00",
          "2018-04-21 00:37:04-05:00",
          "2018-03-17 00:12:44-05:00",
          "2018-03-17 00:12:20-05:00",
          "2018-01-14 16:12:21-05:00",
          "2018-01-14 16:10:43-05:00",
          "2018-01-08 08:59:15-05:00",
          "2017-12-09 14:04:50-05:00",
          "2017-12-04 22:45:03-05:00",
          "2017-11-30 14:58:45-05:00",
          "2017-11-29 21:07:37-05:00",
          "2017-11-29 21:06:38-05:00",
          "2017-11-26 21:19:51-05:00",
          "2017-11-14 22:50:12-05:00",
          "2017-11-14 22:46:00-05:00",
          "2017-11-14 19:41:46-05:00",
          "2017-11-04 11:59:05-05:00",
          "2017-09-17 22:15:02-05:00",
          "2017-09-15 09:25:21-05:00",
          "2017-09-15 08:59:22-05:00",
          "2017-08-02 11:48:10-05:00",
          "2017-08-02 11:47:54-05:00",
          "2017-08-02 11:45:23-05:00",
          "2017-07-26 13:28:46-05:00",
          "2017-07-26 13:27:23-05:00",
          "2017-07-18 13:18:02-05:00",
          "2017-07-13 08:07:12-05:00",
          "2017-07-02 20:01:59-05:00",
          "2017-06-27 19:24:39-05:00",
          "2017-06-25 20:46:34-05:00",
          "2017-06-21 21:31:30-05:00",
          "2017-06-15 16:55:08-05:00",
          "2017-06-10 20:01:23-05:00",
          "2017-05-28 18:44:31-05:00",
          "2017-05-26 16:06:01-05:00",
          "2017-05-05 14:07:05-05:00",
          "2017-04-27 13:04:47-05:00",
          "2017-04-21 12:56:14-05:00",
          "2017-04-11 21:22:48-05:00",
          "2017-04-06 22:08:51-05:00",
          "2017-03-28 10:04:14-05:00",
          "2017-03-26 19:28:33-05:00",
          "2017-03-26 12:46:24-05:00",
          "2017-03-26 11:40:16-05:00"
         ],
         "xaxis": "x",
         "y": [
          3.006,
          2.01,
          3.809233333333333,
          4.0837666666666665,
          4.132433333333333,
          4.319333333333334,
          3.83355,
          3.56,
          3.272666666666667,
          3.4646666666666666,
          4.200666666666667,
          4.1806,
          4.2568,
          3.266433333333333,
          3.1401833333333333,
          3.4306666666666668,
          3.1742166666666667,
          3.1333333333333333,
          3.709333333333333,
          3.548216666666667,
          3.634883333333333,
          2.74245,
          6.7104333333333335,
          4.253233333333333,
          3.50435,
          2.9235,
          3.7319166666666663,
          3.1091,
          2.37755,
          4.09545,
          3.9375333333333336,
          2.2479,
          3.90755,
          3.422883333333333,
          3.8371,
          4.10645,
          3.5158,
          3.32555,
          3.469333333333333,
          4.460883333333333,
          4.092016666666667,
          3.4608666666666665,
          3.879766666666667,
          3.54755,
          4.3916,
          3.63,
          6.084,
          4.000666666666667,
          3.3851666666666667,
          4.078666666666667,
          3.9562166666666663,
          3.573566666666667,
          4.0531,
          3.393333333333333,
          3.9611,
          3.8836,
          3.1491,
          3.924,
          3.09555,
          4.992883333333333,
          3.6437666666666666,
          3.3037666666666667,
          3.1562166666666664,
          3.155333333333333,
          4.456,
          1.9966666666666664,
          3.152883333333333,
          3.8194,
          4.604216666666667,
          3.2522166666666665,
          4.009333333333333,
          5.711333333333333,
          3.6437666666666666,
          4.876883333333334,
          4.541766666666667,
          4.692666666666667,
          4.6171,
          3.764433333333333,
          3.217633333333333,
          2.9794,
          2.8842,
          4.206883333333334,
          3.6077666666666666,
          5.05355,
          8.859333333333334,
          6.057333333333333,
          4.038883333333334,
          2.9691,
          3.3457666666666666,
          3.148433333333333,
          3.3267333333333333,
          3.313333333333333,
          4.232433333333334,
          3.9788833333333335,
          3.612883333333333,
          6.042883333333333,
          2.7171,
          3.625766666666667,
          4.080216666666667,
          2.9107666666666665,
          3.747333333333333,
          3.10555,
          4.422666666666666,
          9.684433333333333,
          4.033333333333333,
          4.152,
          3.3506666666666667,
          2.954433333333333,
          2.8611,
          5.928883333333333,
          5.734216666666667,
          3.5777666666666668,
          4.613333333333333,
          3.184883333333333,
          4.220666666666666,
          3.113766666666667,
          2.858433333333333,
          3.434433333333333,
          3.874433333333333,
          3.900916666666667,
          3.0782166666666666,
          2.8139833333333333,
          4.819333333333334,
          3.33965,
          4.081333333333333,
          4.6671,
          3.49155,
          4.310883333333333,
          4.0751,
          3.0931,
          3.3671,
          3.458666666666667,
          3.600883333333333,
          4.0491,
          3.719766666666666,
          3.5511,
          3.182433333333333,
          3.9564333333333335,
          3.5551,
          3.519333333333333,
          3.7955833333333335,
          3.06755,
          4.1193333333333335,
          4.39,
          3.1346666666666665,
          3.4290166666666666,
          3.6473333333333335,
          3.598,
          3.3431,
          4.704883333333333,
          3.4957666666666665,
          3.554883333333333,
          4.942,
          3.600216666666667,
          3.6686,
          3.525333333333333,
          3.0448833333333334,
          3.4289,
          3.9591,
          3.598,
          3.764433333333333,
          3.22525,
          3.6746666666666665,
          4.365983333333333,
          3.6117666666666666,
          5.206666666666667,
          4.436,
          4.277933333333333,
          4.63955,
          3.136233333333333,
          5.076666666666667,
          3.22,
          3.63445,
          3.35155,
          3.924883333333333,
          4.0814,
          5.678433333333333,
          3.3906666666666667,
          4.831766666666667,
          4.158333333333333,
          5.827333333333334,
          4.28555,
          4.107766666666667,
          5.649333333333334,
          3.540983333333333,
          5.360816666666667
         ],
         "yaxis": "y"
        },
        {
         "customdata": [
          [
           "MY EYES"
          ],
          [
           "Hustlers"
          ],
          [
           "UN MONTÓN"
          ],
          [
           "WACHA"
          ],
          [
           "Hold On, We're Going Home"
          ],
          [
           "Yeah Glo!"
          ],
          [
           "Ojos Verdes"
          ],
          [
           "Coyote"
          ],
          [
           "Ciudad de la Paz"
          ],
          [
           "Muñecas"
          ],
          [
           "Buenos tiempos"
          ],
          [
           "Mi peor enemigo"
          ],
          [
           "La novia de mi amigo"
          ],
          [
           "Cirugía"
          ],
          [
           "offline"
          ],
          [
           "BESAME (feat. Tiago PZK, Khea & Neo Pistea) - Remix"
          ],
          [
           "LADRONA - con Mario Luis"
          ],
          [
           "Creo Que (feat. Asan)"
          ],
          [
           "A PURO DOLOR"
          ],
          [
           "Insta Lova"
          ],
          [
           "Daddy feat. Sfera Ebbasta & Leto (de PSO Thug)"
          ],
          [
           "M' Manc (con Geolier & Sfera Ebbasta)"
          ],
          [
           "Piel"
          ],
          [
           "Cómo Le Digo"
          ],
          [
           "Pensabas"
          ],
          [
           "Sol y Luna"
          ],
          [
           "Loca"
          ],
          [
           "Tu Ritmo"
          ],
          [
           "Tanta Droga"
          ],
          [
           "Triste (with Feid)"
          ],
          [
           "Pininfarina - Remix"
          ],
          [
           "Fvck Luv"
          ],
          [
           "No Cap"
          ],
          [
           "CUÁNTOS TÉRMINOS?"
          ],
          [
           "Cupido (with Khea & Duki feat. Quavo & Elettra Lamborghini) - RMX"
          ],
          [
           "Princess Diana (with Nicki Minaj)"
          ],
          [
           "No Me Llores"
          ],
          [
           "Double Bass"
          ],
          [
           "Oil (feat. Stevie Nicks)"
          ],
          [
           "Mala"
          ],
          [
           "Manicomio"
          ],
          [
           "CALL ME MAYBE"
          ],
          [
           "Kemba Walker"
          ],
          [
           "SINVERGÜENZA - con Angela Torres"
          ],
          [
           "The Spins"
          ],
          [
           "Papa Noel"
          ],
          [
           "ALV"
          ],
          [
           "23"
          ],
          [
           "Yandel 150"
          ],
          [
           "Thug Passion (ft. Jewell, Outlawz, The Storm)"
          ],
          [
           "Catch Me Outside"
          ],
          [
           "Young Flex"
          ],
          [
           "SANDUNGA"
          ],
          [
           "Lágrimas | CROSSOVER #4"
          ],
          [
           "LOCO X TU CUERPO"
          ],
          [
           "NO DA MÁS"
          ],
          [
           "LUGARES QUE LLEGO"
          ],
          [
           "La Jumpa"
          ],
          [
           "ADICTO"
          ],
          [
           "Dreams, Fairytales, Fantasies (feat. Brent Faiyaz & Salaam Remi)"
          ],
          [
           "Ele Uve"
          ],
          [
           "NANA"
          ],
          [
           "BBYNOSE_147BPM9S"
          ],
          [
           "TOMBOY"
          ],
          [
           "One Million Dollar Baby"
          ],
          [
           "Take A Step Back"
          ],
          [
           "Mis Ojos Lloran Por Ti"
          ],
          [
           "El Hokage"
          ],
          [
           "Que Somos - Remix"
          ],
          [
           "BabyWipe"
          ],
          [
           "All Girls Are The Same"
          ],
          [
           "Quavo #Mododiablo"
          ],
          [
           "Vuelta a la Luna - Remix"
          ],
          [
           "Goteo - Remix"
          ],
          [
           "3 Am"
          ],
          [
           "Metele Sazón"
          ],
          [
           "Pa' Que Retozen"
          ],
          [
           "Nota"
          ],
          [
           "qué le pasa conmigo?"
          ],
          [
           "Tenso"
          ],
          [
           "Me Usaste"
          ],
          [
           "Lean Wit Me"
          ],
          [
           "Wishing Well"
          ],
          [
           "Robbery"
          ],
          [
           "Si Te Sentis Sola"
          ],
          [
           "antes de perderte (OG VERSION)"
          ],
          [
           "Real Muthaphuckkin G's"
          ],
          [
           "Te Busco"
          ],
          [
           "NO voy a llorar :')"
          ],
          [
           "CAEN LAS ESTRELLAS"
          ],
          [
           "ATORRANTE - con Los Palmeras"
          ],
          [
           "Lovumba"
          ],
          [
           "No Me Dejes Solo"
          ],
          [
           "Mentiras | CROSSOVER #3"
          ],
          [
           "AEROBICO REMIX"
          ],
          [
           "Hijo De La Noche"
          ],
          [
           "Goteo"
          ],
          [
           "GiGi"
          ],
          [
           "ID"
          ],
          [
           "Ayer Me Llamó Mi Ex"
          ],
          [
           "How Do U Want It"
          ],
          [
           "Hood Took Me Under"
          ],
          [
           "Ticket"
          ],
          [
           "Remember Me"
          ],
          [
           "Un Finde | CROSSOVER #2"
          ],
          [
           "LOVE. FEAT. ZACARI."
          ],
          [
           "Me Enteré"
          ],
          [
           "Columbia"
          ],
          [
           "Hello Cotto"
          ],
          [
           "TRAP.N.EXPORT (feat. Duki, Ysy A & Neo Pistea)"
          ],
          [
           "Silent Running (feat. Adeleye Omotayo)"
          ],
          [
           "Baby Queen"
          ],
          [
           "DISPARA ***"
          ],
          [
           "Mbappe"
          ],
          [
           "Si la Calle Llama"
          ],
          [
           "Water"
          ],
          [
           "CSIpher (audio latino)"
          ],
          [
           "Chico Estrella"
          ],
          [
           "RoCKSTAR 2.0"
          ],
          [
           "Freestyle Session #11"
          ],
          [
           "RIP Roach"
          ],
          [
           "Hope"
          ],
          [
           "Los del Espacio"
          ],
          [
           "Contéstame el Teléfono (feat. Flex)"
          ],
          [
           "POST MORTEM"
          ],
          [
           "OLA DE SUICIDIOS"
          ],
          [
           "You Know How We Do It"
          ],
          [
           "aPoLLo13"
          ],
          [
           "Si Me Sobrara el Tiempo"
          ],
          [
           "New Gold (feat. Tame Impala and Bootie Brown)"
          ],
          [
           "Cracker Island (feat. Thundercat)"
          ],
          [
           "MEMORIAS"
          ],
          [
           "Ayer La Vi"
          ],
          [
           "Nublado (feat. Travis Barker)"
          ],
          [
           "Duki: Bzrp Music Sessions, Vol. 50"
          ],
          [
           "Noche de Novela (feat. Ed Sheeran)"
          ],
          [
           "Guersace"
          ],
          [
           "Party en el Barrio (feat. Duki)"
          ],
          [
           "Surf"
          ],
          [
           "VISTA AL MAR"
          ],
          [
           "Dominicana"
          ],
          [
           "Chucky73: Bzrp Music Sessions, Vol. 43"
          ],
          [
           "El Amor"
          ],
          [
           "Pintao"
          ],
          [
           "REALITY"
          ],
          [
           "RILI RILI"
          ],
          [
           "GIVENCHY"
          ],
          [
           "Quevedo: Bzrp Music Sessions, Vol. 52"
          ],
          [
           "No More ?'s"
          ],
          [
           "Express Yourself - Remix"
          ],
          [
           "California Love - Original Version"
          ],
          [
           "Nuthin' But A \"G\" Thang"
          ],
          [
           "Fuck Tha Police"
          ],
          [
           "No Vaseline"
          ],
          [
           "Villano Antillano: Bzrp Music Sessions, Vol. 51"
          ],
          [
           "Antes de Perderte"
          ],
          [
           "A$AP"
          ],
          [
           "Ahora y Siempre"
          ],
          [
           "Chamaquita"
          ],
          [
           "Respuesta Cero"
          ],
          [
           "WAIFU_153BPM2B"
          ],
          [
           "BICICLETA"
          ],
          [
           "Guchi Polo"
          ],
          [
           "La Trampa es Ley"
          ],
          [
           "220"
          ],
          [
           "Plan A"
          ],
          [
           "L-Gante: Bzrp Music Sessions, Vol.38"
          ],
          [
           "JUNGLE"
          ],
          [
           "Entre Nosotros (Remix) [con Nicki Nicole]"
          ],
          [
           "Pinta"
          ],
          [
           "YIN YAN"
          ],
          [
           "Tiago PZK: Bzrp Music Sessions, Vol. 48"
          ],
          [
           "Dillom: Bzrp Music Sessions, Vol. 9"
          ],
          [
           "TOP 5"
          ],
          [
           "Sin Frenos"
          ],
          [
           "ROCKETPOWERS"
          ],
          [
           "PELOTUDA"
          ],
          [
           "LA PRIMERA"
          ],
          [
           "Mamichula - con Nicki Nicole"
          ],
          [
           "DANCE CRIP"
          ],
          [
           "PISO 13"
          ],
          [
           "She Don't Give a Fo"
          ],
          [
           "Unfollow"
          ],
          [
           "Además de Mí - Remix"
          ],
          [
           "YaMeFui"
          ],
          [
           "My Bag"
          ],
          [
           "SNITCH E IMPICCI (feat. FSK SATELLITE)"
          ],
          [
           "Tesla (feat. Sfera Ebbasta & DrefGold)"
          ],
          [
           "Dame Una Nite"
          ],
          [
           "Dejame Tranki"
          ],
          [
           "Mala Mía"
          ],
          [
           "Lassie"
          ],
          [
           "Prende la Cámara"
          ],
          [
           "California"
          ],
          [
           "Entre Nosotros"
          ],
          [
           "KHEA: Bzrp Music Sessions, Vol. 34"
          ],
          [
           "Malbec"
          ],
          [
           "Eladio Carrion: Bzrp Music Sessions, Vol. 40"
          ],
          [
           "Sauce"
          ],
          [
           "OPA"
          ],
          [
           "DUDADE"
          ],
          [
           "Zaramay: Bzrp Music Sessions, Vol. 31"
          ],
          [
           "Snow Tha Product: Bzrp Music Sessions, Vol. 39"
          ],
          [
           "Nathy Peluso: Bzrp Music Sessions, Vol. 36"
          ],
          [
           "Flexin'"
          ],
          [
           "Circles"
          ],
          [
           "QUELLI CHE NON PENSANO - Il cervello (feat. Coez)"
          ],
          [
           "Monster"
          ],
          [
           "Dark Fantasy"
          ],
          [
           "Better Now"
          ],
          [
           "Lucid Dreams"
          ],
          [
           "XO Tour Llif3"
          ],
          [
           "Davide (feat. Coez)"
          ],
          [
           "Redbone"
          ],
          [
           "Crazy"
          ],
          [
           "Lowrider - Edited LP Version"
          ],
          [
           "On Melancholy Hill"
          ],
          [
           "Clint Eastwood"
          ],
          [
           "Feel Good Inc."
          ],
          [
           "White Iverson"
          ],
          [
           "Congratulations"
          ],
          [
           "Big Lie"
          ],
          [
           "Hypnotize - 2014 Remaster"
          ],
          [
           "Gettin' Jiggy Wit It"
          ],
          [
           "Ice Ice Baby"
          ],
          [
           "Big Poppa - 2005 Remaster"
          ],
          [
           "Juicy - 2005 Remaster"
          ]
         ],
         "hovertemplate": "Broad Genre=Hip Hop<br>Date Added=%{x}<br>Duration=%{y}<br>Track Name=%{customdata[0]}<extra></extra>",
         "legendgroup": "Hip Hop",
         "marker": {
          "color": "#00cc96",
          "symbol": "circle"
         },
         "mode": "markers",
         "name": "Hip Hop",
         "showlegend": true,
         "type": "scattergl",
         "x": [
          "2024-06-10 20:04:56-05:00",
          "2024-06-04 21:30:10-05:00",
          "2024-05-30 19:46:57-05:00",
          "2024-05-04 09:03:26-05:00",
          "2024-04-28 02:02:31-05:00",
          "2024-04-27 23:16:24-05:00",
          "2024-04-26 17:50:57-05:00",
          "2024-04-26 12:53:29-05:00",
          "2024-04-26 11:44:17-05:00",
          "2024-04-26 11:34:33-05:00",
          "2024-04-26 11:28:03-05:00",
          "2024-04-26 11:12:21-05:00",
          "2024-04-26 11:00:33-05:00",
          "2024-04-26 11:00:32-05:00",
          "2024-04-23 12:33:11-05:00",
          "2024-04-17 11:51:31-05:00",
          "2024-04-10 11:41:16-05:00",
          "2024-02-28 18:05:50-05:00",
          "2024-02-28 00:29:32-05:00",
          "2024-02-27 20:53:48-05:00",
          "2024-02-27 20:45:18-05:00",
          "2024-02-07 16:06:41-05:00",
          "2024-02-02 12:41:29-05:00",
          "2024-01-26 15:27:30-05:00",
          "2024-01-23 15:37:58-05:00",
          "2024-01-23 12:40:51-05:00",
          "2024-01-23 00:47:35-05:00",
          "2024-01-19 02:20:56-05:00",
          "2024-01-19 01:55:36-05:00",
          "2024-01-16 00:20:11-05:00",
          "2024-01-10 08:15:43-05:00",
          "2023-12-29 13:16:37-05:00",
          "2023-12-26 22:13:22-05:00",
          "2023-12-26 22:06:08-05:00",
          "2023-12-26 09:19:37-05:00",
          "2023-12-23 19:07:47-05:00",
          "2023-12-21 07:39:49-05:00",
          "2023-12-20 16:52:50-05:00",
          "2023-12-20 16:41:22-05:00",
          "2023-12-17 21:23:04-05:00",
          "2023-12-12 11:38:33-05:00",
          "2023-12-10 20:26:12-05:00",
          "2023-12-08 13:29:57-05:00",
          "2023-12-05 22:43:10-05:00",
          "2023-12-05 14:48:58-05:00",
          "2023-12-03 20:35:08-05:00",
          "2023-12-02 15:18:18-05:00",
          "2023-12-01 10:30:47-05:00",
          "2023-11-26 22:43:30-05:00",
          "2023-11-26 18:43:37-05:00",
          "2023-11-15 12:26:04-05:00",
          "2023-11-15 01:43:30-05:00",
          "2023-11-14 00:52:26-05:00",
          "2023-11-12 16:25:51-05:00",
          "2023-11-12 00:22:18-05:00",
          "2023-11-12 00:22:13-05:00",
          "2023-11-11 21:04:28-05:00",
          "2023-11-09 13:33:41-05:00",
          "2023-10-30 23:43:23-05:00",
          "2023-10-29 21:41:43-05:00",
          "2023-10-29 19:48:16-05:00",
          "2023-10-29 13:47:52-05:00",
          "2023-10-28 15:42:39-05:00",
          "2023-10-28 15:31:26-05:00",
          "2023-10-26 10:34:18-05:00",
          "2023-10-22 18:53:20-05:00",
          "2023-10-17 01:19:54-05:00",
          "2023-10-15 11:58:40-05:00",
          "2023-10-14 13:41:43-05:00",
          "2023-10-10 16:10:09-05:00",
          "2023-10-08 20:28:12-05:00",
          "2023-10-07 17:57:39-05:00",
          "2023-10-07 02:30:54-05:00",
          "2023-10-06 13:51:32-05:00",
          "2023-10-04 13:52:52-05:00",
          "2023-10-03 14:15:48-05:00",
          "2023-10-03 14:15:45-05:00",
          "2023-09-28 01:06:54-05:00",
          "2023-09-25 12:34:35-05:00",
          "2023-09-25 01:43:06-05:00",
          "2023-09-24 11:52:34-05:00",
          "2023-09-21 17:52:29-05:00",
          "2023-09-21 10:53:27-05:00",
          "2023-09-20 13:48:34-05:00",
          "2023-09-20 12:53:47-05:00",
          "2023-09-19 15:22:22-05:00",
          "2023-09-15 18:40:56-05:00",
          "2023-09-12 19:41:48-05:00",
          "2023-09-12 16:45:20-05:00",
          "2023-09-12 16:41:56-05:00",
          "2023-09-11 11:26:10-05:00",
          "2023-09-09 12:37:05-05:00",
          "2023-09-09 12:37:00-05:00",
          "2023-09-08 12:34:57-05:00",
          "2023-09-04 13:56:29-05:00",
          "2023-09-01 13:22:52-05:00",
          "2023-08-20 01:40:04-05:00",
          "2023-08-20 00:55:25-05:00",
          "2023-08-13 23:46:55-05:00",
          "2023-08-13 02:21:54-05:00",
          "2023-08-12 22:26:08-05:00",
          "2023-08-09 12:06:07-05:00",
          "2023-08-02 18:42:16-05:00",
          "2023-08-02 15:26:29-05:00",
          "2023-08-02 10:35:07-05:00",
          "2023-07-28 18:37:20-05:00",
          "2023-07-27 14:50:46-05:00",
          "2023-07-25 17:09:16-05:00",
          "2023-07-18 14:46:06-05:00",
          "2023-07-15 12:23:32-05:00",
          "2023-07-13 00:14:30-05:00",
          "2023-07-13 00:07:45-05:00",
          "2023-07-06 10:51:39-05:00",
          "2023-07-03 19:48:24-05:00",
          "2023-06-29 18:21:21-05:00",
          "2023-06-27 12:25:46-05:00",
          "2023-06-23 09:29:36-05:00",
          "2023-06-22 21:29:41-05:00",
          "2023-06-22 09:18:22-05:00",
          "2023-06-21 13:20:30-05:00",
          "2023-06-21 12:57:35-05:00",
          "2023-06-20 12:29:33-05:00",
          "2023-06-11 02:19:57-05:00",
          "2023-06-02 10:18:38-05:00",
          "2023-05-20 13:01:58-05:00",
          "2023-05-16 19:12:52-05:00",
          "2023-05-11 07:06:25-05:00",
          "2023-05-04 11:57:06-05:00",
          "2023-03-11 11:40:10-05:00",
          "2023-02-26 11:18:13-05:00",
          "2023-02-24 19:53:08-05:00",
          "2023-02-11 16:26:08-05:00",
          "2022-11-29 08:12:22-05:00",
          "2022-11-22 21:22:47-05:00",
          "2022-11-17 12:51:05-05:00",
          "2022-11-12 11:46:56-05:00",
          "2022-10-23 16:19:28-05:00",
          "2022-09-20 11:55:22-05:00",
          "2022-09-14 15:27:01-05:00",
          "2022-09-12 17:08:11-05:00",
          "2022-09-12 15:17:12-05:00",
          "2022-09-07 21:56:58-05:00",
          "2022-09-02 07:46:41-05:00",
          "2022-08-05 09:29:27-05:00",
          "2022-08-05 09:23:32-05:00",
          "2022-08-05 07:43:19-05:00",
          "2022-08-04 09:36:46-05:00",
          "2022-07-06 17:23:26-05:00",
          "2022-06-22 13:10:36-05:00",
          "2022-06-15 11:43:49-05:00",
          "2022-06-12 14:03:32-05:00",
          "2022-06-12 13:33:34-05:00",
          "2022-06-12 13:33:16-05:00",
          "2022-06-12 13:33:09-05:00",
          "2022-06-10 20:33:56-05:00",
          "2022-06-07 07:36:11-05:00",
          "2022-05-29 14:30:12-05:00",
          "2022-05-13 20:17:51-05:00",
          "2022-05-09 15:50:02-05:00",
          "2022-05-09 15:33:39-05:00",
          "2022-05-01 16:32:42-05:00",
          "2022-04-27 08:46:14-05:00",
          "2022-04-24 20:51:05-05:00",
          "2022-04-14 21:20:46-05:00",
          "2022-04-06 16:48:29-05:00",
          "2022-03-24 10:56:26-05:00",
          "2022-03-06 01:14:50-05:00",
          "2022-02-25 19:35:30-05:00",
          "2022-01-27 09:29:34-05:00",
          "2022-01-21 19:01:11-05:00",
          "2022-01-18 10:09:11-05:00",
          "2022-01-10 09:24:59-05:00",
          "2022-01-07 15:20:58-05:00",
          "2021-12-17 10:11:00-05:00",
          "2021-12-04 07:57:18-05:00",
          "2021-12-02 16:18:33-05:00",
          "2021-12-02 16:11:42-05:00",
          "2021-12-02 15:59:17-05:00",
          "2021-11-20 19:25:10-05:00",
          "2021-11-18 16:27:25-05:00",
          "2021-11-12 19:44:11-05:00",
          "2021-11-11 19:11:27-05:00",
          "2021-11-11 19:00:12-05:00",
          "2021-10-25 11:22:14-05:00",
          "2021-10-01 12:45:07-05:00",
          "2021-08-27 16:44:16-05:00",
          "2021-08-22 20:03:20-05:00",
          "2021-08-22 20:03:12-05:00",
          "2021-08-22 13:46:25-05:00",
          "2021-08-20 10:14:39-05:00",
          "2021-08-20 10:13:58-05:00",
          "2021-08-06 16:54:56-05:00",
          "2021-08-04 13:28:57-05:00",
          "2021-07-25 02:09:56-05:00",
          "2021-07-25 02:06:43-05:00",
          "2021-07-24 19:14:49-05:00",
          "2021-07-22 16:15:29-05:00",
          "2021-06-19 10:56:30-05:00",
          "2021-06-14 20:20:59-05:00",
          "2021-06-02 00:26:37-05:00",
          "2021-05-27 10:01:18-05:00",
          "2021-05-24 19:32:18-05:00",
          "2021-04-30 11:35:23-05:00",
          "2021-01-22 18:21:19-05:00",
          "2020-08-31 16:40:03-05:00",
          "2020-03-31 10:34:59-05:00",
          "2020-03-01 01:06:33-05:00",
          "2019-12-28 17:42:53-05:00",
          "2019-12-28 17:42:46-05:00",
          "2018-11-01 20:50:22-05:00",
          "2018-09-11 13:40:54-05:00",
          "2018-09-11 13:39:40-05:00",
          "2018-06-03 21:27:53-05:00",
          "2018-03-02 22:55:05-05:00",
          "2018-01-25 09:05:28-05:00",
          "2017-09-28 06:27:19-05:00",
          "2017-08-23 21:27:39-05:00",
          "2017-08-23 21:24:27-05:00",
          "2017-08-23 21:24:07-05:00",
          "2017-07-04 09:08:46-05:00",
          "2017-07-04 09:02:14-05:00",
          "2017-07-03 00:38:31-05:00",
          "2017-06-28 20:51:29-05:00",
          "2017-06-28 20:47:29-05:00",
          "2017-06-28 20:44:08-05:00",
          "2017-03-26 11:39:26-05:00",
          "2017-03-26 11:39:21-05:00"
         ],
         "xaxis": "x",
         "y": [
          4.187483333333334,
          2.8145333333333333,
          3.083333333333333,
          3.4393333333333334,
          3.798,
          2.3783666666666665,
          2.3735,
          1.81155,
          3.78575,
          2.242383333333333,
          3.06625,
          3.960083333333333,
          3.4025666666666665,
          3.61395,
          3.3655833333333334,
          4.738466666666667,
          2.9665666666666666,
          3.7,
          3.4358833333333334,
          3.44675,
          4.4375,
          3,
          2.3513166666666665,
          3.7683333333333335,
          4.866666666666666,
          2.727016666666666,
          4.106366666666666,
          2.6407666666666665,
          4.147966666666667,
          3.36875,
          4.34645,
          3.032633333333333,
          2.4023666666666665,
          2.405483333333333,
          3.532,
          2.86875,
          3.197433333333333,
          4.782216666666667,
          3.835683333333333,
          2.73865,
          3.8111,
          3.706683333333333,
          2.549333333333333,
          3.624833333333333,
          3.26455,
          3.57715,
          3.738083333333333,
          4.42915,
          3.6024666666666665,
          5.1273333333333335,
          2.429333333333333,
          2.687333333333333,
          4.032016666666666,
          2.7903166666666666,
          3.2845,
          2.8080666666666665,
          3.765333333333333,
          4.26155,
          3.2441833333333334,
          3.716433333333333,
          2.8903333333333334,
          2.9168666666666665,
          2.7333333333333334,
          2.4602166666666667,
          4.6695166666666665,
          3.5064333333333333,
          4.92555,
          2.0854,
          3.0946333333333333,
          2.810433333333333,
          2.76365,
          3.957133333333333,
          5.02745,
          4.63715,
          3.4706,
          4.042,
          2.5277666666666665,
          2.658033333333333,
          2.787516666666667,
          2.833333333333333,
          6.078883333333334,
          2.92925,
          3.2436833333333333,
          4.0008333333333335,
          2.9715666666666665,
          2.776116666666667,
          5.5437666666666665,
          3.893983333333333,
          2.9812333333333334,
          2.4195166666666665,
          4.205783333333334,
          3.640216666666667,
          2.837333333333333,
          2.8,
          3.5540833333333333,
          3.4480666666666666,
          2.74095,
          2.427033333333333,
          3.9254166666666666,
          3.446,
          4.796,
          3.654433333333333,
          3.14815,
          2.843733333333333,
          2.708333333333333,
          3.556666666666666,
          3.0345833333333334,
          3.1,
          3.620833333333333,
          3.823583333333333,
          4.4389666666666665,
          3.668416666666667,
          2.3989166666666666,
          2.461533333333333,
          2.852533333333333,
          3.169216666666667,
          4.182216666666666,
          2.838483333333333,
          2.8954833333333334,
          3.27615,
          2.832966666666666,
          1.8481,
          5.633333333333334,
          3.2371,
          2.6554333333333333,
          2.5728833333333334,
          3.87955,
          2.6757833333333334,
          2.816,
          3.5858166666666667,
          3.5625,
          3.8125,
          3.9346666666666663,
          2.963766666666667,
          3.688383333333333,
          3.1982666666666666,
          3.2333333333333334,
          3.9357166666666665,
          5.5084333333333335,
          3.0112,
          2.4206833333333333,
          2.3553333333333333,
          4.113333333333333,
          2.789,
          2.1976666666666667,
          2.3225666666666664,
          3.0435,
          3.3156166666666667,
          3.906,
          4.35665,
          4.748433333333334,
          3.974433333333333,
          5.76195,
          5.204833333333333,
          3.125,
          2.94545,
          3.0707,
          2.4879166666666666,
          2.8449833333333334,
          3.399183333333333,
          2.1699333333333333,
          3.4607666666666668,
          3.35,
          2.3644,
          2.9428,
          2.9700333333333333,
          3.205783333333333,
          2.9039333333333333,
          4.333333333333333,
          2.9658333333333333,
          3.1579166666666665,
          2.6666666666666665,
          2.5307166666666667,
          2.446916666666666,
          3.523233333333333,
          3.1373,
          3.0984166666666666,
          3.3175833333333333,
          3.65335,
          2.7503166666666665,
          2.046,
          3.492183333333333,
          3.278783333333333,
          5.500666666666667,
          3.043233333333333,
          3.5107,
          3.373,
          3.0857666666666668,
          3.4642833333333334,
          3.707133333333333,
          3.1821333333333333,
          2.8777666666666666,
          2.4786,
          3.356683333333333,
          3.205866666666666,
          3.311716666666667,
          2.9315,
          2.74825,
          3.3606666666666665,
          2.8386666666666667,
          2.05155,
          3.659083333333333,
          2.9573666666666667,
          2.8535833333333334,
          2.989716666666667,
          3.588,
          3.169766666666667,
          6.314883333333333,
          4.679766666666667,
          3.854433333333333,
          3.99725,
          3.0451,
          3.43685,
          5.448883333333334,
          2.96555,
          4.6193333333333335,
          3.8977666666666666,
          5.682,
          3.7106666666666666,
          4.27555,
          3.67155,
          3.461333333333333,
          3.830433333333333,
          3.798883333333333,
          4.5244333333333335,
          4.212433333333333,
          5.046
         ],
         "yaxis": "y"
        },
        {
         "customdata": [
          [
           "La Incondicional"
          ],
          [
           "El Día De Mi Suerte"
          ],
          [
           "Pierdo la Cabeza - Remix"
          ],
          [
           "Ese Hombre"
          ],
          [
           "Tú y Tú"
          ],
          [
           "Perdonarte, ¿Para Qué?"
          ],
          [
           "Que Tengo Que Hacer"
          ],
          [
           "Soldado Y Profeta (feat. Ozuna, Almighty, Kendo & Ñengo Flow)"
          ],
          [
           "Señorita"
          ],
          [
           "Sin Despertar"
          ],
          [
           "Si o No"
          ],
          [
           "Tu de Que Vas"
          ],
          [
           "Entre la Playa Ella y Yo"
          ],
          [
           "Baila Morena"
          ],
          [
           "TE FUISTE DE MI VIDA"
          ],
          [
           "Comerte a Besos - Salsa Version"
          ],
          [
           "Noche Loca"
          ],
          [
           "Todo Comenzó Bailando - Remix"
          ],
          [
           "Las Avispas"
          ],
          [
           "QUE ME FALTE TODO"
          ],
          [
           "OJALÁ"
          ],
          [
           "HOLA PERDIDA"
          ],
          [
           "Percocet - Remix"
          ],
          [
           "Tanto La Queria (Version Salsa)"
          ],
          [
           "Ella Dice"
          ],
          [
           "¿Por Qué Me Haces Llorar?"
          ],
          [
           "PERRO NEGRO"
          ],
          [
           "Las Leyes de La Vida"
          ],
          [
           "Alch Si"
          ],
          [
           "QUE VUELVAS"
          ],
          [
           "Que Alguien Me Diga"
          ],
          [
           "Esta Cabron (Remix) [feat. Anuel Aa, Yomo, Pusho, Almighty, D.Ozi & Jamby \"El Favo\"]"
          ],
          [
           "Tu Angelito"
          ],
          [
           "Quiero Creer"
          ],
          [
           "Mayor Que Yo 3"
          ],
          [
           "En To Lao"
          ],
          [
           "Hablamos Mañana"
          ],
          [
           "Amor de Mis Amores"
          ],
          [
           "Eres Mi Bien"
          ],
          [
           "Tu No Metes Cabra"
          ],
          [
           "COLMILLO"
          ],
          [
           "La resaka"
          ],
          [
           "Que Calor"
          ],
          [
           "Tiburon"
          ],
          [
           "Sin Sentimientos"
          ],
          [
           "Me Voy Enamorando - Remix"
          ],
          [
           "Drogo"
          ],
          [
           "Señal De Vida"
          ],
          [
           "El Matadero"
          ],
          [
           "Pierdo la Cabeza"
          ],
          [
           "La player (Bandolera)"
          ],
          [
           "Quien Te Va a Amar Como Yo"
          ],
          [
           "Otra Noche"
          ],
          [
           "Entre Beso y Beso"
          ],
          [
           "BUENOS AIRES"
          ],
          [
           "EN VISTO"
          ],
          [
           "LA BABY"
          ],
          [
           "El Amor de Mi Vida"
          ],
          [
           "LALA"
          ],
          [
           "La Triple T"
          ],
          [
           "FANTASMA | AVC"
          ],
          [
           "Ya No Vuelvas (Versión Cuarteto)"
          ],
          [
           "Salimo en Caravana"
          ],
          [
           "OJITOS ROJOS"
          ],
          [
           "TULUM"
          ],
          [
           "Ojalá Que Te Mueras"
          ],
          [
           "La Magia De Tus Besos"
          ],
          [
           "Un Beso Y Una Flor"
          ],
          [
           "Me Niegas Tanto Amor"
          ],
          [
           "Calle Luna Calle Sol"
          ],
          [
           "Lloraras"
          ],
          [
           "La Más Bella"
          ],
          [
           "No Se Va - EN VIVO"
          ],
          [
           "un x100to"
          ],
          [
           "Mi Buen Amor"
          ],
          [
           "Día De Pago"
          ],
          [
           "Nota de Amor (feat. Daddy Yankee)"
          ],
          [
           "Tu Mueres por Mi"
          ],
          [
           "Si Tú No Estás"
          ],
          [
           "Un Montón De Estrellas"
          ],
          [
           "Sueños"
          ],
          [
           "La Duda"
          ],
          [
           "Hookiao"
          ],
          [
           "Si no te tengo a ti"
          ],
          [
           "La Amante"
          ],
          [
           "Deseándote"
          ],
          [
           "Sin Querer"
          ],
          [
           "Tu Cariñito"
          ],
          [
           "Virgen"
          ],
          [
           "Cuando Seas Grande"
          ],
          [
           "Juana Peña"
          ],
          [
           "El Ritmo de Mi Corazón"
          ],
          [
           "Trampolín"
          ],
          [
           "Niña Bonita"
          ],
          [
           "Aunque no sea conmigo"
          ],
          [
           "Qué Hay de Malo"
          ],
          [
           "Marta tiene un marcapasos"
          ],
          [
           "Eres Mi Religión"
          ],
          [
           "Ven Devórame Otra Vez"
          ],
          [
           "La Noche Mas Linda"
          ],
          [
           "Idilio"
          ],
          [
           "El Níagara en Bicicleta"
          ],
          [
           "Te regalo"
          ],
          [
           "Tus Ojos No Me Ven"
          ],
          [
           "Gozando en la Habana"
          ],
          [
           "El Embrujo"
          ],
          [
           "Mi Libertad"
          ],
          [
           "Ana Milé"
          ],
          [
           "Antídoto Y Veneno"
          ],
          [
           "La Vida Es Un Carnaval"
          ],
          [
           "Lo Mío Es Amor"
          ],
          [
           "Bar"
          ],
          [
           "2:50 Remix"
          ],
          [
           "23 (With Ape Drums)"
          ],
          [
           "El Tiempo"
          ],
          [
           "El Mas Piola"
          ],
          [
           "Fico Assim Sem Você"
          ],
          [
           "Pistola Remix"
          ],
          [
           "L-Gante: RKT SESSIONS #1"
          ],
          [
           "La Ventanita"
          ],
          [
           "LA NOCHE DE ANOCHE"
          ],
          [
           "Atrévete-Te-Te"
          ],
          [
           "Talento De Televisión"
          ],
          [
           "Visionario"
          ],
          [
           "Tinty Nasty"
          ],
          [
           "El Doctorado feat. Don Omar & Ken-Y"
          ],
          [
           "Yo No Sé Mañana"
          ],
          [
           "La Entrevista - Remasterizado"
          ],
          [
           "Pan y mantequilla"
          ],
          [
           "Zun Da Da"
          ],
          [
           "Amor Narcótico"
          ],
          [
           "Necesito un Amor"
          ],
          [
           "Una Rosa Lo Sabe"
          ],
          [
           "Amame una Vez Más"
          ],
          [
           "El Gran Varon"
          ],
          [
           "Elsa / Cariñito / Boquita de Caramelo - En Vivo"
          ],
          [
           "Colgando en tus manos (con Marta Sánchez)"
          ],
          [
           "Oye Mi Amor"
          ],
          [
           "Como Te Deseo"
          ],
          [
           "Que Locura Enamorarme De Ti"
          ],
          [
           "Si Tú Me Besas"
          ],
          [
           "Contigo Aprendí"
          ],
          [
           "Princesa"
          ],
          [
           "Rayando el Sol"
          ],
          [
           "Amor Clandestino"
          ],
          [
           "Fruta Prohibida"
          ],
          [
           "Tanto la Queria"
          ],
          [
           "Todo Cambió"
          ],
          [
           "Fabricando Fantasías"
          ],
          [
           "Para No Verte Más"
          ],
          [
           "Obsesión"
          ],
          [
           "Si Me Tenías"
          ],
          [
           "China"
          ],
          [
           "Coleccionista de Canciones"
          ],
          [
           "Vuelve a mí"
          ],
          [
           "Te Vas"
          ],
          [
           "Me Enamoré De Ti, Y Que"
          ],
          [
           "Tu Cárcel (En Vivo)"
          ],
          [
           "Tu Vida en la Mía"
          ],
          [
           "Ahora Te Puedes Marchar"
          ],
          [
           "Motor y Motivo"
          ],
          [
           "El Doctorado"
          ],
          [
           "Adios Amor"
          ],
          [
           "Labios Compartidos"
          ],
          [
           "A Llorar a Otra Parte"
          ],
          [
           "Como Mirarte"
          ],
          [
           "Te quiero"
          ],
          [
           "Venezia"
          ],
          [
           "Qué Vida la Mía"
          ],
          [
           "En algún lugar"
          ],
          [
           "Me Niego (feat. Ozuna & Wisin)"
          ],
          [
           "Que Va"
          ],
          [
           "Clavado en Un Bar"
          ],
          [
           "Suéltate el pelo"
          ],
          [
           "Devuélveme a mi chica"
          ],
          [
           "Ojos Color Sol (feat. Silvio Rodríguez)"
          ],
          [
           "Muerte En Hawaii"
          ],
          [
           "Casi un Hechizo"
          ],
          [
           "Vicioso"
          ],
          [
           "El ataque de las chicas cocodrilo"
          ],
          [
           "Todo sea por el rocanrol"
          ],
          [
           "En El Muelle de San Blas"
          ],
          [
           "Como te extraño mi amor"
          ],
          [
           "Es Tan Fácil Romper un Corazón - Vivo"
          ],
          [
           "Triste canción"
          ]
         ],
         "hovertemplate": "Broad Genre=Latin<br>Date Added=%{x}<br>Duration=%{y}<br>Track Name=%{customdata[0]}<extra></extra>",
         "legendgroup": "Latin",
         "marker": {
          "color": "#ab63fa",
          "symbol": "circle"
         },
         "mode": "markers",
         "name": "Latin",
         "showlegend": true,
         "type": "scattergl",
         "x": [
          "2024-06-07 21:34:11-05:00",
          "2024-06-06 09:02:55-05:00",
          "2024-06-03 15:38:18-05:00",
          "2024-06-03 12:18:29-05:00",
          "2024-06-02 21:02:19-05:00",
          "2024-05-24 14:31:25-05:00",
          "2024-05-18 07:17:00-05:00",
          "2024-04-21 21:45:48-05:00",
          "2024-04-03 12:20:05-05:00",
          "2024-03-29 17:47:58-05:00",
          "2024-03-27 15:20:26-05:00",
          "2024-03-23 19:02:05-05:00",
          "2024-03-23 18:38:58-05:00",
          "2024-03-16 14:52:37-05:00",
          "2024-03-11 22:03:46-05:00",
          "2024-02-27 14:22:26-05:00",
          "2024-02-24 19:35:37-05:00",
          "2024-02-24 19:20:28-05:00",
          "2024-02-12 20:53:42-05:00",
          "2024-02-08 12:36:49-05:00",
          "2024-02-02 12:54:02-05:00",
          "2024-02-02 12:41:39-05:00",
          "2024-01-23 14:55:27-05:00",
          "2024-01-08 12:42:58-05:00",
          "2024-01-05 22:32:12-05:00",
          "2023-12-27 18:12:19-05:00",
          "2023-12-12 13:12:09-05:00",
          "2023-12-10 16:31:49-05:00",
          "2023-12-02 15:18:28-05:00",
          "2023-12-02 15:17:30-05:00",
          "2023-11-21 01:07:25-05:00",
          "2023-11-17 15:28:03-05:00",
          "2023-11-02 01:52:28-05:00",
          "2023-10-26 23:22:41-05:00",
          "2023-10-24 00:48:43-05:00",
          "2023-10-22 19:31:56-05:00",
          "2023-10-19 00:39:31-05:00",
          "2023-10-14 21:15:03-05:00",
          "2023-10-14 21:14:56-05:00",
          "2023-10-13 14:42:33-05:00",
          "2023-10-13 01:50:49-05:00",
          "2023-10-03 17:15:16-05:00",
          "2023-10-03 17:15:16-05:00",
          "2023-10-03 17:15:06-05:00",
          "2023-09-28 00:56:27-05:00",
          "2023-09-25 12:30:36-05:00",
          "2023-09-25 11:48:30-05:00",
          "2023-09-17 13:06:30-05:00",
          "2023-09-12 19:48:03-05:00",
          "2023-09-12 19:32:55-05:00",
          "2023-09-12 18:59:10-05:00",
          "2023-09-11 00:07:24-05:00",
          "2023-09-08 20:36:54-05:00",
          "2023-09-02 01:06:00-05:00",
          "2023-08-29 20:35:21-05:00",
          "2023-08-22 21:25:51-05:00",
          "2023-08-22 21:22:54-05:00",
          "2023-08-19 21:30:20-05:00",
          "2023-08-15 11:21:57-05:00",
          "2023-08-09 00:59:02-05:00",
          "2023-08-06 09:36:57-05:00",
          "2023-08-06 04:48:42-05:00",
          "2023-08-06 04:37:06-05:00",
          "2023-07-27 14:54:28-05:00",
          "2023-07-27 14:24:41-05:00",
          "2023-07-12 15:03:12-05:00",
          "2023-06-28 08:20:38-05:00",
          "2023-06-21 23:01:18-05:00",
          "2023-06-21 19:32:43-05:00",
          "2023-06-13 12:24:55-05:00",
          "2023-06-12 22:15:34-05:00",
          "2023-06-02 14:20:50-05:00",
          "2023-05-25 07:48:47-05:00",
          "2023-05-20 00:04:32-05:00",
          "2023-03-29 19:39:40-05:00",
          "2023-03-24 20:56:24-05:00",
          "2023-02-18 13:35:27-05:00",
          "2023-02-02 17:37:58-05:00",
          "2023-01-20 20:41:24-05:00",
          "2023-01-19 11:56:14-05:00",
          "2023-01-16 08:46:15-05:00",
          "2023-01-02 08:06:22-05:00",
          "2023-01-01 19:48:12-05:00",
          "2022-12-28 17:17:59-05:00",
          "2022-12-26 22:10:26-05:00",
          "2022-11-29 21:16:14-05:00",
          "2022-11-29 16:44:20-05:00",
          "2022-11-29 15:52:16-05:00",
          "2022-11-17 20:31:55-05:00",
          "2022-11-17 16:35:48-05:00",
          "2022-11-10 07:53:45-05:00",
          "2022-11-02 12:40:59-05:00",
          "2022-10-14 19:52:13-05:00",
          "2022-08-31 07:28:34-05:00",
          "2022-08-04 09:57:49-05:00",
          "2022-07-24 20:03:50-05:00",
          "2022-07-21 07:18:02-05:00",
          "2022-07-18 11:38:54-05:00",
          "2022-07-09 20:53:29-05:00",
          "2022-06-01 13:33:17-05:00",
          "2022-05-05 16:26:58-05:00",
          "2022-04-27 23:16:34-05:00",
          "2022-04-23 16:37:52-05:00",
          "2022-04-23 16:32:33-05:00",
          "2022-04-22 22:43:40-05:00",
          "2022-04-22 10:04:59-05:00",
          "2022-04-15 18:18:29-05:00",
          "2022-04-13 20:46:43-05:00",
          "2022-04-07 17:40:05-05:00",
          "2022-03-28 07:06:31-05:00",
          "2022-03-24 16:22:44-05:00",
          "2021-11-11 18:50:56-05:00",
          "2021-10-25 16:54:03-05:00",
          "2021-10-20 17:48:02-05:00",
          "2021-10-14 18:33:05-05:00",
          "2021-10-10 00:51:19-05:00",
          "2021-08-22 13:30:26-05:00",
          "2021-08-11 13:34:46-05:00",
          "2021-07-21 17:09:32-05:00",
          "2021-06-12 21:12:26-05:00",
          "2021-06-12 19:45:45-05:00",
          "2021-06-11 09:10:30-05:00",
          "2021-05-30 14:21:43-05:00",
          "2021-05-12 21:31:37-05:00",
          "2021-05-08 19:20:53-05:00",
          "2020-12-13 23:08:55-05:00",
          "2020-11-20 23:49:09-05:00",
          "2020-11-20 23:39:54-05:00",
          "2020-11-16 18:47:52-05:00",
          "2020-11-15 19:30:08-05:00",
          "2020-10-02 18:50:33-05:00",
          "2020-10-02 16:29:27-05:00",
          "2020-10-02 16:28:02-05:00",
          "2020-10-02 16:14:57-05:00",
          "2020-10-01 18:03:44-05:00",
          "2020-10-01 18:00:17-05:00",
          "2020-09-10 19:51:34-05:00",
          "2020-08-27 18:23:16-05:00",
          "2020-07-28 15:24:34-05:00",
          "2020-06-27 16:38:24-05:00",
          "2020-05-25 23:15:40-05:00",
          "2020-03-22 17:53:50-05:00",
          "2020-03-16 13:03:12-05:00",
          "2020-03-09 13:37:02-05:00",
          "2020-02-19 11:45:39-05:00",
          "2020-01-18 20:19:44-05:00",
          "2020-01-12 18:38:10-05:00",
          "2020-01-12 18:20:28-05:00",
          "2020-01-11 23:21:19-05:00",
          "2019-10-11 23:14:43-05:00",
          "2019-09-20 08:53:07-05:00",
          "2019-08-09 23:05:48-05:00",
          "2019-08-03 00:09:52-05:00",
          "2019-07-28 13:30:33-05:00",
          "2019-06-14 09:22:34-05:00",
          "2019-06-09 02:54:03-05:00",
          "2019-06-09 02:53:51-05:00",
          "2019-03-29 21:13:01-05:00",
          "2019-03-27 11:27:23-05:00",
          "2019-03-22 23:11:05-05:00",
          "2019-03-22 20:40:17-05:00",
          "2019-03-16 16:08:00-05:00",
          "2019-02-27 18:22:31-05:00",
          "2019-02-24 22:59:38-05:00",
          "2019-02-21 21:54:02-05:00",
          "2019-02-18 14:31:18-05:00",
          "2018-12-08 20:32:10-05:00",
          "2018-11-17 10:07:48-05:00",
          "2018-10-21 22:26:55-05:00",
          "2018-06-11 23:29:35-05:00",
          "2018-03-20 00:15:59-05:00",
          "2018-03-17 00:12:18-05:00",
          "2017-11-28 19:04:11-05:00",
          "2017-08-16 10:38:53-05:00",
          "2017-08-08 23:46:49-05:00",
          "2017-07-29 00:18:57-05:00",
          "2017-07-26 01:45:24-05:00",
          "2017-07-05 22:09:31-05:00",
          "2017-06-23 16:30:40-05:00",
          "2017-06-17 00:18:20-05:00",
          "2017-05-01 22:03:46-05:00",
          "2017-04-18 21:59:22-05:00",
          "2017-04-11 13:36:03-05:00",
          "2017-02-14 19:52:32-05:00",
          "2017-02-14 09:20:07-05:00"
         ],
         "xaxis": "x",
         "y": [
          4.283766666666667,
          5.4797666666666665,
          4.784666666666666,
          4.6011,
          3.604433333333333,
          3.2322166666666665,
          3.358483333333333,
          8.543933333333333,
          3.1931333333333334,
          3.2611,
          3.4984333333333333,
          4.371583333333334,
          3.084616666666667,
          3.0702833333333333,
          3.1592333333333333,
          4.496666666666667,
          2.9715166666666666,
          2.725483333333333,
          3.288883333333333,
          2.7653,
          3.26315,
          2.7756,
          5.243766666666667,
          4.310883333333333,
          2.684333333333333,
          3.048,
          2.7127833333333333,
          3.3223333333333334,
          2.5658833333333333,
          2.823633333333333,
          4.870433333333334,
          8.095483333333334,
          3.961333333333333,
          2.417566666666666,
          5.0791,
          3.25055,
          4.004216666666666,
          4.173483333333333,
          4.038516666666666,
          2.846033333333333,
          4.433316666666666,
          3.5686666666666667,
          4.07755,
          5.0517666666666665,
          4.898216666666666,
          3.5966666666666667,
          5.959216666666666,
          4.00425,
          3.916433333333333,
          3.7006666666666663,
          4.1601333333333335,
          3.766883333333333,
          3.312,
          2.558133333333333,
          1.98095,
          2.5641833333333333,
          3.047616666666667,
          3.076433333333333,
          3.298666666666666,
          2.794566666666667,
          4.751233333333333,
          3.4,
          3.022566666666666,
          3.69335,
          3.49025,
          3.790883333333333,
          4.736666666666666,
          4.546666666666667,
          4.722216666666666,
          3.807333333333333,
          3.703333333333333,
          3.087266666666667,
          3.23365,
          3.2427166666666665,
          3.7931,
          3.121583333333333,
          3.872883333333333,
          3.1686666666666667,
          3.674,
          6.076216666666666,
          3.7864333333333335,
          4.4093333333333335,
          3.281816666666667,
          4.768,
          3.4464166666666665,
          4.720433333333333,
          3.656,
          4.18755,
          4.529433333333333,
          4.428433333333333,
          5.63355,
          3.67205,
          4.364883333333333,
          3.6131,
          3.421766666666666,
          4.972433333333333,
          2.2013333333333334,
          5.46,
          5.23355,
          5.72255,
          5.1448833333333335,
          4.422666666666666,
          2.828666666666667,
          4.61155,
          5.244433333333333,
          3.997333333333333,
          4.457766666666667,
          5.63875,
          5.30755,
          4.647766666666667,
          5.234666666666667,
          2.6702,
          3.8618,
          2.791733333333333,
          3.237433333333333,
          3.6235166666666663,
          3.74155,
          2.2801,
          3.0321333333333333,
          4.7744333333333335,
          3.3866666666666667,
          3.9884333333333335,
          4.655333333333333,
          2.8,
          3.117633333333333,
          4.402433333333334,
          4.330883333333333,
          4.870216666666667,
          3.3691,
          5.068183333333334,
          5.282666666666667,
          3.5246666666666666,
          3.654883333333333,
          3.52555,
          6.911766666666667,
          4.626283333333333,
          3.838,
          4.388433333333333,
          4.49355,
          5.170433333333333,
          4.330883333333333,
          3.6426666666666665,
          4.014583333333333,
          4.168433333333334,
          4.864433333333333,
          3.7022166666666663,
          4.6691,
          3.230433333333333,
          4.572883333333333,
          3.1926666666666668,
          4.089333333333333,
          5.788783333333333,
          5.028566666666666,
          5.116433333333333,
          3.316883333333333,
          3.7693666666666665,
          2.88585,
          4.303333333333334,
          6.22,
          3.19955,
          3.2735833333333333,
          4.403333333333333,
          4.1931,
          5.2937666666666665,
          3.882233333333333,
          3.7066666666666666,
          3.751333333333333,
          4.501333333333333,
          2.8553333333333333,
          3.9271,
          3.6942166666666663,
          3.969333333333333,
          5.1802166666666665,
          3.1846666666666668,
          3.2346666666666666,
          3.596883333333333,
          3.164433333333333,
          3.724,
          2.4433333333333334,
          3.068,
          4.744,
          5.8693333333333335,
          3.5813333333333333,
          6.556866666666667,
          5.7191
         ],
         "yaxis": "y"
        },
        {
         "customdata": [
          [
           "Something About You"
          ]
         ],
         "hovertemplate": "Broad Genre=Funk<br>Date Added=%{x}<br>Duration=%{y}<br>Track Name=%{customdata[0]}<extra></extra>",
         "legendgroup": "Funk",
         "marker": {
          "color": "#FFA15A",
          "symbol": "circle"
         },
         "mode": "markers",
         "name": "Funk",
         "showlegend": true,
         "type": "scattergl",
         "x": [
          "2024-06-05 11:35:28-05:00"
         ],
         "xaxis": "x",
         "y": [
          4.416883333333334
         ],
         "yaxis": "y"
        },
        {
         "customdata": [
          [
           "So Many Ways to Get Downtown"
          ],
          [
           "Young Soul"
          ],
          [
           "Kind Reminder"
          ],
          [
           "Musta Been a Ghost"
          ]
         ],
         "hovertemplate": "Broad Genre=Americana<br>Date Added=%{x}<br>Duration=%{y}<br>Track Name=%{customdata[0]}<extra></extra>",
         "legendgroup": "Americana",
         "marker": {
          "color": "#19d3f3",
          "symbol": "circle"
         },
         "mode": "markers",
         "name": "Americana",
         "showlegend": true,
         "type": "scattergl",
         "x": [
          "2024-04-29 22:09:51-05:00",
          "2023-01-04 07:57:32-05:00",
          "2023-01-04 07:53:30-05:00",
          "2023-01-03 21:41:52-05:00"
         ],
         "xaxis": "x",
         "y": [
          4.703483333333334,
          3.72155,
          3.989,
          3.668266666666667
         ],
         "yaxis": "y"
        },
        {
         "customdata": [
          [
           "Don't You Worry Child - Radio Edit"
          ],
          [
           "Naquele Pique"
          ],
          [
           "Frikitona"
          ],
          [
           "Animal Rights"
          ],
          [
           "Shrunken Heads"
          ],
          [
           "Gettin' Over You (feat. Fergie & LMFAO)"
          ],
          [
           "Gingoba"
          ],
          [
           "Dos"
          ],
          [
           "You Spin Me Round (Like a Record)"
          ],
          [
           "Sexy Bitch (feat. Akon)"
          ],
          [
           "Omen"
          ],
          [
           "Magnets"
          ],
          [
           "Sonnenkind - MÖWE Remix"
          ],
          [
           "Stole the Show"
          ],
          [
           "Latch"
          ],
          [
           "Into the Light"
          ],
          [
           "You & Me - Flume Remix"
          ],
          [
           "One More Time"
          ]
         ],
         "hovertemplate": "Broad Genre=Electronic<br>Date Added=%{x}<br>Duration=%{y}<br>Track Name=%{customdata[0]}<extra></extra>",
         "legendgroup": "Electronic",
         "marker": {
          "color": "#FF6692",
          "symbol": "circle"
         },
         "mode": "markers",
         "name": "Electronic",
         "showlegend": true,
         "type": "scattergl",
         "x": [
          "2024-04-12 23:45:33-05:00",
          "2024-01-08 20:32:59-05:00",
          "2024-01-04 16:12:24-05:00",
          "2023-04-07 02:39:22-05:00",
          "2023-04-07 02:37:23-05:00",
          "2023-04-01 00:37:02-05:00",
          "2023-03-16 20:48:10-05:00",
          "2022-08-26 10:09:29-05:00",
          "2022-05-29 22:33:29-05:00",
          "2021-10-26 14:49:26-05:00",
          "2019-02-22 11:16:39-05:00",
          "2019-02-18 18:51:13-05:00",
          "2018-12-30 12:35:26-05:00",
          "2018-12-10 20:04:36-05:00",
          "2017-10-16 06:01:07-05:00",
          "2017-05-16 21:16:42-05:00",
          "2017-04-15 20:12:31-05:00",
          "2017-03-26 10:06:40-05:00"
         ],
         "xaxis": "x",
         "y": [
          3.5477,
          2.66625,
          2.9067333333333334,
          6.2508,
          4.1088,
          3.1333333333333333,
          3.1975666666666664,
          2.63875,
          3.2524333333333333,
          3.2642166666666665,
          3.8375,
          3.32075,
          6.387083333333333,
          3.719766666666666,
          4.260516666666667,
          4.519866666666666,
          4.713533333333333,
          5.339283333333333
         ],
         "yaxis": "y"
        },
        {
         "customdata": [
          [
           "Panic Attack"
          ],
          [
           "La Vida Me Sabe a Nada"
          ],
          [
           "Podré Cambiar"
          ],
          [
           "Una Vez Una Flor"
          ],
          [
           "Cuando La Cama Me Da Vueltas"
          ],
          [
           "No Llores Más Morena"
          ],
          [
           "Técnicas para Olvidar"
          ],
          [
           "Me Voy de Aquí"
          ],
          [
           "No Llores Más"
          ],
          [
           "Tambaleando"
          ],
          [
           "Me Siento Mejor"
          ],
          [
           "Under Cover of Darkness"
          ],
          [
           "Paranoid (2009 - Remaster)"
          ],
          [
           "Blackout"
          ],
          [
           "Rock You Like A Hurricane"
          ],
          [
           "Imágenes Retro - Remasterizado 2007"
          ],
          [
           "Anybody Seen My Baby?"
          ],
          [
           "The Rain Song - Remaster"
          ],
          [
           "Simple Man"
          ],
          [
           "Esa Sí Es una Mujer"
          ],
          [
           "The Bug"
          ],
          [
           "Breathe (In the Air)"
          ],
          [
           "City Club"
          ],
          [
           "Monotonia"
          ],
          [
           "(I Just) Died In Your Arms"
          ],
          [
           "Automatic"
          ],
          [
           "Hate This and I'll Love You"
          ],
          [
           "Free Bird"
          ],
          [
           "Skateaway"
          ],
          [
           "Portobello Belle"
          ],
          [
           "Industrial Disease"
          ],
          [
           "Mad Life"
          ],
          [
           "Home"
          ],
          [
           "Softcore"
          ],
          [
           "Counting Blue Cars (Tell Me Your Thoughts On God)"
          ],
          [
           "Tell Me Baby"
          ],
          [
           "Free Fallin'"
          ],
          [
           "I'll Be Around"
          ],
          [
           "Beijo na Guanabara"
          ],
          [
           "Exit Music (For A Film)"
          ],
          [
           "Bodysnatchers"
          ],
          [
           "Where I End and You Begin"
          ],
          [
           "My Iron Lung"
          ],
          [
           "Why Does Love Got To Be So Sad?"
          ],
          [
           "Layla"
          ],
          [
           "Strange Brew"
          ],
          [
           "White Room"
          ],
          [
           "Just"
          ],
          [
           "Butterflies and Hurricanes"
          ],
          [
           "Tangerine - Remaster"
          ],
          [
           "Gallows Pole - Remaster"
          ],
          [
           "When The Sun Goes Down"
          ],
          [
           "Weightless"
          ],
          [
           "Booster Seat"
          ],
          [
           "Wasted on Me"
          ],
          [
           "Tears of Rain"
          ],
          [
           "Good Grief"
          ],
          [
           "Skin"
          ],
          [
           "The Barbarians"
          ],
          [
           "Built By Nations"
          ],
          [
           "Broken Bells"
          ],
          [
           "Heat Above"
          ],
          [
           "Citizen Erased"
          ],
          [
           "Oh! Sweet Nuthin' - 2015 Remaster"
          ],
          [
           "Over the Hills and Far Away - Remaster"
          ],
          [
           "Cuando Pienses en Volver"
          ],
          [
           "Fake Tales Of San Francisco"
          ],
          [
           "Expresso Love - Live At Hammersmith Odeon, London/1983"
          ],
          [
           "Every Little Thing"
          ],
          [
           "Wind Of Change"
          ],
          [
           "If You’re Too Shy (Let Me Know)"
          ],
          [
           "Wintering"
          ],
          [
           "When We Are Together"
          ],
          [
           "Looking For Somebody (To Love)"
          ],
          [
           "Oh Caroline"
          ],
          [
           "Happiness"
          ],
          [
           "Burning Love - with The Royal Philharmonic Orchestra"
          ],
          [
           "Anyone Can Play Guitar"
          ],
          [
           "Mi Auto Era Una Rana"
          ],
          [
           "Te Ví en un Tren"
          ],
          [
           "Me Estoy Enamorando"
          ],
          [
           "Abracadabra"
          ],
          [
           "505"
          ],
          [
           "The Way It Was"
          ],
          [
           "La parte de adelante"
          ],
          [
           "En esta habitación"
          ],
          [
           "West Hills"
          ],
          [
           "Psycho"
          ],
          [
           "Tranquility Base Hotel & Casino"
          ],
          [
           "Here With Me"
          ],
          [
           "Unnatural Selection"
          ],
          [
           "What's The Matter Baby? - Live At The BBC"
          ],
          [
           "Solid Rock"
          ],
          [
           "Twisting By The Pool"
          ],
          [
           "Wild West End"
          ],
          [
           "Millionaire Blues"
          ],
          [
           "We Are Fucking Fucked"
          ],
          [
           "Follow Me"
          ],
          [
           "Sing for Absolution"
          ],
          [
           "Animals"
          ],
          [
           "The Handler"
          ],
          [
           "You Make Me Feel Like It’s Halloween"
          ],
          [
           "Huellas - Live From Santiago,Chile/1999"
          ],
          [
           "Body Paint"
          ],
          [
           "From The Ritz To The Rubble"
          ],
          [
           "Do Me a Favour"
          ],
          [
           "Pretty Visitors"
          ],
          [
           "Potion Approaching"
          ],
          [
           "There’d Better Be A Mirrorball"
          ],
          [
           "Hello You"
          ],
          [
           "When the Levee Breaks - Remaster"
          ],
          [
           "Tunnel Of Love - Live At Hammersmith Odeon, London/1983"
          ],
          [
           "Left to My Own Devices"
          ],
          [
           "Starlight"
          ],
          [
           "Assassin"
          ],
          [
           "New Born"
          ],
          [
           "Map of the Problematique"
          ],
          [
           "Disenchanted"
          ],
          [
           "Teenager In Love"
          ],
          [
           "Helena"
          ],
          [
           "I Don't Love You"
          ],
          [
           "Show Me The Way - Live"
          ],
          [
           "Baby, I Love Your Way - Live"
          ],
          [
           "Showbiz - Live from Le Zenith"
          ],
          [
           "Panic Station"
          ],
          [
           "The Love That You Give"
          ],
          [
           "Attack"
          ],
          [
           "Space Dementia"
          ],
          [
           "MK Ultra"
          ],
          [
           "Invincible"
          ],
          [
           "The Void"
          ],
          [
           "Pressure"
          ],
          [
           "Cigarette Daydreams"
          ],
          [
           "Light My Love"
          ],
          [
           "The Riverboat Song"
          ],
          [
           "Girls"
          ],
          [
           "Robbers"
          ],
          [
           "Juicebox"
          ],
          [
           "Once Upon A Time In The West - Live At Hammersmith Odeon, London/1983"
          ],
          [
           "Money - Live"
          ],
          [
           "Sultans of Swing - Live at Live Aid, Wembley Stadium, 13th July 1985"
          ],
          [
           "Since I've Been Loving You - (Live at MSG 1973) [Remaster]"
          ],
          [
           "So Far Away - Remastered 1996"
          ],
          [
           "Twist And Shout - Remastered 2009"
          ],
          [
           "Bonzo Goes to Bitburg"
          ],
          [
           "Paranoid Android"
          ],
          [
           "Rolling In The Deep - Recorded At Spotify Studios NYC"
          ],
          [
           "A Change Is Gonna Come"
          ],
          [
           "LA FORMA DE TUS HUESOS"
          ],
          [
           "Riding with the King"
          ],
          [
           "A Horse with No Name"
          ],
          [
           "Californication"
          ],
          [
           "Lo malo de ser bueno"
          ],
          [
           "Dream A Little Dream Of Me"
          ],
          [
           "Lies - Remastered"
          ],
          [
           "One World - Remastered 1996"
          ],
          [
           "Ride Across The River - Remastered 1996"
          ],
          [
           "Bitch - 2009 Mix"
          ],
          [
           "Can't You Hear Me Knocking - 2009 Mix"
          ],
          [
           "Sway - 2009 Mix"
          ],
          [
           "Brown Sugar - Remastered 2009"
          ],
          [
           "It Never Rains"
          ],
          [
           "Romeo And Juliet"
          ],
          [
           "Expresso Love"
          ],
          [
           "Tunnel Of Love"
          ],
          [
           "Angel Of Mercy"
          ],
          [
           "Where Do You Think You're Going?"
          ],
          [
           "In The Gallery"
          ],
          [
           "Southbound Again"
          ],
          [
           "Setting Me Up"
          ],
          [
           "Pressure Machine"
          ],
          [
           "Fly Away From Here"
          ],
          [
           "ZITTI E BUONI"
          ],
          [
           "All My Life"
          ],
          [
           "Oh My Love"
          ],
          [
           "The Great Escape - Single Version"
          ],
          [
           "Fight On - Single Version"
          ],
          [
           "Stargazing"
          ],
          [
           "Sácala a Bailar"
          ],
          [
           "Vienna"
          ],
          [
           "I Wouldn't Want to Be Like You"
          ],
          [
           "We Built This City"
          ],
          [
           "Nothing's Gonna Stop Us Now"
          ],
          [
           "You Shook Me All Night Long"
          ],
          [
           "NO TE COMAS LA PELI"
          ],
          [
           "AYER TE VI (feat. Zoe Gotusso)"
          ],
          [
           "Landslide - Live at Warner Brothers Studios in Burbank, CA 5/23/97"
          ],
          [
           "Will You Still Love Me? - Alternate"
          ],
          [
           "Dreams"
          ],
          [
           "Mr. Tambourine Man"
          ],
          [
           "Imploding The Mirage"
          ],
          [
           "Fire In Bone"
          ],
          [
           "Running Towards A Place"
          ],
          [
           "My Own Soul’s Warning"
          ],
          [
           "Shot At The Night"
          ],
          [
           "Just Another Girl"
          ],
          [
           "Crying Lightning"
          ],
          [
           "Cornerstone"
          ],
          [
           "Supremacy"
          ],
          [
           "The Judge"
          ],
          [
           "Uma Brasileira"
          ],
          [
           "Only the Good Die Young"
          ],
          [
           "Single Handed Sailor"
          ],
          [
           "La Guitarra"
          ],
          [
           "Doom And Gloom"
          ],
          [
           "Ride 'Em On Down"
          ],
          [
           "Let Your Heart Hold Fast"
          ],
          [
           "We Didn't Start the Fire"
          ],
          [
           "Sea Dragon"
          ],
          [
           "La Voz de los '80"
          ],
          [
           "Dead In The Water - Live At RTÉ 2FM Studios, Dublin"
          ],
          [
           "Ode To The Mets"
          ],
          [
           "Son And Daughter - Remastered 2011"
          ],
          [
           "Brighton Rock - Remastered 2011"
          ],
          [
           "The Rover - Remaster"
          ],
          [
           "Tweeter And The Monkey Man"
          ],
          [
           "Wilbury Twist"
          ],
          [
           "(I Can't Get No) Satisfaction - Mono Version"
          ],
          [
           "Handle With Care"
          ],
          [
           "Sexo"
          ],
          [
           "Crossroads - Live"
          ],
          [
           "Estrechez De Corazón"
          ],
          [
           "Is It True"
          ],
          [
           "One More Year"
          ],
          [
           "Un Día Sin Sexo"
          ],
          [
           "Por Ti (La Poderotza)"
          ],
          [
           "In My Defence - 2000 Remix"
          ],
          [
           "Can't Help Falling in Love"
          ],
          [
           "El Baile De Los Que Sobran"
          ],
          [
           "Old Time Rock & Roll"
          ],
          [
           "La Venenotza"
          ],
          [
           "Angels Or Devils"
          ],
          [
           "Somewhere in the Middle"
          ],
          [
           "Planet Caravan"
          ],
          [
           "Posthumous Forgiveness"
          ],
          [
           "Borderline"
          ],
          [
           "Don't Stop Believin'"
          ],
          [
           "Kashmir - Remaster"
          ],
          [
           "Nothing Else Matters"
          ],
          [
           "Contéstame"
          ],
          [
           "Carreteras Mojadas"
          ],
          [
           "Fade To Black - Remastered"
          ],
          [
           "Ya no quiero más ska"
          ],
          [
           "Aquí"
          ],
          [
           "Amor (Ft. Mon Laferte) - Mtv Unplugged"
          ],
          [
           "Lions"
          ],
          [
           "Libido"
          ],
          [
           "Cuéntame"
          ],
          [
           "Dark Necessities"
          ],
          [
           "The Adventures of Rain Dance Maggie"
          ],
          [
           "When The Curtain Falls"
          ],
          [
           "Once Upon A Time In The West"
          ],
          [
           "Telegraph Road"
          ],
          [
           "Lady Writer"
          ],
          [
           "Down To The Waterline"
          ],
          [
           "Time Waits For No One"
          ],
          [
           "La Chata"
          ],
          [
           "Walk Of Life"
          ],
          [
           "You Don't Mess Around with Jim"
          ],
          [
           "Buscando Razón"
          ],
          [
           "Respectable - Remastered"
          ],
          [
           "A ese infierno no voy a volver"
          ],
          [
           "Y es que sucede así"
          ],
          [
           "Safari Song"
          ],
          [
           "Highway Tune"
          ],
          [
           "Purple Haze"
          ],
          [
           "Fire"
          ],
          [
           "Black Smoke Rising"
          ],
          [
           "Age Of Man"
          ],
          [
           "The Dark Side"
          ],
          [
           "D'yer Mak'er - Remaster"
          ],
          [
           "Under the Bridge"
          ],
          [
           "Down Under"
          ],
          [
           "Ledgarf (bienvenidos)"
          ],
          [
           "Beast Of Burden - Remastered"
          ],
          [
           "Angel"
          ],
          [
           "Walk This Way"
          ],
          [
           "Good Old-Fashioned Lover Boy - Remastered 2011"
          ],
          [
           "Every Night"
          ],
          [
           "En La Ciudad De La Furia - Remasterizado 2007"
          ],
          [
           "Welcome to the Black Parade"
          ],
          [
           "Let's Hurt Tonight"
          ],
          [
           "Easy Lover"
          ],
          [
           "Everybody Talks"
          ],
          [
           "Knights of Cydonia"
          ],
          [
           "Silly Love Songs - 2014 Remaster"
          ],
          [
           "Live Forever"
          ],
          [
           "Golden Slumbers - Remastered 2009"
          ],
          [
           "Counting Stars"
          ],
          [
           "You're So Dark"
          ],
          [
           "Mary Jane's Last Dance"
          ],
          [
           "I Saw Her Standing There - Remastered 2009"
          ],
          [
           "Good Times Bad Times - 1993 Remaster"
          ],
          [
           "All These Things That I've Done"
          ],
          [
           "Love Of My Life - Remastered 2011"
          ],
          [
           "Hammer To Fall - Remastered 2011"
          ],
          [
           "Bones"
          ],
          [
           "Teddy Picker"
          ],
          [
           "Crazy Little Thing Called Love - Remastered 2011"
          ],
          [
           "Martha My Dear - Remastered 2009"
          ],
          [
           "Suck It and See"
          ],
          [
           "Angie - Remastered 2009"
          ],
          [
           "The Small Print"
          ],
          [
           "Survival"
          ],
          [
           "Stockholm Syndrome"
          ],
          [
           "Black Holes (Solid Ground)"
          ],
          [
           "Snap Out Of It"
          ],
          [
           "What You Know"
          ],
          [
           "Para no olvidar"
          ],
          [
           "Demons"
          ],
          [
           "Rock You Like a Hurricane - 2011"
          ],
          [
           "Miss Atomic Bomb"
          ],
          [
           "Heart Of A Girl"
          ],
          [
           "Losing Touch - Live From The Royal Albert Hall / 2009"
          ],
          [
           "Give It Away"
          ],
          [
           "I Was Made For Lovin' You"
          ],
          [
           "Uprising"
          ],
          [
           "Snow (Hey Oh)"
          ],
          [
           "You Get What You Give"
          ],
          [
           "Smile Like You Mean It"
          ],
          [
           "It's Time"
          ],
          [
           "Natural"
          ],
          [
           "Stop The World I Wanna Get Off With You"
          ],
          [
           "Supermassive Black Hole"
          ],
          [
           "My Blood"
          ],
          [
           "Thought Contagion"
          ],
          [
           "Black Dog - Remaster"
          ],
          [
           "Beds Are Burning - Remastered"
          ],
          [
           "Feels Like We Only Go Backwards"
          ],
          [
           "Hysteria"
          ],
          [
           "Shoot to Thrill"
          ],
          [
           "The Less I Know The Better"
          ],
          [
           "The Man Who Can't Be Moved"
          ],
          [
           "Dust In The Wind"
          ],
          [
           "Who The Fuck Are Arctic Monkeys?"
          ],
          [
           "Four Out Of Five"
          ],
          [
           "Any Colour You Like"
          ],
          [
           "Pour Some Sugar On Me - Remastered 2017"
          ],
          [
           "When You Were Young"
          ],
          [
           "The Immigrant Song - Alternate Mix"
          ],
          [
           "Runaways"
          ],
          [
           "Cum on Feel the Noize"
          ],
          [
           "Eye In The Sky"
          ],
          [
           "In The Air Tonight - 2015 Remastered"
          ],
          [
           "Float On"
          ],
          [
           "Can't Stop"
          ],
          [
           "Read My Mind"
          ],
          [
           "Human"
          ],
          [
           "Crazy"
          ],
          [
           "Voodoo Child (Slight Return)"
          ],
          [
           "Cocaine"
          ],
          [
           "Dos en la ciudad"
          ],
          [
           "Rock and Roll - Remaster"
          ],
          [
           "Since I've Been Loving You - Remaster"
          ],
          [
           "Two Princes"
          ],
          [
           "I Want To Hold Your Hand - Remastered 2015"
          ],
          [
           "Whole Lotta Love - 1990 Remaster"
          ],
          [
           "Where The Streets Have No Name - Remastered 2007"
          ],
          [
           "Reapers"
          ],
          [
           "Chibola Manyada"
          ],
          [
           "Hotel California - 2013 Remaster"
          ],
          [
           "Beautiful Day"
          ],
          [
           "A Matter Of Time"
          ],
          [
           "Let It Be - Remastered"
          ],
          [
           "Hey Jude - Remastered 2015"
          ],
          [
           "Flor la Buena"
          ],
          [
           "Loco"
          ],
          [
           "Domino Dancing"
          ],
          [
           "Starman - 2012 Remaster"
          ],
          [
           "Life on Mars? - 2015 Remaster"
          ],
          [
           "What It Is"
          ],
          [
           "One"
          ],
          [
           "Money For Nothing"
          ],
          [
           "Knee Socks"
          ],
          [
           "Lamento Boliviano"
          ],
          [
           "Bye Bye"
          ],
          [
           "A Dustland Fairytale"
          ],
          [
           "With Or Without You - Remastered"
          ],
          [
           "La peor de las guerras - Remastered"
          ],
          [
           "Dancing With Myself"
          ],
          [
           "White Wedding - Pt. 1"
          ],
          [
           "Stand Back"
          ],
          [
           "Go Your Own Way - 2004 Remaster"
          ],
          [
           "Gypsy"
          ],
          [
           "Verte Así"
          ],
          [
           "Dream On"
          ],
          [
           "Basket Case"
          ],
          [
           "Boulevard of Broken Dreams"
          ],
          [
           "Wake Me up When September Ends"
          ],
          [
           "American Idiot"
          ],
          [
           "21 Guns"
          ],
          [
           "Do I Wanna Know?"
          ],
          [
           "Don't Go Away"
          ],
          [
           "Adiós"
          ],
          [
           "Magia"
          ],
          [
           "Deja Vu"
          ],
          [
           "Shine On You Crazy Diamond (Pts. 1-5)"
          ],
          [
           "Hey You"
          ],
          [
           "Bright Lights"
          ],
          [
           "The Kill (Bury Me)"
          ],
          [
           "Closer To The Edge"
          ],
          [
           "This Is War"
          ],
          [
           "Kings And Queens"
          ],
          [
           "Cancer"
          ],
          [
           "Moneytalks"
          ],
          [
           "Soul Sacrifice - Live at The Woodstock Music & Art Fair, August 16, 1969"
          ],
          [
           "For What It's Worth"
          ],
          [
           "Somebody Told Me"
          ],
          [
           "Don't Look Back in Anger - Remastered"
          ],
          [
           "I Wanna Be Yours"
          ],
          [
           "Arabella"
          ],
          [
           "Dani California"
          ],
          [
           "Hurricane"
          ],
          [
           "Europa (Earth's Cry Heaven's Smile)"
          ],
          [
           "Layla - Acoustic; Live at MTV Unplugged, Bray Film Studios, Windsor, England, UK, 1/16/1992; 2013 Remaster"
          ],
          [
           "Black Magic Woman - Single Version"
          ],
          [
           "Every Little Thing She Does Is Magic - Remastered 2003"
          ],
          [
           "Piano Man"
          ],
          [
           "She's Thunderstorms"
          ],
          [
           "Somebody To Love - Remastered 2011"
          ],
          [
           "Magdalena"
          ],
          [
           "In the Heat of the Moment"
          ],
          [
           "Pride and Joy"
          ],
          [
           "Heartbreaker - 1990 Remaster"
          ],
          [
           "Peace Of Mind"
          ],
          [
           "Run For Cover"
          ],
          [
           "The Man"
          ],
          [
           "Las Torres"
          ],
          [
           "Sympathy For The Devil"
          ],
          [
           "Cuando Pase el Temblor"
          ],
          [
           "California Dreamin'"
          ],
          [
           "We're Not Gonna Take It"
          ],
          [
           "Message In A Bottle - Remastered 2003"
          ],
          [
           "Por el Resto"
          ],
          [
           "I Want To Break Free - Single Remix"
          ],
          [
           "Brain Damage"
          ],
          [
           "Quédate"
          ],
          [
           "Decir adiós"
          ],
          [
           "Thunder on the Mountain"
          ],
          [
           "Maneater"
          ],
          [
           "La pachanga"
          ],
          [
           "Al lado del camino"
          ],
          [
           "Mariposa tecknicolor"
          ],
          [
           "Cuando te conocí"
          ],
          [
           "Under Pressure - Remastered 2011"
          ],
          [
           "Lo Olvidé"
          ],
          [
           "La Flaca (feat. Juanes)"
          ],
          [
           "Flaca"
          ],
          [
           "Nada Personal - Remasterizado 2007"
          ],
          [
           "Nothing's Gonna Stop Us Now"
          ],
          [
           "Stop Crying Your Heart Out"
          ],
          [
           "Wonderwall - Remastered"
          ],
          [
           "Champagne Supernova - Remastered"
          ],
          [
           "Every Breath You Take - Remastered 2003"
          ],
          [
           "Los Globos del Cielo"
          ],
          [
           "Killer Queen - Remastered 2011"
          ],
          [
           "Another One Bites The Dust - Remastered 2011"
          ],
          [
           "Stairway to Heaven - Remaster"
          ],
          [
           "In My Life - Remastered"
          ],
          [
           "Wall of Glass"
          ],
          [
           "Creep"
          ],
          [
           "Her Strut"
          ],
          [
           "Don't Go Breaking My Heart"
          ],
          [
           "Manuel Santillán, el León (Versión Reggae) - Remasterizado 2008"
          ],
          [
           "Thunderstruck"
          ],
          [
           "Highway to Hell"
          ],
          [
           "Back In Black"
          ],
          [
           "The Final Countdown"
          ],
          [
           "De Música Ligera - Remasterizado 2007"
          ],
          [
           "Walking The Wire"
          ],
          [
           "Tiny Dancer"
          ],
          [
           "Heart-Shaped Box"
          ],
          [
           "Luna de Miel en la Mano"
          ],
          [
           "El Genio Del Dub"
          ],
          [
           "Demoliendo Hoteles"
          ],
          [
           "Cada Vez Que Digo Adiós"
          ],
          [
           "En Esta Habitación"
          ],
          [
           "Smells Like Teen Spirit"
          ],
          [
           "Mil Horas"
          ],
          [
           "Ojos De ángel"
          ],
          [
           "Spaceman"
          ],
          [
           "Guitarras Blancas"
          ],
          [
           "Mi Primer Dia Sin Ti"
          ],
          [
           "Mr. Brightside"
          ],
          [
           "Mardy Bum"
          ],
          [
           "No.1 Party Anthem"
          ],
          [
           "Don't Stop Me Now - Remastered 2011"
          ],
          [
           "Wish You Were Here"
          ],
          [
           "Another Brick in the Wall, Pt. 2"
          ],
          [
           "Money"
          ],
          [
           "Gimme Shelter"
          ],
          [
           "Paint It Black"
          ],
          [
           "Suna"
          ],
          [
           "Balada de un Encuentro Fugaz"
          ],
          [
           "Nectar"
          ],
          [
           "Hembra"
          ],
          [
           "The Air That I Breathe - 2008 Remaster"
          ],
          [
           "Stand By Me - Remastered 2010"
          ],
          [
           "Long Cool Woman (In a Black Dress) - 1999 Remaster"
          ],
          [
           "Trátame Suavemente - Remasterizado 2007"
          ],
          [
           "Persiana Americana - Remasterizado 2007"
          ],
          [
           "Prófugos"
          ],
          [
           "Mariposas"
          ],
          [
           "Mujer Noche"
          ],
          [
           "Loco"
          ],
          [
           "One For The Road"
          ],
          [
           "Whatever - Remastered"
          ],
          [
           "Come with Me Now"
          ],
          [
           "Can't Stand Losing You"
          ],
          [
           "Sgt. Pepper's Lonely Hearts Club Band - Remastered"
          ],
          [
           "Brianstorm"
          ],
          [
           "I Bet You Look Good On The Dancefloor"
          ],
          [
           "Karma Police"
          ],
          [
           "Te Quiero Tanto"
          ],
          [
           "The Chain - 2004 Remaster"
          ],
          [
           "Let's Dance - 1999 Remaster"
          ],
          [
           "Show Me The Way"
          ],
          [
           "Lemon Tree - Album Edit"
          ],
          [
           "Losing My Religion"
          ],
          [
           "Separate Ways (Worlds Apart)"
          ],
          [
           "Stand by Me"
          ],
          [
           "Rocket Man (I Think It's Going To Be A Long Long Time)"
          ],
          [
           "Radio Ga Ga - Remastered 2011"
          ],
          [
           "More Than a Feeling"
          ],
          [
           "Oye Como Va - Album Verision"
          ],
          [
           "Like a Rolling Stone"
          ],
          [
           "No se puede vivir del amor"
          ],
          [
           "Warriors"
          ],
          [
           "Believer"
          ],
          [
           "Start Me Up - Remastered"
          ],
          [
           "All Along the Watchtower"
          ],
          [
           "Here I Go Again - 2011 Remaster"
          ],
          [
           "Africa"
          ],
          [
           "18 and Life"
          ],
          [
           "Paint It Black"
          ],
          [
           "The Letter - Single Version"
          ],
          [
           "Stand By Me"
          ],
          [
           "Living On My Own - Single Edit"
          ],
          [
           "Degeneración Actual"
          ],
          [
           "Take Me Out"
          ],
          [
           "Lithium"
          ],
          [
           "Come As You Are"
          ],
          [
           "Un Misil en Mi Placard"
          ],
          [
           "Wild Horses"
          ],
          [
           "Here Comes The Sun - Remastered 2009"
          ],
          [
           "Bohemian Rhapsody - Remastered 2011"
          ],
          [
           "Hermanos"
          ],
          [
           "Muchacha"
          ],
          [
           "11 Y 6"
          ],
          [
           "Under My Thumb"
          ],
          [
           "Carry on Wayward Son"
          ],
          [
           "Master Of Puppets"
          ],
          [
           "A Day In The Life - Remastered"
          ],
          [
           "Sunny Afternoon"
          ],
          [
           "I Don't Want to Miss a Thing - From \"Armageddon\" Soundtrack"
          ],
          [
           "Go Your Own Way"
          ],
          [
           "Roxanne - Remastered 2003"
          ],
          [
           "Jump - 2004 Remaster"
          ],
          [
           "Black Magic Woman"
          ],
          [
           "Corazon Espinado (feat. Mana)"
          ],
          [
           "Smooth (feat. Rob Thomas)"
          ],
          [
           "Canción De Luna"
          ],
          [
           "Me vuelvo loco por vos"
          ],
          [
           "Nikita"
          ],
          [
           "Your Song"
          ],
          [
           "Daniel"
          ],
          [
           "Balada de un Encuentro Fugaz"
          ],
          [
           "Como Un Perro"
          ],
          [
           "Un Vino, Una Cerveza"
          ],
          [
           "Me Resfrié en Brasil"
          ],
          [
           "Time"
          ],
          [
           "No Voy en Tren"
          ],
          [
           "Te quiero igual"
          ],
          [
           "Crimen"
          ],
          [
           "Miss You - Remastered"
          ],
          [
           "Hold the Line"
          ],
          [
           "Sweet Home Alabama"
          ],
          [
           "Irresponsables"
          ],
          [
           "Yo No Me Sentaría en Tu Mesa"
          ],
          [
           "Auto rojo"
          ],
          [
           "Crazy Train"
          ],
          [
           "Sweet Emotion"
          ],
          [
           "Sultans of Swing"
          ],
          [
           "Rebel Rebel - 1999 Remaster"
          ],
          [
           "Come Together - Remastered 2009"
          ],
          [
           "Money - 2011 Remastered Version"
          ],
          [
           "Ramble On - 1990 Remaster"
          ],
          [
           "Modern Love - 1999 Remaster"
          ],
          [
           "Lunes Por La Madrugada"
          ],
          [
           "While My Guitar Gently Weeps - Remastered 2009"
          ],
          [
           "Little Wing"
          ],
          [
           "Comfortably Numb"
          ],
          [
           "Tren Al Sur"
          ],
          [
           "Nos Siguen Pegando Abajo"
          ],
          [
           "Sunday Bloody Sunday - Remastered 2008"
          ],
          [
           "Break on Through (To the Other Side)"
          ],
          [
           "R U Mine?"
          ],
          [
           "Why'd You Only Call Me When You're High?"
          ],
          [
           "Fluorescent Adolescent"
          ],
          [
           "Ruby Tuesday - Stereo Version"
          ],
          [
           "Bus Stop - 1997 Remaster"
          ]
         ],
         "hovertemplate": "Broad Genre=Rock<br>Date Added=%{x}<br>Duration=%{y}<br>Track Name=%{customdata[0]}<extra></extra>",
         "legendgroup": "Rock",
         "marker": {
          "color": "#B6E880",
          "symbol": "circle"
         },
         "mode": "markers",
         "name": "Rock",
         "showlegend": true,
         "type": "scattergl",
         "x": [
          "2024-04-01 14:51:38-05:00",
          "2024-03-24 20:11:14-05:00",
          "2024-03-24 20:06:20-05:00",
          "2024-03-24 19:55:44-05:00",
          "2024-03-24 19:52:01-05:00",
          "2024-03-23 20:24:06-05:00",
          "2024-03-23 20:11:10-05:00",
          "2024-03-23 20:05:55-05:00",
          "2024-03-23 19:59:54-05:00",
          "2024-03-23 19:53:44-05:00",
          "2024-03-19 17:29:00-05:00",
          "2024-03-03 17:15:18-05:00",
          "2024-02-25 22:35:44-05:00",
          "2024-02-25 22:31:12-05:00",
          "2024-02-25 22:26:07-05:00",
          "2024-02-24 17:55:27-05:00",
          "2024-02-14 15:38:53-05:00",
          "2024-02-03 15:31:01-05:00",
          "2024-01-25 00:45:05-05:00",
          "2024-01-10 10:14:39-05:00",
          "2024-01-09 22:15:50-05:00",
          "2023-12-25 21:22:03-05:00",
          "2023-11-30 15:47:56-05:00",
          "2023-11-30 15:44:18-05:00",
          "2023-10-17 20:39:59-05:00",
          "2023-10-16 20:11:20-05:00",
          "2023-09-24 21:54:04-05:00",
          "2023-09-23 16:36:06-05:00",
          "2023-09-03 21:38:43-05:00",
          "2023-09-03 21:19:19-05:00",
          "2023-09-03 21:11:45-05:00",
          "2023-08-15 20:16:36-05:00",
          "2023-08-15 20:08:32-05:00",
          "2023-08-13 22:05:05-05:00",
          "2023-08-13 02:35:08-05:00",
          "2023-08-12 19:54:10-05:00",
          "2023-08-12 19:37:52-05:00",
          "2023-08-11 15:47:02-05:00",
          "2023-07-22 07:44:19-05:00",
          "2023-07-19 22:01:59-05:00",
          "2023-07-10 23:04:21-05:00",
          "2023-07-10 22:44:59-05:00",
          "2023-07-10 22:14:10-05:00",
          "2023-07-10 21:54:11-05:00",
          "2023-07-10 21:11:15-05:00",
          "2023-07-10 21:10:03-05:00",
          "2023-07-10 21:07:15-05:00",
          "2023-07-10 10:53:37-05:00",
          "2023-07-07 10:12:59-05:00",
          "2023-07-05 19:08:18-05:00",
          "2023-07-05 19:04:40-05:00",
          "2023-07-03 22:28:31-05:00",
          "2023-07-03 15:38:12-05:00",
          "2023-07-03 15:35:26-05:00",
          "2023-07-03 14:59:11-05:00",
          "2023-07-03 14:56:52-05:00",
          "2023-07-03 14:56:30-05:00",
          "2023-07-03 14:56:28-05:00",
          "2023-07-03 12:52:57-05:00",
          "2023-07-03 12:24:10-05:00",
          "2023-07-03 12:21:22-05:00",
          "2023-07-03 12:16:30-05:00",
          "2023-06-10 13:16:02-05:00",
          "2023-06-08 21:04:15-05:00",
          "2023-06-05 23:52:01-05:00",
          "2023-05-11 07:48:57-05:00",
          "2023-04-21 09:44:08-05:00",
          "2023-04-04 08:10:42-05:00",
          "2023-04-01 01:11:10-05:00",
          "2023-03-21 22:58:48-05:00",
          "2023-02-17 07:54:58-05:00",
          "2023-02-14 14:51:23-05:00",
          "2023-02-14 14:40:24-05:00",
          "2023-02-13 18:36:16-05:00",
          "2023-02-13 18:27:46-05:00",
          "2023-02-13 18:19:59-05:00",
          "2023-01-28 21:22:19-05:00",
          "2023-01-25 08:07:59-05:00",
          "2023-01-06 20:49:38-05:00",
          "2023-01-01 19:48:38-05:00",
          "2022-12-28 17:09:13-05:00",
          "2022-12-26 17:18:14-05:00",
          "2022-12-12 08:05:11-05:00",
          "2022-12-09 09:18:40-05:00",
          "2022-12-08 17:42:39-05:00",
          "2022-12-08 17:42:19-05:00",
          "2022-12-07 11:03:49-05:00",
          "2022-12-07 09:34:48-05:00",
          "2022-12-05 20:58:49-05:00",
          "2022-12-04 15:33:24-05:00",
          "2022-12-04 12:50:25-05:00",
          "2022-12-03 22:39:08-05:00",
          "2022-12-03 22:37:12-05:00",
          "2022-12-03 22:29:52-05:00",
          "2022-12-03 21:55:24-05:00",
          "2022-12-03 21:49:05-05:00",
          "2022-12-03 21:34:33-05:00",
          "2022-12-03 14:59:21-05:00",
          "2022-12-03 14:53:02-05:00",
          "2022-12-03 14:48:49-05:00",
          "2022-12-03 14:36:45-05:00",
          "2022-12-03 14:25:45-05:00",
          "2022-11-29 16:52:36-05:00",
          "2022-11-20 12:20:19-05:00",
          "2022-11-15 17:40:03-05:00",
          "2022-11-15 17:39:16-05:00",
          "2022-11-15 16:34:04-05:00",
          "2022-11-15 13:51:50-05:00",
          "2022-11-15 13:51:04-05:00",
          "2022-11-15 13:45:08-05:00",
          "2022-10-31 15:47:33-05:00",
          "2022-10-23 11:02:09-05:00",
          "2022-10-21 19:43:29-05:00",
          "2022-09-30 15:32:05-05:00",
          "2022-09-30 15:11:01-05:00",
          "2022-09-30 14:57:30-05:00",
          "2022-09-30 08:18:53-05:00",
          "2022-09-28 19:43:23-05:00",
          "2022-09-28 19:40:16-05:00",
          "2022-09-28 19:36:42-05:00",
          "2022-09-28 19:23:56-05:00",
          "2022-09-28 07:45:25-05:00",
          "2022-09-27 21:40:42-05:00",
          "2022-09-22 14:02:10-05:00",
          "2022-09-21 16:21:49-05:00",
          "2022-09-21 16:15:31-05:00",
          "2022-09-21 15:49:40-05:00",
          "2022-09-21 14:23:06-05:00",
          "2022-09-21 14:11:45-05:00",
          "2022-09-21 14:09:38-05:00",
          "2022-09-21 13:52:26-05:00",
          "2022-09-21 11:01:29-05:00",
          "2022-09-17 16:10:25-05:00",
          "2022-09-17 16:10:08-05:00",
          "2022-09-16 23:27:42-05:00",
          "2022-09-12 21:58:52-05:00",
          "2022-09-12 21:54:22-05:00",
          "2022-09-06 15:31:15-05:00",
          "2022-08-25 12:40:11-05:00",
          "2022-08-18 21:21:17-05:00",
          "2022-08-18 08:11:10-05:00",
          "2022-08-18 08:11:02-05:00",
          "2022-08-17 20:42:33-05:00",
          "2022-06-18 15:27:05-05:00",
          "2022-06-12 14:19:55-05:00",
          "2022-06-07 20:46:38-05:00",
          "2022-06-07 07:52:52-05:00",
          "2022-06-07 07:49:32-05:00",
          "2022-06-04 21:04:00-05:00",
          "2022-06-01 07:55:00-05:00",
          "2022-05-20 18:48:32-05:00",
          "2022-05-13 15:36:52-05:00",
          "2021-11-23 12:35:45-05:00",
          "2021-10-17 19:44:09-05:00",
          "2021-09-10 13:29:46-05:00",
          "2021-09-10 12:56:41-05:00",
          "2021-09-09 19:00:46-05:00",
          "2021-09-08 19:00:09-05:00",
          "2021-09-08 13:38:47-05:00",
          "2021-09-08 13:30:44-05:00",
          "2021-09-08 13:25:15-05:00",
          "2021-09-07 16:19:58-05:00",
          "2021-09-07 15:58:29-05:00",
          "2021-09-07 15:47:58-05:00",
          "2021-09-07 14:45:16-05:00",
          "2021-09-07 12:19:18-05:00",
          "2021-09-07 11:39:51-05:00",
          "2021-09-06 19:19:14-05:00",
          "2021-09-06 19:09:50-05:00",
          "2021-09-06 18:59:10-05:00",
          "2021-09-02 20:31:41-05:00",
          "2021-07-27 18:19:39-05:00",
          "2021-06-19 09:23:28-05:00",
          "2021-06-12 20:26:26-05:00",
          "2021-06-12 20:26:24-05:00",
          "2021-06-12 20:26:21-05:00",
          "2021-06-12 20:26:18-05:00",
          "2021-06-12 20:25:54-05:00",
          "2021-06-04 17:50:09-05:00",
          "2021-04-20 23:48:21-05:00",
          "2021-03-14 18:29:14-05:00",
          "2021-02-10 18:54:42-05:00",
          "2021-02-10 18:45:42-05:00",
          "2021-01-29 19:36:40-05:00",
          "2021-01-26 20:27:25-05:00",
          "2021-01-24 19:15:19-05:00",
          "2020-12-27 20:58:52-05:00",
          "2020-12-27 10:43:24-05:00",
          "2020-12-04 20:43:55-05:00",
          "2020-11-29 13:42:01-05:00",
          "2020-11-21 17:51:13-05:00",
          "2020-11-20 23:33:27-05:00",
          "2020-11-20 23:30:22-05:00",
          "2020-11-20 23:26:24-05:00",
          "2020-11-19 17:09:03-05:00",
          "2020-11-19 17:04:10-05:00",
          "2020-11-19 16:46:17-05:00",
          "2020-11-19 16:21:45-05:00",
          "2020-11-05 17:40:41-05:00",
          "2020-11-04 11:34:26-05:00",
          "2020-10-15 18:40:30-05:00",
          "2020-10-08 21:31:27-05:00",
          "2020-09-30 22:12:51-05:00",
          "2020-09-29 19:45:26-05:00",
          "2020-09-26 22:04:21-05:00",
          "2020-09-26 22:03:40-05:00",
          "2020-09-21 17:41:43-05:00",
          "2020-09-11 11:27:46-05:00",
          "2020-09-05 20:21:20-05:00",
          "2020-08-12 20:20:04-05:00",
          "2020-08-02 20:07:48-05:00",
          "2020-07-24 13:18:28-05:00",
          "2020-07-14 21:10:16-05:00",
          "2020-07-14 20:57:10-05:00",
          "2020-06-04 12:44:19-05:00",
          "2020-03-25 10:01:54-05:00",
          "2020-03-25 09:58:20-05:00",
          "2020-03-25 09:58:17-05:00",
          "2020-03-25 09:49:26-05:00",
          "2020-03-20 10:39:42-05:00",
          "2020-03-18 23:26:27-05:00",
          "2020-02-18 20:27:46-05:00",
          "2020-02-16 20:24:52-05:00",
          "2020-02-16 20:05:10-05:00",
          "2020-02-15 00:24:29-05:00",
          "2020-02-13 18:16:42-05:00",
          "2020-02-02 17:15:35-05:00",
          "2020-01-30 20:01:49-05:00",
          "2020-01-30 07:30:38-05:00",
          "2020-01-29 22:26:35-05:00",
          "2020-01-23 08:02:33-05:00",
          "2020-01-14 07:15:04-05:00",
          "2020-01-11 19:53:20-05:00",
          "2020-01-01 02:57:37-05:00",
          "2019-12-31 22:05:53-05:00",
          "2019-12-31 21:58:34-05:00",
          "2019-12-28 17:14:58-05:00",
          "2019-12-28 17:14:56-05:00",
          "2019-12-28 17:14:24-05:00",
          "2019-12-21 23:56:56-05:00",
          "2019-12-21 23:48:50-05:00",
          "2019-11-27 16:25:13-05:00",
          "2019-11-06 20:32:38-05:00",
          "2019-11-05 08:14:24-05:00",
          "2019-10-28 23:08:19-05:00",
          "2019-10-06 23:33:07-05:00",
          "2019-10-01 22:44:51-05:00",
          "2019-09-02 06:35:42-05:00",
          "2019-07-29 22:22:02-05:00",
          "2019-07-27 10:44:26-05:00",
          "2019-07-27 10:28:37-05:00",
          "2019-07-23 23:58:35-05:00",
          "2019-07-23 23:52:59-05:00",
          "2019-07-23 23:47:12-05:00",
          "2019-07-18 11:21:14-05:00",
          "2019-07-15 23:51:56-05:00",
          "2019-07-15 23:34:08-05:00",
          "2019-07-12 14:24:55-05:00",
          "2019-07-05 14:27:12-05:00",
          "2019-06-10 18:19:47-05:00",
          "2019-06-09 02:49:25-05:00",
          "2019-05-29 21:18:17-05:00",
          "2019-05-29 20:59:18-05:00",
          "2019-05-10 08:20:20-05:00",
          "2019-05-06 23:40:12-05:00",
          "2019-04-22 11:16:29-05:00",
          "2019-04-21 22:10:01-05:00",
          "2019-04-21 10:01:57-05:00",
          "2019-04-20 21:33:36-05:00",
          "2019-04-19 11:03:51-05:00",
          "2019-04-13 16:50:57-05:00",
          "2019-04-02 21:06:13-05:00",
          "2019-03-24 15:50:21-05:00",
          "2019-03-22 10:48:43-05:00",
          "2019-03-18 11:05:56-05:00",
          "2019-03-18 10:52:13-05:00",
          "2019-03-17 19:18:17-05:00",
          "2019-03-16 23:04:39-05:00",
          "2019-03-08 11:38:43-05:00",
          "2019-02-22 13:50:08-05:00",
          "2019-02-21 19:14:43-05:00",
          "2019-02-17 14:44:26-05:00",
          "2019-02-11 07:42:56-05:00",
          "2019-02-08 09:42:14-05:00",
          "2019-02-03 01:59:49-05:00",
          "2019-01-19 21:21:51-05:00",
          "2019-01-11 21:55:53-05:00",
          "2019-01-11 20:03:18-05:00",
          "2018-12-29 09:55:49-05:00",
          "2018-12-29 01:16:12-05:00",
          "2018-12-15 22:53:42-05:00",
          "2018-12-15 22:47:26-05:00",
          "2018-12-15 19:33:33-05:00",
          "2018-12-06 21:42:02-05:00",
          "2018-12-03 08:11:54-05:00",
          "2018-12-03 08:09:24-05:00",
          "2018-11-24 22:42:23-05:00",
          "2018-11-24 08:08:51-05:00",
          "2018-11-20 08:36:11-05:00",
          "2018-11-19 13:33:39-05:00",
          "2018-11-15 00:05:51-05:00",
          "2018-11-14 15:26:25-05:00",
          "2018-11-14 13:57:50-05:00",
          "2018-11-14 13:54:29-05:00",
          "2018-11-14 13:42:01-05:00",
          "2018-11-06 19:12:33-05:00",
          "2018-10-29 09:37:25-05:00",
          "2018-10-19 22:58:33-05:00",
          "2018-10-19 14:15:02-05:00",
          "2018-10-08 12:11:12-05:00",
          "2018-10-01 20:37:55-05:00",
          "2018-10-01 16:53:05-05:00",
          "2018-10-01 07:12:24-05:00",
          "2018-09-30 22:43:55-05:00",
          "2018-09-24 21:02:46-05:00",
          "2018-09-24 21:02:24-05:00",
          "2018-09-23 17:13:35-05:00",
          "2018-09-22 11:28:41-05:00",
          "2018-09-21 22:26:43-05:00",
          "2018-09-21 18:10:44-05:00",
          "2018-09-15 18:34:16-05:00",
          "2018-09-13 19:02:25-05:00",
          "2018-09-06 23:45:12-05:00",
          "2018-09-06 18:36:56-05:00",
          "2018-09-02 23:42:34-05:00",
          "2018-09-02 23:42:11-05:00",
          "2018-08-29 14:19:54-05:00",
          "2018-08-25 18:05:21-05:00",
          "2018-08-25 00:36:53-05:00",
          "2018-08-21 10:49:37-05:00",
          "2018-08-19 21:11:19-05:00",
          "2018-08-17 08:13:22-05:00",
          "2018-08-04 22:01:56-05:00",
          "2018-08-04 21:54:32-05:00",
          "2018-08-03 19:54:49-05:00",
          "2018-08-03 17:34:37-05:00",
          "2018-08-03 17:07:42-05:00",
          "2018-07-01 21:38:06-05:00",
          "2018-06-24 01:13:46-05:00",
          "2018-05-27 17:48:35-05:00",
          "2018-05-24 13:37:58-05:00",
          "2018-05-12 14:31:53-05:00",
          "2018-05-01 02:08:35-05:00",
          "2018-04-14 17:50:50-05:00",
          "2018-04-06 18:19:07-05:00",
          "2018-03-31 20:44:58-05:00",
          "2018-03-25 20:56:09-05:00",
          "2018-03-25 20:55:58-05:00",
          "2018-03-08 01:33:29-05:00",
          "2018-03-07 13:18:37-05:00",
          "2018-03-07 09:52:48-05:00",
          "2018-03-06 10:24:09-05:00",
          "2018-03-06 00:40:15-05:00",
          "2018-03-06 00:34:22-05:00",
          "2018-03-05 17:53:47-05:00",
          "2018-02-28 00:22:22-05:00",
          "2018-02-27 23:04:12-05:00",
          "2018-02-26 13:51:34-05:00",
          "2018-02-23 12:42:04-05:00",
          "2018-02-21 22:21:37-05:00",
          "2018-02-20 23:10:48-05:00",
          "2018-02-18 01:19:19-05:00",
          "2018-02-14 08:12:54-05:00",
          "2018-02-13 09:48:32-05:00",
          "2018-02-13 00:55:47-05:00",
          "2018-02-11 20:03:15-05:00",
          "2018-02-11 13:31:47-05:00",
          "2018-02-09 08:59:03-05:00",
          "2018-02-06 20:37:41-05:00",
          "2018-02-05 22:01:24-05:00",
          "2018-02-04 01:53:05-05:00",
          "2018-02-04 01:46:21-05:00",
          "2018-02-02 22:49:12-05:00",
          "2018-02-02 13:31:51-05:00",
          "2018-01-24 07:21:21-05:00",
          "2018-01-17 09:35:33-05:00",
          "2018-01-14 16:16:16-05:00",
          "2018-01-10 22:01:32-05:00",
          "2018-01-05 20:05:27-05:00",
          "2017-12-30 16:16:11-05:00",
          "2017-12-30 16:12:56-05:00",
          "2017-12-28 16:09:41-05:00",
          "2017-12-18 22:59:20-05:00",
          "2017-12-18 22:58:39-05:00",
          "2017-12-15 23:18:03-05:00",
          "2017-11-27 17:48:59-05:00",
          "2017-11-18 12:14:57-05:00",
          "2017-11-18 12:12:07-05:00",
          "2017-11-18 12:11:20-05:00",
          "2017-11-18 12:11:05-05:00",
          "2017-11-18 12:10:43-05:00",
          "2017-11-13 21:11:17-05:00",
          "2017-11-08 15:57:26-05:00",
          "2017-11-07 20:15:59-05:00",
          "2017-11-04 01:52:09-05:00",
          "2017-11-04 01:43:51-05:00",
          "2017-10-29 20:37:39-05:00",
          "2017-10-23 21:53:42-05:00",
          "2017-10-21 18:15:33-05:00",
          "2017-10-21 18:14:48-05:00",
          "2017-10-21 18:14:45-05:00",
          "2017-10-21 18:14:42-05:00",
          "2017-10-21 18:14:40-05:00",
          "2017-10-21 18:14:02-05:00",
          "2017-10-18 16:13:25-05:00",
          "2017-10-17 21:46:59-05:00",
          "2017-09-22 18:51:50-05:00",
          "2017-09-20 06:04:14-05:00",
          "2017-09-12 05:59:13-05:00",
          "2017-09-07 15:44:52-05:00",
          "2017-08-23 13:02:55-05:00",
          "2017-08-18 19:24:07-05:00",
          "2017-08-18 01:39:17-05:00",
          "2017-08-17 14:26:58-05:00",
          "2017-08-17 14:25:37-05:00",
          "2017-08-17 01:44:38-05:00",
          "2017-08-17 01:17:09-05:00",
          "2017-08-14 19:25:52-05:00",
          "2017-08-14 14:53:34-05:00",
          "2017-08-14 01:50:45-05:00",
          "2017-08-13 02:52:47-05:00",
          "2017-08-12 19:20:16-05:00",
          "2017-08-11 17:34:47-05:00",
          "2017-08-11 17:30:43-05:00",
          "2017-08-10 23:47:25-05:00",
          "2017-08-10 23:41:22-05:00",
          "2017-08-10 23:39:26-05:00",
          "2017-08-10 23:22:22-05:00",
          "2017-08-09 11:38:28-05:00",
          "2017-08-08 23:52:04-05:00",
          "2017-08-08 23:47:47-05:00",
          "2017-08-08 01:06:40-05:00",
          "2017-08-08 01:04:17-05:00",
          "2017-08-08 00:56:14-05:00",
          "2017-08-06 23:15:57-05:00",
          "2017-08-06 01:16:03-05:00",
          "2017-08-04 01:54:01-05:00",
          "2017-08-04 01:53:35-05:00",
          "2017-08-02 11:46:07-05:00",
          "2017-07-30 10:43:38-05:00",
          "2017-07-29 01:12:52-05:00",
          "2017-07-28 19:38:35-05:00",
          "2017-07-28 19:38:26-05:00",
          "2017-07-28 00:39:19-05:00",
          "2017-07-27 10:37:24-05:00",
          "2017-07-26 11:08:27-05:00",
          "2017-07-26 01:45:58-05:00",
          "2017-07-26 01:45:30-05:00",
          "2017-07-23 03:54:39-05:00",
          "2017-07-21 13:00:36-05:00",
          "2017-07-16 21:30:32-05:00",
          "2017-07-16 17:54:19-05:00",
          "2017-07-15 21:29:23-05:00",
          "2017-07-14 22:39:16-05:00",
          "2017-07-09 20:19:05-05:00",
          "2017-07-07 21:57:02-05:00",
          "2017-07-07 21:56:52-05:00",
          "2017-07-07 21:56:41-05:00",
          "2017-07-02 19:40:02-05:00",
          "2017-07-01 00:08:42-05:00",
          "2017-07-01 00:08:26-05:00",
          "2017-06-30 19:39:19-05:00",
          "2017-06-28 19:52:55-05:00",
          "2017-06-27 19:24:21-05:00",
          "2017-06-25 20:47:57-05:00",
          "2017-06-25 20:47:54-05:00",
          "2017-06-25 20:47:37-05:00",
          "2017-06-25 20:46:44-05:00",
          "2017-06-25 19:56:23-05:00",
          "2017-06-25 19:15:56-05:00",
          "2017-06-24 20:53:18-05:00",
          "2017-06-23 18:57:05-05:00",
          "2017-06-23 16:55:24-05:00",
          "2017-06-23 16:41:36-05:00",
          "2017-06-23 16:29:02-05:00",
          "2017-06-22 22:43:06-05:00",
          "2017-06-22 22:23:06-05:00",
          "2017-06-19 18:46:39-05:00",
          "2017-06-18 22:02:54-05:00",
          "2017-06-18 11:35:38-05:00",
          "2017-06-17 00:35:52-05:00",
          "2017-06-17 00:24:33-05:00",
          "2017-06-17 00:23:07-05:00",
          "2017-06-17 00:05:44-05:00",
          "2017-06-17 00:05:33-05:00",
          "2017-06-17 00:02:21-05:00",
          "2017-06-15 15:42:46-05:00",
          "2017-06-15 15:41:37-05:00",
          "2017-06-15 15:17:46-05:00",
          "2017-06-15 15:17:40-05:00",
          "2017-06-15 15:17:19-05:00",
          "2017-06-15 15:14:05-05:00",
          "2017-06-15 15:13:48-05:00",
          "2017-06-15 15:10:19-05:00",
          "2017-06-15 15:08:02-05:00",
          "2017-06-15 15:05:05-05:00",
          "2017-06-11 21:58:01-05:00",
          "2017-06-09 13:07:30-05:00",
          "2017-06-08 18:37:43-05:00",
          "2017-06-07 19:52:31-05:00",
          "2017-06-06 19:32:27-05:00",
          "2017-06-06 19:26:45-05:00",
          "2017-06-06 16:55:13-05:00",
          "2017-06-03 01:32:53-05:00",
          "2017-06-01 20:24:53-05:00",
          "2017-05-28 17:13:31-05:00",
          "2017-05-28 00:40:28-05:00",
          "2017-05-27 16:54:37-05:00",
          "2017-05-27 15:07:34-05:00",
          "2017-05-27 15:01:42-05:00",
          "2017-05-27 10:18:13-05:00",
          "2017-05-27 10:18:05-05:00",
          "2017-05-26 16:30:40-05:00",
          "2017-05-26 16:22:35-05:00",
          "2017-05-20 17:06:34-05:00",
          "2017-05-14 18:22:07-05:00",
          "2017-05-07 18:49:54-05:00",
          "2017-05-01 22:05:56-05:00",
          "2017-04-26 19:18:00-05:00",
          "2017-04-21 12:56:36-05:00",
          "2017-04-20 12:51:05-05:00",
          "2017-04-19 20:25:32-05:00",
          "2017-04-19 20:03:13-05:00",
          "2017-04-18 20:25:50-05:00",
          "2017-04-18 17:40:02-05:00",
          "2017-04-18 17:29:31-05:00",
          "2017-04-18 08:12:04-05:00",
          "2017-04-14 22:57:39-05:00",
          "2017-04-14 22:57:17-05:00",
          "2017-04-13 09:15:23-05:00",
          "2017-04-13 08:44:04-05:00",
          "2017-04-12 06:30:03-05:00",
          "2017-04-11 22:37:07-05:00",
          "2017-04-11 21:29:00-05:00",
          "2017-04-11 21:17:01-05:00",
          "2017-04-11 19:50:24-05:00",
          "2017-04-11 17:37:32-05:00",
          "2017-04-11 17:30:31-05:00",
          "2017-04-11 13:38:55-05:00",
          "2017-04-10 22:09:20-05:00",
          "2017-04-09 08:04:35-05:00",
          "2017-04-09 08:00:51-05:00",
          "2017-04-09 07:59:10-05:00",
          "2017-04-08 16:50:35-05:00",
          "2017-04-06 13:07:02-05:00",
          "2017-04-05 21:34:33-05:00",
          "2017-04-04 17:53:12-05:00",
          "2017-04-04 17:48:49-05:00",
          "2017-04-04 17:47:14-05:00",
          "2017-04-04 17:40:27-05:00",
          "2017-04-03 21:26:49-05:00",
          "2017-04-02 16:47:09-05:00",
          "2017-03-31 12:27:36-05:00",
          "2017-03-31 12:24:34-05:00",
          "2017-03-31 12:17:38-05:00",
          "2017-03-31 12:16:57-05:00",
          "2017-03-29 20:26:05-05:00",
          "2017-03-29 12:21:42-05:00",
          "2017-03-27 22:34:46-05:00",
          "2017-03-27 22:34:40-05:00",
          "2017-03-27 22:34:35-05:00",
          "2017-03-27 07:32:07-05:00",
          "2017-03-26 11:28:02-05:00",
          "2017-03-25 18:49:47-05:00",
          "2017-03-25 18:49:39-05:00",
          "2017-03-25 18:49:22-05:00",
          "2017-03-25 18:40:30-05:00",
          "2017-03-25 18:37:51-05:00",
          "2017-02-18 13:14:28-05:00",
          "2017-02-18 13:14:14-05:00",
          "2017-02-17 21:40:17-05:00",
          "2017-02-17 21:38:00-05:00",
          "2017-02-17 21:34:32-05:00",
          "2017-02-17 16:09:37-05:00",
          "2017-02-17 12:23:37-05:00",
          "2017-02-16 15:25:21-05:00",
          "2017-02-16 12:14:43-05:00",
          "2017-02-16 12:01:31-05:00",
          "2017-02-16 11:52:51-05:00",
          "2017-02-16 11:38:25-05:00",
          "2017-02-15 17:43:03-05:00",
          "2017-02-15 17:42:03-05:00",
          "2017-02-15 17:33:21-05:00",
          "2017-02-15 17:33:10-05:00",
          "2017-02-15 17:28:06-05:00",
          "2017-02-15 17:24:57-05:00",
          "2017-02-15 17:21:16-05:00",
          "2017-02-14 21:21:45-05:00",
          "2017-02-14 19:56:08-05:00",
          "2017-02-14 09:51:00-05:00",
          "2017-02-14 09:29:20-05:00",
          "2017-02-14 09:24:59-05:00",
          "2017-02-14 09:18:38-05:00",
          "2017-02-14 09:12:46-05:00",
          "2017-02-13 16:21:05-05:00",
          "2017-02-13 16:10:52-05:00",
          "2017-02-13 10:22:27-05:00",
          "2017-02-13 10:20:57-05:00",
          "2017-02-13 10:16:12-05:00",
          "2017-02-13 10:15:40-05:00",
          "2017-02-12 20:16:45-05:00"
         ],
         "xaxis": "x",
         "y": [
          5.433116666666667,
          3.3,
          4.1944333333333335,
          4.206,
          3.0708333333333333,
          3.52355,
          2.916,
          4.188,
          3.928,
          3.322,
          3.79,
          3.925766666666666,
          2.795333333333333,
          3.804433333333333,
          4.208216666666667,
          3.830216666666667,
          4.51955,
          7.65155,
          5.943766666666667,
          3.86495,
          4.24555,
          2.8255666666666666,
          3.2788,
          4.0696666666666665,
          4.673333333333333,
          3.279333333333333,
          5.1593333333333335,
          9.118433333333334,
          6.62555,
          4.493333333333333,
          5.807333333333333,
          3.9011,
          4.874883333333333,
          3.438,
          4.8651,
          4.127766666666667,
          4.266666666666667,
          4.785583333333333,
          3.3747666666666665,
          4.4531,
          4.038216666666667,
          4.488216666666666,
          4.6071,
          4.698433333333333,
          7.064,
          2.771333333333333,
          4.972216666666666,
          3.9133333333333336,
          5.028883333333333,
          3.1971166666666666,
          4.965483333333333,
          3.368883333333333,
          4.184216666666667,
          4.481333333333334,
          3.8011,
          3.8356333333333335,
          3.807333333333333,
          3.2333333333333334,
          5.34545,
          3.9830833333333335,
          5.844016666666667,
          5.687583333333333,
          7.35155,
          7.419766666666667,
          4.848883333333333,
          4.23555,
          2.9657666666666667,
          5.75155,
          4.4371,
          5.206,
          5.3228333333333335,
          2.757616666666667,
          3.609766666666667,
          2.97695,
          3.5428,
          5.06505,
          3.496,
          3.63,
          3.9726666666666666,
          4.087766666666667,
          4.7671,
          5.13955,
          4.2264333333333335,
          3.8526666666666665,
          4.360433333333333,
          4.5411,
          5.700216666666667,
          5.278616666666666,
          3.534883333333333,
          4.872,
          6.916,
          3.328883333333333,
          3.430433333333333,
          3.5085,
          4.6951,
          4.398216666666666,
          3.61215,
          3.8486666666666665,
          4.914433333333333,
          4.380216666666667,
          4.562666666666667,
          3.005033333333333,
          6.2500333333333336,
          4.843066666666667,
          3.2237666666666667,
          3.48755,
          3.6751,
          3.53555,
          4.429966666666667,
          4.0822,
          7.147516666666666,
          14.49,
          4.79955,
          4.00355,
          3.518883333333333,
          6.054433333333333,
          4.3011,
          4.916666666666667,
          3.294666666666666,
          3.4122166666666667,
          3.978,
          4.5411,
          4.684433333333334,
          5.07155,
          3.07,
          2.6453333333333333,
          3.136433333333333,
          6.346,
          4.10155,
          5.003316666666667,
          4.74755,
          3.9266666666666663,
          3.4793333333333334,
          4.514783333333333,
          4.913333333333333,
          4.243666666666667,
          4.241816666666667,
          3.2428833333333333,
          13.012666666666666,
          8.614883333333333,
          11.19355,
          8.397333333333334,
          5.106216666666667,
          2.5871,
          3.8911,
          6.45355,
          3.960883333333333,
          3.284666666666667,
          3.5338833333333333,
          4.404,
          4.203983333333333,
          5.49555,
          4.035333333333333,
          3.2404333333333333,
          3.187766666666666,
          3.617333333333333,
          6.968883333333333,
          3.618216666666666,
          7.266666666666667,
          3.87555,
          3.8111,
          7.996666666666667,
          6.0111,
          5.190433333333333,
          8.158433333333333,
          4.5811,
          3.827333333333333,
          6.260433333333333,
          2.986666666666667,
          3.3151,
          5.1513333333333335,
          5.029333333333334,
          3.2109,
          3.7944333333333335,
          2.3364666666666665,
          3.8763833333333335,
          2.77775,
          3.6171,
          3.782466666666666,
          3.570666666666667,
          3.3891,
          4.934666666666667,
          4.50555,
          3.514666666666667,
          3.08,
          3.48555,
          4.47,
          4.221333333333333,
          4.240883333333334,
          5.508883333333333,
          4.130433333333333,
          3.88955,
          4.227766666666667,
          4.574216666666667,
          4.041766666666667,
          4.366666666666666,
          3.7471,
          3.29955,
          4.922883333333333,
          4.962666666666666,
          3.6882166666666665,
          3.926,
          4.713333333333333,
          3.64155,
          3.9757666666666656,
          2.8164333333333333,
          3.781333333333333,
          4.79555,
          5.5831,
          4.137083333333333,
          5.36155,
          5.8631,
          3.32555,
          5.166883333333334,
          5.6579,
          5.464216666666666,
          2.9728833333333333,
          3.71355,
          3.326433333333333,
          4.793416666666666,
          4.307766666666667,
          4.970433333333333,
          3.9877666666666665,
          5.400216666666667,
          6.6306666666666665,
          4.054766666666667,
          3.870616666666667,
          3.039333333333333,
          5.72835,
          3.2357666666666667,
          3.3240166666666666,
          4.0633333333333335,
          3.7128833333333335,
          4.492216666666667,
          6.1011,
          4.57155,
          4.1831,
          8.61875,
          6.478883333333333,
          3.6826666666666665,
          4.492216666666667,
          6.953766666666667,
          3.09,
          4.748883333333334,
          5.207366666666666,
          5.064883333333333,
          4.980433333333333,
          3.9782166666666665,
          5.033333333333333,
          4.706666666666667,
          3.716,
          5.403333333333333,
          14.302216666666666,
          3.744433333333333,
          4.031766666666667,
          3.3906,
          3.4473333333333334,
          4.166,
          3.0773333333333333,
          3.95955,
          3.124,
          3.4671,
          3.7431,
          3.91,
          3.010666666666667,
          2.846883333333333,
          3.292,
          4.33155,
          6.1031,
          3.786883333333333,
          4.379133333333334,
          4.4051,
          3.6811,
          6.494166666666667,
          4.41955,
          5.126216666666667,
          3.673333333333333,
          2.886216666666667,
          3.62155,
          5.76755,
          5.1851,
          3.242,
          5.0751,
          2.9546666666666668,
          6.10355,
          5.904,
          4.614433333333333,
          1.5293333333333334,
          4.28775,
          3.04585,
          4.537766666666666,
          2.8991,
          2.7711,
          5.0291,
          3.6231,
          3.6386666666666665,
          3.783333333333333,
          2.75,
          2.7228833333333333,
          2.4762166666666667,
          3.7664333333333335,
          4.533333333333333,
          3.4833333333333334,
          4.2911,
          4.95,
          3.099333333333333,
          3.2171666666666665,
          3.16155,
          3.91355,
          2.958433333333333,
          4.2391,
          4.891766666666666,
          4.5711,
          4.1688833333333335,
          4.7151,
          4.520666666666667,
          5.080666666666667,
          5.577766666666666,
          5.012883333333333,
          3.9246666666666665,
          4.0051,
          3.157766666666667,
          3.1841166666666667,
          3.54065,
          3.818666666666666,
          3.4351,
          4.9231,
          4.302883333333333,
          3.216,
          3.790666666666666,
          5.2904333333333335,
          3.605333333333333,
          4.022883333333334,
          3.4131,
          5.613766666666667,
          5.205766666666666,
          3.4404833333333333,
          4.4551,
          3.673766666666667,
          2.454533333333333,
          4.0631,
          4.79,
          4.604666666666667,
          5.60755,
          3.4744333333333333,
          4.483333333333333,
          4.114,
          4.089333333333333,
          5.278216666666666,
          5.222883333333334,
          3.694,
          5.7026666666666666,
          3.676,
          7.402466666666666,
          4.278883333333333,
          2.4291,
          5.564883333333333,
          5.610216666666667,
          5.992,
          5.504,
          6.5229333333333335,
          4.14,
          4.1928833333333335,
          4.050433333333333,
          7.094216666666667,
          5.522383333333333,
          4.770433333333333,
          4.30555,
          4.238216666666666,
          3.9331,
          4.934666666666667,
          4.6031,
          8.51555,
          4.292883333333333,
          3.7191,
          5.8251,
          3.752666666666667,
          4.92525,
          3.798883333333333,
          5.99555,
          4.203333333333333,
          4.95155,
          3.726883333333333,
          4.4151,
          5.123833333333334,
          4.449333333333334,
          3.02555,
          4.372216666666667,
          4.760883333333333,
          2.9391,
          5.35155,
          4.5399,
          4.81,
          3.895766666666667,
          4.4797666666666665,
          3.41555,
          13.51795,
          4.640666666666666,
          4.854433333333334,
          3.858883333333333,
          4.557766666666667,
          5.449716666666666,
          5.794433333333333,
          2.382883333333333,
          3.7657666666666665,
          11.822216666666666,
          4.19385,
          3.288,
          4.826,
          3.0671,
          3.456,
          4.7026666666666666,
          8.545533333333333,
          5.0991,
          4.8171,
          3.274433333333333,
          4.325,
          5.60155,
          3.915333333333333,
          4.941333333333334,
          2.668883333333333,
          3.4913333333333334,
          3.664,
          4.23555,
          4.7168833333333335,
          3.717766666666667,
          4.14,
          3.3511,
          6.295766666666666,
          3.814216666666667,
          2.672883333333333,
          3.6611,
          4.838,
          4.4271,
          4.300216666666667,
          3.7777666666666665,
          3.6326666666666663,
          3.983333333333333,
          5.896,
          4.4142166666666665,
          4.698883333333334,
          5.436883333333333,
          3.705766666666667,
          3.3277666666666668,
          4.140666666666666,
          3.9771,
          4.186216666666667,
          4.62755,
          4.876216666666667,
          4.3811,
          5.052216666666666,
          4.312883333333334,
          7.522,
          4.220833333333333,
          3.998433333333333,
          2.993333333333333,
          3.57755,
          8.047166666666667,
          2.438883333333333,
          3.7257666666666656,
          3.977333333333333,
          3.8891,
          4.5906666666666665,
          3.955766666666667,
          4.881333333333333,
          3.473333333333333,
          4.258216666666667,
          5.1722166666666665,
          3.5511,
          3.8817666666666666,
          6.284883333333333,
          4.686,
          5.273766666666667,
          5.368216666666667,
          2.2642166666666665,
          3.8773333333333335,
          4.541833333333333,
          5.032,
          2.842433333333333,
          2.83735,
          4.7424333333333335,
          4.4471,
          4.476666666666667,
          3.703333333333333,
          2.924,
          4.0511,
          3.4902166666666665,
          5.57905,
          3.9791,
          6.380566666666667,
          4.512883333333333,
          3.734883333333333,
          4.072216666666667,
          3.6904333333333335,
          3.0271666666666666,
          4.185266666666666,
          4.2851,
          3.5277666666666665,
          3.32,
          3.3466666666666667,
          4.8711,
          5.295333333333334,
          3.695333333333333,
          5.162883333333333,
          3.709333333333333,
          3.4341833333333334,
          6.3711,
          3.5326666666666666,
          2.8,
          2.048216666666667,
          2.8811,
          2.8946666666666667,
          4.4011,
          3.4993333333333334,
          4.496883333333333,
          7.618883333333334,
          4.054433333333333,
          3.183766666666666,
          4.4622166666666665,
          5.3951,
          5.943333333333333,
          4.700216666666667,
          5.722,
          4.7522166666666665,
          4.276,
          6.16,
          4.354216666666667,
          2.85065,
          3.3963666666666668,
          3.558333333333333,
          4.013333333333334,
          5.137333333333333,
          4.93155,
          3.832666666666667,
          3.73555,
          4.176666666666667,
          3.0009166666666665,
          3.091333333333333,
          5.2671,
          3.950433333333333,
          4.284216666666667,
          3.6486666666666663,
          3.084216666666667,
          5.6962166666666665,
          3.09555,
          5.905333333333333,
          4.045333333333334,
          3.8733333333333335,
          2.9711,
          3.6831,
          5.383333333333334,
          8.604883333333333,
          5.62355,
          3.554,
          4.979333333333333,
          3.64,
          3.191666666666667,
          4.068433333333333,
          3.2644333333333333,
          4.57955,
          4.916433333333333,
          3.94555,
          4.866666666666666,
          5.74,
          4.070433333333333,
          3.9111,
          3.7622166666666663,
          3.78755,
          4.5971,
          3.788433333333333,
          6.899116666666667,
          3.022666666666667,
          3.926,
          3.8671,
          4.8111,
          3.925766666666666,
          4.740216666666667,
          2.603283333333333,
          2.9066666666666667,
          5.1,
          4.9366666666666665,
          4.568883333333333,
          5.812666666666667,
          4.489333333333334,
          4.332433333333333,
          6.380566666666667,
          4.388883333333333,
          4.807766666666667,
          3.239333333333333,
          4.75,
          2.4291,
          6.3716,
          5.63755,
          3.48,
          4.657333333333334,
          2.4311,
          3.362216666666667,
          2.68555,
          3.0648833333333334,
          3.2748833333333334,
          2.9193333333333333
         ],
         "yaxis": "y"
        },
        {
         "customdata": [
          [
           "Mi Ideología"
          ],
          [
           "Me Hace Daño Verte"
          ],
          [
           "La Puerta"
          ],
          [
           "M.A - Remix"
          ],
          [
           "Dog Days"
          ],
          [
           "Amor del Bueno"
          ],
          [
           "La Locura Automática - Reggaeton"
          ],
          [
           "Ni Una Ni Dos"
          ],
          [
           "Bailame Despacio Vs La Player - Remix"
          ],
          [
           "Bajo"
          ],
          [
           "Dime"
          ],
          [
           "Loco por Volverte a Ver"
          ],
          [
           "KOMM, SUSSER TOD - M-10 Director's Edit Version"
          ],
          [
           "The Cruel Angel's Thesis (Director's Edit Version)"
          ],
          [
           "Peach Trees"
          ],
          [
           "Tengo"
          ],
          [
           "Remember Summer Days (Night Tempo Showa Groove Mix)"
          ],
          [
           "memories"
          ],
          [
           "Comedy"
          ],
          [
           "Believe (ONE PIECE)"
          ],
          [
           "Kirameki"
          ],
          [
           "STAND PROUD"
          ],
          [
           "CRAZY NOISY BIZARRE TOWN"
          ],
          [
           "Kaikai Kitan"
          ],
          [
           "No Me Conocen (Remix) [con DUKI, Rei & Tiago PZK]"
          ],
          [
           "Kelly"
          ],
          [
           "I Had Control"
          ],
          [
           "Esta Cobardía"
          ],
          [
           "Maravillosos"
          ],
          [
           "Se Fue la Luz"
          ],
          [
           "Sueño en la Altura"
          ],
          [
           "Verte Pasar"
          ],
          [
           "Mr Blue"
          ],
          [
           "El Che y los Rolling Stones"
          ],
          [
           "Nora en Abril"
          ],
          [
           "Da Ya Think I'm Sexy?"
          ],
          [
           "Speechless (Full)"
          ],
          [
           "Bad News Ain't No News At All"
          ],
          [
           "A l'assaut (des ombres sur l'o)"
          ],
          [
           "Louder Than Words"
          ],
          [
           "What You Need"
          ],
          [
           "Lost Stars"
          ]
         ],
         "hovertemplate": "Broad Genre=Other<br>Date Added=%{x}<br>Duration=%{y}<br>Track Name=%{customdata[0]}<extra></extra>",
         "legendgroup": "Other",
         "marker": {
          "color": "#FF97FF",
          "symbol": "circle"
         },
         "mode": "markers",
         "name": "Other",
         "showlegend": true,
         "type": "scattergl",
         "x": [
          "2024-03-25 20:22:10-05:00",
          "2024-03-03 19:08:05-05:00",
          "2024-02-27 14:22:43-05:00",
          "2024-01-11 17:21:35-05:00",
          "2024-01-04 08:26:47-05:00",
          "2023-11-26 21:14:38-05:00",
          "2023-09-25 11:08:17-05:00",
          "2023-07-29 19:32:00-05:00",
          "2023-06-30 09:01:59-05:00",
          "2023-06-26 20:40:58-05:00",
          "2023-06-12 13:16:29-05:00",
          "2023-06-11 18:48:41-05:00",
          "2023-03-05 18:17:12-05:00",
          "2023-01-17 19:03:59-05:00",
          "2023-01-03 21:50:43-05:00",
          "2022-11-29 15:47:41-05:00",
          "2022-10-04 21:58:20-05:00",
          "2022-07-13 19:49:32-05:00",
          "2022-07-04 07:19:21-05:00",
          "2022-04-11 10:53:49-05:00",
          "2022-02-23 19:55:30-05:00",
          "2022-02-10 16:32:17-05:00",
          "2022-02-10 16:32:05-05:00",
          "2021-07-24 08:21:33-05:00",
          "2021-07-22 16:13:50-05:00",
          "2021-06-30 12:47:51-05:00",
          "2021-02-26 20:16:55-05:00",
          "2020-10-01 18:05:54-05:00",
          "2020-09-19 15:10:14-05:00",
          "2020-04-14 22:21:26-05:00",
          "2020-03-17 22:30:58-05:00",
          "2020-03-14 12:01:43-05:00",
          "2020-03-11 19:55:01-05:00",
          "2020-02-19 08:11:27-05:00",
          "2019-11-18 21:20:50-05:00",
          "2019-10-02 11:05:02-05:00",
          "2019-06-27 18:17:44-05:00",
          "2019-06-24 21:22:50-05:00",
          "2019-03-18 11:00:01-05:00",
          "2019-03-13 09:44:31-05:00",
          "2019-03-11 17:14:39-05:00",
          "2019-03-05 19:36:32-05:00"
         ],
         "xaxis": "x",
         "y": [
          3.977333333333333,
          5.013183333333333,
          3.37585,
          4.54545,
          3.7271833333333335,
          4.340583333333333,
          4.0891,
          2.64225,
          3.984583333333333,
          3.734366666666667,
          4.502883333333333,
          3.7664166666666663,
          7.774683333333333,
          4.084883333333333,
          1.844566666666667,
          3.80605,
          3.781816666666667,
          4.4366666666666665,
          3.844433333333333,
          3.770166666666667,
          2.41675,
          4.634433333333333,
          3.112,
          3.6904333333333335,
          4.671233333333333,
          3.2,
          3.252083333333333,
          5.689466666666666,
          3.0689166666666665,
          3.251733333333333,
          3.616233333333333,
          2.72355,
          2.5766666666666667,
          4.792,
          4.3283,
          5.522216666666667,
          3.48,
          3.1722166666666665,
          3.802216666666667,
          4.737883333333333,
          3.5179666666666667,
          4.464216666666666
         ],
         "yaxis": "y"
        },
        {
         "customdata": [
          [
           "Things A Man Oughta Know"
          ],
          [
           "Tennessee Whiskey"
          ],
          [
           "If I Die Young"
          ],
          [
           "Jesus, Etc."
          ],
          [
           "Yours If You Want It"
          ]
         ],
         "hovertemplate": "Broad Genre=Country<br>Date Added=%{x}<br>Duration=%{y}<br>Track Name=%{customdata[0]}<extra></extra>",
         "legendgroup": "Country",
         "marker": {
          "color": "#FECB52",
          "symbol": "circle"
         },
         "mode": "markers",
         "name": "Country",
         "showlegend": true,
         "type": "scattergl",
         "x": [
          "2024-03-21 02:36:54-05:00",
          "2021-06-15 20:13:50-05:00",
          "2020-06-08 14:53:31-05:00",
          "2018-03-08 01:33:09-05:00",
          "2017-05-23 21:40:58-05:00"
         ],
         "xaxis": "x",
         "y": [
          3.38955,
          4.888216666666667,
          3.7128833333333335,
          3.85,
          3.478883333333333
         ],
         "yaxis": "y"
        },
        {
         "customdata": [
          [
           "Eres Para Mí"
          ],
          [
           "cómo dormiste?"
          ],
          [
           "FLEXXX"
          ],
          [
           "Mejor No Nos Vemos"
          ],
          [
           "SHORTY QUE TE VAYA BN <3"
          ],
          [
           "A Mí"
          ],
          [
           "Mimosas - Remix"
          ],
          [
           "Beat It"
          ],
          [
           "Adorn"
          ],
          [
           "Say a Little Prayer - Live"
          ]
         ],
         "hovertemplate": "Broad Genre=R&B<br>Date Added=%{x}<br>Duration=%{y}<br>Track Name=%{customdata[0]}<extra></extra>",
         "legendgroup": "R&B",
         "marker": {
          "color": "#636efa",
          "symbol": "circle"
         },
         "mode": "markers",
         "name": "R&B",
         "showlegend": true,
         "type": "scattergl",
         "x": [
          "2024-01-22 17:55:49-05:00",
          "2023-12-01 15:12:57-05:00",
          "2023-11-01 13:16:26-05:00",
          "2023-09-28 01:00:39-05:00",
          "2023-09-28 00:57:18-05:00",
          "2023-08-22 21:10:36-05:00",
          "2022-02-27 00:40:51-05:00",
          "2021-10-10 20:24:24-05:00",
          "2020-06-21 20:40:43-05:00",
          "2019-10-04 18:13:27-05:00"
         ],
         "xaxis": "x",
         "y": [
          2.914283333333333,
          1.8762,
          2.2473,
          3.1531166666666666,
          3.66135,
          3.494666666666667,
          4.556166666666667,
          4.300666666666666,
          3.2191,
          3.3929
         ],
         "yaxis": "y"
        },
        {
         "customdata": [
          [
           "I See the Light"
          ],
          [
           "Dance Yrself Clean"
          ],
          [
           "Lasso"
          ],
          [
           "Disco Inferno - Single Edit"
          ],
          [
           "Le Freak - Edit"
          ],
          [
           "Night Fever - From \"Saturday Night Fever\" Soundtrack"
          ],
          [
           "Sing a Song"
          ],
          [
           "Shining Star"
          ],
          [
           "Be My Lady"
          ],
          [
           "Boogie Wonderland"
          ],
          [
           "Stayin' Alive - 2007 Remastered Version Saturday Night Fever"
          ],
          [
           "September"
          ],
          [
           "Walking On A Dream"
          ]
         ],
         "hovertemplate": "Broad Genre=Dance<br>Date Added=%{x}<br>Duration=%{y}<br>Track Name=%{customdata[0]}<extra></extra>",
         "legendgroup": "Dance",
         "marker": {
          "color": "#EF553B",
          "symbol": "circle"
         },
         "mode": "markers",
         "name": "Dance",
         "showlegend": true,
         "type": "scattergl",
         "x": [
          "2024-01-08 20:26:35-05:00",
          "2023-08-13 18:22:16-05:00",
          "2019-03-20 20:07:22-05:00",
          "2019-02-22 14:58:26-05:00",
          "2019-01-19 21:44:15-05:00",
          "2019-01-19 21:22:54-05:00",
          "2018-03-06 23:57:13-05:00",
          "2017-05-23 21:31:38-05:00",
          "2017-03-31 17:30:39-05:00",
          "2017-03-29 20:27:58-05:00",
          "2017-02-16 12:09:24-05:00",
          "2017-02-16 12:05:38-05:00",
          "2017-02-15 14:30:18-05:00"
         ],
         "xaxis": "x",
         "y": [
          6.338216666666667,
          8.941183333333333,
          2.79755,
          3.1922166666666665,
          3.594883333333333,
          3.4917666666666665,
          3.3977666666666666,
          2.836,
          4.26,
          4.804883333333334,
          4.756216666666667,
          3.580433333333333,
          3.307333333333333
         ],
         "yaxis": "y"
        },
        {
         "customdata": [
          [
           "hot girl bummer (with Khea) - Khea Remix"
          ],
          [
           "No More Lies"
          ],
          [
           "Love to Hate You"
          ],
          [
           "Sparks"
          ],
          [
           "My Universe"
          ],
          [
           "Til Kingdom Come"
          ],
          [
           "People of The Pride"
          ],
          [
           "Humankind"
          ],
          [
           "Higher Power"
          ],
          [
           "Charlie Brown"
          ],
          [
           "Adventure of a Lifetime"
          ],
          [
           "Friday I'm in Love"
          ],
          [
           "Fun (feat. Tove Lo)"
          ],
          [
           "Come On Eileen"
          ],
          [
           "Tainted Love"
          ],
          [
           "Go!"
          ],
          [
           "Up&Up"
          ],
          [
           "Trouble"
          ],
          [
           "Life in Technicolor ii"
          ],
          [
           "Yellow"
          ],
          [
           "Viva La Vida"
          ],
          [
           "Army of One"
          ],
          [
           "Amazing Day"
          ],
          [
           "Fix You"
          ],
          [
           "Paradise"
          ],
          [
           "Quello Che Non C'è"
          ],
          [
           "Everglow"
          ],
          [
           "A L I E N S"
          ],
          [
           "I Ran (So Far Away) - Single Edit"
          ],
          [
           "Sin aliento"
          ],
          [
           "Ni tú ni nadie"
          ],
          [
           "Karma Chameleon - Remastered 2002"
          ],
          [
           "Boys Don't Cry"
          ],
          [
           "Every Teardrop Is a Waterfall"
          ],
          [
           "The Scientist"
          ],
          [
           "Fascination Street - Remastered"
          ],
          [
           "Take on Me"
          ],
          [
           "Hypnotised"
          ]
         ],
         "hovertemplate": "Broad Genre=Alternative<br>Date Added=%{x}<br>Duration=%{y}<br>Track Name=%{customdata[0]}<extra></extra>",
         "legendgroup": "Alternative",
         "marker": {
          "color": "#00cc96",
          "symbol": "circle"
         },
         "mode": "markers",
         "name": "Alternative",
         "showlegend": true,
         "type": "scattergl",
         "x": [
          "2024-01-05 22:29:22-05:00",
          "2023-11-26 19:07:56-05:00",
          "2022-12-13 16:59:21-05:00",
          "2022-09-17 16:10:02-05:00",
          "2022-09-14 07:44:17-05:00",
          "2022-09-14 07:36:00-05:00",
          "2022-09-12 08:09:46-05:00",
          "2022-09-12 08:09:35-05:00",
          "2021-05-07 08:41:04-05:00",
          "2020-11-19 16:42:31-05:00",
          "2020-02-11 08:15:57-05:00",
          "2019-12-28 17:16:41-05:00",
          "2019-08-16 16:51:44-05:00",
          "2019-05-27 06:51:16-05:00",
          "2019-03-29 14:19:11-05:00",
          "2018-12-23 10:54:30-05:00",
          "2018-12-15 23:02:43-05:00",
          "2018-12-05 14:37:15-05:00",
          "2018-10-01 16:51:31-05:00",
          "2018-10-01 16:51:24-05:00",
          "2018-10-01 16:51:18-05:00",
          "2018-10-01 16:49:52-05:00",
          "2018-10-01 16:44:16-05:00",
          "2018-09-30 22:36:00-05:00",
          "2018-09-22 11:37:40-05:00",
          "2018-08-26 01:58:53-05:00",
          "2017-12-29 13:39:19-05:00",
          "2017-07-13 21:56:20-05:00",
          "2017-06-25 20:46:54-05:00",
          "2017-06-23 16:32:36-05:00",
          "2017-06-15 17:17:07-05:00",
          "2017-05-26 16:30:36-05:00",
          "2017-05-26 12:31:55-05:00",
          "2017-04-24 22:08:24-05:00",
          "2017-04-24 22:08:15-05:00",
          "2017-04-13 08:10:52-05:00",
          "2017-04-11 22:36:32-05:00",
          "2017-03-26 11:49:38-05:00"
         ],
         "xaxis": "x",
         "y": [
          2.2615333333333334,
          5.453616666666667,
          3.9326666666666665,
          3.784883333333333,
          3.8,
          4.1778,
          3.6211,
          4.4450666666666665,
          3.5215666666666667,
          4.75265,
          4.396433333333333,
          3.5733333333333333,
          4.4588833333333335,
          4.56555,
          2.563333333333333,
          3.928883333333333,
          6.755333333333334,
          4.5571,
          4.084983333333334,
          4.4462166666666665,
          4.023766666666667,
          6.280433333333334,
          4.518433333333333,
          4.92555,
          4.645316666666667,
          6.122466666666667,
          4.71155,
          4.7071,
          3.66555,
          4.913333333333333,
          3.6166666666666663,
          4.212883333333333,
          2.6866666666666665,
          4.0132666666666665,
          5.16,
          5.2531,
          3.7546666666666666,
          5.919533333333334
         ],
         "yaxis": "y"
        },
        {
         "customdata": [
          [
           "She Calls Me Back (with Kacey Musgraves)"
          ],
          [
           "sangria"
          ],
          [
           "slow motion"
          ],
          [
           "nightmares"
          ],
          [
           "Under The Light"
          ],
          [
           "Mad Visions"
          ],
          [
           "Super Slow"
          ],
          [
           "Just for a Minute"
          ],
          [
           "RUN"
          ],
          [
           "Skinny"
          ],
          [
           "Alter Ego"
          ],
          [
           "Break My Baby"
          ],
          [
           "Hey Gringo"
          ],
          [
           "Too Much Time Together"
          ],
          [
           "About You"
          ],
          [
           "Trouble’s Coming"
          ],
          [
           "Oblivion"
          ],
          [
           "See The Sun"
          ],
          [
           "Do You Wanna"
          ],
          [
           "Junk Of The Heart (Happy)"
          ],
          [
           "Ooh La"
          ],
          [
           "Sweet Emotion"
          ],
          [
           "Westside"
          ],
          [
           "The Things We Do"
          ],
          [
           "El Pozo"
          ],
          [
           "Simple Song"
          ],
          [
           "No Te Me Achores"
          ],
          [
           "Pan y Circo"
          ],
          [
           "Cough Syrup"
          ],
          [
           "Los Amigos Que Perdí"
          ],
          [
           "Karaoke Katmandú"
          ],
          [
           "El Momento"
          ],
          [
           "Melancolía Blue Blue Blue"
          ],
          [
           "Naive"
          ],
          [
           "Call It What You Want"
          ],
          [
           "Bad Habit"
          ],
          [
           "Triciclo Perú"
          ],
          [
           "Mistakes"
          ]
         ],
         "hovertemplate": "Broad Genre=Indie<br>Date Added=%{x}<br>Duration=%{y}<br>Track Name=%{customdata[0]}<extra></extra>",
         "legendgroup": "Indie",
         "marker": {
          "color": "#ab63fa",
          "symbol": "circle"
         },
         "mode": "markers",
         "name": "Indie",
         "showlegend": true,
         "type": "scattergl",
         "x": [
          "2023-10-22 14:29:19-05:00",
          "2023-10-16 20:28:37-05:00",
          "2023-10-16 20:22:24-05:00",
          "2023-10-16 20:20:48-05:00",
          "2023-08-10 08:52:46-05:00",
          "2023-08-04 19:49:26-05:00",
          "2023-07-25 22:27:57-05:00",
          "2023-07-25 22:12:25-05:00",
          "2023-07-25 21:54:55-05:00",
          "2023-07-11 10:16:06-05:00",
          "2023-07-11 10:13:41-05:00",
          "2023-07-11 09:59:54-05:00",
          "2023-07-07 10:06:18-05:00",
          "2023-07-04 13:37:08-05:00",
          "2023-07-04 13:33:25-05:00",
          "2023-03-16 20:09:45-05:00",
          "2023-03-16 20:05:40-05:00",
          "2022-06-08 07:43:21-05:00",
          "2022-06-06 16:53:55-05:00",
          "2022-06-06 16:51:50-05:00",
          "2022-06-06 16:34:02-05:00",
          "2022-06-06 15:54:51-05:00",
          "2022-06-04 13:43:46-05:00",
          "2021-06-12 21:16:39-05:00",
          "2021-05-30 14:46:37-05:00",
          "2020-09-20 10:11:24-05:00",
          "2020-09-16 09:22:58-05:00",
          "2020-09-16 09:21:11-05:00",
          "2020-05-03 01:37:43-05:00",
          "2020-03-26 12:17:32-05:00",
          "2019-12-08 12:04:31-05:00",
          "2019-09-04 06:04:06-05:00",
          "2018-11-10 22:30:48-05:00",
          "2018-09-26 19:40:13-05:00",
          "2018-03-26 01:56:31-05:00",
          "2018-02-18 18:42:13-05:00",
          "2017-12-11 21:32:20-05:00",
          "2017-09-19 21:06:39-05:00"
         ],
         "xaxis": "x",
         "y": [
          4.066033333333333,
          3.16705,
          4.4322,
          3.455433333333333,
          3.564216666666667,
          3.1557666666666666,
          2.709616666666667,
          4.380766666666666,
          3.2424833333333334,
          3.7052666666666663,
          4.135533333333333,
          4.425966666666667,
          4.7466333333333335,
          2.833266666666667,
          3.4603333333333333,
          3.806666666666666,
          2.68755,
          3.6071,
          4.096,
          3.120883333333333,
          3.4828833333333336,
          5.142816666666667,
          3.503216666666667,
          4.2011,
          3.92195,
          4.256666666666667,
          3.442833333333333,
          4.212683333333334,
          4.158666666666667,
          4.195866666666666,
          3.728,
          4.521016666666666,
          3.48,
          3.391766666666667,
          3.9797666666666665,
          3.6902166666666663,
          3.648433333333333,
          2.46495
         ],
         "yaxis": "y"
        },
        {
         "customdata": [
          [
           "Presence Of The Lord"
          ],
          [
           "The Thrill Is Gone"
          ],
          [
           "Rock Me Baby"
          ],
          [
           "Rip It Up"
          ],
          [
           "Long Tall Sally"
          ]
         ],
         "hovertemplate": "Broad Genre=Blues<br>Date Added=%{x}<br>Duration=%{y}<br>Track Name=%{customdata[0]}<extra></extra>",
         "legendgroup": "Blues",
         "marker": {
          "color": "#FFA15A",
          "symbol": "circle"
         },
         "mode": "markers",
         "name": "Blues",
         "showlegend": true,
         "type": "scattergl",
         "x": [
          "2023-07-10 21:46:14-05:00",
          "2022-06-01 07:49:29-05:00",
          "2021-01-19 08:41:16-05:00",
          "2017-03-25 18:42:50-05:00",
          "2017-03-25 18:42:46-05:00"
         ],
         "xaxis": "x",
         "y": [
          4.7904333333333335,
          5.018883333333333,
          6.62,
          2.406,
          2.138
         ],
         "yaxis": "y"
        },
        {
         "customdata": [
          [
           "Red Red Wine"
          ],
          [
           "Groove Bom - Ao Vivo"
          ],
          [
           "One Day"
          ],
          [
           "When We Were Younger"
          ],
          [
           "Not Done Yet"
          ],
          [
           "Wavin' Flag"
          ],
          [
           "Is This Love"
          ]
         ],
         "hovertemplate": "Broad Genre=Reggae<br>Date Added=%{x}<br>Duration=%{y}<br>Track Name=%{customdata[0]}<extra></extra>",
         "legendgroup": "Reggae",
         "marker": {
          "color": "#19d3f3",
          "symbol": "circle"
         },
         "mode": "markers",
         "name": "Reggae",
         "showlegend": true,
         "type": "scattergl",
         "x": [
          "2023-06-06 08:40:17-05:00",
          "2022-04-16 13:22:34-05:00",
          "2019-06-26 23:28:17-05:00",
          "2019-03-20 23:59:05-05:00",
          "2019-03-20 23:51:50-05:00",
          "2017-06-04 18:02:56-05:00",
          "2017-02-17 15:06:51-05:00"
         ],
         "xaxis": "x",
         "y": [
          3.0622166666666666,
          3.5931,
          3.45955,
          4.454433333333333,
          4.226216666666667,
          3.675333333333333,
          3.84555
         ],
         "yaxis": "y"
        },
        {
         "customdata": [
          [
           "Ballade No. 4 in F Minor, Op. 52"
          ],
          [
           "Con Te Partirò"
          ]
         ],
         "hovertemplate": "Broad Genre=Classical<br>Date Added=%{x}<br>Duration=%{y}<br>Track Name=%{customdata[0]}<extra></extra>",
         "legendgroup": "Classical",
         "marker": {
          "color": "#FF6692",
          "symbol": "circle"
         },
         "mode": "markers",
         "name": "Classical",
         "showlegend": true,
         "type": "scattergl",
         "x": [
          "2023-04-22 23:58:39-05:00",
          "2019-10-23 20:14:03-05:00"
         ],
         "xaxis": "x",
         "y": [
          11.986,
          4.18305
         ],
         "yaxis": "y"
        },
        {
         "customdata": [
          [
           "Juan Pachanga"
          ],
          [
           "Pedro Navaja"
          ]
         ],
         "hovertemplate": "Broad Genre=Jazz<br>Date Added=%{x}<br>Duration=%{y}<br>Track Name=%{customdata[0]}<extra></extra>",
         "legendgroup": "Jazz",
         "marker": {
          "color": "#B6E880",
          "symbol": "circle"
         },
         "mode": "markers",
         "name": "Jazz",
         "showlegend": true,
         "type": "scattergl",
         "x": [
          "2022-12-01 20:13:51-05:00",
          "2019-03-23 05:28:12-05:00"
         ],
         "xaxis": "x",
         "y": [
          6.226,
          7.391333333333334
         ],
         "yaxis": "y"
        },
        {
         "customdata": [
          [
           "LOST IN PARADISE"
          ],
          [
           "Ain't No Mountain High Enough"
          ],
          [
           "If I Ain't Got You"
          ],
          [
           "Chasing Pavements"
          ],
          [
           "For Once In My Life"
          ],
          [
           "When We Were Young"
          ],
          [
           "Master Blaster (Jammin')"
          ],
          [
           "For Once In My Life"
          ],
          [
           "Superstition - Single Version"
          ]
         ],
         "hovertemplate": "Broad Genre=Soul<br>Date Added=%{x}<br>Duration=%{y}<br>Track Name=%{customdata[0]}<extra></extra>",
         "legendgroup": "Soul",
         "marker": {
          "color": "#FF97FF",
          "symbol": "circle"
         },
         "mode": "markers",
         "name": "Soul",
         "showlegend": true,
         "type": "scattergl",
         "x": [
          "2021-12-09 12:45:23-05:00",
          "2021-10-20 09:37:06-05:00",
          "2019-07-29 22:11:08-05:00",
          "2019-07-26 17:57:57-05:00",
          "2017-05-09 20:35:31-05:00",
          "2017-04-06 22:08:49-05:00",
          "2017-03-31 12:28:24-05:00",
          "2017-03-31 12:25:46-05:00",
          "2017-03-25 19:04:20-05:00"
         ],
         "xaxis": "x",
         "y": [
          5.4661,
          2.5277666666666665,
          3.8117666666666663,
          3.508433333333333,
          2.8433333333333333,
          4.848433333333333,
          5.132216666666666,
          2.83,
          4.080433333333334
         ],
         "yaxis": "y"
        },
        {
         "customdata": [
          [
           "Father And Son"
          ],
          [
           "Little Talks"
          ]
         ],
         "hovertemplate": "Broad Genre=Folk<br>Date Added=%{x}<br>Duration=%{y}<br>Track Name=%{customdata[0]}<extra></extra>",
         "legendgroup": "Folk",
         "marker": {
          "color": "#FECB52",
          "symbol": "circle"
         },
         "mode": "markers",
         "name": "Folk",
         "showlegend": true,
         "type": "scattergl",
         "x": [
          "2019-12-25 01:05:16-05:00",
          "2017-08-02 11:46:32-05:00"
         ],
         "xaxis": "x",
         "y": [
          3.683333333333333,
          4.443333333333333
         ],
         "yaxis": "y"
        }
       ],
       "layout": {
        "autosize": true,
        "legend": {
         "title": {
          "text": "Broad Genre"
         },
         "tracegroupgap": 0
        },
        "template": {
         "data": {
          "bar": [
           {
            "error_x": {
             "color": "#2a3f5f"
            },
            "error_y": {
             "color": "#2a3f5f"
            },
            "marker": {
             "line": {
              "color": "#E5ECF6",
              "width": 0.5
             },
             "pattern": {
              "fillmode": "overlay",
              "size": 10,
              "solidity": 0.2
             }
            },
            "type": "bar"
           }
          ],
          "barpolar": [
           {
            "marker": {
             "line": {
              "color": "#E5ECF6",
              "width": 0.5
             },
             "pattern": {
              "fillmode": "overlay",
              "size": 10,
              "solidity": 0.2
             }
            },
            "type": "barpolar"
           }
          ],
          "carpet": [
           {
            "aaxis": {
             "endlinecolor": "#2a3f5f",
             "gridcolor": "white",
             "linecolor": "white",
             "minorgridcolor": "white",
             "startlinecolor": "#2a3f5f"
            },
            "baxis": {
             "endlinecolor": "#2a3f5f",
             "gridcolor": "white",
             "linecolor": "white",
             "minorgridcolor": "white",
             "startlinecolor": "#2a3f5f"
            },
            "type": "carpet"
           }
          ],
          "choropleth": [
           {
            "colorbar": {
             "outlinewidth": 0,
             "ticks": ""
            },
            "type": "choropleth"
           }
          ],
          "contour": [
           {
            "colorbar": {
             "outlinewidth": 0,
             "ticks": ""
            },
            "colorscale": [
             [
              0,
              "#0d0887"
             ],
             [
              0.1111111111111111,
              "#46039f"
             ],
             [
              0.2222222222222222,
              "#7201a8"
             ],
             [
              0.3333333333333333,
              "#9c179e"
             ],
             [
              0.4444444444444444,
              "#bd3786"
             ],
             [
              0.5555555555555556,
              "#d8576b"
             ],
             [
              0.6666666666666666,
              "#ed7953"
             ],
             [
              0.7777777777777778,
              "#fb9f3a"
             ],
             [
              0.8888888888888888,
              "#fdca26"
             ],
             [
              1,
              "#f0f921"
             ]
            ],
            "type": "contour"
           }
          ],
          "contourcarpet": [
           {
            "colorbar": {
             "outlinewidth": 0,
             "ticks": ""
            },
            "type": "contourcarpet"
           }
          ],
          "heatmap": [
           {
            "colorbar": {
             "outlinewidth": 0,
             "ticks": ""
            },
            "colorscale": [
             [
              0,
              "#0d0887"
             ],
             [
              0.1111111111111111,
              "#46039f"
             ],
             [
              0.2222222222222222,
              "#7201a8"
             ],
             [
              0.3333333333333333,
              "#9c179e"
             ],
             [
              0.4444444444444444,
              "#bd3786"
             ],
             [
              0.5555555555555556,
              "#d8576b"
             ],
             [
              0.6666666666666666,
              "#ed7953"
             ],
             [
              0.7777777777777778,
              "#fb9f3a"
             ],
             [
              0.8888888888888888,
              "#fdca26"
             ],
             [
              1,
              "#f0f921"
             ]
            ],
            "type": "heatmap"
           }
          ],
          "heatmapgl": [
           {
            "colorbar": {
             "outlinewidth": 0,
             "ticks": ""
            },
            "colorscale": [
             [
              0,
              "#0d0887"
             ],
             [
              0.1111111111111111,
              "#46039f"
             ],
             [
              0.2222222222222222,
              "#7201a8"
             ],
             [
              0.3333333333333333,
              "#9c179e"
             ],
             [
              0.4444444444444444,
              "#bd3786"
             ],
             [
              0.5555555555555556,
              "#d8576b"
             ],
             [
              0.6666666666666666,
              "#ed7953"
             ],
             [
              0.7777777777777778,
              "#fb9f3a"
             ],
             [
              0.8888888888888888,
              "#fdca26"
             ],
             [
              1,
              "#f0f921"
             ]
            ],
            "type": "heatmapgl"
           }
          ],
          "histogram": [
           {
            "marker": {
             "pattern": {
              "fillmode": "overlay",
              "size": 10,
              "solidity": 0.2
             }
            },
            "type": "histogram"
           }
          ],
          "histogram2d": [
           {
            "colorbar": {
             "outlinewidth": 0,
             "ticks": ""
            },
            "colorscale": [
             [
              0,
              "#0d0887"
             ],
             [
              0.1111111111111111,
              "#46039f"
             ],
             [
              0.2222222222222222,
              "#7201a8"
             ],
             [
              0.3333333333333333,
              "#9c179e"
             ],
             [
              0.4444444444444444,
              "#bd3786"
             ],
             [
              0.5555555555555556,
              "#d8576b"
             ],
             [
              0.6666666666666666,
              "#ed7953"
             ],
             [
              0.7777777777777778,
              "#fb9f3a"
             ],
             [
              0.8888888888888888,
              "#fdca26"
             ],
             [
              1,
              "#f0f921"
             ]
            ],
            "type": "histogram2d"
           }
          ],
          "histogram2dcontour": [
           {
            "colorbar": {
             "outlinewidth": 0,
             "ticks": ""
            },
            "colorscale": [
             [
              0,
              "#0d0887"
             ],
             [
              0.1111111111111111,
              "#46039f"
             ],
             [
              0.2222222222222222,
              "#7201a8"
             ],
             [
              0.3333333333333333,
              "#9c179e"
             ],
             [
              0.4444444444444444,
              "#bd3786"
             ],
             [
              0.5555555555555556,
              "#d8576b"
             ],
             [
              0.6666666666666666,
              "#ed7953"
             ],
             [
              0.7777777777777778,
              "#fb9f3a"
             ],
             [
              0.8888888888888888,
              "#fdca26"
             ],
             [
              1,
              "#f0f921"
             ]
            ],
            "type": "histogram2dcontour"
           }
          ],
          "mesh3d": [
           {
            "colorbar": {
             "outlinewidth": 0,
             "ticks": ""
            },
            "type": "mesh3d"
           }
          ],
          "parcoords": [
           {
            "line": {
             "colorbar": {
              "outlinewidth": 0,
              "ticks": ""
             }
            },
            "type": "parcoords"
           }
          ],
          "pie": [
           {
            "automargin": true,
            "type": "pie"
           }
          ],
          "scatter": [
           {
            "fillpattern": {
             "fillmode": "overlay",
             "size": 10,
             "solidity": 0.2
            },
            "type": "scatter"
           }
          ],
          "scatter3d": [
           {
            "line": {
             "colorbar": {
              "outlinewidth": 0,
              "ticks": ""
             }
            },
            "marker": {
             "colorbar": {
              "outlinewidth": 0,
              "ticks": ""
             }
            },
            "type": "scatter3d"
           }
          ],
          "scattercarpet": [
           {
            "marker": {
             "colorbar": {
              "outlinewidth": 0,
              "ticks": ""
             }
            },
            "type": "scattercarpet"
           }
          ],
          "scattergeo": [
           {
            "marker": {
             "colorbar": {
              "outlinewidth": 0,
              "ticks": ""
             }
            },
            "type": "scattergeo"
           }
          ],
          "scattergl": [
           {
            "marker": {
             "colorbar": {
              "outlinewidth": 0,
              "ticks": ""
             }
            },
            "type": "scattergl"
           }
          ],
          "scattermapbox": [
           {
            "marker": {
             "colorbar": {
              "outlinewidth": 0,
              "ticks": ""
             }
            },
            "type": "scattermapbox"
           }
          ],
          "scatterpolar": [
           {
            "marker": {
             "colorbar": {
              "outlinewidth": 0,
              "ticks": ""
             }
            },
            "type": "scatterpolar"
           }
          ],
          "scatterpolargl": [
           {
            "marker": {
             "colorbar": {
              "outlinewidth": 0,
              "ticks": ""
             }
            },
            "type": "scatterpolargl"
           }
          ],
          "scatterternary": [
           {
            "marker": {
             "colorbar": {
              "outlinewidth": 0,
              "ticks": ""
             }
            },
            "type": "scatterternary"
           }
          ],
          "surface": [
           {
            "colorbar": {
             "outlinewidth": 0,
             "ticks": ""
            },
            "colorscale": [
             [
              0,
              "#0d0887"
             ],
             [
              0.1111111111111111,
              "#46039f"
             ],
             [
              0.2222222222222222,
              "#7201a8"
             ],
             [
              0.3333333333333333,
              "#9c179e"
             ],
             [
              0.4444444444444444,
              "#bd3786"
             ],
             [
              0.5555555555555556,
              "#d8576b"
             ],
             [
              0.6666666666666666,
              "#ed7953"
             ],
             [
              0.7777777777777778,
              "#fb9f3a"
             ],
             [
              0.8888888888888888,
              "#fdca26"
             ],
             [
              1,
              "#f0f921"
             ]
            ],
            "type": "surface"
           }
          ],
          "table": [
           {
            "cells": {
             "fill": {
              "color": "#EBF0F8"
             },
             "line": {
              "color": "white"
             }
            },
            "header": {
             "fill": {
              "color": "#C8D4E3"
             },
             "line": {
              "color": "white"
             }
            },
            "type": "table"
           }
          ]
         },
         "layout": {
          "annotationdefaults": {
           "arrowcolor": "#2a3f5f",
           "arrowhead": 0,
           "arrowwidth": 1
          },
          "autotypenumbers": "strict",
          "coloraxis": {
           "colorbar": {
            "outlinewidth": 0,
            "ticks": ""
           }
          },
          "colorscale": {
           "diverging": [
            [
             0,
             "#8e0152"
            ],
            [
             0.1,
             "#c51b7d"
            ],
            [
             0.2,
             "#de77ae"
            ],
            [
             0.3,
             "#f1b6da"
            ],
            [
             0.4,
             "#fde0ef"
            ],
            [
             0.5,
             "#f7f7f7"
            ],
            [
             0.6,
             "#e6f5d0"
            ],
            [
             0.7,
             "#b8e186"
            ],
            [
             0.8,
             "#7fbc41"
            ],
            [
             0.9,
             "#4d9221"
            ],
            [
             1,
             "#276419"
            ]
           ],
           "sequential": [
            [
             0,
             "#0d0887"
            ],
            [
             0.1111111111111111,
             "#46039f"
            ],
            [
             0.2222222222222222,
             "#7201a8"
            ],
            [
             0.3333333333333333,
             "#9c179e"
            ],
            [
             0.4444444444444444,
             "#bd3786"
            ],
            [
             0.5555555555555556,
             "#d8576b"
            ],
            [
             0.6666666666666666,
             "#ed7953"
            ],
            [
             0.7777777777777778,
             "#fb9f3a"
            ],
            [
             0.8888888888888888,
             "#fdca26"
            ],
            [
             1,
             "#f0f921"
            ]
           ],
           "sequentialminus": [
            [
             0,
             "#0d0887"
            ],
            [
             0.1111111111111111,
             "#46039f"
            ],
            [
             0.2222222222222222,
             "#7201a8"
            ],
            [
             0.3333333333333333,
             "#9c179e"
            ],
            [
             0.4444444444444444,
             "#bd3786"
            ],
            [
             0.5555555555555556,
             "#d8576b"
            ],
            [
             0.6666666666666666,
             "#ed7953"
            ],
            [
             0.7777777777777778,
             "#fb9f3a"
            ],
            [
             0.8888888888888888,
             "#fdca26"
            ],
            [
             1,
             "#f0f921"
            ]
           ]
          },
          "colorway": [
           "#636efa",
           "#EF553B",
           "#00cc96",
           "#ab63fa",
           "#FFA15A",
           "#19d3f3",
           "#FF6692",
           "#B6E880",
           "#FF97FF",
           "#FECB52"
          ],
          "font": {
           "color": "#2a3f5f"
          },
          "geo": {
           "bgcolor": "white",
           "lakecolor": "white",
           "landcolor": "#E5ECF6",
           "showlakes": true,
           "showland": true,
           "subunitcolor": "white"
          },
          "hoverlabel": {
           "align": "left"
          },
          "hovermode": "closest",
          "mapbox": {
           "style": "light"
          },
          "paper_bgcolor": "white",
          "plot_bgcolor": "#E5ECF6",
          "polar": {
           "angularaxis": {
            "gridcolor": "white",
            "linecolor": "white",
            "ticks": ""
           },
           "bgcolor": "#E5ECF6",
           "radialaxis": {
            "gridcolor": "white",
            "linecolor": "white",
            "ticks": ""
           }
          },
          "scene": {
           "xaxis": {
            "backgroundcolor": "#E5ECF6",
            "gridcolor": "white",
            "gridwidth": 2,
            "linecolor": "white",
            "showbackground": true,
            "ticks": "",
            "zerolinecolor": "white"
           },
           "yaxis": {
            "backgroundcolor": "#E5ECF6",
            "gridcolor": "white",
            "gridwidth": 2,
            "linecolor": "white",
            "showbackground": true,
            "ticks": "",
            "zerolinecolor": "white"
           },
           "zaxis": {
            "backgroundcolor": "#E5ECF6",
            "gridcolor": "white",
            "gridwidth": 2,
            "linecolor": "white",
            "showbackground": true,
            "ticks": "",
            "zerolinecolor": "white"
           }
          },
          "shapedefaults": {
           "line": {
            "color": "#2a3f5f"
           }
          },
          "ternary": {
           "aaxis": {
            "gridcolor": "white",
            "linecolor": "white",
            "ticks": ""
           },
           "baxis": {
            "gridcolor": "white",
            "linecolor": "white",
            "ticks": ""
           },
           "bgcolor": "#E5ECF6",
           "caxis": {
            "gridcolor": "white",
            "linecolor": "white",
            "ticks": ""
           }
          },
          "title": {
           "x": 0.05
          },
          "xaxis": {
           "automargin": true,
           "gridcolor": "white",
           "linecolor": "white",
           "ticks": "",
           "title": {
            "standoff": 15
           },
           "zerolinecolor": "white",
           "zerolinewidth": 2
          },
          "yaxis": {
           "automargin": true,
           "gridcolor": "white",
           "linecolor": "white",
           "ticks": "",
           "title": {
            "standoff": 15
           },
           "zerolinecolor": "white",
           "zerolinewidth": 2
          }
         }
        },
        "title": {
         "text": "Duration of Songs Over Time by Genre"
        },
        "xaxis": {
         "anchor": "y",
         "autorange": true,
         "domain": [
          0,
          1
         ],
         "range": [
          "2016-09-02 22:33:29.8067",
          "2024-11-22 10:28:36.1933"
         ],
         "title": {
          "text": "Date Added"
         },
         "type": "date"
        },
        "yaxis": {
         "anchor": "x",
         "autorange": true,
         "domain": [
          0,
          1
         ],
         "range": [
          0.45976375404530745,
          15.559569579288027
         ],
         "title": {
          "text": "Duration"
         },
         "type": "linear"
        }
       }
      },
      "image/png": "[encoded data removed]",
      "text/html": [
       "<div>                            <div id=\"46244737-3925-4e60-8a70-31f1e4a37a71\" class=\"plotly-graph-div\" style=\"height:525px; width:100%;\"></div>            <script type=\"text/javascript\">                require([\"plotly\"], function(Plotly) {                    window.PLOTLYENV=window.PLOTLYENV || {};                                    if (document.getElementById(\"46244737-3925-4e60-8a70-31f1e4a37a71\")) {                    Plotly.newPlot(                        \"46244737-3925-4e60-8a70-31f1e4a37a71\",                        [{\"customdata\":[[\"A Place for My Head\"],[\"Lying from You\"],[\"Figure.09\"],[\"Hearts Burst into Fire\"],[\"Question!\"],[\"Wish I Had an Angel\"],[\"Animal I Have Become\"],[\"Welcome to the Family\"],[\"The Trooper - 2015 Remaster\"],[\"Everybody's Fool\"],[\"Unholy Confessions\"],[\"Almost Easy\"],[\"Chop Suey!\"],[\"So Far Away\"],[\"Afterlife\"],[\"Aerials\"],[\"The Middle\"],[\"Lost\"],[\"The Phantom Of The Opera\"],[\"IN MY REMAINS\"],[\"Points of Authority\"],[\"No More Sorrow\"],[\"Bleed It Out\"],[\"I Miss You\"],[\"Show Me How to Live\"],[\"Toxicity\"],[\"Final Masquerade\"],[\"POWERLESS\"],[\"Amaranth\"],[\"End Of All Hope\"],[\"One Step Closer\"],[\"Bullet With Butterfly Wings - Remastered 2012\"],[\"Future Days\"],[\"Conquer Or Die\"],[\"Tornado Of Souls - 2004 Remix\"],[\"This Ain't A Love Song\"],[\"The Devil in I\"],[\"Alone\"],[\"Heretic\"],[\"Buried Alive\"],[\"Dear God\"],[\"Solway Firth\"],[\"Duality\"],[\"Psychosocial\"],[\"New Divide\"],[\"Hail to the King\"],[\"Carry On\"],[\"Shepherd of Fire\"],[\"Even Flow\"],[\"B.Y.O.B.\"],[\"Sirens\"],[\"Waiting for the End\"],[\"Don't Stay\"],[\"One Last Breath\"],[\"Iridescent\"],[\"BURN IT DOWN\"],[\"Shadow of the Day\"],[\"Forgotten\"],[\"Leave Out All The Rest\"],[\"Runaway\"],[\"You Give Love A Bad Name\"],[\"Fury Of The Storm\"],[\"Through The Fire And Flames\"],[\"1979 - Remastered 2012\"],[\"Black\"],[\"Sirens\"],[\"Always\"],[\"Somewhere I Belong\"],[\"Numb\"],[\"In Pieces\"],[\"CASTLE OF GLASS\"],[\"Welcome To The Jungle\"],[\"Burning in the Skies\"],[\"Runaway\"],[\"Walk\"],[\"The Pretender\"],[\"Battle Symphony\"],[\"One More Light\"],[\"Heavy (feat. Kiiara)\"],[\"Talking to Myself\"],[\"Going Under\"],[\"Crawling\"],[\"Breaking the Habit\"],[\"In the End\"],[\"Everlong\"],[\"Today - 2011 Remaster\"],[\"Livin' On A Prayer\"],[\"Be Yourself\"],[\"Knockin' On Heaven's Door\"],[\"Over and Over\"],[\"Given Up\"],[\"Faint\"],[\"LOST IN THE ECHO\"],[\"What I've Done\"],[\"Like a Stone\"],[\"Invisible\"],[\"Sweet Child O' Mine\"],[\"Paradise City\"],[\"November Rain\"],[\"It's My Life\"],[\"I Hate Everything About You\"],[\"Last Resort\"],[\"Kryptonite\"],[\"Symphony Of Destruction - Remastered 2012\"],[\"Alive\"],[\"Sweet Child O' Mine\"]],\"hovertemplate\":\"Broad Genre=Metal<br>Date Added=%{x}<br>Duration=%{y}<br>Track Name=%{customdata[0]}<extra></extra>\",\"legendgroup\":\"Metal\",\"marker\":{\"color\":\"#636efa\",\"symbol\":\"circle\"},\"mode\":\"markers\",\"name\":\"Metal\",\"showlegend\":true,\"x\":[\"2024-06-12 12:45:21-05:00\",\"2024-04-05 14:12:20-05:00\",\"2024-04-05 14:01:47-05:00\",\"2024-02-26 15:27:38-05:00\",\"2024-02-26 15:16:37-05:00\",\"2024-02-26 15:11:24-05:00\",\"2024-02-26 15:08:43-05:00\",\"2024-02-25 22:23:43-05:00\",\"2024-02-24 21:06:19-05:00\",\"2024-02-24 21:00:20-05:00\",\"2024-02-24 20:38:17-05:00\",\"2024-02-24 20:34:31-05:00\",\"2024-02-05 23:14:25-05:00\",\"2023-09-01 12:45:59-05:00\",\"2023-05-16 07:57:03-05:00\",\"2023-05-08 08:20:09-05:00\",\"2023-04-19 22:25:57-05:00\",\"2023-02-13 11:52:50-05:00\",\"2022-12-05 21:46:52-05:00\",\"2022-12-03 21:44:56-05:00\",\"2022-12-03 21:38:09-05:00\",\"2022-12-03 21:36:17-05:00\",\"2022-12-03 21:36:07-05:00\",\"2022-09-28 19:29:05-05:00\",\"2022-09-21 16:19:09-05:00\",\"2021-04-17 11:12:21-05:00\",\"2020-11-19 17:15:36-05:00\",\"2020-11-19 16:15:03-05:00\",\"2020-11-05 17:54:15-05:00\",\"2020-11-05 17:51:03-05:00\",\"2020-10-23 09:33:54-05:00\",\"2020-08-16 20:56:29-05:00\",\"2020-07-21 10:50:43-05:00\",\"2020-04-21 18:36:14-05:00\",\"2020-04-21 18:28:15-05:00\",\"2020-01-31 08:20:37-05:00\",\"2020-01-01 01:25:29-05:00\",\"2019-11-28 10:47:20-05:00\",\"2019-11-27 16:33:56-05:00\",\"2019-11-27 16:30:02-05:00\",\"2019-11-27 16:28:32-05:00\",\"2019-11-25 22:40:28-05:00\",\"2019-11-25 22:36:25-05:00\",\"2019-11-25 22:30:48-05:00\",\"2019-11-07 22:14:28-05:00\",\"2019-10-31 16:00:43-05:00\",\"2019-10-31 15:55:57-05:00\",\"2019-10-31 15:54:20-05:00\",\"2019-09-11 20:58:56-05:00\",\"2019-07-12 11:09:43-05:00\",\"2018-12-29 23:48:55-05:00\",\"2018-12-05 18:47:50-05:00\",\"2018-11-27 13:27:13-05:00\",\"2018-10-24 17:32:56-05:00\",\"2018-09-29 21:11:39-05:00\",\"2018-09-29 21:11:10-05:00\",\"2018-09-29 21:10:45-05:00\",\"2018-09-29 21:08:14-05:00\",\"2018-09-29 21:08:09-05:00\",\"2018-09-29 21:04:36-05:00\",\"2018-09-20 23:11:33-05:00\",\"2018-09-01 08:49:51-05:00\",\"2018-08-31 22:25:44-05:00\",\"2018-08-16 00:13:46-05:00\",\"2018-08-04 21:54:30-05:00\",\"2018-07-01 21:38:27-05:00\",\"2018-05-22 15:52:06-05:00\",\"2018-04-04 06:39:13-05:00\",\"2018-03-06 12:44:06-05:00\",\"2018-03-06 12:42:37-05:00\",\"2018-03-06 12:42:11-05:00\",\"2018-02-25 11:23:23-05:00\",\"2017-10-31 18:00:24-05:00\",\"2017-10-30 18:12:39-05:00\",\"2017-09-10 18:31:56-05:00\",\"2017-09-10 18:31:29-05:00\",\"2017-09-10 02:10:53-05:00\",\"2017-08-10 23:53:24-05:00\",\"2017-08-10 22:15:07-05:00\",\"2017-08-06 01:30:41-05:00\",\"2017-08-02 11:47:34-05:00\",\"2017-07-20 22:10:53-05:00\",\"2017-07-20 22:10:45-05:00\",\"2017-07-20 22:10:36-05:00\",\"2017-07-16 21:30:15-05:00\",\"2017-06-28 20:51:52-05:00\",\"2017-06-25 20:47:18-05:00\",\"2017-06-23 18:57:22-05:00\",\"2017-06-23 18:45:12-05:00\",\"2017-06-09 06:27:56-05:00\",\"2017-05-18 22:11:28-05:00\",\"2017-05-18 21:58:52-05:00\",\"2017-05-18 21:58:22-05:00\",\"2017-05-18 21:58:09-05:00\",\"2017-05-18 13:19:59-05:00\",\"2017-05-14 10:45:40-05:00\",\"2017-05-01 22:03:12-05:00\",\"2017-05-01 22:03:04-05:00\",\"2017-05-01 22:02:49-05:00\",\"2017-04-21 16:09:54-05:00\",\"2017-04-09 18:45:17-05:00\",\"2017-04-09 18:40:14-05:00\",\"2017-04-09 18:33:46-05:00\",\"2017-04-02 17:26:17-05:00\",\"2017-02-14 09:32:42-05:00\",\"2017-02-14 09:32:04-05:00\"],\"xaxis\":\"x\",\"y\":[3.0773333333333333,2.91755,3.2917666666666667,4.965766666666667,3.3433333333333333,4.09955,3.8566666666666665,4.092883333333333,4.2122166666666665,3.264666666666667,4.730433333333333,3.90155,3.504,5.446883333333333,5.873766666666667,3.91755,2.7642166666666665,3.3223666666666665,4.1451,3.344883333333333,3.337333333333333,3.694883333333333,2.7404333333333333,3.7875,4.6306666666666665,3.6488833333333335,3.626883333333333,3.7411,3.8574,3.8966666666666665,2.622216666666666,4.307766666666667,4.38155,3.558,5.3211,5.104,5.713683333333333,5.938,4.920216666666667,6.739766666666666,6.558,5.925666666666666,4.210216666666667,4.723333333333334,4.476883333333333,5.098433333333333,4.251266666666667,5.3966666666666665,4.876333333333333,4.257766666666667,5.672,3.8613333333333335,3.132216666666667,3.970666666666667,4.942666666666667,3.83755,4.831766666666667,3.2404333333333333,3.488433333333333,3.0662166666666666,3.711766666666666,6.780433333333334,7.320216666666667,4.4366666666666665,5.710883333333333,5.672,5.8886666666666665,3.56555,3.1253333333333333,3.63355,3.4233333333333333,4.533766666666667,4.219333333333333,3.844433333333333,4.266,4.48955,3.6046833333333335,4.2511,2.83,3.8551,3.5824333333333334,3.482666666666667,3.268883333333333,3.6146666666666665,4.175766666666667,3.352883333333333,4.171766666666667,4.64955,5.6,3.198433333333333,3.1548833333333333,2.701766666666667,3.4186666666666667,3.420433333333333,4.899333333333334,3.572433333333333,5.908666666666667,6.760666666666666,8.958433333333334,3.74155,3.858,3.33155,3.8988833333333335,4.031766666666667,5.681783333333334,5.94],\"yaxis\":\"y\",\"type\":\"scattergl\"},{\"customdata\":[[\"Brickell\"],[\"Exclusive.mp3\"],[\"Llorar\\u00e1s\"],[\"Perd\\u00f3name\"],[\"50 Ways to Say Goodbye\"],[\"Darte Amor\"],[\"Murder On The Dancefloor\"],[\"50 Horas\"],[\"Nada Valgo Sin Tu Amor\"],[\"Nada Fue Un Error\"],[\"Ni\\u00f1a\"],[\"Por Fin Te Encontr\\u00e9\"],[\"Burning Friday Night\"],[\"CLASSY 101\"],[\"DE LUNES A LUNES\"],[\"Para Ti\"],[\"Quisiera\"],[\"El Calendario\"],[\"Reggaet\\u00f3n Lento (Bailemos)\"],[\"La Tortura (feat. Alejandro Sanz)\"],[\"Hips Don't Lie (feat. Wyclef Jean)\"],[\"ADI\\u00d3S (Live Version)\"],[\"Hang The Cyst\"],[\"Pattern\"],[\"She Does The Woods\"],[\"Used To Be My Girl\"],[\"Aviation\"],[\"My Mistakes Were Made For You\"],[\"Standing Next To Me\"],[\"Miracle Aligner\"],[\"Sweet Dreams, TN\"],[\"PROBLEMI CON TUTTI (GIUDA)\"],[\"Hey Baby (Drop It to the Floor) (feat. T-Pain)\"],[\"A Dios Le Pido\"],[\"P\\u00eddeme\"],[\"Perderme Contigo\"],[\"NIGHT DANCER\"],[\"Pedro\"],[\"Io non vivo senza te\"],[\"The Only Exception\"],[\"You First\"],[\"This Is Why\"],[\"Pool\"],[\"Rose-Colored Boy\"],[\"Otra Ocupa Mi Lugar\"],[\"Hace Tiempo\"],[\"Deamon Lover\"],[\"Emergency\"],[\"Hello Cold World\"],[\"No Te Pido Flores\"],[\"Esa Muchachita\"],[\"El Problem\\u00f3n\"],[\"Readymade\"],[\"Stop This Song (Love Sick Melody)\"],[\"Backlight\"],[\"Todo Lo Que Quieres Es Bailar (feat. Descemer Bueno)\"],[\"Told You So\"],[\"I Caught Myself\"],[\"Pressure\"],[\"Non c'\\u00e8 rimedio\"],[\"Ignorance\"],[\"Let the Flames Begin\"],[\"crushcrushcrush\"],[\"Tacones Rojos\"],[\"Total Eclipse of the Heart\"],[\"It's Not Unusual\"],[\"This Is Me\"],[\"Venus\"],[\"My Way - 2008 Remastered\"],[\"Sara' Perche Ti Amo\"],[\"La solitudine\"],[\"Like a Prayer\"],[\"Like a Virgin\"],[\"Gimme! Gimme! Gimme! (A Man After Midnight)\"],[\"Lay All Your Love On Me\"],[\"Thinking out Loud\"],[\"Perfect\"],[\"Save You\"],[\"Team\"],[\"Som Ocells\"],[\"como si no importara\"],[\"Wild Blue\"],[\"Your Love\"],[\"Harvest Moon\"],[\"Covered in Rain - Live at Tweeter Center, Philadelphia, Pennsylvania, August 2004\"],[\"Belief - Live at the Nokia Theatre, Los Angeles, CA - December 2007\"],[\"Belief\"],[\"good 4 u\"],[\"Ibiza\"],[\"Devuelveme\"],[\"Todo De Ti\"],[\"Toxic\"],[\"Brick by Boring Brick\"],[\"Homecoming\"],[\"Hey, Soul Sister\"],[\"I Don't Need No Doctor - Live at the Nokia Theatre, Los Angeles, CA - December 2007\"],[\"I'm Gonna Find Another You\"],[\"Caramelo\"],[\"Torn\"],[\"Una voglia assurda\"],[\"Rude\"],[\"Magic\"],[\"Moving On and Getting Over\"],[\"Gravity - Live at the Nokia Theatre, Los Angeles, CA - December 2007\"],[\"Slow Dancing in a Burning Room\"],[\"Helpless\"],[\"Yo x Ti, Tu x Mi\"],[\"Le luci della citt\\u00e0\"],[\"Mal di gola\"],[\"Neon - Live at the Nokia Theatre, Los Angeles, CA - December 2007\"],[\"Nandemonaiya - movie ver.\"],[\"You Are Young\"],[\"My Way\"],[\"Te Quiero Amar\"],[\"Te Voy A Amar\"],[\"Brandy (You're a Fine Girl)\"],[\"Trouble\"],[\"For A Better Day\"],[\"99 Luftballons\"],[\"Drown\"],[\"Buona fortuna\"],[\"all the good girls go to hell\"],[\"I Have Nothing\"],[\"ocean eyes\"],[\"Sunday Morning\"],[\"1973\"],[\"You're Beautiful\"],[\"Goodbye My Lover\"],[\"Complicated\"],[\"I Write Sins Not Tragedies\"],[\"Time to Dance\"],[\"50 Special\"],[\"Summer Of '69\"],[\"I'm Yours\"],[\"Kangaroo Court\"],[\"Pump It\"],[\"High Hopes\"],[\"Mi Primer Millon\"],[\"I Want It That Way\"],[\"Billionaire (feat. Bruno Mars)\"],[\"Te Mando Flores\"],[\"Space\"],[\"Something Just Like This\"],[\"Perfect\"],[\"Se Prepar\\u00f3\"],[\"Me Reh\\u00faso\"],[\"Sovereign Light Caf\\u00e9\"],[\"Everybody's Changing\"],[\"Cuando Me Enamoro\"],[\"Nuova Ossessione\"],[\"Miracle\"],[\"Cooler Than Me - Single Mix\"],[\"Ain't It Fun\"],[\"Still into You\"],[\"D\\u00e9jala Que Vuelva (feat. Manuel Turizo)\"],[\"Misery Business\"],[\"Hard Times\"],[\"What You Say\"],[\"Somewhere Only We Know\"],[\"Piccole cose (feat. Alessandra Amoroso)\"],[\"Vorrei ma non posto\"],[\"Libero\"],[\"That's What You Get\"],[\"Decode - Twilight Soundtrack Version\"],[\"La Camisa Negra\"],[\"Tabaco y Chanel\"],[\"Caraluna\"],[\"Extraordinary (feat. Sharna Bass)\"],[\"Carry On\"],[\"Slow Hands\"],[\"No Diggity\"],[\"Faith - Remastered\"],[\"Talk Is Cheap\"],[\"December, 1963 (Oh What a Night!)\"],[\"Sugar\"],[\"Somebody That I Used To Know\"],[\"Sign of the Times\"],[\"The Tracks Of My Tears\"],[\"Iris\"],[\"Live Is Life (Digitally Remastered) (Single Version)\"],[\"End Of The Road\"],[\"She Will Be Loved\"],[\"The Sweet Escape\"],[\"Corner of the Earth\"],[\"Symphony (feat. Zara Larsson)\"],[\"Old Thing Back (feat. Ja Rule and Ralph Tresvant)\"]],\"hovertemplate\":\"Broad Genre=Pop<br>Date Added=%{x}<br>Duration=%{y}<br>Track Name=%{customdata[0]}<extra></extra>\",\"legendgroup\":\"Pop\",\"marker\":{\"color\":\"#EF553B\",\"symbol\":\"circle\"},\"mode\":\"markers\",\"name\":\"Pop\",\"showlegend\":true,\"x\":[\"2024-06-11 17:57:50-05:00\",\"2024-05-24 17:12:24-05:00\",\"2024-05-02 00:41:05-05:00\",\"2024-04-15 22:26:31-05:00\",\"2024-02-27 20:45:03-05:00\",\"2024-02-08 14:37:00-05:00\",\"2024-01-22 00:27:52-05:00\",\"2024-01-11 17:33:06-05:00\",\"2024-01-01 18:34:49-05:00\",\"2024-01-01 16:41:24-05:00\",\"2023-12-07 16:00:10-05:00\",\"2023-10-26 23:07:52-05:00\",\"2023-10-15 20:37:22-05:00\",\"2023-10-13 22:50:21-05:00\",\"2023-09-25 20:45:54-05:00\",\"2023-09-23 20:38:10-05:00\",\"2023-09-23 20:33:28-05:00\",\"2023-09-23 20:29:32-05:00\",\"2023-09-09 13:42:31-05:00\",\"2023-09-08 18:41:34-05:00\",\"2023-09-08 18:41:33-05:00\",\"2023-08-01 23:45:39-05:00\",\"2023-08-01 20:30:18-05:00\",\"2023-08-01 20:14:35-05:00\",\"2023-07-16 21:08:23-05:00\",\"2023-07-16 21:05:12-05:00\",\"2023-07-16 20:57:59-05:00\",\"2023-07-16 12:19:53-05:00\",\"2023-07-16 12:19:51-05:00\",\"2023-07-16 12:19:49-05:00\",\"2023-07-16 12:19:48-05:00\",\"2023-07-04 19:34:08-05:00\",\"2023-06-23 21:11:43-05:00\",\"2023-06-20 07:42:15-05:00\",\"2023-06-12 16:39:51-05:00\",\"2023-06-08 22:17:43-05:00\",\"2023-05-08 20:04:25-05:00\",\"2023-04-03 19:21:36-05:00\",\"2023-04-02 17:38:54-05:00\",\"2023-03-02 07:21:20-05:00\",\"2023-03-02 07:21:05-05:00\",\"2023-03-01 18:57:57-05:00\",\"2023-02-28 08:09:29-05:00\",\"2023-02-28 08:09:21-05:00\",\"2023-02-15 16:40:13-05:00\",\"2023-01-20 16:55:36-05:00\",\"2023-01-01 21:17:51-05:00\",\"2022-12-06 18:12:41-05:00\",\"2022-12-06 18:07:50-05:00\",\"2022-11-29 07:53:58-05:00\",\"2022-11-29 07:53:39-05:00\",\"2022-11-24 13:36:01-05:00\",\"2022-11-09 22:40:18-05:00\",\"2022-11-09 18:19:25-05:00\",\"2022-11-02 22:07:21-05:00\",\"2022-10-26 23:24:16-05:00\",\"2022-10-26 21:36:36-05:00\",\"2022-10-23 18:35:40-05:00\",\"2022-10-23 18:20:07-05:00\",\"2022-10-23 16:20:04-05:00\",\"2022-10-10 12:34:45-05:00\",\"2022-10-08 11:38:09-05:00\",\"2022-10-07 18:21:37-05:00\",\"2022-09-25 17:40:19-05:00\",\"2022-08-27 18:13:09-05:00\",\"2022-08-05 18:56:14-05:00\",\"2022-07-07 07:54:53-05:00\",\"2022-05-29 22:35:57-05:00\",\"2022-04-22 07:47:55-05:00\",\"2022-04-21 18:09:02-05:00\",\"2022-04-11 15:52:07-05:00\",\"2022-04-07 07:57:22-05:00\",\"2022-04-07 07:55:15-05:00\",\"2022-03-12 09:31:40-05:00\",\"2022-03-12 09:27:41-05:00\",\"2021-12-11 00:29:41-05:00\",\"2021-10-21 10:10:19-05:00\",\"2021-10-21 10:10:09-05:00\",\"2021-08-14 11:20:32-05:00\",\"2021-07-27 21:18:17-05:00\",\"2021-07-25 19:36:30-05:00\",\"2021-07-16 11:37:11-05:00\",\"2021-07-14 10:56:09-05:00\",\"2021-06-15 20:13:38-05:00\",\"2021-06-12 20:26:40-05:00\",\"2021-06-12 20:26:37-05:00\",\"2021-06-12 09:00:25-05:00\",\"2021-06-03 09:57:30-05:00\",\"2021-06-02 00:17:55-05:00\",\"2021-05-31 11:27:54-05:00\",\"2021-05-28 19:41:46-05:00\",\"2021-04-17 11:12:23-05:00\",\"2020-11-19 16:28:08-05:00\",\"2020-10-25 19:49:50-05:00\",\"2020-10-03 00:31:49-05:00\",\"2020-08-14 00:23:02-05:00\",\"2020-08-14 00:17:23-05:00\",\"2020-07-06 22:35:11-05:00\",\"2020-06-18 10:52:34-05:00\",\"2020-06-05 08:45:13-05:00\",\"2020-05-13 20:20:41-05:00\",\"2020-05-05 14:07:10-05:00\",\"2020-03-18 23:19:20-05:00\",\"2020-03-18 22:55:43-05:00\",\"2020-03-18 22:46:34-05:00\",\"2020-03-18 22:34:26-05:00\",\"2020-03-11 19:44:44-05:00\",\"2020-03-01 00:55:52-05:00\",\"2020-02-21 14:09:56-05:00\",\"2020-02-19 17:10:03-05:00\",\"2020-02-16 11:41:54-05:00\",\"2020-01-31 07:04:39-05:00\",\"2020-01-30 20:05:11-05:00\",\"2020-01-14 13:21:03-05:00\",\"2020-01-12 18:52:21-05:00\",\"2019-12-24 21:22:42-05:00\",\"2019-12-15 11:36:26-05:00\",\"2019-12-15 11:31:53-05:00\",\"2019-11-18 21:20:42-05:00\",\"2019-10-22 22:56:46-05:00\",\"2019-10-13 22:34:41-05:00\",\"2019-09-07 07:49:49-05:00\",\"2019-07-29 22:11:12-05:00\",\"2019-07-25 13:03:21-05:00\",\"2019-05-05 00:58:20-05:00\",\"2019-04-02 16:55:41-05:00\",\"2019-03-29 21:42:43-05:00\",\"2019-03-29 21:42:40-05:00\",\"2019-02-20 23:05:00-05:00\",\"2019-02-08 10:34:44-05:00\",\"2019-02-08 10:34:39-05:00\",\"2018-12-29 01:13:26-05:00\",\"2018-12-28 10:35:46-05:00\",\"2018-12-15 23:42:55-05:00\",\"2018-11-12 20:34:02-05:00\",\"2018-10-26 20:12:01-05:00\",\"2018-10-23 11:19:36-05:00\",\"2018-09-23 22:41:24-05:00\",\"2018-09-21 18:10:51-05:00\",\"2018-09-06 09:43:28-05:00\",\"2018-08-14 17:46:54-05:00\",\"2018-08-03 16:58:23-05:00\",\"2018-07-16 07:21:41-05:00\",\"2018-04-21 00:37:04-05:00\",\"2018-03-17 00:12:44-05:00\",\"2018-03-17 00:12:20-05:00\",\"2018-01-14 16:12:21-05:00\",\"2018-01-14 16:10:43-05:00\",\"2018-01-08 08:59:15-05:00\",\"2017-12-09 14:04:50-05:00\",\"2017-12-04 22:45:03-05:00\",\"2017-11-30 14:58:45-05:00\",\"2017-11-29 21:07:37-05:00\",\"2017-11-29 21:06:38-05:00\",\"2017-11-26 21:19:51-05:00\",\"2017-11-14 22:50:12-05:00\",\"2017-11-14 22:46:00-05:00\",\"2017-11-14 19:41:46-05:00\",\"2017-11-04 11:59:05-05:00\",\"2017-09-17 22:15:02-05:00\",\"2017-09-15 09:25:21-05:00\",\"2017-09-15 08:59:22-05:00\",\"2017-08-02 11:48:10-05:00\",\"2017-08-02 11:47:54-05:00\",\"2017-08-02 11:45:23-05:00\",\"2017-07-26 13:28:46-05:00\",\"2017-07-26 13:27:23-05:00\",\"2017-07-18 13:18:02-05:00\",\"2017-07-13 08:07:12-05:00\",\"2017-07-02 20:01:59-05:00\",\"2017-06-27 19:24:39-05:00\",\"2017-06-25 20:46:34-05:00\",\"2017-06-21 21:31:30-05:00\",\"2017-06-15 16:55:08-05:00\",\"2017-06-10 20:01:23-05:00\",\"2017-05-28 18:44:31-05:00\",\"2017-05-26 16:06:01-05:00\",\"2017-05-05 14:07:05-05:00\",\"2017-04-27 13:04:47-05:00\",\"2017-04-21 12:56:14-05:00\",\"2017-04-11 21:22:48-05:00\",\"2017-04-06 22:08:51-05:00\",\"2017-03-28 10:04:14-05:00\",\"2017-03-26 19:28:33-05:00\",\"2017-03-26 12:46:24-05:00\",\"2017-03-26 11:40:16-05:00\"],\"xaxis\":\"x\",\"y\":[3.006,2.01,3.809233333333333,4.0837666666666665,4.132433333333333,4.319333333333334,3.83355,3.56,3.272666666666667,3.4646666666666666,4.200666666666667,4.1806,4.2568,3.266433333333333,3.1401833333333333,3.4306666666666668,3.1742166666666667,3.1333333333333333,3.709333333333333,3.548216666666667,3.634883333333333,2.74245,6.7104333333333335,4.253233333333333,3.50435,2.9235,3.7319166666666663,3.1091,2.37755,4.09545,3.9375333333333336,2.2479,3.90755,3.422883333333333,3.8371,4.10645,3.5158,3.32555,3.469333333333333,4.460883333333333,4.092016666666667,3.4608666666666665,3.879766666666667,3.54755,4.3916,3.63,6.084,4.000666666666667,3.3851666666666667,4.078666666666667,3.9562166666666663,3.573566666666667,4.0531,3.393333333333333,3.9611,3.8836,3.1491,3.924,3.09555,4.992883333333333,3.6437666666666666,3.3037666666666667,3.1562166666666664,3.155333333333333,4.456,1.9966666666666664,3.152883333333333,3.8194,4.604216666666667,3.2522166666666665,4.009333333333333,5.711333333333333,3.6437666666666666,4.876883333333334,4.541766666666667,4.692666666666667,4.6171,3.764433333333333,3.217633333333333,2.9794,2.8842,4.206883333333334,3.6077666666666666,5.05355,8.859333333333334,6.057333333333333,4.038883333333334,2.9691,3.3457666666666666,3.148433333333333,3.3267333333333333,3.313333333333333,4.232433333333334,3.9788833333333335,3.612883333333333,6.042883333333333,2.7171,3.625766666666667,4.080216666666667,2.9107666666666665,3.747333333333333,3.10555,4.422666666666666,9.684433333333333,4.033333333333333,4.152,3.3506666666666667,2.954433333333333,2.8611,5.928883333333333,5.734216666666667,3.5777666666666668,4.613333333333333,3.184883333333333,4.220666666666666,3.113766666666667,2.858433333333333,3.434433333333333,3.874433333333333,3.900916666666667,3.0782166666666666,2.8139833333333333,4.819333333333334,3.33965,4.081333333333333,4.6671,3.49155,4.310883333333333,4.0751,3.0931,3.3671,3.458666666666667,3.600883333333333,4.0491,3.719766666666666,3.5511,3.182433333333333,3.9564333333333335,3.5551,3.519333333333333,3.7955833333333335,3.06755,4.1193333333333335,4.39,3.1346666666666665,3.4290166666666666,3.6473333333333335,3.598,3.3431,4.704883333333333,3.4957666666666665,3.554883333333333,4.942,3.600216666666667,3.6686,3.525333333333333,3.0448833333333334,3.4289,3.9591,3.598,3.764433333333333,3.22525,3.6746666666666665,4.365983333333333,3.6117666666666666,5.206666666666667,4.436,4.277933333333333,4.63955,3.136233333333333,5.076666666666667,3.22,3.63445,3.35155,3.924883333333333,4.0814,5.678433333333333,3.3906666666666667,4.831766666666667,4.158333333333333,5.827333333333334,4.28555,4.107766666666667,5.649333333333334,3.540983333333333,5.360816666666667],\"yaxis\":\"y\",\"type\":\"scattergl\"},{\"customdata\":[[\"MY EYES\"],[\"Hustlers\"],[\"UN MONT\\u00d3N\"],[\"WACHA\"],[\"Hold On, We're Going Home\"],[\"Yeah Glo!\"],[\"Ojos Verdes\"],[\"Coyote\"],[\"Ciudad de la Paz\"],[\"Mu\\u00f1ecas\"],[\"Buenos tiempos\"],[\"Mi peor enemigo\"],[\"La novia de mi amigo\"],[\"Cirug\\u00eda\"],[\"offline\"],[\"BESAME (feat. Tiago PZK, Khea & Neo Pistea) - Remix\"],[\"LADRONA - con Mario Luis\"],[\"Creo Que (feat. Asan)\"],[\"A PURO DOLOR\"],[\"Insta Lova\"],[\"Daddy feat. Sfera Ebbasta & Leto (de PSO Thug)\"],[\"M' Manc (con Geolier & Sfera Ebbasta)\"],[\"Piel\"],[\"C\\u00f3mo Le Digo\"],[\"Pensabas\"],[\"Sol y Luna\"],[\"Loca\"],[\"Tu Ritmo\"],[\"Tanta Droga\"],[\"Triste (with Feid)\"],[\"Pininfarina - Remix\"],[\"Fvck Luv\"],[\"No Cap\"],[\"CU\\u00c1NTOS T\\u00c9RMINOS?\"],[\"Cupido (with Khea & Duki feat. Quavo & Elettra Lamborghini) - RMX\"],[\"Princess Diana (with Nicki Minaj)\"],[\"No Me Llores\"],[\"Double Bass\"],[\"Oil (feat. Stevie Nicks)\"],[\"Mala\"],[\"Manicomio\"],[\"CALL ME MAYBE\"],[\"Kemba Walker\"],[\"SINVERG\\u00dcENZA - con Angela Torres\"],[\"The Spins\"],[\"Papa Noel\"],[\"ALV\"],[\"23\"],[\"Yandel 150\"],[\"Thug Passion (ft. Jewell, Outlawz, The Storm)\"],[\"Catch Me Outside\"],[\"Young Flex\"],[\"SANDUNGA\"],[\"L\\u00e1grimas | CROSSOVER #4\"],[\"LOCO X TU CUERPO\"],[\"NO DA M\\u00c1S\"],[\"LUGARES QUE LLEGO\"],[\"La Jumpa\"],[\"ADICTO\"],[\"Dreams, Fairytales, Fantasies (feat. Brent Faiyaz & Salaam Remi)\"],[\"Ele Uve\"],[\"NANA\"],[\"BBYNOSE_147BPM9S\"],[\"TOMBOY\"],[\"One Million Dollar Baby\"],[\"Take A Step Back\"],[\"Mis Ojos Lloran Por Ti\"],[\"El Hokage\"],[\"Que Somos - Remix\"],[\"BabyWipe\"],[\"All Girls Are The Same\"],[\"Quavo #Mododiablo\"],[\"Vuelta a la Luna - Remix\"],[\"Goteo - Remix\"],[\"3 Am\"],[\"Metele Saz\\u00f3n\"],[\"Pa' Que Retozen\"],[\"Nota\"],[\"qu\\u00e9 le pasa conmigo?\"],[\"Tenso\"],[\"Me Usaste\"],[\"Lean Wit Me\"],[\"Wishing Well\"],[\"Robbery\"],[\"Si Te Sentis Sola\"],[\"antes de perderte (OG VERSION)\"],[\"Real Muthaphuckkin G's\"],[\"Te Busco\"],[\"NO voy a llorar :')\"],[\"CAEN LAS ESTRELLAS\"],[\"ATORRANTE - con Los Palmeras\"],[\"Lovumba\"],[\"No Me Dejes Solo\"],[\"Mentiras | CROSSOVER #3\"],[\"AEROBICO REMIX\"],[\"Hijo De La Noche\"],[\"Goteo\"],[\"GiGi\"],[\"ID\"],[\"Ayer Me Llam\\u00f3 Mi Ex\"],[\"How Do U Want It\"],[\"Hood Took Me Under\"],[\"Ticket\"],[\"Remember Me\"],[\"Un Finde | CROSSOVER #2\"],[\"LOVE. FEAT. ZACARI.\"],[\"Me Enter\\u00e9\"],[\"Columbia\"],[\"Hello Cotto\"],[\"TRAP.N.EXPORT (feat. Duki, Ysy A & Neo Pistea)\"],[\"Silent Running (feat. Adeleye Omotayo)\"],[\"Baby Queen\"],[\"DISPARA ***\"],[\"Mbappe\"],[\"Si la Calle Llama\"],[\"Water\"],[\"CSIpher (audio latino)\"],[\"Chico Estrella\"],[\"RoCKSTAR 2.0\"],[\"Freestyle Session #11\"],[\"RIP Roach\"],[\"Hope\"],[\"Los del Espacio\"],[\"Cont\\u00e9stame el Tel\\u00e9fono (feat. Flex)\"],[\"POST MORTEM\"],[\"OLA DE SUICIDIOS\"],[\"You Know How We Do It\"],[\"aPoLLo13\"],[\"Si Me Sobrara el Tiempo\"],[\"New Gold (feat. Tame Impala and Bootie Brown)\"],[\"Cracker Island (feat. Thundercat)\"],[\"MEMORIAS\"],[\"Ayer La Vi\"],[\"Nublado (feat. Travis Barker)\"],[\"Duki: Bzrp Music Sessions, Vol. 50\"],[\"Noche de Novela (feat. Ed Sheeran)\"],[\"Guersace\"],[\"Party en el Barrio (feat. Duki)\"],[\"Surf\"],[\"VISTA AL MAR\"],[\"Dominicana\"],[\"Chucky73: Bzrp Music Sessions, Vol. 43\"],[\"El Amor\"],[\"Pintao\"],[\"REALITY\"],[\"RILI RILI\"],[\"GIVENCHY\"],[\"Quevedo: Bzrp Music Sessions, Vol. 52\"],[\"No More ?'s\"],[\"Express Yourself - Remix\"],[\"California Love - Original Version\"],[\"Nuthin' But A \\\"G\\\" Thang\"],[\"Fuck Tha Police\"],[\"No Vaseline\"],[\"Villano Antillano: Bzrp Music Sessions, Vol. 51\"],[\"Antes de Perderte\"],[\"A$AP\"],[\"Ahora y Siempre\"],[\"Chamaquita\"],[\"Respuesta Cero\"],[\"WAIFU_153BPM2B\"],[\"BICICLETA\"],[\"Guchi Polo\"],[\"La Trampa es Ley\"],[\"220\"],[\"Plan A\"],[\"L-Gante: Bzrp Music Sessions, Vol.38\"],[\"JUNGLE\"],[\"Entre Nosotros (Remix) [con Nicki Nicole]\"],[\"Pinta\"],[\"YIN YAN\"],[\"Tiago PZK: Bzrp Music Sessions, Vol. 48\"],[\"Dillom: Bzrp Music Sessions, Vol. 9\"],[\"TOP 5\"],[\"Sin Frenos\"],[\"ROCKETPOWERS\"],[\"PELOTUDA\"],[\"LA PRIMERA\"],[\"Mamichula - con Nicki Nicole\"],[\"DANCE CRIP\"],[\"PISO 13\"],[\"She Don't Give a Fo\"],[\"Unfollow\"],[\"Adem\\u00e1s de M\\u00ed - Remix\"],[\"YaMeFui\"],[\"My Bag\"],[\"SNITCH E IMPICCI (feat. FSK SATELLITE)\"],[\"Tesla (feat. Sfera Ebbasta & DrefGold)\"],[\"Dame Una Nite\"],[\"Dejame Tranki\"],[\"Mala M\\u00eda\"],[\"Lassie\"],[\"Prende la C\\u00e1mara\"],[\"California\"],[\"Entre Nosotros\"],[\"KHEA: Bzrp Music Sessions, Vol. 34\"],[\"Malbec\"],[\"Eladio Carrion: Bzrp Music Sessions, Vol. 40\"],[\"Sauce\"],[\"OPA\"],[\"DUDADE\"],[\"Zaramay: Bzrp Music Sessions, Vol. 31\"],[\"Snow Tha Product: Bzrp Music Sessions, Vol. 39\"],[\"Nathy Peluso: Bzrp Music Sessions, Vol. 36\"],[\"Flexin'\"],[\"Circles\"],[\"QUELLI CHE NON PENSANO - Il cervello (feat. Coez)\"],[\"Monster\"],[\"Dark Fantasy\"],[\"Better Now\"],[\"Lucid Dreams\"],[\"XO Tour Llif3\"],[\"Davide (feat. Coez)\"],[\"Redbone\"],[\"Crazy\"],[\"Lowrider - Edited LP Version\"],[\"On Melancholy Hill\"],[\"Clint Eastwood\"],[\"Feel Good Inc.\"],[\"White Iverson\"],[\"Congratulations\"],[\"Big Lie\"],[\"Hypnotize - 2014 Remaster\"],[\"Gettin' Jiggy Wit It\"],[\"Ice Ice Baby\"],[\"Big Poppa - 2005 Remaster\"],[\"Juicy - 2005 Remaster\"]],\"hovertemplate\":\"Broad Genre=Hip Hop<br>Date Added=%{x}<br>Duration=%{y}<br>Track Name=%{customdata[0]}<extra></extra>\",\"legendgroup\":\"Hip Hop\",\"marker\":{\"color\":\"#00cc96\",\"symbol\":\"circle\"},\"mode\":\"markers\",\"name\":\"Hip Hop\",\"showlegend\":true,\"x\":[\"2024-06-10 20:04:56-05:00\",\"2024-06-04 21:30:10-05:00\",\"2024-05-30 19:46:57-05:00\",\"2024-05-04 09:03:26-05:00\",\"2024-04-28 02:02:31-05:00\",\"2024-04-27 23:16:24-05:00\",\"2024-04-26 17:50:57-05:00\",\"2024-04-26 12:53:29-05:00\",\"2024-04-26 11:44:17-05:00\",\"2024-04-26 11:34:33-05:00\",\"2024-04-26 11:28:03-05:00\",\"2024-04-26 11:12:21-05:00\",\"2024-04-26 11:00:33-05:00\",\"2024-04-26 11:00:32-05:00\",\"2024-04-23 12:33:11-05:00\",\"2024-04-17 11:51:31-05:00\",\"2024-04-10 11:41:16-05:00\",\"2024-02-28 18:05:50-05:00\",\"2024-02-28 00:29:32-05:00\",\"2024-02-27 20:53:48-05:00\",\"2024-02-27 20:45:18-05:00\",\"2024-02-07 16:06:41-05:00\",\"2024-02-02 12:41:29-05:00\",\"2024-01-26 15:27:30-05:00\",\"2024-01-23 15:37:58-05:00\",\"2024-01-23 12:40:51-05:00\",\"2024-01-23 00:47:35-05:00\",\"2024-01-19 02:20:56-05:00\",\"2024-01-19 01:55:36-05:00\",\"2024-01-16 00:20:11-05:00\",\"2024-01-10 08:15:43-05:00\",\"2023-12-29 13:16:37-05:00\",\"2023-12-26 22:13:22-05:00\",\"2023-12-26 22:06:08-05:00\",\"2023-12-26 09:19:37-05:00\",\"2023-12-23 19:07:47-05:00\",\"2023-12-21 07:39:49-05:00\",\"2023-12-20 16:52:50-05:00\",\"2023-12-20 16:41:22-05:00\",\"2023-12-17 21:23:04-05:00\",\"2023-12-12 11:38:33-05:00\",\"2023-12-10 20:26:12-05:00\",\"2023-12-08 13:29:57-05:00\",\"2023-12-05 22:43:10-05:00\",\"2023-12-05 14:48:58-05:00\",\"2023-12-03 20:35:08-05:00\",\"2023-12-02 15:18:18-05:00\",\"2023-12-01 10:30:47-05:00\",\"2023-11-26 22:43:30-05:00\",\"2023-11-26 18:43:37-05:00\",\"2023-11-15 12:26:04-05:00\",\"2023-11-15 01:43:30-05:00\",\"2023-11-14 00:52:26-05:00\",\"2023-11-12 16:25:51-05:00\",\"2023-11-12 00:22:18-05:00\",\"2023-11-12 00:22:13-05:00\",\"2023-11-11 21:04:28-05:00\",\"2023-11-09 13:33:41-05:00\",\"2023-10-30 23:43:23-05:00\",\"2023-10-29 21:41:43-05:00\",\"2023-10-29 19:48:16-05:00\",\"2023-10-29 13:47:52-05:00\",\"2023-10-28 15:42:39-05:00\",\"2023-10-28 15:31:26-05:00\",\"2023-10-26 10:34:18-05:00\",\"2023-10-22 18:53:20-05:00\",\"2023-10-17 01:19:54-05:00\",\"2023-10-15 11:58:40-05:00\",\"2023-10-14 13:41:43-05:00\",\"2023-10-10 16:10:09-05:00\",\"2023-10-08 20:28:12-05:00\",\"2023-10-07 17:57:39-05:00\",\"2023-10-07 02:30:54-05:00\",\"2023-10-06 13:51:32-05:00\",\"2023-10-04 13:52:52-05:00\",\"2023-10-03 14:15:48-05:00\",\"2023-10-03 14:15:45-05:00\",\"2023-09-28 01:06:54-05:00\",\"2023-09-25 12:34:35-05:00\",\"2023-09-25 01:43:06-05:00\",\"2023-09-24 11:52:34-05:00\",\"2023-09-21 17:52:29-05:00\",\"2023-09-21 10:53:27-05:00\",\"2023-09-20 13:48:34-05:00\",\"2023-09-20 12:53:47-05:00\",\"2023-09-19 15:22:22-05:00\",\"2023-09-15 18:40:56-05:00\",\"2023-09-12 19:41:48-05:00\",\"2023-09-12 16:45:20-05:00\",\"2023-09-12 16:41:56-05:00\",\"2023-09-11 11:26:10-05:00\",\"2023-09-09 12:37:05-05:00\",\"2023-09-09 12:37:00-05:00\",\"2023-09-08 12:34:57-05:00\",\"2023-09-04 13:56:29-05:00\",\"2023-09-01 13:22:52-05:00\",\"2023-08-20 01:40:04-05:00\",\"2023-08-20 00:55:25-05:00\",\"2023-08-13 23:46:55-05:00\",\"2023-08-13 02:21:54-05:00\",\"2023-08-12 22:26:08-05:00\",\"2023-08-09 12:06:07-05:00\",\"2023-08-02 18:42:16-05:00\",\"2023-08-02 15:26:29-05:00\",\"2023-08-02 10:35:07-05:00\",\"2023-07-28 18:37:20-05:00\",\"2023-07-27 14:50:46-05:00\",\"2023-07-25 17:09:16-05:00\",\"2023-07-18 14:46:06-05:00\",\"2023-07-15 12:23:32-05:00\",\"2023-07-13 00:14:30-05:00\",\"2023-07-13 00:07:45-05:00\",\"2023-07-06 10:51:39-05:00\",\"2023-07-03 19:48:24-05:00\",\"2023-06-29 18:21:21-05:00\",\"2023-06-27 12:25:46-05:00\",\"2023-06-23 09:29:36-05:00\",\"2023-06-22 21:29:41-05:00\",\"2023-06-22 09:18:22-05:00\",\"2023-06-21 13:20:30-05:00\",\"2023-06-21 12:57:35-05:00\",\"2023-06-20 12:29:33-05:00\",\"2023-06-11 02:19:57-05:00\",\"2023-06-02 10:18:38-05:00\",\"2023-05-20 13:01:58-05:00\",\"2023-05-16 19:12:52-05:00\",\"2023-05-11 07:06:25-05:00\",\"2023-05-04 11:57:06-05:00\",\"2023-03-11 11:40:10-05:00\",\"2023-02-26 11:18:13-05:00\",\"2023-02-24 19:53:08-05:00\",\"2023-02-11 16:26:08-05:00\",\"2022-11-29 08:12:22-05:00\",\"2022-11-22 21:22:47-05:00\",\"2022-11-17 12:51:05-05:00\",\"2022-11-12 11:46:56-05:00\",\"2022-10-23 16:19:28-05:00\",\"2022-09-20 11:55:22-05:00\",\"2022-09-14 15:27:01-05:00\",\"2022-09-12 17:08:11-05:00\",\"2022-09-12 15:17:12-05:00\",\"2022-09-07 21:56:58-05:00\",\"2022-09-02 07:46:41-05:00\",\"2022-08-05 09:29:27-05:00\",\"2022-08-05 09:23:32-05:00\",\"2022-08-05 07:43:19-05:00\",\"2022-08-04 09:36:46-05:00\",\"2022-07-06 17:23:26-05:00\",\"2022-06-22 13:10:36-05:00\",\"2022-06-15 11:43:49-05:00\",\"2022-06-12 14:03:32-05:00\",\"2022-06-12 13:33:34-05:00\",\"2022-06-12 13:33:16-05:00\",\"2022-06-12 13:33:09-05:00\",\"2022-06-10 20:33:56-05:00\",\"2022-06-07 07:36:11-05:00\",\"2022-05-29 14:30:12-05:00\",\"2022-05-13 20:17:51-05:00\",\"2022-05-09 15:50:02-05:00\",\"2022-05-09 15:33:39-05:00\",\"2022-05-01 16:32:42-05:00\",\"2022-04-27 08:46:14-05:00\",\"2022-04-24 20:51:05-05:00\",\"2022-04-14 21:20:46-05:00\",\"2022-04-06 16:48:29-05:00\",\"2022-03-24 10:56:26-05:00\",\"2022-03-06 01:14:50-05:00\",\"2022-02-25 19:35:30-05:00\",\"2022-01-27 09:29:34-05:00\",\"2022-01-21 19:01:11-05:00\",\"2022-01-18 10:09:11-05:00\",\"2022-01-10 09:24:59-05:00\",\"2022-01-07 15:20:58-05:00\",\"2021-12-17 10:11:00-05:00\",\"2021-12-04 07:57:18-05:00\",\"2021-12-02 16:18:33-05:00\",\"2021-12-02 16:11:42-05:00\",\"2021-12-02 15:59:17-05:00\",\"2021-11-20 19:25:10-05:00\",\"2021-11-18 16:27:25-05:00\",\"2021-11-12 19:44:11-05:00\",\"2021-11-11 19:11:27-05:00\",\"2021-11-11 19:00:12-05:00\",\"2021-10-25 11:22:14-05:00\",\"2021-10-01 12:45:07-05:00\",\"2021-08-27 16:44:16-05:00\",\"2021-08-22 20:03:20-05:00\",\"2021-08-22 20:03:12-05:00\",\"2021-08-22 13:46:25-05:00\",\"2021-08-20 10:14:39-05:00\",\"2021-08-20 10:13:58-05:00\",\"2021-08-06 16:54:56-05:00\",\"2021-08-04 13:28:57-05:00\",\"2021-07-25 02:09:56-05:00\",\"2021-07-25 02:06:43-05:00\",\"2021-07-24 19:14:49-05:00\",\"2021-07-22 16:15:29-05:00\",\"2021-06-19 10:56:30-05:00\",\"2021-06-14 20:20:59-05:00\",\"2021-06-02 00:26:37-05:00\",\"2021-05-27 10:01:18-05:00\",\"2021-05-24 19:32:18-05:00\",\"2021-04-30 11:35:23-05:00\",\"2021-01-22 18:21:19-05:00\",\"2020-08-31 16:40:03-05:00\",\"2020-03-31 10:34:59-05:00\",\"2020-03-01 01:06:33-05:00\",\"2019-12-28 17:42:53-05:00\",\"2019-12-28 17:42:46-05:00\",\"2018-11-01 20:50:22-05:00\",\"2018-09-11 13:40:54-05:00\",\"2018-09-11 13:39:40-05:00\",\"2018-06-03 21:27:53-05:00\",\"2018-03-02 22:55:05-05:00\",\"2018-01-25 09:05:28-05:00\",\"2017-09-28 06:27:19-05:00\",\"2017-08-23 21:27:39-05:00\",\"2017-08-23 21:24:27-05:00\",\"2017-08-23 21:24:07-05:00\",\"2017-07-04 09:08:46-05:00\",\"2017-07-04 09:02:14-05:00\",\"2017-07-03 00:38:31-05:00\",\"2017-06-28 20:51:29-05:00\",\"2017-06-28 20:47:29-05:00\",\"2017-06-28 20:44:08-05:00\",\"2017-03-26 11:39:26-05:00\",\"2017-03-26 11:39:21-05:00\"],\"xaxis\":\"x\",\"y\":[4.187483333333334,2.8145333333333333,3.083333333333333,3.4393333333333334,3.798,2.3783666666666665,2.3735,1.81155,3.78575,2.242383333333333,3.06625,3.960083333333333,3.4025666666666665,3.61395,3.3655833333333334,4.738466666666667,2.9665666666666666,3.7,3.4358833333333334,3.44675,4.4375,3.0,2.3513166666666665,3.7683333333333335,4.866666666666666,2.727016666666666,4.106366666666666,2.6407666666666665,4.147966666666667,3.36875,4.34645,3.032633333333333,2.4023666666666665,2.405483333333333,3.532,2.86875,3.197433333333333,4.782216666666667,3.835683333333333,2.73865,3.8111,3.706683333333333,2.549333333333333,3.624833333333333,3.26455,3.57715,3.738083333333333,4.42915,3.6024666666666665,5.1273333333333335,2.429333333333333,2.687333333333333,4.032016666666666,2.7903166666666666,3.2845,2.8080666666666665,3.765333333333333,4.26155,3.2441833333333334,3.716433333333333,2.8903333333333334,2.9168666666666665,2.7333333333333334,2.4602166666666667,4.6695166666666665,3.5064333333333333,4.92555,2.0854,3.0946333333333333,2.810433333333333,2.76365,3.957133333333333,5.02745,4.63715,3.4706,4.042,2.5277666666666665,2.658033333333333,2.787516666666667,2.833333333333333,6.078883333333334,2.92925,3.2436833333333333,4.0008333333333335,2.9715666666666665,2.776116666666667,5.5437666666666665,3.893983333333333,2.9812333333333334,2.4195166666666665,4.205783333333334,3.640216666666667,2.837333333333333,2.8,3.5540833333333333,3.4480666666666666,2.74095,2.427033333333333,3.9254166666666666,3.446,4.796,3.654433333333333,3.14815,2.843733333333333,2.708333333333333,3.556666666666666,3.0345833333333334,3.1,3.620833333333333,3.823583333333333,4.4389666666666665,3.668416666666667,2.3989166666666666,2.461533333333333,2.852533333333333,3.169216666666667,4.182216666666666,2.838483333333333,2.8954833333333334,3.27615,2.832966666666666,1.8481,5.633333333333334,3.2371,2.6554333333333333,2.5728833333333334,3.87955,2.6757833333333334,2.816,3.5858166666666667,3.5625,3.8125,3.9346666666666663,2.963766666666667,3.688383333333333,3.1982666666666666,3.2333333333333334,3.9357166666666665,5.5084333333333335,3.0112,2.4206833333333333,2.3553333333333333,4.113333333333333,2.789,2.1976666666666667,2.3225666666666664,3.0435,3.3156166666666667,3.906,4.35665,4.748433333333334,3.974433333333333,5.76195,5.204833333333333,3.125,2.94545,3.0707,2.4879166666666666,2.8449833333333334,3.399183333333333,2.1699333333333333,3.4607666666666668,3.35,2.3644,2.9428,2.9700333333333333,3.205783333333333,2.9039333333333333,4.333333333333333,2.9658333333333333,3.1579166666666665,2.6666666666666665,2.5307166666666667,2.446916666666666,3.523233333333333,3.1373,3.0984166666666666,3.3175833333333333,3.65335,2.7503166666666665,2.046,3.492183333333333,3.278783333333333,5.500666666666667,3.043233333333333,3.5107,3.373,3.0857666666666668,3.4642833333333334,3.707133333333333,3.1821333333333333,2.8777666666666666,2.4786,3.356683333333333,3.205866666666666,3.311716666666667,2.9315,2.74825,3.3606666666666665,2.8386666666666667,2.05155,3.659083333333333,2.9573666666666667,2.8535833333333334,2.989716666666667,3.588,3.169766666666667,6.314883333333333,4.679766666666667,3.854433333333333,3.99725,3.0451,3.43685,5.448883333333334,2.96555,4.6193333333333335,3.8977666666666666,5.682,3.7106666666666666,4.27555,3.67155,3.461333333333333,3.830433333333333,3.798883333333333,4.5244333333333335,4.212433333333333,5.046],\"yaxis\":\"y\",\"type\":\"scattergl\"},{\"customdata\":[[\"La Incondicional\"],[\"El D\\u00eda De Mi Suerte\"],[\"Pierdo la Cabeza - Remix\"],[\"Ese Hombre\"],[\"T\\u00fa y T\\u00fa\"],[\"Perdonarte, \\u00bfPara Qu\\u00e9?\"],[\"Que Tengo Que Hacer\"],[\"Soldado Y Profeta (feat. Ozuna, Almighty, Kendo & \\u00d1engo Flow)\"],[\"Se\\u00f1orita\"],[\"Sin Despertar\"],[\"Si o No\"],[\"Tu de Que Vas\"],[\"Entre la Playa Ella y Yo\"],[\"Baila Morena\"],[\"TE FUISTE DE MI VIDA\"],[\"Comerte a Besos - Salsa Version\"],[\"Noche Loca\"],[\"Todo Comenz\\u00f3 Bailando - Remix\"],[\"Las Avispas\"],[\"QUE ME FALTE TODO\"],[\"OJAL\\u00c1\"],[\"HOLA PERDIDA\"],[\"Percocet - Remix\"],[\"Tanto La Queria (Version Salsa)\"],[\"Ella Dice\"],[\"\\u00bfPor Qu\\u00e9 Me Haces Llorar?\"],[\"PERRO NEGRO\"],[\"Las Leyes de La Vida\"],[\"Alch Si\"],[\"QUE VUELVAS\"],[\"Que Alguien Me Diga\"],[\"Esta Cabron (Remix) [feat. Anuel Aa, Yomo, Pusho, Almighty, D.Ozi & Jamby \\\"El Favo\\\"]\"],[\"Tu Angelito\"],[\"Quiero Creer\"],[\"Mayor Que Yo 3\"],[\"En To Lao\"],[\"Hablamos Ma\\u00f1ana\"],[\"Amor de Mis Amores\"],[\"Eres Mi Bien\"],[\"Tu No Metes Cabra\"],[\"COLMILLO\"],[\"La resaka\"],[\"Que Calor\"],[\"Tiburon\"],[\"Sin Sentimientos\"],[\"Me Voy Enamorando - Remix\"],[\"Drogo\"],[\"Se\\u00f1al De Vida\"],[\"El Matadero\"],[\"Pierdo la Cabeza\"],[\"La player (Bandolera)\"],[\"Quien Te Va a Amar Como Yo\"],[\"Otra Noche\"],[\"Entre Beso y Beso\"],[\"BUENOS AIRES\"],[\"EN VISTO\"],[\"LA BABY\"],[\"El Amor de Mi Vida\"],[\"LALA\"],[\"La Triple T\"],[\"FANTASMA | AVC\"],[\"Ya No Vuelvas (Versi\\u00f3n Cuarteto)\"],[\"Salimo en Caravana\"],[\"OJITOS ROJOS\"],[\"TULUM\"],[\"Ojal\\u00e1 Que Te Mueras\"],[\"La Magia De Tus Besos\"],[\"Un Beso Y Una Flor\"],[\"Me Niegas Tanto Amor\"],[\"Calle Luna Calle Sol\"],[\"Lloraras\"],[\"La M\\u00e1s Bella\"],[\"No Se Va - EN VIVO\"],[\"un x100to\"],[\"Mi Buen Amor\"],[\"D\\u00eda De Pago\"],[\"Nota de Amor (feat. Daddy Yankee)\"],[\"Tu Mueres por Mi\"],[\"Si T\\u00fa No Est\\u00e1s\"],[\"Un Mont\\u00f3n De Estrellas\"],[\"Sue\\u00f1os\"],[\"La Duda\"],[\"Hookiao\"],[\"Si no te tengo a ti\"],[\"La Amante\"],[\"Dese\\u00e1ndote\"],[\"Sin Querer\"],[\"Tu Cari\\u00f1ito\"],[\"Virgen\"],[\"Cuando Seas Grande\"],[\"Juana Pe\\u00f1a\"],[\"El Ritmo de Mi Coraz\\u00f3n\"],[\"Trampol\\u00edn\"],[\"Ni\\u00f1a Bonita\"],[\"Aunque no sea conmigo\"],[\"Qu\\u00e9 Hay de Malo\"],[\"Marta tiene un marcapasos\"],[\"Eres Mi Religi\\u00f3n\"],[\"Ven Dev\\u00f3rame Otra Vez\"],[\"La Noche Mas Linda\"],[\"Idilio\"],[\"El N\\u00edagara en Bicicleta\"],[\"Te regalo\"],[\"Tus Ojos No Me Ven\"],[\"Gozando en la Habana\"],[\"El Embrujo\"],[\"Mi Libertad\"],[\"Ana Mil\\u00e9\"],[\"Ant\\u00eddoto Y Veneno\"],[\"La Vida Es Un Carnaval\"],[\"Lo M\\u00edo Es Amor\"],[\"Bar\"],[\"2:50 Remix\"],[\"23 (With Ape Drums)\"],[\"El Tiempo\"],[\"El Mas Piola\"],[\"Fico Assim Sem Voc\\u00ea\"],[\"Pistola Remix\"],[\"L-Gante: RKT SESSIONS #1\"],[\"La Ventanita\"],[\"LA NOCHE DE ANOCHE\"],[\"Atr\\u00e9vete-Te-Te\"],[\"Talento De Televisi\\u00f3n\"],[\"Visionario\"],[\"Tinty Nasty\"],[\"El Doctorado feat. Don Omar & Ken-Y\"],[\"Yo No S\\u00e9 Ma\\u00f1ana\"],[\"La Entrevista - Remasterizado\"],[\"Pan y mantequilla\"],[\"Zun Da Da\"],[\"Amor Narc\\u00f3tico\"],[\"Necesito un Amor\"],[\"Una Rosa Lo Sabe\"],[\"Amame una Vez M\\u00e1s\"],[\"El Gran Varon\"],[\"Elsa / Cari\\u00f1ito / Boquita de Caramelo - En Vivo\"],[\"Colgando en tus manos (con Marta S\\u00e1nchez)\"],[\"Oye Mi Amor\"],[\"Como Te Deseo\"],[\"Que Locura Enamorarme De Ti\"],[\"Si T\\u00fa Me Besas\"],[\"Contigo Aprend\\u00ed\"],[\"Princesa\"],[\"Rayando el Sol\"],[\"Amor Clandestino\"],[\"Fruta Prohibida\"],[\"Tanto la Queria\"],[\"Todo Cambi\\u00f3\"],[\"Fabricando Fantas\\u00edas\"],[\"Para No Verte M\\u00e1s\"],[\"Obsesi\\u00f3n\"],[\"Si Me Ten\\u00edas\"],[\"China\"],[\"Coleccionista de Canciones\"],[\"Vuelve a m\\u00ed\"],[\"Te Vas\"],[\"Me Enamor\\u00e9 De Ti, Y Que\"],[\"Tu C\\u00e1rcel (En Vivo)\"],[\"Tu Vida en la M\\u00eda\"],[\"Ahora Te Puedes Marchar\"],[\"Motor y Motivo\"],[\"El Doctorado\"],[\"Adios Amor\"],[\"Labios Compartidos\"],[\"A Llorar a Otra Parte\"],[\"Como Mirarte\"],[\"Te quiero\"],[\"Venezia\"],[\"Qu\\u00e9 Vida la M\\u00eda\"],[\"En alg\\u00fan lugar\"],[\"Me Niego (feat. Ozuna & Wisin)\"],[\"Que Va\"],[\"Clavado en Un Bar\"],[\"Su\\u00e9ltate el pelo\"],[\"Devu\\u00e9lveme a mi chica\"],[\"Ojos Color Sol (feat. Silvio Rodr\\u00edguez)\"],[\"Muerte En Hawaii\"],[\"Casi un Hechizo\"],[\"Vicioso\"],[\"El ataque de las chicas cocodrilo\"],[\"Todo sea por el rocanrol\"],[\"En El Muelle de San Blas\"],[\"Como te extra\\u00f1o mi amor\"],[\"Es Tan F\\u00e1cil Romper un Coraz\\u00f3n - Vivo\"],[\"Triste canci\\u00f3n\"]],\"hovertemplate\":\"Broad Genre=Latin<br>Date Added=%{x}<br>Duration=%{y}<br>Track Name=%{customdata[0]}<extra></extra>\",\"legendgroup\":\"Latin\",\"marker\":{\"color\":\"#ab63fa\",\"symbol\":\"circle\"},\"mode\":\"markers\",\"name\":\"Latin\",\"showlegend\":true,\"x\":[\"2024-06-07 21:34:11-05:00\",\"2024-06-06 09:02:55-05:00\",\"2024-06-03 15:38:18-05:00\",\"2024-06-03 12:18:29-05:00\",\"2024-06-02 21:02:19-05:00\",\"2024-05-24 14:31:25-05:00\",\"2024-05-18 07:17:00-05:00\",\"2024-04-21 21:45:48-05:00\",\"2024-04-03 12:20:05-05:00\",\"2024-03-29 17:47:58-05:00\",\"2024-03-27 15:20:26-05:00\",\"2024-03-23 19:02:05-05:00\",\"2024-03-23 18:38:58-05:00\",\"2024-03-16 14:52:37-05:00\",\"2024-03-11 22:03:46-05:00\",\"2024-02-27 14:22:26-05:00\",\"2024-02-24 19:35:37-05:00\",\"2024-02-24 19:20:28-05:00\",\"2024-02-12 20:53:42-05:00\",\"2024-02-08 12:36:49-05:00\",\"2024-02-02 12:54:02-05:00\",\"2024-02-02 12:41:39-05:00\",\"2024-01-23 14:55:27-05:00\",\"2024-01-08 12:42:58-05:00\",\"2024-01-05 22:32:12-05:00\",\"2023-12-27 18:12:19-05:00\",\"2023-12-12 13:12:09-05:00\",\"2023-12-10 16:31:49-05:00\",\"2023-12-02 15:18:28-05:00\",\"2023-12-02 15:17:30-05:00\",\"2023-11-21 01:07:25-05:00\",\"2023-11-17 15:28:03-05:00\",\"2023-11-02 01:52:28-05:00\",\"2023-10-26 23:22:41-05:00\",\"2023-10-24 00:48:43-05:00\",\"2023-10-22 19:31:56-05:00\",\"2023-10-19 00:39:31-05:00\",\"2023-10-14 21:15:03-05:00\",\"2023-10-14 21:14:56-05:00\",\"2023-10-13 14:42:33-05:00\",\"2023-10-13 01:50:49-05:00\",\"2023-10-03 17:15:16-05:00\",\"2023-10-03 17:15:16-05:00\",\"2023-10-03 17:15:06-05:00\",\"2023-09-28 00:56:27-05:00\",\"2023-09-25 12:30:36-05:00\",\"2023-09-25 11:48:30-05:00\",\"2023-09-17 13:06:30-05:00\",\"2023-09-12 19:48:03-05:00\",\"2023-09-12 19:32:55-05:00\",\"2023-09-12 18:59:10-05:00\",\"2023-09-11 00:07:24-05:00\",\"2023-09-08 20:36:54-05:00\",\"2023-09-02 01:06:00-05:00\",\"2023-08-29 20:35:21-05:00\",\"2023-08-22 21:25:51-05:00\",\"2023-08-22 21:22:54-05:00\",\"2023-08-19 21:30:20-05:00\",\"2023-08-15 11:21:57-05:00\",\"2023-08-09 00:59:02-05:00\",\"2023-08-06 09:36:57-05:00\",\"2023-08-06 04:48:42-05:00\",\"2023-08-06 04:37:06-05:00\",\"2023-07-27 14:54:28-05:00\",\"2023-07-27 14:24:41-05:00\",\"2023-07-12 15:03:12-05:00\",\"2023-06-28 08:20:38-05:00\",\"2023-06-21 23:01:18-05:00\",\"2023-06-21 19:32:43-05:00\",\"2023-06-13 12:24:55-05:00\",\"2023-06-12 22:15:34-05:00\",\"2023-06-02 14:20:50-05:00\",\"2023-05-25 07:48:47-05:00\",\"2023-05-20 00:04:32-05:00\",\"2023-03-29 19:39:40-05:00\",\"2023-03-24 20:56:24-05:00\",\"2023-02-18 13:35:27-05:00\",\"2023-02-02 17:37:58-05:00\",\"2023-01-20 20:41:24-05:00\",\"2023-01-19 11:56:14-05:00\",\"2023-01-16 08:46:15-05:00\",\"2023-01-02 08:06:22-05:00\",\"2023-01-01 19:48:12-05:00\",\"2022-12-28 17:17:59-05:00\",\"2022-12-26 22:10:26-05:00\",\"2022-11-29 21:16:14-05:00\",\"2022-11-29 16:44:20-05:00\",\"2022-11-29 15:52:16-05:00\",\"2022-11-17 20:31:55-05:00\",\"2022-11-17 16:35:48-05:00\",\"2022-11-10 07:53:45-05:00\",\"2022-11-02 12:40:59-05:00\",\"2022-10-14 19:52:13-05:00\",\"2022-08-31 07:28:34-05:00\",\"2022-08-04 09:57:49-05:00\",\"2022-07-24 20:03:50-05:00\",\"2022-07-21 07:18:02-05:00\",\"2022-07-18 11:38:54-05:00\",\"2022-07-09 20:53:29-05:00\",\"2022-06-01 13:33:17-05:00\",\"2022-05-05 16:26:58-05:00\",\"2022-04-27 23:16:34-05:00\",\"2022-04-23 16:37:52-05:00\",\"2022-04-23 16:32:33-05:00\",\"2022-04-22 22:43:40-05:00\",\"2022-04-22 10:04:59-05:00\",\"2022-04-15 18:18:29-05:00\",\"2022-04-13 20:46:43-05:00\",\"2022-04-07 17:40:05-05:00\",\"2022-03-28 07:06:31-05:00\",\"2022-03-24 16:22:44-05:00\",\"2021-11-11 18:50:56-05:00\",\"2021-10-25 16:54:03-05:00\",\"2021-10-20 17:48:02-05:00\",\"2021-10-14 18:33:05-05:00\",\"2021-10-10 00:51:19-05:00\",\"2021-08-22 13:30:26-05:00\",\"2021-08-11 13:34:46-05:00\",\"2021-07-21 17:09:32-05:00\",\"2021-06-12 21:12:26-05:00\",\"2021-06-12 19:45:45-05:00\",\"2021-06-11 09:10:30-05:00\",\"2021-05-30 14:21:43-05:00\",\"2021-05-12 21:31:37-05:00\",\"2021-05-08 19:20:53-05:00\",\"2020-12-13 23:08:55-05:00\",\"2020-11-20 23:49:09-05:00\",\"2020-11-20 23:39:54-05:00\",\"2020-11-16 18:47:52-05:00\",\"2020-11-15 19:30:08-05:00\",\"2020-10-02 18:50:33-05:00\",\"2020-10-02 16:29:27-05:00\",\"2020-10-02 16:28:02-05:00\",\"2020-10-02 16:14:57-05:00\",\"2020-10-01 18:03:44-05:00\",\"2020-10-01 18:00:17-05:00\",\"2020-09-10 19:51:34-05:00\",\"2020-08-27 18:23:16-05:00\",\"2020-07-28 15:24:34-05:00\",\"2020-06-27 16:38:24-05:00\",\"2020-05-25 23:15:40-05:00\",\"2020-03-22 17:53:50-05:00\",\"2020-03-16 13:03:12-05:00\",\"2020-03-09 13:37:02-05:00\",\"2020-02-19 11:45:39-05:00\",\"2020-01-18 20:19:44-05:00\",\"2020-01-12 18:38:10-05:00\",\"2020-01-12 18:20:28-05:00\",\"2020-01-11 23:21:19-05:00\",\"2019-10-11 23:14:43-05:00\",\"2019-09-20 08:53:07-05:00\",\"2019-08-09 23:05:48-05:00\",\"2019-08-03 00:09:52-05:00\",\"2019-07-28 13:30:33-05:00\",\"2019-06-14 09:22:34-05:00\",\"2019-06-09 02:54:03-05:00\",\"2019-06-09 02:53:51-05:00\",\"2019-03-29 21:13:01-05:00\",\"2019-03-27 11:27:23-05:00\",\"2019-03-22 23:11:05-05:00\",\"2019-03-22 20:40:17-05:00\",\"2019-03-16 16:08:00-05:00\",\"2019-02-27 18:22:31-05:00\",\"2019-02-24 22:59:38-05:00\",\"2019-02-21 21:54:02-05:00\",\"2019-02-18 14:31:18-05:00\",\"2018-12-08 20:32:10-05:00\",\"2018-11-17 10:07:48-05:00\",\"2018-10-21 22:26:55-05:00\",\"2018-06-11 23:29:35-05:00\",\"2018-03-20 00:15:59-05:00\",\"2018-03-17 00:12:18-05:00\",\"2017-11-28 19:04:11-05:00\",\"2017-08-16 10:38:53-05:00\",\"2017-08-08 23:46:49-05:00\",\"2017-07-29 00:18:57-05:00\",\"2017-07-26 01:45:24-05:00\",\"2017-07-05 22:09:31-05:00\",\"2017-06-23 16:30:40-05:00\",\"2017-06-17 00:18:20-05:00\",\"2017-05-01 22:03:46-05:00\",\"2017-04-18 21:59:22-05:00\",\"2017-04-11 13:36:03-05:00\",\"2017-02-14 19:52:32-05:00\",\"2017-02-14 09:20:07-05:00\"],\"xaxis\":\"x\",\"y\":[4.283766666666667,5.4797666666666665,4.784666666666666,4.6011,3.604433333333333,3.2322166666666665,3.358483333333333,8.543933333333333,3.1931333333333334,3.2611,3.4984333333333333,4.371583333333334,3.084616666666667,3.0702833333333333,3.1592333333333333,4.496666666666667,2.9715166666666666,2.725483333333333,3.288883333333333,2.7653,3.26315,2.7756,5.243766666666667,4.310883333333333,2.684333333333333,3.048,2.7127833333333333,3.3223333333333334,2.5658833333333333,2.823633333333333,4.870433333333334,8.095483333333334,3.961333333333333,2.417566666666666,5.0791,3.25055,4.004216666666666,4.173483333333333,4.038516666666666,2.846033333333333,4.433316666666666,3.5686666666666667,4.07755,5.0517666666666665,4.898216666666666,3.5966666666666667,5.959216666666666,4.00425,3.916433333333333,3.7006666666666663,4.1601333333333335,3.766883333333333,3.312,2.558133333333333,1.98095,2.5641833333333333,3.047616666666667,3.076433333333333,3.298666666666666,2.794566666666667,4.751233333333333,3.4,3.022566666666666,3.69335,3.49025,3.790883333333333,4.736666666666666,4.546666666666667,4.722216666666666,3.807333333333333,3.703333333333333,3.087266666666667,3.23365,3.2427166666666665,3.7931,3.121583333333333,3.872883333333333,3.1686666666666667,3.674,6.076216666666666,3.7864333333333335,4.4093333333333335,3.281816666666667,4.768,3.4464166666666665,4.720433333333333,3.656,4.18755,4.529433333333333,4.428433333333333,5.63355,3.67205,4.364883333333333,3.6131,3.421766666666666,4.972433333333333,2.2013333333333334,5.46,5.23355,5.72255,5.1448833333333335,4.422666666666666,2.828666666666667,4.61155,5.244433333333333,3.997333333333333,4.457766666666667,5.63875,5.30755,4.647766666666667,5.234666666666667,2.6702,3.8618,2.791733333333333,3.237433333333333,3.6235166666666663,3.74155,2.2801,3.0321333333333333,4.7744333333333335,3.3866666666666667,3.9884333333333335,4.655333333333333,2.8,3.117633333333333,4.402433333333334,4.330883333333333,4.870216666666667,3.3691,5.068183333333334,5.282666666666667,3.5246666666666666,3.654883333333333,3.52555,6.911766666666667,4.626283333333333,3.838,4.388433333333333,4.49355,5.170433333333333,4.330883333333333,3.6426666666666665,4.014583333333333,4.168433333333334,4.864433333333333,3.7022166666666663,4.6691,3.230433333333333,4.572883333333333,3.1926666666666668,4.089333333333333,5.788783333333333,5.028566666666666,5.116433333333333,3.316883333333333,3.7693666666666665,2.88585,4.303333333333334,6.22,3.19955,3.2735833333333333,4.403333333333333,4.1931,5.2937666666666665,3.882233333333333,3.7066666666666666,3.751333333333333,4.501333333333333,2.8553333333333333,3.9271,3.6942166666666663,3.969333333333333,5.1802166666666665,3.1846666666666668,3.2346666666666666,3.596883333333333,3.164433333333333,3.724,2.4433333333333334,3.068,4.744,5.8693333333333335,3.5813333333333333,6.556866666666667,5.7191],\"yaxis\":\"y\",\"type\":\"scattergl\"},{\"customdata\":[[\"Something About You\"]],\"hovertemplate\":\"Broad Genre=Funk<br>Date Added=%{x}<br>Duration=%{y}<br>Track Name=%{customdata[0]}<extra></extra>\",\"legendgroup\":\"Funk\",\"marker\":{\"color\":\"#FFA15A\",\"symbol\":\"circle\"},\"mode\":\"markers\",\"name\":\"Funk\",\"showlegend\":true,\"x\":[\"2024-06-05 11:35:28-05:00\"],\"xaxis\":\"x\",\"y\":[4.416883333333334],\"yaxis\":\"y\",\"type\":\"scattergl\"},{\"customdata\":[[\"So Many Ways to Get Downtown\"],[\"Young Soul\"],[\"Kind Reminder\"],[\"Musta Been a Ghost\"]],\"hovertemplate\":\"Broad Genre=Americana<br>Date Added=%{x}<br>Duration=%{y}<br>Track Name=%{customdata[0]}<extra></extra>\",\"legendgroup\":\"Americana\",\"marker\":{\"color\":\"#19d3f3\",\"symbol\":\"circle\"},\"mode\":\"markers\",\"name\":\"Americana\",\"showlegend\":true,\"x\":[\"2024-04-29 22:09:51-05:00\",\"2023-01-04 07:57:32-05:00\",\"2023-01-04 07:53:30-05:00\",\"2023-01-03 21:41:52-05:00\"],\"xaxis\":\"x\",\"y\":[4.703483333333334,3.72155,3.989,3.668266666666667],\"yaxis\":\"y\",\"type\":\"scattergl\"},{\"customdata\":[[\"Don't You Worry Child - Radio Edit\"],[\"Naquele Pique\"],[\"Frikitona\"],[\"Animal Rights\"],[\"Shrunken Heads\"],[\"Gettin' Over You (feat. Fergie & LMFAO)\"],[\"Gingoba\"],[\"Dos\"],[\"You Spin Me Round (Like a Record)\"],[\"Sexy Bitch (feat. Akon)\"],[\"Omen\"],[\"Magnets\"],[\"Sonnenkind - M\\u00d6WE Remix\"],[\"Stole the Show\"],[\"Latch\"],[\"Into the Light\"],[\"You & Me - Flume Remix\"],[\"One More Time\"]],\"hovertemplate\":\"Broad Genre=Electronic<br>Date Added=%{x}<br>Duration=%{y}<br>Track Name=%{customdata[0]}<extra></extra>\",\"legendgroup\":\"Electronic\",\"marker\":{\"color\":\"#FF6692\",\"symbol\":\"circle\"},\"mode\":\"markers\",\"name\":\"Electronic\",\"showlegend\":true,\"x\":[\"2024-04-12 23:45:33-05:00\",\"2024-01-08 20:32:59-05:00\",\"2024-01-04 16:12:24-05:00\",\"2023-04-07 02:39:22-05:00\",\"2023-04-07 02:37:23-05:00\",\"2023-04-01 00:37:02-05:00\",\"2023-03-16 20:48:10-05:00\",\"2022-08-26 10:09:29-05:00\",\"2022-05-29 22:33:29-05:00\",\"2021-10-26 14:49:26-05:00\",\"2019-02-22 11:16:39-05:00\",\"2019-02-18 18:51:13-05:00\",\"2018-12-30 12:35:26-05:00\",\"2018-12-10 20:04:36-05:00\",\"2017-10-16 06:01:07-05:00\",\"2017-05-16 21:16:42-05:00\",\"2017-04-15 20:12:31-05:00\",\"2017-03-26 10:06:40-05:00\"],\"xaxis\":\"x\",\"y\":[3.5477,2.66625,2.9067333333333334,6.2508,4.1088,3.1333333333333333,3.1975666666666664,2.63875,3.2524333333333333,3.2642166666666665,3.8375,3.32075,6.387083333333333,3.719766666666666,4.260516666666667,4.519866666666666,4.713533333333333,5.339283333333333],\"yaxis\":\"y\",\"type\":\"scattergl\"},{\"customdata\":[[\"Panic Attack\"],[\"La Vida Me Sabe a Nada\"],[\"Podr\\u00e9 Cambiar\"],[\"Una Vez Una Flor\"],[\"Cuando La Cama Me Da Vueltas\"],[\"No Llores M\\u00e1s Morena\"],[\"T\\u00e9cnicas para Olvidar\"],[\"Me Voy de Aqu\\u00ed\"],[\"No Llores M\\u00e1s\"],[\"Tambaleando\"],[\"Me Siento Mejor\"],[\"Under Cover of Darkness\"],[\"Paranoid (2009 - Remaster)\"],[\"Blackout\"],[\"Rock You Like A Hurricane\"],[\"Im\\u00e1genes Retro - Remasterizado 2007\"],[\"Anybody Seen My Baby?\"],[\"The Rain Song - Remaster\"],[\"Simple Man\"],[\"Esa S\\u00ed Es una Mujer\"],[\"The Bug\"],[\"Breathe (In the Air)\"],[\"City Club\"],[\"Monotonia\"],[\"(I Just) Died In Your Arms\"],[\"Automatic\"],[\"Hate This and I'll Love You\"],[\"Free Bird\"],[\"Skateaway\"],[\"Portobello Belle\"],[\"Industrial Disease\"],[\"Mad Life\"],[\"Home\"],[\"Softcore\"],[\"Counting Blue Cars (Tell Me Your Thoughts On God)\"],[\"Tell Me Baby\"],[\"Free Fallin'\"],[\"I'll Be Around\"],[\"Beijo na Guanabara\"],[\"Exit Music (For A Film)\"],[\"Bodysnatchers\"],[\"Where I End and You Begin\"],[\"My Iron Lung\"],[\"Why Does Love Got To Be So Sad?\"],[\"Layla\"],[\"Strange Brew\"],[\"White Room\"],[\"Just\"],[\"Butterflies and Hurricanes\"],[\"Tangerine - Remaster\"],[\"Gallows Pole - Remaster\"],[\"When The Sun Goes Down\"],[\"Weightless\"],[\"Booster Seat\"],[\"Wasted on Me\"],[\"Tears of Rain\"],[\"Good Grief\"],[\"Skin\"],[\"The Barbarians\"],[\"Built By Nations\"],[\"Broken Bells\"],[\"Heat Above\"],[\"Citizen Erased\"],[\"Oh! Sweet Nuthin' - 2015 Remaster\"],[\"Over the Hills and Far Away - Remaster\"],[\"Cuando Pienses en Volver\"],[\"Fake Tales Of San Francisco\"],[\"Expresso Love - Live At Hammersmith Odeon, London/1983\"],[\"Every Little Thing\"],[\"Wind Of Change\"],[\"If You\\u2019re Too Shy (Let Me Know)\"],[\"Wintering\"],[\"When We Are Together\"],[\"Looking For Somebody (To Love)\"],[\"Oh Caroline\"],[\"Happiness\"],[\"Burning Love - with The Royal Philharmonic Orchestra\"],[\"Anyone Can Play Guitar\"],[\"Mi Auto Era Una Rana\"],[\"Te V\\u00ed en un Tren\"],[\"Me Estoy Enamorando\"],[\"Abracadabra\"],[\"505\"],[\"The Way It Was\"],[\"La parte de adelante\"],[\"En esta habitaci\\u00f3n\"],[\"West Hills\"],[\"Psycho\"],[\"Tranquility Base Hotel & Casino\"],[\"Here With Me\"],[\"Unnatural Selection\"],[\"What's The Matter Baby? - Live At The BBC\"],[\"Solid Rock\"],[\"Twisting By The Pool\"],[\"Wild West End\"],[\"Millionaire Blues\"],[\"We Are Fucking Fucked\"],[\"Follow Me\"],[\"Sing for Absolution\"],[\"Animals\"],[\"The Handler\"],[\"You Make Me Feel Like It\\u2019s Halloween\"],[\"Huellas - Live From Santiago,Chile/1999\"],[\"Body Paint\"],[\"From The Ritz To The Rubble\"],[\"Do Me a Favour\"],[\"Pretty Visitors\"],[\"Potion Approaching\"],[\"There\\u2019d Better Be A Mirrorball\"],[\"Hello You\"],[\"When the Levee Breaks - Remaster\"],[\"Tunnel Of Love - Live At Hammersmith Odeon, London/1983\"],[\"Left to My Own Devices\"],[\"Starlight\"],[\"Assassin\"],[\"New Born\"],[\"Map of the Problematique\"],[\"Disenchanted\"],[\"Teenager In Love\"],[\"Helena\"],[\"I Don't Love You\"],[\"Show Me The Way - Live\"],[\"Baby, I Love Your Way - Live\"],[\"Showbiz - Live from Le Zenith\"],[\"Panic Station\"],[\"The Love That You Give\"],[\"Attack\"],[\"Space Dementia\"],[\"MK Ultra\"],[\"Invincible\"],[\"The Void\"],[\"Pressure\"],[\"Cigarette Daydreams\"],[\"Light My Love\"],[\"The Riverboat Song\"],[\"Girls\"],[\"Robbers\"],[\"Juicebox\"],[\"Once Upon A Time In The West - Live At Hammersmith Odeon, London/1983\"],[\"Money - Live\"],[\"Sultans of Swing - Live at Live Aid, Wembley Stadium, 13th July 1985\"],[\"Since I've Been Loving You - (Live at MSG 1973) [Remaster]\"],[\"So Far Away - Remastered 1996\"],[\"Twist And Shout - Remastered 2009\"],[\"Bonzo Goes to Bitburg\"],[\"Paranoid Android\"],[\"Rolling In The Deep - Recorded At Spotify Studios NYC\"],[\"A Change Is Gonna Come\"],[\"LA FORMA DE TUS HUESOS\"],[\"Riding with the King\"],[\"A Horse with No Name\"],[\"Californication\"],[\"Lo malo de ser bueno\"],[\"Dream A Little Dream Of Me\"],[\"Lies - Remastered\"],[\"One World - Remastered 1996\"],[\"Ride Across The River - Remastered 1996\"],[\"Bitch - 2009 Mix\"],[\"Can't You Hear Me Knocking - 2009 Mix\"],[\"Sway - 2009 Mix\"],[\"Brown Sugar - Remastered 2009\"],[\"It Never Rains\"],[\"Romeo And Juliet\"],[\"Expresso Love\"],[\"Tunnel Of Love\"],[\"Angel Of Mercy\"],[\"Where Do You Think You're Going?\"],[\"In The Gallery\"],[\"Southbound Again\"],[\"Setting Me Up\"],[\"Pressure Machine\"],[\"Fly Away From Here\"],[\"ZITTI E BUONI\"],[\"All My Life\"],[\"Oh My Love\"],[\"The Great Escape - Single Version\"],[\"Fight On - Single Version\"],[\"Stargazing\"],[\"S\\u00e1cala a Bailar\"],[\"Vienna\"],[\"I Wouldn't Want to Be Like You\"],[\"We Built This City\"],[\"Nothing's Gonna Stop Us Now\"],[\"You Shook Me All Night Long\"],[\"NO TE COMAS LA PELI\"],[\"AYER TE VI (feat. Zoe Gotusso)\"],[\"Landslide - Live at Warner Brothers Studios in Burbank, CA 5/23/97\"],[\"Will You Still Love Me? - Alternate\"],[\"Dreams\"],[\"Mr. Tambourine Man\"],[\"Imploding The Mirage\"],[\"Fire In Bone\"],[\"Running Towards A Place\"],[\"My Own Soul\\u2019s Warning\"],[\"Shot At The Night\"],[\"Just Another Girl\"],[\"Crying Lightning\"],[\"Cornerstone\"],[\"Supremacy\"],[\"The Judge\"],[\"Uma Brasileira\"],[\"Only the Good Die Young\"],[\"Single Handed Sailor\"],[\"La Guitarra\"],[\"Doom And Gloom\"],[\"Ride 'Em On Down\"],[\"Let Your Heart Hold Fast\"],[\"We Didn't Start the Fire\"],[\"Sea Dragon\"],[\"La Voz de los '80\"],[\"Dead In The Water - Live At RT\\u00c9 2FM Studios, Dublin\"],[\"Ode To The Mets\"],[\"Son And Daughter - Remastered 2011\"],[\"Brighton Rock - Remastered 2011\"],[\"The Rover - Remaster\"],[\"Tweeter And The Monkey Man\"],[\"Wilbury Twist\"],[\"(I Can't Get No) Satisfaction - Mono Version\"],[\"Handle With Care\"],[\"Sexo\"],[\"Crossroads - Live\"],[\"Estrechez De Coraz\\u00f3n\"],[\"Is It True\"],[\"One More Year\"],[\"Un D\\u00eda Sin Sexo\"],[\"Por Ti (La Poderotza)\"],[\"In My Defence - 2000 Remix\"],[\"Can't Help Falling in Love\"],[\"El Baile De Los Que Sobran\"],[\"Old Time Rock & Roll\"],[\"La Venenotza\"],[\"Angels Or Devils\"],[\"Somewhere in the Middle\"],[\"Planet Caravan\"],[\"Posthumous Forgiveness\"],[\"Borderline\"],[\"Don't Stop Believin'\"],[\"Kashmir - Remaster\"],[\"Nothing Else Matters\"],[\"Cont\\u00e9stame\"],[\"Carreteras Mojadas\"],[\"Fade To Black - Remastered\"],[\"Ya no quiero m\\u00e1s ska\"],[\"Aqu\\u00ed\"],[\"Amor (Ft. Mon Laferte) - Mtv Unplugged\"],[\"Lions\"],[\"Libido\"],[\"Cu\\u00e9ntame\"],[\"Dark Necessities\"],[\"The Adventures of Rain Dance Maggie\"],[\"When The Curtain Falls\"],[\"Once Upon A Time In The West\"],[\"Telegraph Road\"],[\"Lady Writer\"],[\"Down To The Waterline\"],[\"Time Waits For No One\"],[\"La Chata\"],[\"Walk Of Life\"],[\"You Don't Mess Around with Jim\"],[\"Buscando Raz\\u00f3n\"],[\"Respectable - Remastered\"],[\"A ese infierno no voy a volver\"],[\"Y es que sucede as\\u00ed\"],[\"Safari Song\"],[\"Highway Tune\"],[\"Purple Haze\"],[\"Fire\"],[\"Black Smoke Rising\"],[\"Age Of Man\"],[\"The Dark Side\"],[\"D'yer Mak'er - Remaster\"],[\"Under the Bridge\"],[\"Down Under\"],[\"Ledgarf (bienvenidos)\"],[\"Beast Of Burden - Remastered\"],[\"Angel\"],[\"Walk This Way\"],[\"Good Old-Fashioned Lover Boy - Remastered 2011\"],[\"Every Night\"],[\"En La Ciudad De La Furia - Remasterizado 2007\"],[\"Welcome to the Black Parade\"],[\"Let's Hurt Tonight\"],[\"Easy Lover\"],[\"Everybody Talks\"],[\"Knights of Cydonia\"],[\"Silly Love Songs - 2014 Remaster\"],[\"Live Forever\"],[\"Golden Slumbers - Remastered 2009\"],[\"Counting Stars\"],[\"You're So Dark\"],[\"Mary Jane's Last Dance\"],[\"I Saw Her Standing There - Remastered 2009\"],[\"Good Times Bad Times - 1993 Remaster\"],[\"All These Things That I've Done\"],[\"Love Of My Life - Remastered 2011\"],[\"Hammer To Fall - Remastered 2011\"],[\"Bones\"],[\"Teddy Picker\"],[\"Crazy Little Thing Called Love - Remastered 2011\"],[\"Martha My Dear - Remastered 2009\"],[\"Suck It and See\"],[\"Angie - Remastered 2009\"],[\"The Small Print\"],[\"Survival\"],[\"Stockholm Syndrome\"],[\"Black Holes (Solid Ground)\"],[\"Snap Out Of It\"],[\"What You Know\"],[\"Para no olvidar\"],[\"Demons\"],[\"Rock You Like a Hurricane - 2011\"],[\"Miss Atomic Bomb\"],[\"Heart Of A Girl\"],[\"Losing Touch - Live From The Royal Albert Hall / 2009\"],[\"Give It Away\"],[\"I Was Made For Lovin' You\"],[\"Uprising\"],[\"Snow (Hey Oh)\"],[\"You Get What You Give\"],[\"Smile Like You Mean It\"],[\"It's Time\"],[\"Natural\"],[\"Stop The World I Wanna Get Off With You\"],[\"Supermassive Black Hole\"],[\"My Blood\"],[\"Thought Contagion\"],[\"Black Dog - Remaster\"],[\"Beds Are Burning - Remastered\"],[\"Feels Like We Only Go Backwards\"],[\"Hysteria\"],[\"Shoot to Thrill\"],[\"The Less I Know The Better\"],[\"The Man Who Can't Be Moved\"],[\"Dust In The Wind\"],[\"Who The Fuck Are Arctic Monkeys?\"],[\"Four Out Of Five\"],[\"Any Colour You Like\"],[\"Pour Some Sugar On Me - Remastered 2017\"],[\"When You Were Young\"],[\"The Immigrant Song - Alternate Mix\"],[\"Runaways\"],[\"Cum on Feel the Noize\"],[\"Eye In The Sky\"],[\"In The Air Tonight - 2015 Remastered\"],[\"Float On\"],[\"Can't Stop\"],[\"Read My Mind\"],[\"Human\"],[\"Crazy\"],[\"Voodoo Child (Slight Return)\"],[\"Cocaine\"],[\"Dos en la ciudad\"],[\"Rock and Roll - Remaster\"],[\"Since I've Been Loving You - Remaster\"],[\"Two Princes\"],[\"I Want To Hold Your Hand - Remastered 2015\"],[\"Whole Lotta Love - 1990 Remaster\"],[\"Where The Streets Have No Name - Remastered 2007\"],[\"Reapers\"],[\"Chibola Manyada\"],[\"Hotel California - 2013 Remaster\"],[\"Beautiful Day\"],[\"A Matter Of Time\"],[\"Let It Be - Remastered\"],[\"Hey Jude - Remastered 2015\"],[\"Flor la Buena\"],[\"Loco\"],[\"Domino Dancing\"],[\"Starman - 2012 Remaster\"],[\"Life on Mars? - 2015 Remaster\"],[\"What It Is\"],[\"One\"],[\"Money For Nothing\"],[\"Knee Socks\"],[\"Lamento Boliviano\"],[\"Bye Bye\"],[\"A Dustland Fairytale\"],[\"With Or Without You - Remastered\"],[\"La peor de las guerras - Remastered\"],[\"Dancing With Myself\"],[\"White Wedding - Pt. 1\"],[\"Stand Back\"],[\"Go Your Own Way - 2004 Remaster\"],[\"Gypsy\"],[\"Verte As\\u00ed\"],[\"Dream On\"],[\"Basket Case\"],[\"Boulevard of Broken Dreams\"],[\"Wake Me up When September Ends\"],[\"American Idiot\"],[\"21 Guns\"],[\"Do I Wanna Know?\"],[\"Don't Go Away\"],[\"Adi\\u00f3s\"],[\"Magia\"],[\"Deja Vu\"],[\"Shine On You Crazy Diamond (Pts. 1-5)\"],[\"Hey You\"],[\"Bright Lights\"],[\"The Kill (Bury Me)\"],[\"Closer To The Edge\"],[\"This Is War\"],[\"Kings And Queens\"],[\"Cancer\"],[\"Moneytalks\"],[\"Soul Sacrifice - Live at The Woodstock Music & Art Fair, August 16, 1969\"],[\"For What It's Worth\"],[\"Somebody Told Me\"],[\"Don't Look Back in Anger - Remastered\"],[\"I Wanna Be Yours\"],[\"Arabella\"],[\"Dani California\"],[\"Hurricane\"],[\"Europa (Earth's Cry Heaven's Smile)\"],[\"Layla - Acoustic; Live at MTV Unplugged, Bray Film Studios, Windsor, England, UK, 1/16/1992; 2013 Remaster\"],[\"Black Magic Woman - Single Version\"],[\"Every Little Thing She Does Is Magic - Remastered 2003\"],[\"Piano Man\"],[\"She's Thunderstorms\"],[\"Somebody To Love - Remastered 2011\"],[\"Magdalena\"],[\"In the Heat of the Moment\"],[\"Pride and Joy\"],[\"Heartbreaker - 1990 Remaster\"],[\"Peace Of Mind\"],[\"Run For Cover\"],[\"The Man\"],[\"Las Torres\"],[\"Sympathy For The Devil\"],[\"Cuando Pase el Temblor\"],[\"California Dreamin'\"],[\"We're Not Gonna Take It\"],[\"Message In A Bottle - Remastered 2003\"],[\"Por el Resto\"],[\"I Want To Break Free - Single Remix\"],[\"Brain Damage\"],[\"Qu\\u00e9date\"],[\"Decir adi\\u00f3s\"],[\"Thunder on the Mountain\"],[\"Maneater\"],[\"La pachanga\"],[\"Al lado del camino\"],[\"Mariposa tecknicolor\"],[\"Cuando te conoc\\u00ed\"],[\"Under Pressure - Remastered 2011\"],[\"Lo Olvid\\u00e9\"],[\"La Flaca (feat. Juanes)\"],[\"Flaca\"],[\"Nada Personal - Remasterizado 2007\"],[\"Nothing's Gonna Stop Us Now\"],[\"Stop Crying Your Heart Out\"],[\"Wonderwall - Remastered\"],[\"Champagne Supernova - Remastered\"],[\"Every Breath You Take - Remastered 2003\"],[\"Los Globos del Cielo\"],[\"Killer Queen - Remastered 2011\"],[\"Another One Bites The Dust - Remastered 2011\"],[\"Stairway to Heaven - Remaster\"],[\"In My Life - Remastered\"],[\"Wall of Glass\"],[\"Creep\"],[\"Her Strut\"],[\"Don't Go Breaking My Heart\"],[\"Manuel Santill\\u00e1n, el Le\\u00f3n (Versi\\u00f3n Reggae) - Remasterizado 2008\"],[\"Thunderstruck\"],[\"Highway to Hell\"],[\"Back In Black\"],[\"The Final Countdown\"],[\"De M\\u00fasica Ligera - Remasterizado 2007\"],[\"Walking The Wire\"],[\"Tiny Dancer\"],[\"Heart-Shaped Box\"],[\"Luna de Miel en la Mano\"],[\"El Genio Del Dub\"],[\"Demoliendo Hoteles\"],[\"Cada Vez Que Digo Adi\\u00f3s\"],[\"En Esta Habitaci\\u00f3n\"],[\"Smells Like Teen Spirit\"],[\"Mil Horas\"],[\"Ojos De \\u00e1ngel\"],[\"Spaceman\"],[\"Guitarras Blancas\"],[\"Mi Primer Dia Sin Ti\"],[\"Mr. Brightside\"],[\"Mardy Bum\"],[\"No.1 Party Anthem\"],[\"Don't Stop Me Now - Remastered 2011\"],[\"Wish You Were Here\"],[\"Another Brick in the Wall, Pt. 2\"],[\"Money\"],[\"Gimme Shelter\"],[\"Paint It Black\"],[\"Suna\"],[\"Balada de un Encuentro Fugaz\"],[\"Nectar\"],[\"Hembra\"],[\"The Air That I Breathe - 2008 Remaster\"],[\"Stand By Me - Remastered 2010\"],[\"Long Cool Woman (In a Black Dress) - 1999 Remaster\"],[\"Tr\\u00e1tame Suavemente - Remasterizado 2007\"],[\"Persiana Americana - Remasterizado 2007\"],[\"Pr\\u00f3fugos\"],[\"Mariposas\"],[\"Mujer Noche\"],[\"Loco\"],[\"One For The Road\"],[\"Whatever - Remastered\"],[\"Come with Me Now\"],[\"Can't Stand Losing You\"],[\"Sgt. Pepper's Lonely Hearts Club Band - Remastered\"],[\"Brianstorm\"],[\"I Bet You Look Good On The Dancefloor\"],[\"Karma Police\"],[\"Te Quiero Tanto\"],[\"The Chain - 2004 Remaster\"],[\"Let's Dance - 1999 Remaster\"],[\"Show Me The Way\"],[\"Lemon Tree - Album Edit\"],[\"Losing My Religion\"],[\"Separate Ways (Worlds Apart)\"],[\"Stand by Me\"],[\"Rocket Man (I Think It's Going To Be A Long Long Time)\"],[\"Radio Ga Ga - Remastered 2011\"],[\"More Than a Feeling\"],[\"Oye Como Va - Album Verision\"],[\"Like a Rolling Stone\"],[\"No se puede vivir del amor\"],[\"Warriors\"],[\"Believer\"],[\"Start Me Up - Remastered\"],[\"All Along the Watchtower\"],[\"Here I Go Again - 2011 Remaster\"],[\"Africa\"],[\"18 and Life\"],[\"Paint It Black\"],[\"The Letter - Single Version\"],[\"Stand By Me\"],[\"Living On My Own - Single Edit\"],[\"Degeneraci\\u00f3n Actual\"],[\"Take Me Out\"],[\"Lithium\"],[\"Come As You Are\"],[\"Un Misil en Mi Placard\"],[\"Wild Horses\"],[\"Here Comes The Sun - Remastered 2009\"],[\"Bohemian Rhapsody - Remastered 2011\"],[\"Hermanos\"],[\"Muchacha\"],[\"11 Y 6\"],[\"Under My Thumb\"],[\"Carry on Wayward Son\"],[\"Master Of Puppets\"],[\"A Day In The Life - Remastered\"],[\"Sunny Afternoon\"],[\"I Don't Want to Miss a Thing - From \\\"Armageddon\\\" Soundtrack\"],[\"Go Your Own Way\"],[\"Roxanne - Remastered 2003\"],[\"Jump - 2004 Remaster\"],[\"Black Magic Woman\"],[\"Corazon Espinado (feat. Mana)\"],[\"Smooth (feat. Rob Thomas)\"],[\"Canci\\u00f3n De Luna\"],[\"Me vuelvo loco por vos\"],[\"Nikita\"],[\"Your Song\"],[\"Daniel\"],[\"Balada de un Encuentro Fugaz\"],[\"Como Un Perro\"],[\"Un Vino, Una Cerveza\"],[\"Me Resfri\\u00e9 en Brasil\"],[\"Time\"],[\"No Voy en Tren\"],[\"Te quiero igual\"],[\"Crimen\"],[\"Miss You - Remastered\"],[\"Hold the Line\"],[\"Sweet Home Alabama\"],[\"Irresponsables\"],[\"Yo No Me Sentar\\u00eda en Tu Mesa\"],[\"Auto rojo\"],[\"Crazy Train\"],[\"Sweet Emotion\"],[\"Sultans of Swing\"],[\"Rebel Rebel - 1999 Remaster\"],[\"Come Together - Remastered 2009\"],[\"Money - 2011 Remastered Version\"],[\"Ramble On - 1990 Remaster\"],[\"Modern Love - 1999 Remaster\"],[\"Lunes Por La Madrugada\"],[\"While My Guitar Gently Weeps - Remastered 2009\"],[\"Little Wing\"],[\"Comfortably Numb\"],[\"Tren Al Sur\"],[\"Nos Siguen Pegando Abajo\"],[\"Sunday Bloody Sunday - Remastered 2008\"],[\"Break on Through (To the Other Side)\"],[\"R U Mine?\"],[\"Why'd You Only Call Me When You're High?\"],[\"Fluorescent Adolescent\"],[\"Ruby Tuesday - Stereo Version\"],[\"Bus Stop - 1997 Remaster\"]],\"hovertemplate\":\"Broad Genre=Rock<br>Date Added=%{x}<br>Duration=%{y}<br>Track Name=%{customdata[0]}<extra></extra>\",\"legendgroup\":\"Rock\",\"marker\":{\"color\":\"#B6E880\",\"symbol\":\"circle\"},\"mode\":\"markers\",\"name\":\"Rock\",\"showlegend\":true,\"x\":[\"2024-04-01 14:51:38-05:00\",\"2024-03-24 20:11:14-05:00\",\"2024-03-24 20:06:20-05:00\",\"2024-03-24 19:55:44-05:00\",\"2024-03-24 19:52:01-05:00\",\"2024-03-23 20:24:06-05:00\",\"2024-03-23 20:11:10-05:00\",\"2024-03-23 20:05:55-05:00\",\"2024-03-23 19:59:54-05:00\",\"2024-03-23 19:53:44-05:00\",\"2024-03-19 17:29:00-05:00\",\"2024-03-03 17:15:18-05:00\",\"2024-02-25 22:35:44-05:00\",\"2024-02-25 22:31:12-05:00\",\"2024-02-25 22:26:07-05:00\",\"2024-02-24 17:55:27-05:00\",\"2024-02-14 15:38:53-05:00\",\"2024-02-03 15:31:01-05:00\",\"2024-01-25 00:45:05-05:00\",\"2024-01-10 10:14:39-05:00\",\"2024-01-09 22:15:50-05:00\",\"2023-12-25 21:22:03-05:00\",\"2023-11-30 15:47:56-05:00\",\"2023-11-30 15:44:18-05:00\",\"2023-10-17 20:39:59-05:00\",\"2023-10-16 20:11:20-05:00\",\"2023-09-24 21:54:04-05:00\",\"2023-09-23 16:36:06-05:00\",\"2023-09-03 21:38:43-05:00\",\"2023-09-03 21:19:19-05:00\",\"2023-09-03 21:11:45-05:00\",\"2023-08-15 20:16:36-05:00\",\"2023-08-15 20:08:32-05:00\",\"2023-08-13 22:05:05-05:00\",\"2023-08-13 02:35:08-05:00\",\"2023-08-12 19:54:10-05:00\",\"2023-08-12 19:37:52-05:00\",\"2023-08-11 15:47:02-05:00\",\"2023-07-22 07:44:19-05:00\",\"2023-07-19 22:01:59-05:00\",\"2023-07-10 23:04:21-05:00\",\"2023-07-10 22:44:59-05:00\",\"2023-07-10 22:14:10-05:00\",\"2023-07-10 21:54:11-05:00\",\"2023-07-10 21:11:15-05:00\",\"2023-07-10 21:10:03-05:00\",\"2023-07-10 21:07:15-05:00\",\"2023-07-10 10:53:37-05:00\",\"2023-07-07 10:12:59-05:00\",\"2023-07-05 19:08:18-05:00\",\"2023-07-05 19:04:40-05:00\",\"2023-07-03 22:28:31-05:00\",\"2023-07-03 15:38:12-05:00\",\"2023-07-03 15:35:26-05:00\",\"2023-07-03 14:59:11-05:00\",\"2023-07-03 14:56:52-05:00\",\"2023-07-03 14:56:30-05:00\",\"2023-07-03 14:56:28-05:00\",\"2023-07-03 12:52:57-05:00\",\"2023-07-03 12:24:10-05:00\",\"2023-07-03 12:21:22-05:00\",\"2023-07-03 12:16:30-05:00\",\"2023-06-10 13:16:02-05:00\",\"2023-06-08 21:04:15-05:00\",\"2023-06-05 23:52:01-05:00\",\"2023-05-11 07:48:57-05:00\",\"2023-04-21 09:44:08-05:00\",\"2023-04-04 08:10:42-05:00\",\"2023-04-01 01:11:10-05:00\",\"2023-03-21 22:58:48-05:00\",\"2023-02-17 07:54:58-05:00\",\"2023-02-14 14:51:23-05:00\",\"2023-02-14 14:40:24-05:00\",\"2023-02-13 18:36:16-05:00\",\"2023-02-13 18:27:46-05:00\",\"2023-02-13 18:19:59-05:00\",\"2023-01-28 21:22:19-05:00\",\"2023-01-25 08:07:59-05:00\",\"2023-01-06 20:49:38-05:00\",\"2023-01-01 19:48:38-05:00\",\"2022-12-28 17:09:13-05:00\",\"2022-12-26 17:18:14-05:00\",\"2022-12-12 08:05:11-05:00\",\"2022-12-09 09:18:40-05:00\",\"2022-12-08 17:42:39-05:00\",\"2022-12-08 17:42:19-05:00\",\"2022-12-07 11:03:49-05:00\",\"2022-12-07 09:34:48-05:00\",\"2022-12-05 20:58:49-05:00\",\"2022-12-04 15:33:24-05:00\",\"2022-12-04 12:50:25-05:00\",\"2022-12-03 22:39:08-05:00\",\"2022-12-03 22:37:12-05:00\",\"2022-12-03 22:29:52-05:00\",\"2022-12-03 21:55:24-05:00\",\"2022-12-03 21:49:05-05:00\",\"2022-12-03 21:34:33-05:00\",\"2022-12-03 14:59:21-05:00\",\"2022-12-03 14:53:02-05:00\",\"2022-12-03 14:48:49-05:00\",\"2022-12-03 14:36:45-05:00\",\"2022-12-03 14:25:45-05:00\",\"2022-11-29 16:52:36-05:00\",\"2022-11-20 12:20:19-05:00\",\"2022-11-15 17:40:03-05:00\",\"2022-11-15 17:39:16-05:00\",\"2022-11-15 16:34:04-05:00\",\"2022-11-15 13:51:50-05:00\",\"2022-11-15 13:51:04-05:00\",\"2022-11-15 13:45:08-05:00\",\"2022-10-31 15:47:33-05:00\",\"2022-10-23 11:02:09-05:00\",\"2022-10-21 19:43:29-05:00\",\"2022-09-30 15:32:05-05:00\",\"2022-09-30 15:11:01-05:00\",\"2022-09-30 14:57:30-05:00\",\"2022-09-30 08:18:53-05:00\",\"2022-09-28 19:43:23-05:00\",\"2022-09-28 19:40:16-05:00\",\"2022-09-28 19:36:42-05:00\",\"2022-09-28 19:23:56-05:00\",\"2022-09-28 07:45:25-05:00\",\"2022-09-27 21:40:42-05:00\",\"2022-09-22 14:02:10-05:00\",\"2022-09-21 16:21:49-05:00\",\"2022-09-21 16:15:31-05:00\",\"2022-09-21 15:49:40-05:00\",\"2022-09-21 14:23:06-05:00\",\"2022-09-21 14:11:45-05:00\",\"2022-09-21 14:09:38-05:00\",\"2022-09-21 13:52:26-05:00\",\"2022-09-21 11:01:29-05:00\",\"2022-09-17 16:10:25-05:00\",\"2022-09-17 16:10:08-05:00\",\"2022-09-16 23:27:42-05:00\",\"2022-09-12 21:58:52-05:00\",\"2022-09-12 21:54:22-05:00\",\"2022-09-06 15:31:15-05:00\",\"2022-08-25 12:40:11-05:00\",\"2022-08-18 21:21:17-05:00\",\"2022-08-18 08:11:10-05:00\",\"2022-08-18 08:11:02-05:00\",\"2022-08-17 20:42:33-05:00\",\"2022-06-18 15:27:05-05:00\",\"2022-06-12 14:19:55-05:00\",\"2022-06-07 20:46:38-05:00\",\"2022-06-07 07:52:52-05:00\",\"2022-06-07 07:49:32-05:00\",\"2022-06-04 21:04:00-05:00\",\"2022-06-01 07:55:00-05:00\",\"2022-05-20 18:48:32-05:00\",\"2022-05-13 15:36:52-05:00\",\"2021-11-23 12:35:45-05:00\",\"2021-10-17 19:44:09-05:00\",\"2021-09-10 13:29:46-05:00\",\"2021-09-10 12:56:41-05:00\",\"2021-09-09 19:00:46-05:00\",\"2021-09-08 19:00:09-05:00\",\"2021-09-08 13:38:47-05:00\",\"2021-09-08 13:30:44-05:00\",\"2021-09-08 13:25:15-05:00\",\"2021-09-07 16:19:58-05:00\",\"2021-09-07 15:58:29-05:00\",\"2021-09-07 15:47:58-05:00\",\"2021-09-07 14:45:16-05:00\",\"2021-09-07 12:19:18-05:00\",\"2021-09-07 11:39:51-05:00\",\"2021-09-06 19:19:14-05:00\",\"2021-09-06 19:09:50-05:00\",\"2021-09-06 18:59:10-05:00\",\"2021-09-02 20:31:41-05:00\",\"2021-07-27 18:19:39-05:00\",\"2021-06-19 09:23:28-05:00\",\"2021-06-12 20:26:26-05:00\",\"2021-06-12 20:26:24-05:00\",\"2021-06-12 20:26:21-05:00\",\"2021-06-12 20:26:18-05:00\",\"2021-06-12 20:25:54-05:00\",\"2021-06-04 17:50:09-05:00\",\"2021-04-20 23:48:21-05:00\",\"2021-03-14 18:29:14-05:00\",\"2021-02-10 18:54:42-05:00\",\"2021-02-10 18:45:42-05:00\",\"2021-01-29 19:36:40-05:00\",\"2021-01-26 20:27:25-05:00\",\"2021-01-24 19:15:19-05:00\",\"2020-12-27 20:58:52-05:00\",\"2020-12-27 10:43:24-05:00\",\"2020-12-04 20:43:55-05:00\",\"2020-11-29 13:42:01-05:00\",\"2020-11-21 17:51:13-05:00\",\"2020-11-20 23:33:27-05:00\",\"2020-11-20 23:30:22-05:00\",\"2020-11-20 23:26:24-05:00\",\"2020-11-19 17:09:03-05:00\",\"2020-11-19 17:04:10-05:00\",\"2020-11-19 16:46:17-05:00\",\"2020-11-19 16:21:45-05:00\",\"2020-11-05 17:40:41-05:00\",\"2020-11-04 11:34:26-05:00\",\"2020-10-15 18:40:30-05:00\",\"2020-10-08 21:31:27-05:00\",\"2020-09-30 22:12:51-05:00\",\"2020-09-29 19:45:26-05:00\",\"2020-09-26 22:04:21-05:00\",\"2020-09-26 22:03:40-05:00\",\"2020-09-21 17:41:43-05:00\",\"2020-09-11 11:27:46-05:00\",\"2020-09-05 20:21:20-05:00\",\"2020-08-12 20:20:04-05:00\",\"2020-08-02 20:07:48-05:00\",\"2020-07-24 13:18:28-05:00\",\"2020-07-14 21:10:16-05:00\",\"2020-07-14 20:57:10-05:00\",\"2020-06-04 12:44:19-05:00\",\"2020-03-25 10:01:54-05:00\",\"2020-03-25 09:58:20-05:00\",\"2020-03-25 09:58:17-05:00\",\"2020-03-25 09:49:26-05:00\",\"2020-03-20 10:39:42-05:00\",\"2020-03-18 23:26:27-05:00\",\"2020-02-18 20:27:46-05:00\",\"2020-02-16 20:24:52-05:00\",\"2020-02-16 20:05:10-05:00\",\"2020-02-15 00:24:29-05:00\",\"2020-02-13 18:16:42-05:00\",\"2020-02-02 17:15:35-05:00\",\"2020-01-30 20:01:49-05:00\",\"2020-01-30 07:30:38-05:00\",\"2020-01-29 22:26:35-05:00\",\"2020-01-23 08:02:33-05:00\",\"2020-01-14 07:15:04-05:00\",\"2020-01-11 19:53:20-05:00\",\"2020-01-01 02:57:37-05:00\",\"2019-12-31 22:05:53-05:00\",\"2019-12-31 21:58:34-05:00\",\"2019-12-28 17:14:58-05:00\",\"2019-12-28 17:14:56-05:00\",\"2019-12-28 17:14:24-05:00\",\"2019-12-21 23:56:56-05:00\",\"2019-12-21 23:48:50-05:00\",\"2019-11-27 16:25:13-05:00\",\"2019-11-06 20:32:38-05:00\",\"2019-11-05 08:14:24-05:00\",\"2019-10-28 23:08:19-05:00\",\"2019-10-06 23:33:07-05:00\",\"2019-10-01 22:44:51-05:00\",\"2019-09-02 06:35:42-05:00\",\"2019-07-29 22:22:02-05:00\",\"2019-07-27 10:44:26-05:00\",\"2019-07-27 10:28:37-05:00\",\"2019-07-23 23:58:35-05:00\",\"2019-07-23 23:52:59-05:00\",\"2019-07-23 23:47:12-05:00\",\"2019-07-18 11:21:14-05:00\",\"2019-07-15 23:51:56-05:00\",\"2019-07-15 23:34:08-05:00\",\"2019-07-12 14:24:55-05:00\",\"2019-07-05 14:27:12-05:00\",\"2019-06-10 18:19:47-05:00\",\"2019-06-09 02:49:25-05:00\",\"2019-05-29 21:18:17-05:00\",\"2019-05-29 20:59:18-05:00\",\"2019-05-10 08:20:20-05:00\",\"2019-05-06 23:40:12-05:00\",\"2019-04-22 11:16:29-05:00\",\"2019-04-21 22:10:01-05:00\",\"2019-04-21 10:01:57-05:00\",\"2019-04-20 21:33:36-05:00\",\"2019-04-19 11:03:51-05:00\",\"2019-04-13 16:50:57-05:00\",\"2019-04-02 21:06:13-05:00\",\"2019-03-24 15:50:21-05:00\",\"2019-03-22 10:48:43-05:00\",\"2019-03-18 11:05:56-05:00\",\"2019-03-18 10:52:13-05:00\",\"2019-03-17 19:18:17-05:00\",\"2019-03-16 23:04:39-05:00\",\"2019-03-08 11:38:43-05:00\",\"2019-02-22 13:50:08-05:00\",\"2019-02-21 19:14:43-05:00\",\"2019-02-17 14:44:26-05:00\",\"2019-02-11 07:42:56-05:00\",\"2019-02-08 09:42:14-05:00\",\"2019-02-03 01:59:49-05:00\",\"2019-01-19 21:21:51-05:00\",\"2019-01-11 21:55:53-05:00\",\"2019-01-11 20:03:18-05:00\",\"2018-12-29 09:55:49-05:00\",\"2018-12-29 01:16:12-05:00\",\"2018-12-15 22:53:42-05:00\",\"2018-12-15 22:47:26-05:00\",\"2018-12-15 19:33:33-05:00\",\"2018-12-06 21:42:02-05:00\",\"2018-12-03 08:11:54-05:00\",\"2018-12-03 08:09:24-05:00\",\"2018-11-24 22:42:23-05:00\",\"2018-11-24 08:08:51-05:00\",\"2018-11-20 08:36:11-05:00\",\"2018-11-19 13:33:39-05:00\",\"2018-11-15 00:05:51-05:00\",\"2018-11-14 15:26:25-05:00\",\"2018-11-14 13:57:50-05:00\",\"2018-11-14 13:54:29-05:00\",\"2018-11-14 13:42:01-05:00\",\"2018-11-06 19:12:33-05:00\",\"2018-10-29 09:37:25-05:00\",\"2018-10-19 22:58:33-05:00\",\"2018-10-19 14:15:02-05:00\",\"2018-10-08 12:11:12-05:00\",\"2018-10-01 20:37:55-05:00\",\"2018-10-01 16:53:05-05:00\",\"2018-10-01 07:12:24-05:00\",\"2018-09-30 22:43:55-05:00\",\"2018-09-24 21:02:46-05:00\",\"2018-09-24 21:02:24-05:00\",\"2018-09-23 17:13:35-05:00\",\"2018-09-22 11:28:41-05:00\",\"2018-09-21 22:26:43-05:00\",\"2018-09-21 18:10:44-05:00\",\"2018-09-15 18:34:16-05:00\",\"2018-09-13 19:02:25-05:00\",\"2018-09-06 23:45:12-05:00\",\"2018-09-06 18:36:56-05:00\",\"2018-09-02 23:42:34-05:00\",\"2018-09-02 23:42:11-05:00\",\"2018-08-29 14:19:54-05:00\",\"2018-08-25 18:05:21-05:00\",\"2018-08-25 00:36:53-05:00\",\"2018-08-21 10:49:37-05:00\",\"2018-08-19 21:11:19-05:00\",\"2018-08-17 08:13:22-05:00\",\"2018-08-04 22:01:56-05:00\",\"2018-08-04 21:54:32-05:00\",\"2018-08-03 19:54:49-05:00\",\"2018-08-03 17:34:37-05:00\",\"2018-08-03 17:07:42-05:00\",\"2018-07-01 21:38:06-05:00\",\"2018-06-24 01:13:46-05:00\",\"2018-05-27 17:48:35-05:00\",\"2018-05-24 13:37:58-05:00\",\"2018-05-12 14:31:53-05:00\",\"2018-05-01 02:08:35-05:00\",\"2018-04-14 17:50:50-05:00\",\"2018-04-06 18:19:07-05:00\",\"2018-03-31 20:44:58-05:00\",\"2018-03-25 20:56:09-05:00\",\"2018-03-25 20:55:58-05:00\",\"2018-03-08 01:33:29-05:00\",\"2018-03-07 13:18:37-05:00\",\"2018-03-07 09:52:48-05:00\",\"2018-03-06 10:24:09-05:00\",\"2018-03-06 00:40:15-05:00\",\"2018-03-06 00:34:22-05:00\",\"2018-03-05 17:53:47-05:00\",\"2018-02-28 00:22:22-05:00\",\"2018-02-27 23:04:12-05:00\",\"2018-02-26 13:51:34-05:00\",\"2018-02-23 12:42:04-05:00\",\"2018-02-21 22:21:37-05:00\",\"2018-02-20 23:10:48-05:00\",\"2018-02-18 01:19:19-05:00\",\"2018-02-14 08:12:54-05:00\",\"2018-02-13 09:48:32-05:00\",\"2018-02-13 00:55:47-05:00\",\"2018-02-11 20:03:15-05:00\",\"2018-02-11 13:31:47-05:00\",\"2018-02-09 08:59:03-05:00\",\"2018-02-06 20:37:41-05:00\",\"2018-02-05 22:01:24-05:00\",\"2018-02-04 01:53:05-05:00\",\"2018-02-04 01:46:21-05:00\",\"2018-02-02 22:49:12-05:00\",\"2018-02-02 13:31:51-05:00\",\"2018-01-24 07:21:21-05:00\",\"2018-01-17 09:35:33-05:00\",\"2018-01-14 16:16:16-05:00\",\"2018-01-10 22:01:32-05:00\",\"2018-01-05 20:05:27-05:00\",\"2017-12-30 16:16:11-05:00\",\"2017-12-30 16:12:56-05:00\",\"2017-12-28 16:09:41-05:00\",\"2017-12-18 22:59:20-05:00\",\"2017-12-18 22:58:39-05:00\",\"2017-12-15 23:18:03-05:00\",\"2017-11-27 17:48:59-05:00\",\"2017-11-18 12:14:57-05:00\",\"2017-11-18 12:12:07-05:00\",\"2017-11-18 12:11:20-05:00\",\"2017-11-18 12:11:05-05:00\",\"2017-11-18 12:10:43-05:00\",\"2017-11-13 21:11:17-05:00\",\"2017-11-08 15:57:26-05:00\",\"2017-11-07 20:15:59-05:00\",\"2017-11-04 01:52:09-05:00\",\"2017-11-04 01:43:51-05:00\",\"2017-10-29 20:37:39-05:00\",\"2017-10-23 21:53:42-05:00\",\"2017-10-21 18:15:33-05:00\",\"2017-10-21 18:14:48-05:00\",\"2017-10-21 18:14:45-05:00\",\"2017-10-21 18:14:42-05:00\",\"2017-10-21 18:14:40-05:00\",\"2017-10-21 18:14:02-05:00\",\"2017-10-18 16:13:25-05:00\",\"2017-10-17 21:46:59-05:00\",\"2017-09-22 18:51:50-05:00\",\"2017-09-20 06:04:14-05:00\",\"2017-09-12 05:59:13-05:00\",\"2017-09-07 15:44:52-05:00\",\"2017-08-23 13:02:55-05:00\",\"2017-08-18 19:24:07-05:00\",\"2017-08-18 01:39:17-05:00\",\"2017-08-17 14:26:58-05:00\",\"2017-08-17 14:25:37-05:00\",\"2017-08-17 01:44:38-05:00\",\"2017-08-17 01:17:09-05:00\",\"2017-08-14 19:25:52-05:00\",\"2017-08-14 14:53:34-05:00\",\"2017-08-14 01:50:45-05:00\",\"2017-08-13 02:52:47-05:00\",\"2017-08-12 19:20:16-05:00\",\"2017-08-11 17:34:47-05:00\",\"2017-08-11 17:30:43-05:00\",\"2017-08-10 23:47:25-05:00\",\"2017-08-10 23:41:22-05:00\",\"2017-08-10 23:39:26-05:00\",\"2017-08-10 23:22:22-05:00\",\"2017-08-09 11:38:28-05:00\",\"2017-08-08 23:52:04-05:00\",\"2017-08-08 23:47:47-05:00\",\"2017-08-08 01:06:40-05:00\",\"2017-08-08 01:04:17-05:00\",\"2017-08-08 00:56:14-05:00\",\"2017-08-06 23:15:57-05:00\",\"2017-08-06 01:16:03-05:00\",\"2017-08-04 01:54:01-05:00\",\"2017-08-04 01:53:35-05:00\",\"2017-08-02 11:46:07-05:00\",\"2017-07-30 10:43:38-05:00\",\"2017-07-29 01:12:52-05:00\",\"2017-07-28 19:38:35-05:00\",\"2017-07-28 19:38:26-05:00\",\"2017-07-28 00:39:19-05:00\",\"2017-07-27 10:37:24-05:00\",\"2017-07-26 11:08:27-05:00\",\"2017-07-26 01:45:58-05:00\",\"2017-07-26 01:45:30-05:00\",\"2017-07-23 03:54:39-05:00\",\"2017-07-21 13:00:36-05:00\",\"2017-07-16 21:30:32-05:00\",\"2017-07-16 17:54:19-05:00\",\"2017-07-15 21:29:23-05:00\",\"2017-07-14 22:39:16-05:00\",\"2017-07-09 20:19:05-05:00\",\"2017-07-07 21:57:02-05:00\",\"2017-07-07 21:56:52-05:00\",\"2017-07-07 21:56:41-05:00\",\"2017-07-02 19:40:02-05:00\",\"2017-07-01 00:08:42-05:00\",\"2017-07-01 00:08:26-05:00\",\"2017-06-30 19:39:19-05:00\",\"2017-06-28 19:52:55-05:00\",\"2017-06-27 19:24:21-05:00\",\"2017-06-25 20:47:57-05:00\",\"2017-06-25 20:47:54-05:00\",\"2017-06-25 20:47:37-05:00\",\"2017-06-25 20:46:44-05:00\",\"2017-06-25 19:56:23-05:00\",\"2017-06-25 19:15:56-05:00\",\"2017-06-24 20:53:18-05:00\",\"2017-06-23 18:57:05-05:00\",\"2017-06-23 16:55:24-05:00\",\"2017-06-23 16:41:36-05:00\",\"2017-06-23 16:29:02-05:00\",\"2017-06-22 22:43:06-05:00\",\"2017-06-22 22:23:06-05:00\",\"2017-06-19 18:46:39-05:00\",\"2017-06-18 22:02:54-05:00\",\"2017-06-18 11:35:38-05:00\",\"2017-06-17 00:35:52-05:00\",\"2017-06-17 00:24:33-05:00\",\"2017-06-17 00:23:07-05:00\",\"2017-06-17 00:05:44-05:00\",\"2017-06-17 00:05:33-05:00\",\"2017-06-17 00:02:21-05:00\",\"2017-06-15 15:42:46-05:00\",\"2017-06-15 15:41:37-05:00\",\"2017-06-15 15:17:46-05:00\",\"2017-06-15 15:17:40-05:00\",\"2017-06-15 15:17:19-05:00\",\"2017-06-15 15:14:05-05:00\",\"2017-06-15 15:13:48-05:00\",\"2017-06-15 15:10:19-05:00\",\"2017-06-15 15:08:02-05:00\",\"2017-06-15 15:05:05-05:00\",\"2017-06-11 21:58:01-05:00\",\"2017-06-09 13:07:30-05:00\",\"2017-06-08 18:37:43-05:00\",\"2017-06-07 19:52:31-05:00\",\"2017-06-06 19:32:27-05:00\",\"2017-06-06 19:26:45-05:00\",\"2017-06-06 16:55:13-05:00\",\"2017-06-03 01:32:53-05:00\",\"2017-06-01 20:24:53-05:00\",\"2017-05-28 17:13:31-05:00\",\"2017-05-28 00:40:28-05:00\",\"2017-05-27 16:54:37-05:00\",\"2017-05-27 15:07:34-05:00\",\"2017-05-27 15:01:42-05:00\",\"2017-05-27 10:18:13-05:00\",\"2017-05-27 10:18:05-05:00\",\"2017-05-26 16:30:40-05:00\",\"2017-05-26 16:22:35-05:00\",\"2017-05-20 17:06:34-05:00\",\"2017-05-14 18:22:07-05:00\",\"2017-05-07 18:49:54-05:00\",\"2017-05-01 22:05:56-05:00\",\"2017-04-26 19:18:00-05:00\",\"2017-04-21 12:56:36-05:00\",\"2017-04-20 12:51:05-05:00\",\"2017-04-19 20:25:32-05:00\",\"2017-04-19 20:03:13-05:00\",\"2017-04-18 20:25:50-05:00\",\"2017-04-18 17:40:02-05:00\",\"2017-04-18 17:29:31-05:00\",\"2017-04-18 08:12:04-05:00\",\"2017-04-14 22:57:39-05:00\",\"2017-04-14 22:57:17-05:00\",\"2017-04-13 09:15:23-05:00\",\"2017-04-13 08:44:04-05:00\",\"2017-04-12 06:30:03-05:00\",\"2017-04-11 22:37:07-05:00\",\"2017-04-11 21:29:00-05:00\",\"2017-04-11 21:17:01-05:00\",\"2017-04-11 19:50:24-05:00\",\"2017-04-11 17:37:32-05:00\",\"2017-04-11 17:30:31-05:00\",\"2017-04-11 13:38:55-05:00\",\"2017-04-10 22:09:20-05:00\",\"2017-04-09 08:04:35-05:00\",\"2017-04-09 08:00:51-05:00\",\"2017-04-09 07:59:10-05:00\",\"2017-04-08 16:50:35-05:00\",\"2017-04-06 13:07:02-05:00\",\"2017-04-05 21:34:33-05:00\",\"2017-04-04 17:53:12-05:00\",\"2017-04-04 17:48:49-05:00\",\"2017-04-04 17:47:14-05:00\",\"2017-04-04 17:40:27-05:00\",\"2017-04-03 21:26:49-05:00\",\"2017-04-02 16:47:09-05:00\",\"2017-03-31 12:27:36-05:00\",\"2017-03-31 12:24:34-05:00\",\"2017-03-31 12:17:38-05:00\",\"2017-03-31 12:16:57-05:00\",\"2017-03-29 20:26:05-05:00\",\"2017-03-29 12:21:42-05:00\",\"2017-03-27 22:34:46-05:00\",\"2017-03-27 22:34:40-05:00\",\"2017-03-27 22:34:35-05:00\",\"2017-03-27 07:32:07-05:00\",\"2017-03-26 11:28:02-05:00\",\"2017-03-25 18:49:47-05:00\",\"2017-03-25 18:49:39-05:00\",\"2017-03-25 18:49:22-05:00\",\"2017-03-25 18:40:30-05:00\",\"2017-03-25 18:37:51-05:00\",\"2017-02-18 13:14:28-05:00\",\"2017-02-18 13:14:14-05:00\",\"2017-02-17 21:40:17-05:00\",\"2017-02-17 21:38:00-05:00\",\"2017-02-17 21:34:32-05:00\",\"2017-02-17 16:09:37-05:00\",\"2017-02-17 12:23:37-05:00\",\"2017-02-16 15:25:21-05:00\",\"2017-02-16 12:14:43-05:00\",\"2017-02-16 12:01:31-05:00\",\"2017-02-16 11:52:51-05:00\",\"2017-02-16 11:38:25-05:00\",\"2017-02-15 17:43:03-05:00\",\"2017-02-15 17:42:03-05:00\",\"2017-02-15 17:33:21-05:00\",\"2017-02-15 17:33:10-05:00\",\"2017-02-15 17:28:06-05:00\",\"2017-02-15 17:24:57-05:00\",\"2017-02-15 17:21:16-05:00\",\"2017-02-14 21:21:45-05:00\",\"2017-02-14 19:56:08-05:00\",\"2017-02-14 09:51:00-05:00\",\"2017-02-14 09:29:20-05:00\",\"2017-02-14 09:24:59-05:00\",\"2017-02-14 09:18:38-05:00\",\"2017-02-14 09:12:46-05:00\",\"2017-02-13 16:21:05-05:00\",\"2017-02-13 16:10:52-05:00\",\"2017-02-13 10:22:27-05:00\",\"2017-02-13 10:20:57-05:00\",\"2017-02-13 10:16:12-05:00\",\"2017-02-13 10:15:40-05:00\",\"2017-02-12 20:16:45-05:00\"],\"xaxis\":\"x\",\"y\":[5.433116666666667,3.3,4.1944333333333335,4.206,3.0708333333333333,3.52355,2.916,4.188,3.928,3.322,3.79,3.925766666666666,2.795333333333333,3.804433333333333,4.208216666666667,3.830216666666667,4.51955,7.65155,5.943766666666667,3.86495,4.24555,2.8255666666666666,3.2788,4.0696666666666665,4.673333333333333,3.279333333333333,5.1593333333333335,9.118433333333334,6.62555,4.493333333333333,5.807333333333333,3.9011,4.874883333333333,3.438,4.8651,4.127766666666667,4.266666666666667,4.785583333333333,3.3747666666666665,4.4531,4.038216666666667,4.488216666666666,4.6071,4.698433333333333,7.064,2.771333333333333,4.972216666666666,3.9133333333333336,5.028883333333333,3.1971166666666666,4.965483333333333,3.368883333333333,4.184216666666667,4.481333333333334,3.8011,3.8356333333333335,3.807333333333333,3.2333333333333334,5.34545,3.9830833333333335,5.844016666666667,5.687583333333333,7.35155,7.419766666666667,4.848883333333333,4.23555,2.9657666666666667,5.75155,4.4371,5.206,5.3228333333333335,2.757616666666667,3.609766666666667,2.97695,3.5428,5.06505,3.496,3.63,3.9726666666666666,4.087766666666667,4.7671,5.13955,4.2264333333333335,3.8526666666666665,4.360433333333333,4.5411,5.700216666666667,5.278616666666666,3.534883333333333,4.872,6.916,3.328883333333333,3.430433333333333,3.5085,4.6951,4.398216666666666,3.61215,3.8486666666666665,4.914433333333333,4.380216666666667,4.562666666666667,3.005033333333333,6.2500333333333336,4.843066666666667,3.2237666666666667,3.48755,3.6751,3.53555,4.429966666666667,4.0822,7.147516666666666,14.49,4.79955,4.00355,3.518883333333333,6.054433333333333,4.3011,4.916666666666667,3.294666666666666,3.4122166666666667,3.978,4.5411,4.684433333333334,5.07155,3.07,2.6453333333333333,3.136433333333333,6.346,4.10155,5.003316666666667,4.74755,3.9266666666666663,3.4793333333333334,4.514783333333333,4.913333333333333,4.243666666666667,4.241816666666667,3.2428833333333333,13.012666666666666,8.614883333333333,11.19355,8.397333333333334,5.106216666666667,2.5871,3.8911,6.45355,3.960883333333333,3.284666666666667,3.5338833333333333,4.404,4.203983333333333,5.49555,4.035333333333333,3.2404333333333333,3.187766666666666,3.617333333333333,6.968883333333333,3.618216666666666,7.266666666666667,3.87555,3.8111,7.996666666666667,6.0111,5.190433333333333,8.158433333333333,4.5811,3.827333333333333,6.260433333333333,2.986666666666667,3.3151,5.1513333333333335,5.029333333333334,3.2109,3.7944333333333335,2.3364666666666665,3.8763833333333335,2.77775,3.6171,3.782466666666666,3.570666666666667,3.3891,4.934666666666667,4.50555,3.514666666666667,3.08,3.48555,4.47,4.221333333333333,4.240883333333334,5.508883333333333,4.130433333333333,3.88955,4.227766666666667,4.574216666666667,4.041766666666667,4.366666666666666,3.7471,3.29955,4.922883333333333,4.962666666666666,3.6882166666666665,3.926,4.713333333333333,3.64155,3.9757666666666656,2.8164333333333333,3.781333333333333,4.79555,5.5831,4.137083333333333,5.36155,5.8631,3.32555,5.166883333333334,5.6579,5.464216666666666,2.9728833333333333,3.71355,3.326433333333333,4.793416666666666,4.307766666666667,4.970433333333333,3.9877666666666665,5.400216666666667,6.6306666666666665,4.054766666666667,3.870616666666667,3.039333333333333,5.72835,3.2357666666666667,3.3240166666666666,4.0633333333333335,3.7128833333333335,4.492216666666667,6.1011,4.57155,4.1831,8.61875,6.478883333333333,3.6826666666666665,4.492216666666667,6.953766666666667,3.09,4.748883333333334,5.207366666666666,5.064883333333333,4.980433333333333,3.9782166666666665,5.033333333333333,4.706666666666667,3.716,5.403333333333333,14.302216666666666,3.744433333333333,4.031766666666667,3.3906,3.4473333333333334,4.166,3.0773333333333333,3.95955,3.124,3.4671,3.7431,3.91,3.010666666666667,2.846883333333333,3.292,4.33155,6.1031,3.786883333333333,4.379133333333334,4.4051,3.6811,6.494166666666667,4.41955,5.126216666666667,3.673333333333333,2.886216666666667,3.62155,5.76755,5.1851,3.242,5.0751,2.9546666666666668,6.10355,5.904,4.614433333333333,1.5293333333333334,4.28775,3.04585,4.537766666666666,2.8991,2.7711,5.0291,3.6231,3.6386666666666665,3.783333333333333,2.75,2.7228833333333333,2.4762166666666667,3.7664333333333335,4.533333333333333,3.4833333333333334,4.2911,4.95,3.099333333333333,3.2171666666666665,3.16155,3.91355,2.958433333333333,4.2391,4.891766666666666,4.5711,4.1688833333333335,4.7151,4.520666666666667,5.080666666666667,5.577766666666666,5.012883333333333,3.9246666666666665,4.0051,3.157766666666667,3.1841166666666667,3.54065,3.818666666666666,3.4351,4.9231,4.302883333333333,3.216,3.790666666666666,5.2904333333333335,3.605333333333333,4.022883333333334,3.4131,5.613766666666667,5.205766666666666,3.4404833333333333,4.4551,3.673766666666667,2.454533333333333,4.0631,4.79,4.604666666666667,5.60755,3.4744333333333333,4.483333333333333,4.114,4.089333333333333,5.278216666666666,5.222883333333334,3.694,5.7026666666666666,3.676,7.402466666666666,4.278883333333333,2.4291,5.564883333333333,5.610216666666667,5.992,5.504,6.5229333333333335,4.14,4.1928833333333335,4.050433333333333,7.094216666666667,5.522383333333333,4.770433333333333,4.30555,4.238216666666666,3.9331,4.934666666666667,4.6031,8.51555,4.292883333333333,3.7191,5.8251,3.752666666666667,4.92525,3.798883333333333,5.99555,4.203333333333333,4.95155,3.726883333333333,4.4151,5.123833333333334,4.449333333333334,3.02555,4.372216666666667,4.760883333333333,2.9391,5.35155,4.5399,4.81,3.895766666666667,4.4797666666666665,3.41555,13.51795,4.640666666666666,4.854433333333334,3.858883333333333,4.557766666666667,5.449716666666666,5.794433333333333,2.382883333333333,3.7657666666666665,11.822216666666666,4.19385,3.288,4.826,3.0671,3.456,4.7026666666666666,8.545533333333333,5.0991,4.8171,3.274433333333333,4.325,5.60155,3.915333333333333,4.941333333333334,2.668883333333333,3.4913333333333334,3.664,4.23555,4.7168833333333335,3.717766666666667,4.14,3.3511,6.295766666666666,3.814216666666667,2.672883333333333,3.6611,4.838,4.4271,4.300216666666667,3.7777666666666665,3.6326666666666663,3.983333333333333,5.896,4.4142166666666665,4.698883333333334,5.436883333333333,3.705766666666667,3.3277666666666668,4.140666666666666,3.9771,4.186216666666667,4.62755,4.876216666666667,4.3811,5.052216666666666,4.312883333333334,7.522,4.220833333333333,3.998433333333333,2.993333333333333,3.57755,8.047166666666667,2.438883333333333,3.7257666666666656,3.977333333333333,3.8891,4.5906666666666665,3.955766666666667,4.881333333333333,3.473333333333333,4.258216666666667,5.1722166666666665,3.5511,3.8817666666666666,6.284883333333333,4.686,5.273766666666667,5.368216666666667,2.2642166666666665,3.8773333333333335,4.541833333333333,5.032,2.842433333333333,2.83735,4.7424333333333335,4.4471,4.476666666666667,3.703333333333333,2.924,4.0511,3.4902166666666665,5.57905,3.9791,6.380566666666667,4.512883333333333,3.734883333333333,4.072216666666667,3.6904333333333335,3.0271666666666666,4.185266666666666,4.2851,3.5277666666666665,3.32,3.3466666666666667,4.8711,5.295333333333334,3.695333333333333,5.162883333333333,3.709333333333333,3.4341833333333334,6.3711,3.5326666666666666,2.8,2.048216666666667,2.8811,2.8946666666666667,4.4011,3.4993333333333334,4.496883333333333,7.618883333333334,4.054433333333333,3.183766666666666,4.4622166666666665,5.3951,5.943333333333333,4.700216666666667,5.722,4.7522166666666665,4.276,6.16,4.354216666666667,2.85065,3.3963666666666668,3.558333333333333,4.013333333333334,5.137333333333333,4.93155,3.832666666666667,3.73555,4.176666666666667,3.0009166666666665,3.091333333333333,5.2671,3.950433333333333,4.284216666666667,3.6486666666666663,3.084216666666667,5.6962166666666665,3.09555,5.905333333333333,4.045333333333334,3.8733333333333335,2.9711,3.6831,5.383333333333334,8.604883333333333,5.62355,3.554,4.979333333333333,3.64,3.191666666666667,4.068433333333333,3.2644333333333333,4.57955,4.916433333333333,3.94555,4.866666666666666,5.74,4.070433333333333,3.9111,3.7622166666666663,3.78755,4.5971,3.788433333333333,6.899116666666667,3.022666666666667,3.926,3.8671,4.8111,3.925766666666666,4.740216666666667,2.603283333333333,2.9066666666666667,5.1,4.9366666666666665,4.568883333333333,5.812666666666667,4.489333333333334,4.332433333333333,6.380566666666667,4.388883333333333,4.807766666666667,3.239333333333333,4.75,2.4291,6.3716,5.63755,3.48,4.657333333333334,2.4311,3.362216666666667,2.68555,3.0648833333333334,3.2748833333333334,2.9193333333333333],\"yaxis\":\"y\",\"type\":\"scattergl\"},{\"customdata\":[[\"Mi Ideolog\\u00eda\"],[\"Me Hace Da\\u00f1o Verte\"],[\"La Puerta\"],[\"M.A - Remix\"],[\"Dog Days\"],[\"Amor del Bueno\"],[\"La Locura Autom\\u00e1tica - Reggaeton\"],[\"Ni Una Ni Dos\"],[\"Bailame Despacio Vs La Player - Remix\"],[\"Bajo\"],[\"Dime\"],[\"Loco por Volverte a Ver\"],[\"KOMM, SUSSER TOD - M-10 Director's Edit Version\"],[\"The Cruel Angel's Thesis (Director's Edit Version)\"],[\"Peach Trees\"],[\"Tengo\"],[\"Remember Summer Days (Night Tempo Showa Groove Mix)\"],[\"memories\"],[\"Comedy\"],[\"Believe (ONE PIECE)\"],[\"Kirameki\"],[\"STAND PROUD\"],[\"CRAZY NOISY BIZARRE TOWN\"],[\"Kaikai Kitan\"],[\"No Me Conocen (Remix) [con DUKI, Rei & Tiago PZK]\"],[\"Kelly\"],[\"I Had Control\"],[\"Esta Cobard\\u00eda\"],[\"Maravillosos\"],[\"Se Fue la Luz\"],[\"Sue\\u00f1o en la Altura\"],[\"Verte Pasar\"],[\"Mr Blue\"],[\"El Che y los Rolling Stones\"],[\"Nora en Abril\"],[\"Da Ya Think I'm Sexy?\"],[\"Speechless (Full)\"],[\"Bad News Ain't No News At All\"],[\"A l'assaut (des ombres sur l'o)\"],[\"Louder Than Words\"],[\"What You Need\"],[\"Lost Stars\"]],\"hovertemplate\":\"Broad Genre=Other<br>Date Added=%{x}<br>Duration=%{y}<br>Track Name=%{customdata[0]}<extra></extra>\",\"legendgroup\":\"Other\",\"marker\":{\"color\":\"#FF97FF\",\"symbol\":\"circle\"},\"mode\":\"markers\",\"name\":\"Other\",\"showlegend\":true,\"x\":[\"2024-03-25 20:22:10-05:00\",\"2024-03-03 19:08:05-05:00\",\"2024-02-27 14:22:43-05:00\",\"2024-01-11 17:21:35-05:00\",\"2024-01-04 08:26:47-05:00\",\"2023-11-26 21:14:38-05:00\",\"2023-09-25 11:08:17-05:00\",\"2023-07-29 19:32:00-05:00\",\"2023-06-30 09:01:59-05:00\",\"2023-06-26 20:40:58-05:00\",\"2023-06-12 13:16:29-05:00\",\"2023-06-11 18:48:41-05:00\",\"2023-03-05 18:17:12-05:00\",\"2023-01-17 19:03:59-05:00\",\"2023-01-03 21:50:43-05:00\",\"2022-11-29 15:47:41-05:00\",\"2022-10-04 21:58:20-05:00\",\"2022-07-13 19:49:32-05:00\",\"2022-07-04 07:19:21-05:00\",\"2022-04-11 10:53:49-05:00\",\"2022-02-23 19:55:30-05:00\",\"2022-02-10 16:32:17-05:00\",\"2022-02-10 16:32:05-05:00\",\"2021-07-24 08:21:33-05:00\",\"2021-07-22 16:13:50-05:00\",\"2021-06-30 12:47:51-05:00\",\"2021-02-26 20:16:55-05:00\",\"2020-10-01 18:05:54-05:00\",\"2020-09-19 15:10:14-05:00\",\"2020-04-14 22:21:26-05:00\",\"2020-03-17 22:30:58-05:00\",\"2020-03-14 12:01:43-05:00\",\"2020-03-11 19:55:01-05:00\",\"2020-02-19 08:11:27-05:00\",\"2019-11-18 21:20:50-05:00\",\"2019-10-02 11:05:02-05:00\",\"2019-06-27 18:17:44-05:00\",\"2019-06-24 21:22:50-05:00\",\"2019-03-18 11:00:01-05:00\",\"2019-03-13 09:44:31-05:00\",\"2019-03-11 17:14:39-05:00\",\"2019-03-05 19:36:32-05:00\"],\"xaxis\":\"x\",\"y\":[3.977333333333333,5.013183333333333,3.37585,4.54545,3.7271833333333335,4.340583333333333,4.0891,2.64225,3.984583333333333,3.734366666666667,4.502883333333333,3.7664166666666663,7.774683333333333,4.084883333333333,1.844566666666667,3.80605,3.781816666666667,4.4366666666666665,3.844433333333333,3.770166666666667,2.41675,4.634433333333333,3.112,3.6904333333333335,4.671233333333333,3.2,3.252083333333333,5.689466666666666,3.0689166666666665,3.251733333333333,3.616233333333333,2.72355,2.5766666666666667,4.792,4.3283,5.522216666666667,3.48,3.1722166666666665,3.802216666666667,4.737883333333333,3.5179666666666667,4.464216666666666],\"yaxis\":\"y\",\"type\":\"scattergl\"},{\"customdata\":[[\"Things A Man Oughta Know\"],[\"Tennessee Whiskey\"],[\"If I Die Young\"],[\"Jesus, Etc.\"],[\"Yours If You Want It\"]],\"hovertemplate\":\"Broad Genre=Country<br>Date Added=%{x}<br>Duration=%{y}<br>Track Name=%{customdata[0]}<extra></extra>\",\"legendgroup\":\"Country\",\"marker\":{\"color\":\"#FECB52\",\"symbol\":\"circle\"},\"mode\":\"markers\",\"name\":\"Country\",\"showlegend\":true,\"x\":[\"2024-03-21 02:36:54-05:00\",\"2021-06-15 20:13:50-05:00\",\"2020-06-08 14:53:31-05:00\",\"2018-03-08 01:33:09-05:00\",\"2017-05-23 21:40:58-05:00\"],\"xaxis\":\"x\",\"y\":[3.38955,4.888216666666667,3.7128833333333335,3.85,3.478883333333333],\"yaxis\":\"y\",\"type\":\"scattergl\"},{\"customdata\":[[\"Eres Para M\\u00ed\"],[\"c\\u00f3mo dormiste?\"],[\"FLEXXX\"],[\"Mejor No Nos Vemos\"],[\"SHORTY QUE TE VAYA BN <3\"],[\"A M\\u00ed\"],[\"Mimosas - Remix\"],[\"Beat It\"],[\"Adorn\"],[\"Say a Little Prayer - Live\"]],\"hovertemplate\":\"Broad Genre=R&B<br>Date Added=%{x}<br>Duration=%{y}<br>Track Name=%{customdata[0]}<extra></extra>\",\"legendgroup\":\"R&B\",\"marker\":{\"color\":\"#636efa\",\"symbol\":\"circle\"},\"mode\":\"markers\",\"name\":\"R&B\",\"showlegend\":true,\"x\":[\"2024-01-22 17:55:49-05:00\",\"2023-12-01 15:12:57-05:00\",\"2023-11-01 13:16:26-05:00\",\"2023-09-28 01:00:39-05:00\",\"2023-09-28 00:57:18-05:00\",\"2023-08-22 21:10:36-05:00\",\"2022-02-27 00:40:51-05:00\",\"2021-10-10 20:24:24-05:00\",\"2020-06-21 20:40:43-05:00\",\"2019-10-04 18:13:27-05:00\"],\"xaxis\":\"x\",\"y\":[2.914283333333333,1.8762,2.2473,3.1531166666666666,3.66135,3.494666666666667,4.556166666666667,4.300666666666666,3.2191,3.3929],\"yaxis\":\"y\",\"type\":\"scattergl\"},{\"customdata\":[[\"I See the Light\"],[\"Dance Yrself Clean\"],[\"Lasso\"],[\"Disco Inferno - Single Edit\"],[\"Le Freak - Edit\"],[\"Night Fever - From \\\"Saturday Night Fever\\\" Soundtrack\"],[\"Sing a Song\"],[\"Shining Star\"],[\"Be My Lady\"],[\"Boogie Wonderland\"],[\"Stayin' Alive - 2007 Remastered Version Saturday Night Fever\"],[\"September\"],[\"Walking On A Dream\"]],\"hovertemplate\":\"Broad Genre=Dance<br>Date Added=%{x}<br>Duration=%{y}<br>Track Name=%{customdata[0]}<extra></extra>\",\"legendgroup\":\"Dance\",\"marker\":{\"color\":\"#EF553B\",\"symbol\":\"circle\"},\"mode\":\"markers\",\"name\":\"Dance\",\"showlegend\":true,\"x\":[\"2024-01-08 20:26:35-05:00\",\"2023-08-13 18:22:16-05:00\",\"2019-03-20 20:07:22-05:00\",\"2019-02-22 14:58:26-05:00\",\"2019-01-19 21:44:15-05:00\",\"2019-01-19 21:22:54-05:00\",\"2018-03-06 23:57:13-05:00\",\"2017-05-23 21:31:38-05:00\",\"2017-03-31 17:30:39-05:00\",\"2017-03-29 20:27:58-05:00\",\"2017-02-16 12:09:24-05:00\",\"2017-02-16 12:05:38-05:00\",\"2017-02-15 14:30:18-05:00\"],\"xaxis\":\"x\",\"y\":[6.338216666666667,8.941183333333333,2.79755,3.1922166666666665,3.594883333333333,3.4917666666666665,3.3977666666666666,2.836,4.26,4.804883333333334,4.756216666666667,3.580433333333333,3.307333333333333],\"yaxis\":\"y\",\"type\":\"scattergl\"},{\"customdata\":[[\"hot girl bummer (with Khea) - Khea Remix\"],[\"No More Lies\"],[\"Love to Hate You\"],[\"Sparks\"],[\"My Universe\"],[\"Til Kingdom Come\"],[\"People of The Pride\"],[\"Humankind\"],[\"Higher Power\"],[\"Charlie Brown\"],[\"Adventure of a Lifetime\"],[\"Friday I'm in Love\"],[\"Fun (feat. Tove Lo)\"],[\"Come On Eileen\"],[\"Tainted Love\"],[\"Go!\"],[\"Up&Up\"],[\"Trouble\"],[\"Life in Technicolor ii\"],[\"Yellow\"],[\"Viva La Vida\"],[\"Army of One\"],[\"Amazing Day\"],[\"Fix You\"],[\"Paradise\"],[\"Quello Che Non C'\\u00e8\"],[\"Everglow\"],[\"A L I E N S\"],[\"I Ran (So Far Away) - Single Edit\"],[\"Sin aliento\"],[\"Ni t\\u00fa ni nadie\"],[\"Karma Chameleon - Remastered 2002\"],[\"Boys Don't Cry\"],[\"Every Teardrop Is a Waterfall\"],[\"The Scientist\"],[\"Fascination Street - Remastered\"],[\"Take on Me\"],[\"Hypnotised\"]],\"hovertemplate\":\"Broad Genre=Alternative<br>Date Added=%{x}<br>Duration=%{y}<br>Track Name=%{customdata[0]}<extra></extra>\",\"legendgroup\":\"Alternative\",\"marker\":{\"color\":\"#00cc96\",\"symbol\":\"circle\"},\"mode\":\"markers\",\"name\":\"Alternative\",\"showlegend\":true,\"x\":[\"2024-01-05 22:29:22-05:00\",\"2023-11-26 19:07:56-05:00\",\"2022-12-13 16:59:21-05:00\",\"2022-09-17 16:10:02-05:00\",\"2022-09-14 07:44:17-05:00\",\"2022-09-14 07:36:00-05:00\",\"2022-09-12 08:09:46-05:00\",\"2022-09-12 08:09:35-05:00\",\"2021-05-07 08:41:04-05:00\",\"2020-11-19 16:42:31-05:00\",\"2020-02-11 08:15:57-05:00\",\"2019-12-28 17:16:41-05:00\",\"2019-08-16 16:51:44-05:00\",\"2019-05-27 06:51:16-05:00\",\"2019-03-29 14:19:11-05:00\",\"2018-12-23 10:54:30-05:00\",\"2018-12-15 23:02:43-05:00\",\"2018-12-05 14:37:15-05:00\",\"2018-10-01 16:51:31-05:00\",\"2018-10-01 16:51:24-05:00\",\"2018-10-01 16:51:18-05:00\",\"2018-10-01 16:49:52-05:00\",\"2018-10-01 16:44:16-05:00\",\"2018-09-30 22:36:00-05:00\",\"2018-09-22 11:37:40-05:00\",\"2018-08-26 01:58:53-05:00\",\"2017-12-29 13:39:19-05:00\",\"2017-07-13 21:56:20-05:00\",\"2017-06-25 20:46:54-05:00\",\"2017-06-23 16:32:36-05:00\",\"2017-06-15 17:17:07-05:00\",\"2017-05-26 16:30:36-05:00\",\"2017-05-26 12:31:55-05:00\",\"2017-04-24 22:08:24-05:00\",\"2017-04-24 22:08:15-05:00\",\"2017-04-13 08:10:52-05:00\",\"2017-04-11 22:36:32-05:00\",\"2017-03-26 11:49:38-05:00\"],\"xaxis\":\"x\",\"y\":[2.2615333333333334,5.453616666666667,3.9326666666666665,3.784883333333333,3.8,4.1778,3.6211,4.4450666666666665,3.5215666666666667,4.75265,4.396433333333333,3.5733333333333333,4.4588833333333335,4.56555,2.563333333333333,3.928883333333333,6.755333333333334,4.5571,4.084983333333334,4.4462166666666665,4.023766666666667,6.280433333333334,4.518433333333333,4.92555,4.645316666666667,6.122466666666667,4.71155,4.7071,3.66555,4.913333333333333,3.6166666666666663,4.212883333333333,2.6866666666666665,4.0132666666666665,5.16,5.2531,3.7546666666666666,5.919533333333334],\"yaxis\":\"y\",\"type\":\"scattergl\"},{\"customdata\":[[\"She Calls Me Back (with Kacey Musgraves)\"],[\"sangria\"],[\"slow motion\"],[\"nightmares\"],[\"Under The Light\"],[\"Mad Visions\"],[\"Super Slow\"],[\"Just for a Minute\"],[\"RUN\"],[\"Skinny\"],[\"Alter Ego\"],[\"Break My Baby\"],[\"Hey Gringo\"],[\"Too Much Time Together\"],[\"About You\"],[\"Trouble\\u2019s Coming\"],[\"Oblivion\"],[\"See The Sun\"],[\"Do You Wanna\"],[\"Junk Of The Heart (Happy)\"],[\"Ooh La\"],[\"Sweet Emotion\"],[\"Westside\"],[\"The Things We Do\"],[\"El Pozo\"],[\"Simple Song\"],[\"No Te Me Achores\"],[\"Pan y Circo\"],[\"Cough Syrup\"],[\"Los Amigos Que Perd\\u00ed\"],[\"Karaoke Katmandu\\u0301\"],[\"El Momento\"],[\"Melancol\\u00eda Blue Blue Blue\"],[\"Naive\"],[\"Call It What You Want\"],[\"Bad Habit\"],[\"Triciclo Per\\u00fa\"],[\"Mistakes\"]],\"hovertemplate\":\"Broad Genre=Indie<br>Date Added=%{x}<br>Duration=%{y}<br>Track Name=%{customdata[0]}<extra></extra>\",\"legendgroup\":\"Indie\",\"marker\":{\"color\":\"#ab63fa\",\"symbol\":\"circle\"},\"mode\":\"markers\",\"name\":\"Indie\",\"showlegend\":true,\"x\":[\"2023-10-22 14:29:19-05:00\",\"2023-10-16 20:28:37-05:00\",\"2023-10-16 20:22:24-05:00\",\"2023-10-16 20:20:48-05:00\",\"2023-08-10 08:52:46-05:00\",\"2023-08-04 19:49:26-05:00\",\"2023-07-25 22:27:57-05:00\",\"2023-07-25 22:12:25-05:00\",\"2023-07-25 21:54:55-05:00\",\"2023-07-11 10:16:06-05:00\",\"2023-07-11 10:13:41-05:00\",\"2023-07-11 09:59:54-05:00\",\"2023-07-07 10:06:18-05:00\",\"2023-07-04 13:37:08-05:00\",\"2023-07-04 13:33:25-05:00\",\"2023-03-16 20:09:45-05:00\",\"2023-03-16 20:05:40-05:00\",\"2022-06-08 07:43:21-05:00\",\"2022-06-06 16:53:55-05:00\",\"2022-06-06 16:51:50-05:00\",\"2022-06-06 16:34:02-05:00\",\"2022-06-06 15:54:51-05:00\",\"2022-06-04 13:43:46-05:00\",\"2021-06-12 21:16:39-05:00\",\"2021-05-30 14:46:37-05:00\",\"2020-09-20 10:11:24-05:00\",\"2020-09-16 09:22:58-05:00\",\"2020-09-16 09:21:11-05:00\",\"2020-05-03 01:37:43-05:00\",\"2020-03-26 12:17:32-05:00\",\"2019-12-08 12:04:31-05:00\",\"2019-09-04 06:04:06-05:00\",\"2018-11-10 22:30:48-05:00\",\"2018-09-26 19:40:13-05:00\",\"2018-03-26 01:56:31-05:00\",\"2018-02-18 18:42:13-05:00\",\"2017-12-11 21:32:20-05:00\",\"2017-09-19 21:06:39-05:00\"],\"xaxis\":\"x\",\"y\":[4.066033333333333,3.16705,4.4322,3.455433333333333,3.564216666666667,3.1557666666666666,2.709616666666667,4.380766666666666,3.2424833333333334,3.7052666666666663,4.135533333333333,4.425966666666667,4.7466333333333335,2.833266666666667,3.4603333333333333,3.806666666666666,2.68755,3.6071,4.096,3.120883333333333,3.4828833333333336,5.142816666666667,3.503216666666667,4.2011,3.92195,4.256666666666667,3.442833333333333,4.212683333333334,4.158666666666667,4.195866666666666,3.728,4.521016666666666,3.48,3.391766666666667,3.9797666666666665,3.6902166666666663,3.648433333333333,2.46495],\"yaxis\":\"y\",\"type\":\"scattergl\"},{\"customdata\":[[\"Presence Of The Lord\"],[\"The Thrill Is Gone\"],[\"Rock Me Baby\"],[\"Rip It Up\"],[\"Long Tall Sally\"]],\"hovertemplate\":\"Broad Genre=Blues<br>Date Added=%{x}<br>Duration=%{y}<br>Track Name=%{customdata[0]}<extra></extra>\",\"legendgroup\":\"Blues\",\"marker\":{\"color\":\"#FFA15A\",\"symbol\":\"circle\"},\"mode\":\"markers\",\"name\":\"Blues\",\"showlegend\":true,\"x\":[\"2023-07-10 21:46:14-05:00\",\"2022-06-01 07:49:29-05:00\",\"2021-01-19 08:41:16-05:00\",\"2017-03-25 18:42:50-05:00\",\"2017-03-25 18:42:46-05:00\"],\"xaxis\":\"x\",\"y\":[4.7904333333333335,5.018883333333333,6.62,2.406,2.138],\"yaxis\":\"y\",\"type\":\"scattergl\"},{\"customdata\":[[\"Red Red Wine\"],[\"Groove Bom - Ao Vivo\"],[\"One Day\"],[\"When We Were Younger\"],[\"Not Done Yet\"],[\"Wavin' Flag\"],[\"Is This Love\"]],\"hovertemplate\":\"Broad Genre=Reggae<br>Date Added=%{x}<br>Duration=%{y}<br>Track Name=%{customdata[0]}<extra></extra>\",\"legendgroup\":\"Reggae\",\"marker\":{\"color\":\"#19d3f3\",\"symbol\":\"circle\"},\"mode\":\"markers\",\"name\":\"Reggae\",\"showlegend\":true,\"x\":[\"2023-06-06 08:40:17-05:00\",\"2022-04-16 13:22:34-05:00\",\"2019-06-26 23:28:17-05:00\",\"2019-03-20 23:59:05-05:00\",\"2019-03-20 23:51:50-05:00\",\"2017-06-04 18:02:56-05:00\",\"2017-02-17 15:06:51-05:00\"],\"xaxis\":\"x\",\"y\":[3.0622166666666666,3.5931,3.45955,4.454433333333333,4.226216666666667,3.675333333333333,3.84555],\"yaxis\":\"y\",\"type\":\"scattergl\"},{\"customdata\":[[\"Ballade No. 4 in F Minor, Op. 52\"],[\"Con Te Partir\\u00f2\"]],\"hovertemplate\":\"Broad Genre=Classical<br>Date Added=%{x}<br>Duration=%{y}<br>Track Name=%{customdata[0]}<extra></extra>\",\"legendgroup\":\"Classical\",\"marker\":{\"color\":\"#FF6692\",\"symbol\":\"circle\"},\"mode\":\"markers\",\"name\":\"Classical\",\"showlegend\":true,\"x\":[\"2023-04-22 23:58:39-05:00\",\"2019-10-23 20:14:03-05:00\"],\"xaxis\":\"x\",\"y\":[11.986,4.18305],\"yaxis\":\"y\",\"type\":\"scattergl\"},{\"customdata\":[[\"Juan Pachanga\"],[\"Pedro Navaja\"]],\"hovertemplate\":\"Broad Genre=Jazz<br>Date Added=%{x}<br>Duration=%{y}<br>Track Name=%{customdata[0]}<extra></extra>\",\"legendgroup\":\"Jazz\",\"marker\":{\"color\":\"#B6E880\",\"symbol\":\"circle\"},\"mode\":\"markers\",\"name\":\"Jazz\",\"showlegend\":true,\"x\":[\"2022-12-01 20:13:51-05:00\",\"2019-03-23 05:28:12-05:00\"],\"xaxis\":\"x\",\"y\":[6.226,7.391333333333334],\"yaxis\":\"y\",\"type\":\"scattergl\"},{\"customdata\":[[\"LOST IN PARADISE\"],[\"Ain't No Mountain High Enough\"],[\"If I Ain't Got You\"],[\"Chasing Pavements\"],[\"For Once In My Life\"],[\"When We Were Young\"],[\"Master Blaster (Jammin')\"],[\"For Once In My Life\"],[\"Superstition - Single Version\"]],\"hovertemplate\":\"Broad Genre=Soul<br>Date Added=%{x}<br>Duration=%{y}<br>Track Name=%{customdata[0]}<extra></extra>\",\"legendgroup\":\"Soul\",\"marker\":{\"color\":\"#FF97FF\",\"symbol\":\"circle\"},\"mode\":\"markers\",\"name\":\"Soul\",\"showlegend\":true,\"x\":[\"2021-12-09 12:45:23-05:00\",\"2021-10-20 09:37:06-05:00\",\"2019-07-29 22:11:08-05:00\",\"2019-07-26 17:57:57-05:00\",\"2017-05-09 20:35:31-05:00\",\"2017-04-06 22:08:49-05:00\",\"2017-03-31 12:28:24-05:00\",\"2017-03-31 12:25:46-05:00\",\"2017-03-25 19:04:20-05:00\"],\"xaxis\":\"x\",\"y\":[5.4661,2.5277666666666665,3.8117666666666663,3.508433333333333,2.8433333333333333,4.848433333333333,5.132216666666666,2.83,4.080433333333334],\"yaxis\":\"y\",\"type\":\"scattergl\"},{\"customdata\":[[\"Father And Son\"],[\"Little Talks\"]],\"hovertemplate\":\"Broad Genre=Folk<br>Date Added=%{x}<br>Duration=%{y}<br>Track Name=%{customdata[0]}<extra></extra>\",\"legendgroup\":\"Folk\",\"marker\":{\"color\":\"#FECB52\",\"symbol\":\"circle\"},\"mode\":\"markers\",\"name\":\"Folk\",\"showlegend\":true,\"x\":[\"2019-12-25 01:05:16-05:00\",\"2017-08-02 11:46:32-05:00\"],\"xaxis\":\"x\",\"y\":[3.683333333333333,4.443333333333333],\"yaxis\":\"y\",\"type\":\"scattergl\"}],                        {\"template\":{\"data\":{\"histogram2dcontour\":[{\"type\":\"histogram2dcontour\",\"colorbar\":{\"outlinewidth\":0,\"ticks\":\"\"},\"colorscale\":[[0.0,\"#0d0887\"],[0.1111111111111111,\"#46039f\"],[0.2222222222222222,\"#7201a8\"],[0.3333333333333333,\"#9c179e\"],[0.4444444444444444,\"#bd3786\"],[0.5555555555555556,\"#d8576b\"],[0.6666666666666666,\"#ed7953\"],[0.7777777777777778,\"#fb9f3a\"],[0.8888888888888888,\"#fdca26\"],[1.0,\"#f0f921\"]]}],\"choropleth\":[{\"type\":\"choropleth\",\"colorbar\":{\"outlinewidth\":0,\"ticks\":\"\"}}],\"histogram2d\":[{\"type\":\"histogram2d\",\"colorbar\":{\"outlinewidth\":0,\"ticks\":\"\"},\"colorscale\":[[0.0,\"#0d0887\"],[0.1111111111111111,\"#46039f\"],[0.2222222222222222,\"#7201a8\"],[0.3333333333333333,\"#9c179e\"],[0.4444444444444444,\"#bd3786\"],[0.5555555555555556,\"#d8576b\"],[0.6666666666666666,\"#ed7953\"],[0.7777777777777778,\"#fb9f3a\"],[0.8888888888888888,\"#fdca26\"],[1.0,\"#f0f921\"]]}],\"heatmap\":[{\"type\":\"heatmap\",\"colorbar\":{\"outlinewidth\":0,\"ticks\":\"\"},\"colorscale\":[[0.0,\"#0d0887\"],[0.1111111111111111,\"#46039f\"],[0.2222222222222222,\"#7201a8\"],[0.3333333333333333,\"#9c179e\"],[0.4444444444444444,\"#bd3786\"],[0.5555555555555556,\"#d8576b\"],[0.6666666666666666,\"#ed7953\"],[0.7777777777777778,\"#fb9f3a\"],[0.8888888888888888,\"#fdca26\"],[1.0,\"#f0f921\"]]}],\"heatmapgl\":[{\"type\":\"heatmapgl\",\"colorbar\":{\"outlinewidth\":0,\"ticks\":\"\"},\"colorscale\":[[0.0,\"#0d0887\"],[0.1111111111111111,\"#46039f\"],[0.2222222222222222,\"#7201a8\"],[0.3333333333333333,\"#9c179e\"],[0.4444444444444444,\"#bd3786\"],[0.5555555555555556,\"#d8576b\"],[0.6666666666666666,\"#ed7953\"],[0.7777777777777778,\"#fb9f3a\"],[0.8888888888888888,\"#fdca26\"],[1.0,\"#f0f921\"]]}],\"contourcarpet\":[{\"type\":\"contourcarpet\",\"colorbar\":{\"outlinewidth\":0,\"ticks\":\"\"}}],\"contour\":[{\"type\":\"contour\",\"colorbar\":{\"outlinewidth\":0,\"ticks\":\"\"},\"colorscale\":[[0.0,\"#0d0887\"],[0.1111111111111111,\"#46039f\"],[0.2222222222222222,\"#7201a8\"],[0.3333333333333333,\"#9c179e\"],[0.4444444444444444,\"#bd3786\"],[0.5555555555555556,\"#d8576b\"],[0.6666666666666666,\"#ed7953\"],[0.7777777777777778,\"#fb9f3a\"],[0.8888888888888888,\"#fdca26\"],[1.0,\"#f0f921\"]]}],\"surface\":[{\"type\":\"surface\",\"colorbar\":{\"outlinewidth\":0,\"ticks\":\"\"},\"colorscale\":[[0.0,\"#0d0887\"],[0.1111111111111111,\"#46039f\"],[0.2222222222222222,\"#7201a8\"],[0.3333333333333333,\"#9c179e\"],[0.4444444444444444,\"#bd3786\"],[0.5555555555555556,\"#d8576b\"],[0.6666666666666666,\"#ed7953\"],[0.7777777777777778,\"#fb9f3a\"],[0.8888888888888888,\"#fdca26\"],[1.0,\"#f0f921\"]]}],\"mesh3d\":[{\"type\":\"mesh3d\",\"colorbar\":{\"outlinewidth\":0,\"ticks\":\"\"}}],\"scatter\":[{\"fillpattern\":{\"fillmode\":\"overlay\",\"size\":10,\"solidity\":0.2},\"type\":\"scatter\"}],\"parcoords\":[{\"type\":\"parcoords\",\"line\":{\"colorbar\":{\"outlinewidth\":0,\"ticks\":\"\"}}}],\"scatterpolargl\":[{\"type\":\"scatterpolargl\",\"marker\":{\"colorbar\":{\"outlinewidth\":0,\"ticks\":\"\"}}}],\"bar\":[{\"error_x\":{\"color\":\"#2a3f5f\"},\"error_y\":{\"color\":\"#2a3f5f\"},\"marker\":{\"line\":{\"color\":\"#E5ECF6\",\"width\":0.5},\"pattern\":{\"fillmode\":\"overlay\",\"size\":10,\"solidity\":0.2}},\"type\":\"bar\"}],\"scattergeo\":[{\"type\":\"scattergeo\",\"marker\":{\"colorbar\":{\"outlinewidth\":0,\"ticks\":\"\"}}}],\"scatterpolar\":[{\"type\":\"scatterpolar\",\"marker\":{\"colorbar\":{\"outlinewidth\":0,\"ticks\":\"\"}}}],\"histogram\":[{\"marker\":{\"pattern\":{\"fillmode\":\"overlay\",\"size\":10,\"solidity\":0.2}},\"type\":\"histogram\"}],\"scattergl\":[{\"type\":\"scattergl\",\"marker\":{\"colorbar\":{\"outlinewidth\":0,\"ticks\":\"\"}}}],\"scatter3d\":[{\"type\":\"scatter3d\",\"line\":{\"colorbar\":{\"outlinewidth\":0,\"ticks\":\"\"}},\"marker\":{\"colorbar\":{\"outlinewidth\":0,\"ticks\":\"\"}}}],\"scattermapbox\":[{\"type\":\"scattermapbox\",\"marker\":{\"colorbar\":{\"outlinewidth\":0,\"ticks\":\"\"}}}],\"scatterternary\":[{\"type\":\"scatterternary\",\"marker\":{\"colorbar\":{\"outlinewidth\":0,\"ticks\":\"\"}}}],\"scattercarpet\":[{\"type\":\"scattercarpet\",\"marker\":{\"colorbar\":{\"outlinewidth\":0,\"ticks\":\"\"}}}],\"carpet\":[{\"aaxis\":{\"endlinecolor\":\"#2a3f5f\",\"gridcolor\":\"white\",\"linecolor\":\"white\",\"minorgridcolor\":\"white\",\"startlinecolor\":\"#2a3f5f\"},\"baxis\":{\"endlinecolor\":\"#2a3f5f\",\"gridcolor\":\"white\",\"linecolor\":\"white\",\"minorgridcolor\":\"white\",\"startlinecolor\":\"#2a3f5f\"},\"type\":\"carpet\"}],\"table\":[{\"cells\":{\"fill\":{\"color\":\"#EBF0F8\"},\"line\":{\"color\":\"white\"}},\"header\":{\"fill\":{\"color\":\"#C8D4E3\"},\"line\":{\"color\":\"white\"}},\"type\":\"table\"}],\"barpolar\":[{\"marker\":{\"line\":{\"color\":\"#E5ECF6\",\"width\":0.5},\"pattern\":{\"fillmode\":\"overlay\",\"size\":10,\"solidity\":0.2}},\"type\":\"barpolar\"}],\"pie\":[{\"automargin\":true,\"type\":\"pie\"}]},\"layout\":{\"autotypenumbers\":\"strict\",\"colorway\":[\"#636efa\",\"#EF553B\",\"#00cc96\",\"#ab63fa\",\"#FFA15A\",\"#19d3f3\",\"#FF6692\",\"#B6E880\",\"#FF97FF\",\"#FECB52\"],\"font\":{\"color\":\"#2a3f5f\"},\"hovermode\":\"closest\",\"hoverlabel\":{\"align\":\"left\"},\"paper_bgcolor\":\"white\",\"plot_bgcolor\":\"#E5ECF6\",\"polar\":{\"bgcolor\":\"#E5ECF6\",\"angularaxis\":{\"gridcolor\":\"white\",\"linecolor\":\"white\",\"ticks\":\"\"},\"radialaxis\":{\"gridcolor\":\"white\",\"linecolor\":\"white\",\"ticks\":\"\"}},\"ternary\":{\"bgcolor\":\"#E5ECF6\",\"aaxis\":{\"gridcolor\":\"white\",\"linecolor\":\"white\",\"ticks\":\"\"},\"baxis\":{\"gridcolor\":\"white\",\"linecolor\":\"white\",\"ticks\":\"\"},\"caxis\":{\"gridcolor\":\"white\",\"linecolor\":\"white\",\"ticks\":\"\"}},\"coloraxis\":{\"colorbar\":{\"outlinewidth\":0,\"ticks\":\"\"}},\"colorscale\":{\"sequential\":[[0.0,\"#0d0887\"],[0.1111111111111111,\"#46039f\"],[0.2222222222222222,\"#7201a8\"],[0.3333333333333333,\"#9c179e\"],[0.4444444444444444,\"#bd3786\"],[0.5555555555555556,\"#d8576b\"],[0.6666666666666666,\"#ed7953\"],[0.7777777777777778,\"#fb9f3a\"],[0.8888888888888888,\"#fdca26\"],[1.0,\"#f0f921\"]],\"sequentialminus\":[[0.0,\"#0d0887\"],[0.1111111111111111,\"#46039f\"],[0.2222222222222222,\"#7201a8\"],[0.3333333333333333,\"#9c179e\"],[0.4444444444444444,\"#bd3786\"],[0.5555555555555556,\"#d8576b\"],[0.6666666666666666,\"#ed7953\"],[0.7777777777777778,\"#fb9f3a\"],[0.8888888888888888,\"#fdca26\"],[1.0,\"#f0f921\"]],\"diverging\":[[0,\"#8e0152\"],[0.1,\"#c51b7d\"],[0.2,\"#de77ae\"],[0.3,\"#f1b6da\"],[0.4,\"#fde0ef\"],[0.5,\"#f7f7f7\"],[0.6,\"#e6f5d0\"],[0.7,\"#b8e186\"],[0.8,\"#7fbc41\"],[0.9,\"#4d9221\"],[1,\"#276419\"]]},\"xaxis\":{\"gridcolor\":\"white\",\"linecolor\":\"white\",\"ticks\":\"\",\"title\":{\"standoff\":15},\"zerolinecolor\":\"white\",\"automargin\":true,\"zerolinewidth\":2},\"yaxis\":{\"gridcolor\":\"white\",\"linecolor\":\"white\",\"ticks\":\"\",\"title\":{\"standoff\":15},\"zerolinecolor\":\"white\",\"automargin\":true,\"zerolinewidth\":2},\"scene\":{\"xaxis\":{\"backgroundcolor\":\"#E5ECF6\",\"gridcolor\":\"white\",\"linecolor\":\"white\",\"showbackground\":true,\"ticks\":\"\",\"zerolinecolor\":\"white\",\"gridwidth\":2},\"yaxis\":{\"backgroundcolor\":\"#E5ECF6\",\"gridcolor\":\"white\",\"linecolor\":\"white\",\"showbackground\":true,\"ticks\":\"\",\"zerolinecolor\":\"white\",\"gridwidth\":2},\"zaxis\":{\"backgroundcolor\":\"#E5ECF6\",\"gridcolor\":\"white\",\"linecolor\":\"white\",\"showbackground\":true,\"ticks\":\"\",\"zerolinecolor\":\"white\",\"gridwidth\":2}},\"shapedefaults\":{\"line\":{\"color\":\"#2a3f5f\"}},\"annotationdefaults\":{\"arrowcolor\":\"#2a3f5f\",\"arrowhead\":0,\"arrowwidth\":1},\"geo\":{\"bgcolor\":\"white\",\"landcolor\":\"#E5ECF6\",\"subunitcolor\":\"white\",\"showland\":true,\"showlakes\":true,\"lakecolor\":\"white\"},\"title\":{\"x\":0.05},\"mapbox\":{\"style\":\"light\"}}},\"xaxis\":{\"anchor\":\"y\",\"domain\":[0.0,1.0],\"title\":{\"text\":\"Date Added\"}},\"yaxis\":{\"anchor\":\"x\",\"domain\":[0.0,1.0],\"title\":{\"text\":\"Duration\"}},\"legend\":{\"title\":{\"text\":\"Broad Genre\"},\"tracegroupgap\":0},\"title\":{\"text\":\"Duration of Songs Over Time by Genre\"}},                        {\"responsive\": true}                    ).then(function(){\n",
       "                            \n",
       "var gd = document.getElementById('46244737-3925-4e60-8a70-31f1e4a37a71');\n",
       "var x = new MutationObserver(function (mutations, observer) {{\n",
       "        var display = window.getComputedStyle(gd).display;\n",
       "        if (!display || display === 'none') {{\n",
       "            console.log([gd, 'removed!']);\n",
       "            Plotly.purge(gd);\n",
       "            observer.disconnect();\n",
       "        }}\n",
       "}});\n",
       "\n",
       "// Listen for the removal of the full notebook cells\n",
       "var notebookContainer = gd.closest('#notebook-container');\n",
       "if (notebookContainer) {{\n",
       "    x.observe(notebookContainer, {childList: true});\n",
       "}}\n",
       "\n",
       "// Listen for the clearing of the current output cell\n",
       "var outputEl = gd.closest('.output');\n",
       "if (outputEl) {{\n",
       "    x.observe(outputEl, {childList: true});\n",
       "}}\n",
       "\n",
       "                        })                };                });            </script>        </div>"
      ]
     },
     "metadata": {},
     "output_type": "display_data"
    }
   ],
   "source": [
    "top_genres = ['Alternative', 'Dance', 'Electronic', 'Hip Hop', 'Indie', 'Latin', 'Metal', 'Other', 'Pop', 'Rock']\n",
    "df_top_genres = df[df['Broad Genre'].isin(top_genres)]\n",
    "fig = px.scatter(df, y='Duration', x='Date Added', color='Broad Genre', hover_data={'Track Name': True}, title='Duration of Songs Over Time by Genre')\n",
    "fig.show()"
   ]
  },
  {
   "cell_type": "code",
   "execution_count": 57,
   "id": "2a79bb04-45fa-4f75-bd63-d90c135622d6",
   "metadata": {},
   "outputs": [
    {
     "data": {
      "application/vnd.plotly.v1+json": {
       "config": {
        "plotlyServerURL": "https://plot.ly"
       },
       "data": [
        {
         "customdata": [
          [
           "A Place for My Head"
          ],
          [
           "Lying from You"
          ],
          [
           "Figure.09"
          ],
          [
           "Hearts Burst into Fire"
          ],
          [
           "Question!"
          ],
          [
           "Wish I Had an Angel"
          ],
          [
           "Animal I Have Become"
          ],
          [
           "Welcome to the Family"
          ],
          [
           "The Trooper - 2015 Remaster"
          ],
          [
           "Everybody's Fool"
          ],
          [
           "Unholy Confessions"
          ],
          [
           "Almost Easy"
          ],
          [
           "Chop Suey!"
          ],
          [
           "So Far Away"
          ],
          [
           "Afterlife"
          ],
          [
           "Aerials"
          ],
          [
           "The Middle"
          ],
          [
           "Lost"
          ],
          [
           "The Phantom Of The Opera"
          ],
          [
           "IN MY REMAINS"
          ],
          [
           "Points of Authority"
          ],
          [
           "No More Sorrow"
          ],
          [
           "Bleed It Out"
          ],
          [
           "I Miss You"
          ],
          [
           "Show Me How to Live"
          ],
          [
           "Toxicity"
          ],
          [
           "Final Masquerade"
          ],
          [
           "POWERLESS"
          ],
          [
           "Amaranth"
          ],
          [
           "End Of All Hope"
          ],
          [
           "One Step Closer"
          ],
          [
           "Bullet With Butterfly Wings - Remastered 2012"
          ],
          [
           "Future Days"
          ],
          [
           "Conquer Or Die"
          ],
          [
           "Tornado Of Souls - 2004 Remix"
          ],
          [
           "This Ain't A Love Song"
          ],
          [
           "The Devil in I"
          ],
          [
           "Alone"
          ],
          [
           "Heretic"
          ],
          [
           "Buried Alive"
          ],
          [
           "Dear God"
          ],
          [
           "Solway Firth"
          ],
          [
           "Duality"
          ],
          [
           "Psychosocial"
          ],
          [
           "New Divide"
          ],
          [
           "Hail to the King"
          ],
          [
           "Carry On"
          ],
          [
           "Shepherd of Fire"
          ],
          [
           "Even Flow"
          ],
          [
           "B.Y.O.B."
          ],
          [
           "Sirens"
          ],
          [
           "Waiting for the End"
          ],
          [
           "Don't Stay"
          ],
          [
           "One Last Breath"
          ],
          [
           "Iridescent"
          ],
          [
           "BURN IT DOWN"
          ],
          [
           "Shadow of the Day"
          ],
          [
           "Forgotten"
          ],
          [
           "Leave Out All The Rest"
          ],
          [
           "Runaway"
          ],
          [
           "You Give Love A Bad Name"
          ],
          [
           "Fury Of The Storm"
          ],
          [
           "Through The Fire And Flames"
          ],
          [
           "1979 - Remastered 2012"
          ],
          [
           "Black"
          ],
          [
           "Sirens"
          ],
          [
           "Always"
          ],
          [
           "Somewhere I Belong"
          ],
          [
           "Numb"
          ],
          [
           "In Pieces"
          ],
          [
           "CASTLE OF GLASS"
          ],
          [
           "Welcome To The Jungle"
          ],
          [
           "Burning in the Skies"
          ],
          [
           "Runaway"
          ],
          [
           "Walk"
          ],
          [
           "The Pretender"
          ],
          [
           "Battle Symphony"
          ],
          [
           "One More Light"
          ],
          [
           "Heavy (feat. Kiiara)"
          ],
          [
           "Talking to Myself"
          ],
          [
           "Going Under"
          ],
          [
           "Crawling"
          ],
          [
           "Breaking the Habit"
          ],
          [
           "In the End"
          ],
          [
           "Everlong"
          ],
          [
           "Today - 2011 Remaster"
          ],
          [
           "Livin' On A Prayer"
          ],
          [
           "Be Yourself"
          ],
          [
           "Knockin' On Heaven's Door"
          ],
          [
           "Over and Over"
          ],
          [
           "Given Up"
          ],
          [
           "Faint"
          ],
          [
           "LOST IN THE ECHO"
          ],
          [
           "What I've Done"
          ],
          [
           "Like a Stone"
          ],
          [
           "Invisible"
          ],
          [
           "Sweet Child O' Mine"
          ],
          [
           "Paradise City"
          ],
          [
           "November Rain"
          ],
          [
           "It's My Life"
          ],
          [
           "I Hate Everything About You"
          ],
          [
           "Last Resort"
          ],
          [
           "Kryptonite"
          ],
          [
           "Symphony Of Destruction - Remastered 2012"
          ],
          [
           "Alive"
          ],
          [
           "Sweet Child O' Mine"
          ]
         ],
         "hovertemplate": "Broad Genre=Metal<br>Date Added=%{x}<br>Hour Added=%{y}<br>Track Name=%{customdata[0]}<extra></extra>",
         "legendgroup": "Metal",
         "marker": {
          "color": "#636efa",
          "symbol": "circle"
         },
         "mode": "markers",
         "name": "Metal",
         "showlegend": true,
         "type": "scattergl",
         "x": [
          "2024-06-12 12:45:21-05:00",
          "2024-04-05 14:12:20-05:00",
          "2024-04-05 14:01:47-05:00",
          "2024-02-26 15:27:38-05:00",
          "2024-02-26 15:16:37-05:00",
          "2024-02-26 15:11:24-05:00",
          "2024-02-26 15:08:43-05:00",
          "2024-02-25 22:23:43-05:00",
          "2024-02-24 21:06:19-05:00",
          "2024-02-24 21:00:20-05:00",
          "2024-02-24 20:38:17-05:00",
          "2024-02-24 20:34:31-05:00",
          "2024-02-05 23:14:25-05:00",
          "2023-09-01 12:45:59-05:00",
          "2023-05-16 07:57:03-05:00",
          "2023-05-08 08:20:09-05:00",
          "2023-04-19 22:25:57-05:00",
          "2023-02-13 11:52:50-05:00",
          "2022-12-05 21:46:52-05:00",
          "2022-12-03 21:44:56-05:00",
          "2022-12-03 21:38:09-05:00",
          "2022-12-03 21:36:17-05:00",
          "2022-12-03 21:36:07-05:00",
          "2022-09-28 19:29:05-05:00",
          "2022-09-21 16:19:09-05:00",
          "2021-04-17 11:12:21-05:00",
          "2020-11-19 17:15:36-05:00",
          "2020-11-19 16:15:03-05:00",
          "2020-11-05 17:54:15-05:00",
          "2020-11-05 17:51:03-05:00",
          "2020-10-23 09:33:54-05:00",
          "2020-08-16 20:56:29-05:00",
          "2020-07-21 10:50:43-05:00",
          "2020-04-21 18:36:14-05:00",
          "2020-04-21 18:28:15-05:00",
          "2020-01-31 08:20:37-05:00",
          "2020-01-01 01:25:29-05:00",
          "2019-11-28 10:47:20-05:00",
          "2019-11-27 16:33:56-05:00",
          "2019-11-27 16:30:02-05:00",
          "2019-11-27 16:28:32-05:00",
          "2019-11-25 22:40:28-05:00",
          "2019-11-25 22:36:25-05:00",
          "2019-11-25 22:30:48-05:00",
          "2019-11-07 22:14:28-05:00",
          "2019-10-31 16:00:43-05:00",
          "2019-10-31 15:55:57-05:00",
          "2019-10-31 15:54:20-05:00",
          "2019-09-11 20:58:56-05:00",
          "2019-07-12 11:09:43-05:00",
          "2018-12-29 23:48:55-05:00",
          "2018-12-05 18:47:50-05:00",
          "2018-11-27 13:27:13-05:00",
          "2018-10-24 17:32:56-05:00",
          "2018-09-29 21:11:39-05:00",
          "2018-09-29 21:11:10-05:00",
          "2018-09-29 21:10:45-05:00",
          "2018-09-29 21:08:14-05:00",
          "2018-09-29 21:08:09-05:00",
          "2018-09-29 21:04:36-05:00",
          "2018-09-20 23:11:33-05:00",
          "2018-09-01 08:49:51-05:00",
          "2018-08-31 22:25:44-05:00",
          "2018-08-16 00:13:46-05:00",
          "2018-08-04 21:54:30-05:00",
          "2018-07-01 21:38:27-05:00",
          "2018-05-22 15:52:06-05:00",
          "2018-04-04 06:39:13-05:00",
          "2018-03-06 12:44:06-05:00",
          "2018-03-06 12:42:37-05:00",
          "2018-03-06 12:42:11-05:00",
          "2018-02-25 11:23:23-05:00",
          "2017-10-31 18:00:24-05:00",
          "2017-10-30 18:12:39-05:00",
          "2017-09-10 18:31:56-05:00",
          "2017-09-10 18:31:29-05:00",
          "2017-09-10 02:10:53-05:00",
          "2017-08-10 23:53:24-05:00",
          "2017-08-10 22:15:07-05:00",
          "2017-08-06 01:30:41-05:00",
          "2017-08-02 11:47:34-05:00",
          "2017-07-20 22:10:53-05:00",
          "2017-07-20 22:10:45-05:00",
          "2017-07-20 22:10:36-05:00",
          "2017-07-16 21:30:15-05:00",
          "2017-06-28 20:51:52-05:00",
          "2017-06-25 20:47:18-05:00",
          "2017-06-23 18:57:22-05:00",
          "2017-06-23 18:45:12-05:00",
          "2017-06-09 06:27:56-05:00",
          "2017-05-18 22:11:28-05:00",
          "2017-05-18 21:58:52-05:00",
          "2017-05-18 21:58:22-05:00",
          "2017-05-18 21:58:09-05:00",
          "2017-05-18 13:19:59-05:00",
          "2017-05-14 10:45:40-05:00",
          "2017-05-01 22:03:12-05:00",
          "2017-05-01 22:03:04-05:00",
          "2017-05-01 22:02:49-05:00",
          "2017-04-21 16:09:54-05:00",
          "2017-04-09 18:45:17-05:00",
          "2017-04-09 18:40:14-05:00",
          "2017-04-09 18:33:46-05:00",
          "2017-04-02 17:26:17-05:00",
          "2017-02-14 09:32:42-05:00",
          "2017-02-14 09:32:04-05:00"
         ],
         "xaxis": "x",
         "y": [
          12,
          14,
          14,
          15,
          15,
          15,
          15,
          22,
          21,
          21,
          20,
          20,
          23,
          12,
          7,
          8,
          22,
          11,
          21,
          21,
          21,
          21,
          21,
          19,
          16,
          11,
          17,
          16,
          17,
          17,
          9,
          20,
          10,
          18,
          18,
          8,
          1,
          10,
          16,
          16,
          16,
          22,
          22,
          22,
          22,
          16,
          15,
          15,
          20,
          11,
          23,
          18,
          13,
          17,
          21,
          21,
          21,
          21,
          21,
          21,
          23,
          8,
          22,
          0,
          21,
          21,
          15,
          6,
          12,
          12,
          12,
          11,
          18,
          18,
          18,
          18,
          2,
          23,
          22,
          1,
          11,
          22,
          22,
          22,
          21,
          20,
          20,
          18,
          18,
          6,
          22,
          21,
          21,
          21,
          13,
          10,
          22,
          22,
          22,
          16,
          18,
          18,
          18,
          17,
          9,
          9
         ],
         "yaxis": "y"
        },
        {
         "customdata": [
          [
           "Brickell"
          ],
          [
           "Exclusive.mp3"
          ],
          [
           "Llorarás"
          ],
          [
           "Perdóname"
          ],
          [
           "50 Ways to Say Goodbye"
          ],
          [
           "Darte Amor"
          ],
          [
           "Murder On The Dancefloor"
          ],
          [
           "50 Horas"
          ],
          [
           "Nada Valgo Sin Tu Amor"
          ],
          [
           "Nada Fue Un Error"
          ],
          [
           "Niña"
          ],
          [
           "Por Fin Te Encontré"
          ],
          [
           "Burning Friday Night"
          ],
          [
           "CLASSY 101"
          ],
          [
           "DE LUNES A LUNES"
          ],
          [
           "Para Ti"
          ],
          [
           "Quisiera"
          ],
          [
           "El Calendario"
          ],
          [
           "Reggaetón Lento (Bailemos)"
          ],
          [
           "La Tortura (feat. Alejandro Sanz)"
          ],
          [
           "Hips Don't Lie (feat. Wyclef Jean)"
          ],
          [
           "ADIÓS (Live Version)"
          ],
          [
           "Hang The Cyst"
          ],
          [
           "Pattern"
          ],
          [
           "She Does The Woods"
          ],
          [
           "Used To Be My Girl"
          ],
          [
           "Aviation"
          ],
          [
           "My Mistakes Were Made For You"
          ],
          [
           "Standing Next To Me"
          ],
          [
           "Miracle Aligner"
          ],
          [
           "Sweet Dreams, TN"
          ],
          [
           "PROBLEMI CON TUTTI (GIUDA)"
          ],
          [
           "Hey Baby (Drop It to the Floor) (feat. T-Pain)"
          ],
          [
           "A Dios Le Pido"
          ],
          [
           "Pídeme"
          ],
          [
           "Perderme Contigo"
          ],
          [
           "NIGHT DANCER"
          ],
          [
           "Pedro"
          ],
          [
           "Io non vivo senza te"
          ],
          [
           "The Only Exception"
          ],
          [
           "You First"
          ],
          [
           "This Is Why"
          ],
          [
           "Pool"
          ],
          [
           "Rose-Colored Boy"
          ],
          [
           "Otra Ocupa Mi Lugar"
          ],
          [
           "Hace Tiempo"
          ],
          [
           "Deamon Lover"
          ],
          [
           "Emergency"
          ],
          [
           "Hello Cold World"
          ],
          [
           "No Te Pido Flores"
          ],
          [
           "Esa Muchachita"
          ],
          [
           "El Problemón"
          ],
          [
           "Readymade"
          ],
          [
           "Stop This Song (Love Sick Melody)"
          ],
          [
           "Backlight"
          ],
          [
           "Todo Lo Que Quieres Es Bailar (feat. Descemer Bueno)"
          ],
          [
           "Told You So"
          ],
          [
           "I Caught Myself"
          ],
          [
           "Pressure"
          ],
          [
           "Non c'è rimedio"
          ],
          [
           "Ignorance"
          ],
          [
           "Let the Flames Begin"
          ],
          [
           "crushcrushcrush"
          ],
          [
           "Tacones Rojos"
          ],
          [
           "Total Eclipse of the Heart"
          ],
          [
           "It's Not Unusual"
          ],
          [
           "This Is Me"
          ],
          [
           "Venus"
          ],
          [
           "My Way - 2008 Remastered"
          ],
          [
           "Sara' Perche Ti Amo"
          ],
          [
           "La solitudine"
          ],
          [
           "Like a Prayer"
          ],
          [
           "Like a Virgin"
          ],
          [
           "Gimme! Gimme! Gimme! (A Man After Midnight)"
          ],
          [
           "Lay All Your Love On Me"
          ],
          [
           "Thinking out Loud"
          ],
          [
           "Perfect"
          ],
          [
           "Save You"
          ],
          [
           "Team"
          ],
          [
           "Som Ocells"
          ],
          [
           "como si no importara"
          ],
          [
           "Wild Blue"
          ],
          [
           "Your Love"
          ],
          [
           "Harvest Moon"
          ],
          [
           "Covered in Rain - Live at Tweeter Center, Philadelphia, Pennsylvania, August 2004"
          ],
          [
           "Belief - Live at the Nokia Theatre, Los Angeles, CA - December 2007"
          ],
          [
           "Belief"
          ],
          [
           "good 4 u"
          ],
          [
           "Ibiza"
          ],
          [
           "Devuelveme"
          ],
          [
           "Todo De Ti"
          ],
          [
           "Toxic"
          ],
          [
           "Brick by Boring Brick"
          ],
          [
           "Homecoming"
          ],
          [
           "Hey, Soul Sister"
          ],
          [
           "I Don't Need No Doctor - Live at the Nokia Theatre, Los Angeles, CA - December 2007"
          ],
          [
           "I'm Gonna Find Another You"
          ],
          [
           "Caramelo"
          ],
          [
           "Torn"
          ],
          [
           "Una voglia assurda"
          ],
          [
           "Rude"
          ],
          [
           "Magic"
          ],
          [
           "Moving On and Getting Over"
          ],
          [
           "Gravity - Live at the Nokia Theatre, Los Angeles, CA - December 2007"
          ],
          [
           "Slow Dancing in a Burning Room"
          ],
          [
           "Helpless"
          ],
          [
           "Yo x Ti, Tu x Mi"
          ],
          [
           "Le luci della città"
          ],
          [
           "Mal di gola"
          ],
          [
           "Neon - Live at the Nokia Theatre, Los Angeles, CA - December 2007"
          ],
          [
           "Nandemonaiya - movie ver."
          ],
          [
           "You Are Young"
          ],
          [
           "My Way"
          ],
          [
           "Te Quiero Amar"
          ],
          [
           "Te Voy A Amar"
          ],
          [
           "Brandy (You're a Fine Girl)"
          ],
          [
           "Trouble"
          ],
          [
           "For A Better Day"
          ],
          [
           "99 Luftballons"
          ],
          [
           "Drown"
          ],
          [
           "Buona fortuna"
          ],
          [
           "all the good girls go to hell"
          ],
          [
           "I Have Nothing"
          ],
          [
           "ocean eyes"
          ],
          [
           "Sunday Morning"
          ],
          [
           "1973"
          ],
          [
           "You're Beautiful"
          ],
          [
           "Goodbye My Lover"
          ],
          [
           "Complicated"
          ],
          [
           "I Write Sins Not Tragedies"
          ],
          [
           "Time to Dance"
          ],
          [
           "50 Special"
          ],
          [
           "Summer Of '69"
          ],
          [
           "I'm Yours"
          ],
          [
           "Kangaroo Court"
          ],
          [
           "Pump It"
          ],
          [
           "High Hopes"
          ],
          [
           "Mi Primer Millon"
          ],
          [
           "I Want It That Way"
          ],
          [
           "Billionaire (feat. Bruno Mars)"
          ],
          [
           "Te Mando Flores"
          ],
          [
           "Space"
          ],
          [
           "Something Just Like This"
          ],
          [
           "Perfect"
          ],
          [
           "Se Preparó"
          ],
          [
           "Me Rehúso"
          ],
          [
           "Sovereign Light Café"
          ],
          [
           "Everybody's Changing"
          ],
          [
           "Cuando Me Enamoro"
          ],
          [
           "Nuova Ossessione"
          ],
          [
           "Miracle"
          ],
          [
           "Cooler Than Me - Single Mix"
          ],
          [
           "Ain't It Fun"
          ],
          [
           "Still into You"
          ],
          [
           "Déjala Que Vuelva (feat. Manuel Turizo)"
          ],
          [
           "Misery Business"
          ],
          [
           "Hard Times"
          ],
          [
           "What You Say"
          ],
          [
           "Somewhere Only We Know"
          ],
          [
           "Piccole cose (feat. Alessandra Amoroso)"
          ],
          [
           "Vorrei ma non posto"
          ],
          [
           "Libero"
          ],
          [
           "That's What You Get"
          ],
          [
           "Decode - Twilight Soundtrack Version"
          ],
          [
           "La Camisa Negra"
          ],
          [
           "Tabaco y Chanel"
          ],
          [
           "Caraluna"
          ],
          [
           "Extraordinary (feat. Sharna Bass)"
          ],
          [
           "Carry On"
          ],
          [
           "Slow Hands"
          ],
          [
           "No Diggity"
          ],
          [
           "Faith - Remastered"
          ],
          [
           "Talk Is Cheap"
          ],
          [
           "December, 1963 (Oh What a Night!)"
          ],
          [
           "Sugar"
          ],
          [
           "Somebody That I Used To Know"
          ],
          [
           "Sign of the Times"
          ],
          [
           "The Tracks Of My Tears"
          ],
          [
           "Iris"
          ],
          [
           "Live Is Life (Digitally Remastered) (Single Version)"
          ],
          [
           "End Of The Road"
          ],
          [
           "She Will Be Loved"
          ],
          [
           "The Sweet Escape"
          ],
          [
           "Corner of the Earth"
          ],
          [
           "Symphony (feat. Zara Larsson)"
          ],
          [
           "Old Thing Back (feat. Ja Rule and Ralph Tresvant)"
          ]
         ],
         "hovertemplate": "Broad Genre=Pop<br>Date Added=%{x}<br>Hour Added=%{y}<br>Track Name=%{customdata[0]}<extra></extra>",
         "legendgroup": "Pop",
         "marker": {
          "color": "#EF553B",
          "symbol": "circle"
         },
         "mode": "markers",
         "name": "Pop",
         "showlegend": true,
         "type": "scattergl",
         "x": [
          "2024-06-11 17:57:50-05:00",
          "2024-05-24 17:12:24-05:00",
          "2024-05-02 00:41:05-05:00",
          "2024-04-15 22:26:31-05:00",
          "2024-02-27 20:45:03-05:00",
          "2024-02-08 14:37:00-05:00",
          "2024-01-22 00:27:52-05:00",
          "2024-01-11 17:33:06-05:00",
          "2024-01-01 18:34:49-05:00",
          "2024-01-01 16:41:24-05:00",
          "2023-12-07 16:00:10-05:00",
          "2023-10-26 23:07:52-05:00",
          "2023-10-15 20:37:22-05:00",
          "2023-10-13 22:50:21-05:00",
          "2023-09-25 20:45:54-05:00",
          "2023-09-23 20:38:10-05:00",
          "2023-09-23 20:33:28-05:00",
          "2023-09-23 20:29:32-05:00",
          "2023-09-09 13:42:31-05:00",
          "2023-09-08 18:41:34-05:00",
          "2023-09-08 18:41:33-05:00",
          "2023-08-01 23:45:39-05:00",
          "2023-08-01 20:30:18-05:00",
          "2023-08-01 20:14:35-05:00",
          "2023-07-16 21:08:23-05:00",
          "2023-07-16 21:05:12-05:00",
          "2023-07-16 20:57:59-05:00",
          "2023-07-16 12:19:53-05:00",
          "2023-07-16 12:19:51-05:00",
          "2023-07-16 12:19:49-05:00",
          "2023-07-16 12:19:48-05:00",
          "2023-07-04 19:34:08-05:00",
          "2023-06-23 21:11:43-05:00",
          "2023-06-20 07:42:15-05:00",
          "2023-06-12 16:39:51-05:00",
          "2023-06-08 22:17:43-05:00",
          "2023-05-08 20:04:25-05:00",
          "2023-04-03 19:21:36-05:00",
          "2023-04-02 17:38:54-05:00",
          "2023-03-02 07:21:20-05:00",
          "2023-03-02 07:21:05-05:00",
          "2023-03-01 18:57:57-05:00",
          "2023-02-28 08:09:29-05:00",
          "2023-02-28 08:09:21-05:00",
          "2023-02-15 16:40:13-05:00",
          "2023-01-20 16:55:36-05:00",
          "2023-01-01 21:17:51-05:00",
          "2022-12-06 18:12:41-05:00",
          "2022-12-06 18:07:50-05:00",
          "2022-11-29 07:53:58-05:00",
          "2022-11-29 07:53:39-05:00",
          "2022-11-24 13:36:01-05:00",
          "2022-11-09 22:40:18-05:00",
          "2022-11-09 18:19:25-05:00",
          "2022-11-02 22:07:21-05:00",
          "2022-10-26 23:24:16-05:00",
          "2022-10-26 21:36:36-05:00",
          "2022-10-23 18:35:40-05:00",
          "2022-10-23 18:20:07-05:00",
          "2022-10-23 16:20:04-05:00",
          "2022-10-10 12:34:45-05:00",
          "2022-10-08 11:38:09-05:00",
          "2022-10-07 18:21:37-05:00",
          "2022-09-25 17:40:19-05:00",
          "2022-08-27 18:13:09-05:00",
          "2022-08-05 18:56:14-05:00",
          "2022-07-07 07:54:53-05:00",
          "2022-05-29 22:35:57-05:00",
          "2022-04-22 07:47:55-05:00",
          "2022-04-21 18:09:02-05:00",
          "2022-04-11 15:52:07-05:00",
          "2022-04-07 07:57:22-05:00",
          "2022-04-07 07:55:15-05:00",
          "2022-03-12 09:31:40-05:00",
          "2022-03-12 09:27:41-05:00",
          "2021-12-11 00:29:41-05:00",
          "2021-10-21 10:10:19-05:00",
          "2021-10-21 10:10:09-05:00",
          "2021-08-14 11:20:32-05:00",
          "2021-07-27 21:18:17-05:00",
          "2021-07-25 19:36:30-05:00",
          "2021-07-16 11:37:11-05:00",
          "2021-07-14 10:56:09-05:00",
          "2021-06-15 20:13:38-05:00",
          "2021-06-12 20:26:40-05:00",
          "2021-06-12 20:26:37-05:00",
          "2021-06-12 09:00:25-05:00",
          "2021-06-03 09:57:30-05:00",
          "2021-06-02 00:17:55-05:00",
          "2021-05-31 11:27:54-05:00",
          "2021-05-28 19:41:46-05:00",
          "2021-04-17 11:12:23-05:00",
          "2020-11-19 16:28:08-05:00",
          "2020-10-25 19:49:50-05:00",
          "2020-10-03 00:31:49-05:00",
          "2020-08-14 00:23:02-05:00",
          "2020-08-14 00:17:23-05:00",
          "2020-07-06 22:35:11-05:00",
          "2020-06-18 10:52:34-05:00",
          "2020-06-05 08:45:13-05:00",
          "2020-05-13 20:20:41-05:00",
          "2020-05-05 14:07:10-05:00",
          "2020-03-18 23:19:20-05:00",
          "2020-03-18 22:55:43-05:00",
          "2020-03-18 22:46:34-05:00",
          "2020-03-18 22:34:26-05:00",
          "2020-03-11 19:44:44-05:00",
          "2020-03-01 00:55:52-05:00",
          "2020-02-21 14:09:56-05:00",
          "2020-02-19 17:10:03-05:00",
          "2020-02-16 11:41:54-05:00",
          "2020-01-31 07:04:39-05:00",
          "2020-01-30 20:05:11-05:00",
          "2020-01-14 13:21:03-05:00",
          "2020-01-12 18:52:21-05:00",
          "2019-12-24 21:22:42-05:00",
          "2019-12-15 11:36:26-05:00",
          "2019-12-15 11:31:53-05:00",
          "2019-11-18 21:20:42-05:00",
          "2019-10-22 22:56:46-05:00",
          "2019-10-13 22:34:41-05:00",
          "2019-09-07 07:49:49-05:00",
          "2019-07-29 22:11:12-05:00",
          "2019-07-25 13:03:21-05:00",
          "2019-05-05 00:58:20-05:00",
          "2019-04-02 16:55:41-05:00",
          "2019-03-29 21:42:43-05:00",
          "2019-03-29 21:42:40-05:00",
          "2019-02-20 23:05:00-05:00",
          "2019-02-08 10:34:44-05:00",
          "2019-02-08 10:34:39-05:00",
          "2018-12-29 01:13:26-05:00",
          "2018-12-28 10:35:46-05:00",
          "2018-12-15 23:42:55-05:00",
          "2018-11-12 20:34:02-05:00",
          "2018-10-26 20:12:01-05:00",
          "2018-10-23 11:19:36-05:00",
          "2018-09-23 22:41:24-05:00",
          "2018-09-21 18:10:51-05:00",
          "2018-09-06 09:43:28-05:00",
          "2018-08-14 17:46:54-05:00",
          "2018-08-03 16:58:23-05:00",
          "2018-07-16 07:21:41-05:00",
          "2018-04-21 00:37:04-05:00",
          "2018-03-17 00:12:44-05:00",
          "2018-03-17 00:12:20-05:00",
          "2018-01-14 16:12:21-05:00",
          "2018-01-14 16:10:43-05:00",
          "2018-01-08 08:59:15-05:00",
          "2017-12-09 14:04:50-05:00",
          "2017-12-04 22:45:03-05:00",
          "2017-11-30 14:58:45-05:00",
          "2017-11-29 21:07:37-05:00",
          "2017-11-29 21:06:38-05:00",
          "2017-11-26 21:19:51-05:00",
          "2017-11-14 22:50:12-05:00",
          "2017-11-14 22:46:00-05:00",
          "2017-11-14 19:41:46-05:00",
          "2017-11-04 11:59:05-05:00",
          "2017-09-17 22:15:02-05:00",
          "2017-09-15 09:25:21-05:00",
          "2017-09-15 08:59:22-05:00",
          "2017-08-02 11:48:10-05:00",
          "2017-08-02 11:47:54-05:00",
          "2017-08-02 11:45:23-05:00",
          "2017-07-26 13:28:46-05:00",
          "2017-07-26 13:27:23-05:00",
          "2017-07-18 13:18:02-05:00",
          "2017-07-13 08:07:12-05:00",
          "2017-07-02 20:01:59-05:00",
          "2017-06-27 19:24:39-05:00",
          "2017-06-25 20:46:34-05:00",
          "2017-06-21 21:31:30-05:00",
          "2017-06-15 16:55:08-05:00",
          "2017-06-10 20:01:23-05:00",
          "2017-05-28 18:44:31-05:00",
          "2017-05-26 16:06:01-05:00",
          "2017-05-05 14:07:05-05:00",
          "2017-04-27 13:04:47-05:00",
          "2017-04-21 12:56:14-05:00",
          "2017-04-11 21:22:48-05:00",
          "2017-04-06 22:08:51-05:00",
          "2017-03-28 10:04:14-05:00",
          "2017-03-26 19:28:33-05:00",
          "2017-03-26 12:46:24-05:00",
          "2017-03-26 11:40:16-05:00"
         ],
         "xaxis": "x",
         "y": [
          17,
          17,
          0,
          22,
          20,
          14,
          0,
          17,
          18,
          16,
          16,
          23,
          20,
          22,
          20,
          20,
          20,
          20,
          13,
          18,
          18,
          23,
          20,
          20,
          21,
          21,
          20,
          12,
          12,
          12,
          12,
          19,
          21,
          7,
          16,
          22,
          20,
          19,
          17,
          7,
          7,
          18,
          8,
          8,
          16,
          16,
          21,
          18,
          18,
          7,
          7,
          13,
          22,
          18,
          22,
          23,
          21,
          18,
          18,
          16,
          12,
          11,
          18,
          17,
          18,
          18,
          7,
          22,
          7,
          18,
          15,
          7,
          7,
          9,
          9,
          0,
          10,
          10,
          11,
          21,
          19,
          11,
          10,
          20,
          20,
          20,
          9,
          9,
          0,
          11,
          19,
          11,
          16,
          19,
          0,
          0,
          0,
          22,
          10,
          8,
          20,
          14,
          23,
          22,
          22,
          22,
          19,
          0,
          14,
          17,
          11,
          7,
          20,
          13,
          18,
          21,
          11,
          11,
          21,
          22,
          22,
          7,
          22,
          13,
          0,
          16,
          21,
          21,
          23,
          10,
          10,
          1,
          10,
          23,
          20,
          20,
          11,
          22,
          18,
          9,
          17,
          16,
          7,
          0,
          0,
          0,
          16,
          16,
          8,
          14,
          22,
          14,
          21,
          21,
          21,
          22,
          22,
          19,
          11,
          22,
          9,
          8,
          11,
          11,
          11,
          13,
          13,
          13,
          8,
          20,
          19,
          20,
          21,
          16,
          20,
          18,
          16,
          14,
          13,
          12,
          21,
          22,
          10,
          19,
          12,
          11
         ],
         "yaxis": "y"
        },
        {
         "customdata": [
          [
           "MY EYES"
          ],
          [
           "Hustlers"
          ],
          [
           "UN MONTÓN"
          ],
          [
           "WACHA"
          ],
          [
           "Hold On, We're Going Home"
          ],
          [
           "Yeah Glo!"
          ],
          [
           "Ojos Verdes"
          ],
          [
           "Coyote"
          ],
          [
           "Ciudad de la Paz"
          ],
          [
           "Muñecas"
          ],
          [
           "Buenos tiempos"
          ],
          [
           "Mi peor enemigo"
          ],
          [
           "La novia de mi amigo"
          ],
          [
           "Cirugía"
          ],
          [
           "offline"
          ],
          [
           "BESAME (feat. Tiago PZK, Khea & Neo Pistea) - Remix"
          ],
          [
           "LADRONA - con Mario Luis"
          ],
          [
           "Creo Que (feat. Asan)"
          ],
          [
           "A PURO DOLOR"
          ],
          [
           "Insta Lova"
          ],
          [
           "Daddy feat. Sfera Ebbasta & Leto (de PSO Thug)"
          ],
          [
           "M' Manc (con Geolier & Sfera Ebbasta)"
          ],
          [
           "Piel"
          ],
          [
           "Cómo Le Digo"
          ],
          [
           "Pensabas"
          ],
          [
           "Sol y Luna"
          ],
          [
           "Loca"
          ],
          [
           "Tu Ritmo"
          ],
          [
           "Tanta Droga"
          ],
          [
           "Triste (with Feid)"
          ],
          [
           "Pininfarina - Remix"
          ],
          [
           "Fvck Luv"
          ],
          [
           "No Cap"
          ],
          [
           "CUÁNTOS TÉRMINOS?"
          ],
          [
           "Cupido (with Khea & Duki feat. Quavo & Elettra Lamborghini) - RMX"
          ],
          [
           "Princess Diana (with Nicki Minaj)"
          ],
          [
           "No Me Llores"
          ],
          [
           "Double Bass"
          ],
          [
           "Oil (feat. Stevie Nicks)"
          ],
          [
           "Mala"
          ],
          [
           "Manicomio"
          ],
          [
           "CALL ME MAYBE"
          ],
          [
           "Kemba Walker"
          ],
          [
           "SINVERGÜENZA - con Angela Torres"
          ],
          [
           "The Spins"
          ],
          [
           "Papa Noel"
          ],
          [
           "ALV"
          ],
          [
           "23"
          ],
          [
           "Yandel 150"
          ],
          [
           "Thug Passion (ft. Jewell, Outlawz, The Storm)"
          ],
          [
           "Catch Me Outside"
          ],
          [
           "Young Flex"
          ],
          [
           "SANDUNGA"
          ],
          [
           "Lágrimas | CROSSOVER #4"
          ],
          [
           "LOCO X TU CUERPO"
          ],
          [
           "NO DA MÁS"
          ],
          [
           "LUGARES QUE LLEGO"
          ],
          [
           "La Jumpa"
          ],
          [
           "ADICTO"
          ],
          [
           "Dreams, Fairytales, Fantasies (feat. Brent Faiyaz & Salaam Remi)"
          ],
          [
           "Ele Uve"
          ],
          [
           "NANA"
          ],
          [
           "BBYNOSE_147BPM9S"
          ],
          [
           "TOMBOY"
          ],
          [
           "One Million Dollar Baby"
          ],
          [
           "Take A Step Back"
          ],
          [
           "Mis Ojos Lloran Por Ti"
          ],
          [
           "El Hokage"
          ],
          [
           "Que Somos - Remix"
          ],
          [
           "BabyWipe"
          ],
          [
           "All Girls Are The Same"
          ],
          [
           "Quavo #Mododiablo"
          ],
          [
           "Vuelta a la Luna - Remix"
          ],
          [
           "Goteo - Remix"
          ],
          [
           "3 Am"
          ],
          [
           "Metele Sazón"
          ],
          [
           "Pa' Que Retozen"
          ],
          [
           "Nota"
          ],
          [
           "qué le pasa conmigo?"
          ],
          [
           "Tenso"
          ],
          [
           "Me Usaste"
          ],
          [
           "Lean Wit Me"
          ],
          [
           "Wishing Well"
          ],
          [
           "Robbery"
          ],
          [
           "Si Te Sentis Sola"
          ],
          [
           "antes de perderte (OG VERSION)"
          ],
          [
           "Real Muthaphuckkin G's"
          ],
          [
           "Te Busco"
          ],
          [
           "NO voy a llorar :')"
          ],
          [
           "CAEN LAS ESTRELLAS"
          ],
          [
           "ATORRANTE - con Los Palmeras"
          ],
          [
           "Lovumba"
          ],
          [
           "No Me Dejes Solo"
          ],
          [
           "Mentiras | CROSSOVER #3"
          ],
          [
           "AEROBICO REMIX"
          ],
          [
           "Hijo De La Noche"
          ],
          [
           "Goteo"
          ],
          [
           "GiGi"
          ],
          [
           "ID"
          ],
          [
           "Ayer Me Llamó Mi Ex"
          ],
          [
           "How Do U Want It"
          ],
          [
           "Hood Took Me Under"
          ],
          [
           "Ticket"
          ],
          [
           "Remember Me"
          ],
          [
           "Un Finde | CROSSOVER #2"
          ],
          [
           "LOVE. FEAT. ZACARI."
          ],
          [
           "Me Enteré"
          ],
          [
           "Columbia"
          ],
          [
           "Hello Cotto"
          ],
          [
           "TRAP.N.EXPORT (feat. Duki, Ysy A & Neo Pistea)"
          ],
          [
           "Silent Running (feat. Adeleye Omotayo)"
          ],
          [
           "Baby Queen"
          ],
          [
           "DISPARA ***"
          ],
          [
           "Mbappe"
          ],
          [
           "Si la Calle Llama"
          ],
          [
           "Water"
          ],
          [
           "CSIpher (audio latino)"
          ],
          [
           "Chico Estrella"
          ],
          [
           "RoCKSTAR 2.0"
          ],
          [
           "Freestyle Session #11"
          ],
          [
           "RIP Roach"
          ],
          [
           "Hope"
          ],
          [
           "Los del Espacio"
          ],
          [
           "Contéstame el Teléfono (feat. Flex)"
          ],
          [
           "POST MORTEM"
          ],
          [
           "OLA DE SUICIDIOS"
          ],
          [
           "You Know How We Do It"
          ],
          [
           "aPoLLo13"
          ],
          [
           "Si Me Sobrara el Tiempo"
          ],
          [
           "New Gold (feat. Tame Impala and Bootie Brown)"
          ],
          [
           "Cracker Island (feat. Thundercat)"
          ],
          [
           "MEMORIAS"
          ],
          [
           "Ayer La Vi"
          ],
          [
           "Nublado (feat. Travis Barker)"
          ],
          [
           "Duki: Bzrp Music Sessions, Vol. 50"
          ],
          [
           "Noche de Novela (feat. Ed Sheeran)"
          ],
          [
           "Guersace"
          ],
          [
           "Party en el Barrio (feat. Duki)"
          ],
          [
           "Surf"
          ],
          [
           "VISTA AL MAR"
          ],
          [
           "Dominicana"
          ],
          [
           "Chucky73: Bzrp Music Sessions, Vol. 43"
          ],
          [
           "El Amor"
          ],
          [
           "Pintao"
          ],
          [
           "REALITY"
          ],
          [
           "RILI RILI"
          ],
          [
           "GIVENCHY"
          ],
          [
           "Quevedo: Bzrp Music Sessions, Vol. 52"
          ],
          [
           "No More ?'s"
          ],
          [
           "Express Yourself - Remix"
          ],
          [
           "California Love - Original Version"
          ],
          [
           "Nuthin' But A \"G\" Thang"
          ],
          [
           "Fuck Tha Police"
          ],
          [
           "No Vaseline"
          ],
          [
           "Villano Antillano: Bzrp Music Sessions, Vol. 51"
          ],
          [
           "Antes de Perderte"
          ],
          [
           "A$AP"
          ],
          [
           "Ahora y Siempre"
          ],
          [
           "Chamaquita"
          ],
          [
           "Respuesta Cero"
          ],
          [
           "WAIFU_153BPM2B"
          ],
          [
           "BICICLETA"
          ],
          [
           "Guchi Polo"
          ],
          [
           "La Trampa es Ley"
          ],
          [
           "220"
          ],
          [
           "Plan A"
          ],
          [
           "L-Gante: Bzrp Music Sessions, Vol.38"
          ],
          [
           "JUNGLE"
          ],
          [
           "Entre Nosotros (Remix) [con Nicki Nicole]"
          ],
          [
           "Pinta"
          ],
          [
           "YIN YAN"
          ],
          [
           "Tiago PZK: Bzrp Music Sessions, Vol. 48"
          ],
          [
           "Dillom: Bzrp Music Sessions, Vol. 9"
          ],
          [
           "TOP 5"
          ],
          [
           "Sin Frenos"
          ],
          [
           "ROCKETPOWERS"
          ],
          [
           "PELOTUDA"
          ],
          [
           "LA PRIMERA"
          ],
          [
           "Mamichula - con Nicki Nicole"
          ],
          [
           "DANCE CRIP"
          ],
          [
           "PISO 13"
          ],
          [
           "She Don't Give a Fo"
          ],
          [
           "Unfollow"
          ],
          [
           "Además de Mí - Remix"
          ],
          [
           "YaMeFui"
          ],
          [
           "My Bag"
          ],
          [
           "SNITCH E IMPICCI (feat. FSK SATELLITE)"
          ],
          [
           "Tesla (feat. Sfera Ebbasta & DrefGold)"
          ],
          [
           "Dame Una Nite"
          ],
          [
           "Dejame Tranki"
          ],
          [
           "Mala Mía"
          ],
          [
           "Lassie"
          ],
          [
           "Prende la Cámara"
          ],
          [
           "California"
          ],
          [
           "Entre Nosotros"
          ],
          [
           "KHEA: Bzrp Music Sessions, Vol. 34"
          ],
          [
           "Malbec"
          ],
          [
           "Eladio Carrion: Bzrp Music Sessions, Vol. 40"
          ],
          [
           "Sauce"
          ],
          [
           "OPA"
          ],
          [
           "DUDADE"
          ],
          [
           "Zaramay: Bzrp Music Sessions, Vol. 31"
          ],
          [
           "Snow Tha Product: Bzrp Music Sessions, Vol. 39"
          ],
          [
           "Nathy Peluso: Bzrp Music Sessions, Vol. 36"
          ],
          [
           "Flexin'"
          ],
          [
           "Circles"
          ],
          [
           "QUELLI CHE NON PENSANO - Il cervello (feat. Coez)"
          ],
          [
           "Monster"
          ],
          [
           "Dark Fantasy"
          ],
          [
           "Better Now"
          ],
          [
           "Lucid Dreams"
          ],
          [
           "XO Tour Llif3"
          ],
          [
           "Davide (feat. Coez)"
          ],
          [
           "Redbone"
          ],
          [
           "Crazy"
          ],
          [
           "Lowrider - Edited LP Version"
          ],
          [
           "On Melancholy Hill"
          ],
          [
           "Clint Eastwood"
          ],
          [
           "Feel Good Inc."
          ],
          [
           "White Iverson"
          ],
          [
           "Congratulations"
          ],
          [
           "Big Lie"
          ],
          [
           "Hypnotize - 2014 Remaster"
          ],
          [
           "Gettin' Jiggy Wit It"
          ],
          [
           "Ice Ice Baby"
          ],
          [
           "Big Poppa - 2005 Remaster"
          ],
          [
           "Juicy - 2005 Remaster"
          ]
         ],
         "hovertemplate": "Broad Genre=Hip Hop<br>Date Added=%{x}<br>Hour Added=%{y}<br>Track Name=%{customdata[0]}<extra></extra>",
         "legendgroup": "Hip Hop",
         "marker": {
          "color": "#00cc96",
          "symbol": "circle"
         },
         "mode": "markers",
         "name": "Hip Hop",
         "showlegend": true,
         "type": "scattergl",
         "x": [
          "2024-06-10 20:04:56-05:00",
          "2024-06-04 21:30:10-05:00",
          "2024-05-30 19:46:57-05:00",
          "2024-05-04 09:03:26-05:00",
          "2024-04-28 02:02:31-05:00",
          "2024-04-27 23:16:24-05:00",
          "2024-04-26 17:50:57-05:00",
          "2024-04-26 12:53:29-05:00",
          "2024-04-26 11:44:17-05:00",
          "2024-04-26 11:34:33-05:00",
          "2024-04-26 11:28:03-05:00",
          "2024-04-26 11:12:21-05:00",
          "2024-04-26 11:00:33-05:00",
          "2024-04-26 11:00:32-05:00",
          "2024-04-23 12:33:11-05:00",
          "2024-04-17 11:51:31-05:00",
          "2024-04-10 11:41:16-05:00",
          "2024-02-28 18:05:50-05:00",
          "2024-02-28 00:29:32-05:00",
          "2024-02-27 20:53:48-05:00",
          "2024-02-27 20:45:18-05:00",
          "2024-02-07 16:06:41-05:00",
          "2024-02-02 12:41:29-05:00",
          "2024-01-26 15:27:30-05:00",
          "2024-01-23 15:37:58-05:00",
          "2024-01-23 12:40:51-05:00",
          "2024-01-23 00:47:35-05:00",
          "2024-01-19 02:20:56-05:00",
          "2024-01-19 01:55:36-05:00",
          "2024-01-16 00:20:11-05:00",
          "2024-01-10 08:15:43-05:00",
          "2023-12-29 13:16:37-05:00",
          "2023-12-26 22:13:22-05:00",
          "2023-12-26 22:06:08-05:00",
          "2023-12-26 09:19:37-05:00",
          "2023-12-23 19:07:47-05:00",
          "2023-12-21 07:39:49-05:00",
          "2023-12-20 16:52:50-05:00",
          "2023-12-20 16:41:22-05:00",
          "2023-12-17 21:23:04-05:00",
          "2023-12-12 11:38:33-05:00",
          "2023-12-10 20:26:12-05:00",
          "2023-12-08 13:29:57-05:00",
          "2023-12-05 22:43:10-05:00",
          "2023-12-05 14:48:58-05:00",
          "2023-12-03 20:35:08-05:00",
          "2023-12-02 15:18:18-05:00",
          "2023-12-01 10:30:47-05:00",
          "2023-11-26 22:43:30-05:00",
          "2023-11-26 18:43:37-05:00",
          "2023-11-15 12:26:04-05:00",
          "2023-11-15 01:43:30-05:00",
          "2023-11-14 00:52:26-05:00",
          "2023-11-12 16:25:51-05:00",
          "2023-11-12 00:22:18-05:00",
          "2023-11-12 00:22:13-05:00",
          "2023-11-11 21:04:28-05:00",
          "2023-11-09 13:33:41-05:00",
          "2023-10-30 23:43:23-05:00",
          "2023-10-29 21:41:43-05:00",
          "2023-10-29 19:48:16-05:00",
          "2023-10-29 13:47:52-05:00",
          "2023-10-28 15:42:39-05:00",
          "2023-10-28 15:31:26-05:00",
          "2023-10-26 10:34:18-05:00",
          "2023-10-22 18:53:20-05:00",
          "2023-10-17 01:19:54-05:00",
          "2023-10-15 11:58:40-05:00",
          "2023-10-14 13:41:43-05:00",
          "2023-10-10 16:10:09-05:00",
          "2023-10-08 20:28:12-05:00",
          "2023-10-07 17:57:39-05:00",
          "2023-10-07 02:30:54-05:00",
          "2023-10-06 13:51:32-05:00",
          "2023-10-04 13:52:52-05:00",
          "2023-10-03 14:15:48-05:00",
          "2023-10-03 14:15:45-05:00",
          "2023-09-28 01:06:54-05:00",
          "2023-09-25 12:34:35-05:00",
          "2023-09-25 01:43:06-05:00",
          "2023-09-24 11:52:34-05:00",
          "2023-09-21 17:52:29-05:00",
          "2023-09-21 10:53:27-05:00",
          "2023-09-20 13:48:34-05:00",
          "2023-09-20 12:53:47-05:00",
          "2023-09-19 15:22:22-05:00",
          "2023-09-15 18:40:56-05:00",
          "2023-09-12 19:41:48-05:00",
          "2023-09-12 16:45:20-05:00",
          "2023-09-12 16:41:56-05:00",
          "2023-09-11 11:26:10-05:00",
          "2023-09-09 12:37:05-05:00",
          "2023-09-09 12:37:00-05:00",
          "2023-09-08 12:34:57-05:00",
          "2023-09-04 13:56:29-05:00",
          "2023-09-01 13:22:52-05:00",
          "2023-08-20 01:40:04-05:00",
          "2023-08-20 00:55:25-05:00",
          "2023-08-13 23:46:55-05:00",
          "2023-08-13 02:21:54-05:00",
          "2023-08-12 22:26:08-05:00",
          "2023-08-09 12:06:07-05:00",
          "2023-08-02 18:42:16-05:00",
          "2023-08-02 15:26:29-05:00",
          "2023-08-02 10:35:07-05:00",
          "2023-07-28 18:37:20-05:00",
          "2023-07-27 14:50:46-05:00",
          "2023-07-25 17:09:16-05:00",
          "2023-07-18 14:46:06-05:00",
          "2023-07-15 12:23:32-05:00",
          "2023-07-13 00:14:30-05:00",
          "2023-07-13 00:07:45-05:00",
          "2023-07-06 10:51:39-05:00",
          "2023-07-03 19:48:24-05:00",
          "2023-06-29 18:21:21-05:00",
          "2023-06-27 12:25:46-05:00",
          "2023-06-23 09:29:36-05:00",
          "2023-06-22 21:29:41-05:00",
          "2023-06-22 09:18:22-05:00",
          "2023-06-21 13:20:30-05:00",
          "2023-06-21 12:57:35-05:00",
          "2023-06-20 12:29:33-05:00",
          "2023-06-11 02:19:57-05:00",
          "2023-06-02 10:18:38-05:00",
          "2023-05-20 13:01:58-05:00",
          "2023-05-16 19:12:52-05:00",
          "2023-05-11 07:06:25-05:00",
          "2023-05-04 11:57:06-05:00",
          "2023-03-11 11:40:10-05:00",
          "2023-02-26 11:18:13-05:00",
          "2023-02-24 19:53:08-05:00",
          "2023-02-11 16:26:08-05:00",
          "2022-11-29 08:12:22-05:00",
          "2022-11-22 21:22:47-05:00",
          "2022-11-17 12:51:05-05:00",
          "2022-11-12 11:46:56-05:00",
          "2022-10-23 16:19:28-05:00",
          "2022-09-20 11:55:22-05:00",
          "2022-09-14 15:27:01-05:00",
          "2022-09-12 17:08:11-05:00",
          "2022-09-12 15:17:12-05:00",
          "2022-09-07 21:56:58-05:00",
          "2022-09-02 07:46:41-05:00",
          "2022-08-05 09:29:27-05:00",
          "2022-08-05 09:23:32-05:00",
          "2022-08-05 07:43:19-05:00",
          "2022-08-04 09:36:46-05:00",
          "2022-07-06 17:23:26-05:00",
          "2022-06-22 13:10:36-05:00",
          "2022-06-15 11:43:49-05:00",
          "2022-06-12 14:03:32-05:00",
          "2022-06-12 13:33:34-05:00",
          "2022-06-12 13:33:16-05:00",
          "2022-06-12 13:33:09-05:00",
          "2022-06-10 20:33:56-05:00",
          "2022-06-07 07:36:11-05:00",
          "2022-05-29 14:30:12-05:00",
          "2022-05-13 20:17:51-05:00",
          "2022-05-09 15:50:02-05:00",
          "2022-05-09 15:33:39-05:00",
          "2022-05-01 16:32:42-05:00",
          "2022-04-27 08:46:14-05:00",
          "2022-04-24 20:51:05-05:00",
          "2022-04-14 21:20:46-05:00",
          "2022-04-06 16:48:29-05:00",
          "2022-03-24 10:56:26-05:00",
          "2022-03-06 01:14:50-05:00",
          "2022-02-25 19:35:30-05:00",
          "2022-01-27 09:29:34-05:00",
          "2022-01-21 19:01:11-05:00",
          "2022-01-18 10:09:11-05:00",
          "2022-01-10 09:24:59-05:00",
          "2022-01-07 15:20:58-05:00",
          "2021-12-17 10:11:00-05:00",
          "2021-12-04 07:57:18-05:00",
          "2021-12-02 16:18:33-05:00",
          "2021-12-02 16:11:42-05:00",
          "2021-12-02 15:59:17-05:00",
          "2021-11-20 19:25:10-05:00",
          "2021-11-18 16:27:25-05:00",
          "2021-11-12 19:44:11-05:00",
          "2021-11-11 19:11:27-05:00",
          "2021-11-11 19:00:12-05:00",
          "2021-10-25 11:22:14-05:00",
          "2021-10-01 12:45:07-05:00",
          "2021-08-27 16:44:16-05:00",
          "2021-08-22 20:03:20-05:00",
          "2021-08-22 20:03:12-05:00",
          "2021-08-22 13:46:25-05:00",
          "2021-08-20 10:14:39-05:00",
          "2021-08-20 10:13:58-05:00",
          "2021-08-06 16:54:56-05:00",
          "2021-08-04 13:28:57-05:00",
          "2021-07-25 02:09:56-05:00",
          "2021-07-25 02:06:43-05:00",
          "2021-07-24 19:14:49-05:00",
          "2021-07-22 16:15:29-05:00",
          "2021-06-19 10:56:30-05:00",
          "2021-06-14 20:20:59-05:00",
          "2021-06-02 00:26:37-05:00",
          "2021-05-27 10:01:18-05:00",
          "2021-05-24 19:32:18-05:00",
          "2021-04-30 11:35:23-05:00",
          "2021-01-22 18:21:19-05:00",
          "2020-08-31 16:40:03-05:00",
          "2020-03-31 10:34:59-05:00",
          "2020-03-01 01:06:33-05:00",
          "2019-12-28 17:42:53-05:00",
          "2019-12-28 17:42:46-05:00",
          "2018-11-01 20:50:22-05:00",
          "2018-09-11 13:40:54-05:00",
          "2018-09-11 13:39:40-05:00",
          "2018-06-03 21:27:53-05:00",
          "2018-03-02 22:55:05-05:00",
          "2018-01-25 09:05:28-05:00",
          "2017-09-28 06:27:19-05:00",
          "2017-08-23 21:27:39-05:00",
          "2017-08-23 21:24:27-05:00",
          "2017-08-23 21:24:07-05:00",
          "2017-07-04 09:08:46-05:00",
          "2017-07-04 09:02:14-05:00",
          "2017-07-03 00:38:31-05:00",
          "2017-06-28 20:51:29-05:00",
          "2017-06-28 20:47:29-05:00",
          "2017-06-28 20:44:08-05:00",
          "2017-03-26 11:39:26-05:00",
          "2017-03-26 11:39:21-05:00"
         ],
         "xaxis": "x",
         "y": [
          20,
          21,
          19,
          9,
          2,
          23,
          17,
          12,
          11,
          11,
          11,
          11,
          11,
          11,
          12,
          11,
          11,
          18,
          0,
          20,
          20,
          16,
          12,
          15,
          15,
          12,
          0,
          2,
          1,
          0,
          8,
          13,
          22,
          22,
          9,
          19,
          7,
          16,
          16,
          21,
          11,
          20,
          13,
          22,
          14,
          20,
          15,
          10,
          22,
          18,
          12,
          1,
          0,
          16,
          0,
          0,
          21,
          13,
          23,
          21,
          19,
          13,
          15,
          15,
          10,
          18,
          1,
          11,
          13,
          16,
          20,
          17,
          2,
          13,
          13,
          14,
          14,
          1,
          12,
          1,
          11,
          17,
          10,
          13,
          12,
          15,
          18,
          19,
          16,
          16,
          11,
          12,
          12,
          12,
          13,
          13,
          1,
          0,
          23,
          2,
          22,
          12,
          18,
          15,
          10,
          18,
          14,
          17,
          14,
          12,
          0,
          0,
          10,
          19,
          18,
          12,
          9,
          21,
          9,
          13,
          12,
          12,
          2,
          10,
          13,
          19,
          7,
          11,
          11,
          11,
          19,
          16,
          8,
          21,
          12,
          11,
          16,
          11,
          15,
          17,
          15,
          21,
          7,
          9,
          9,
          7,
          9,
          17,
          13,
          11,
          14,
          13,
          13,
          13,
          20,
          7,
          14,
          20,
          15,
          15,
          16,
          8,
          20,
          21,
          16,
          10,
          1,
          19,
          9,
          19,
          10,
          9,
          15,
          10,
          7,
          16,
          16,
          15,
          19,
          16,
          19,
          19,
          19,
          11,
          12,
          16,
          20,
          20,
          13,
          10,
          10,
          16,
          13,
          2,
          2,
          19,
          16,
          10,
          20,
          0,
          10,
          19,
          11,
          18,
          16,
          10,
          1,
          17,
          17,
          20,
          13,
          13,
          21,
          22,
          9,
          6,
          21,
          21,
          21,
          9,
          9,
          0,
          20,
          20,
          20,
          11,
          11
         ],
         "yaxis": "y"
        },
        {
         "customdata": [
          [
           "La Incondicional"
          ],
          [
           "El Día De Mi Suerte"
          ],
          [
           "Pierdo la Cabeza - Remix"
          ],
          [
           "Ese Hombre"
          ],
          [
           "Tú y Tú"
          ],
          [
           "Perdonarte, ¿Para Qué?"
          ],
          [
           "Que Tengo Que Hacer"
          ],
          [
           "Soldado Y Profeta (feat. Ozuna, Almighty, Kendo & Ñengo Flow)"
          ],
          [
           "Señorita"
          ],
          [
           "Sin Despertar"
          ],
          [
           "Si o No"
          ],
          [
           "Tu de Que Vas"
          ],
          [
           "Entre la Playa Ella y Yo"
          ],
          [
           "Baila Morena"
          ],
          [
           "TE FUISTE DE MI VIDA"
          ],
          [
           "Comerte a Besos - Salsa Version"
          ],
          [
           "Noche Loca"
          ],
          [
           "Todo Comenzó Bailando - Remix"
          ],
          [
           "Las Avispas"
          ],
          [
           "QUE ME FALTE TODO"
          ],
          [
           "OJALÁ"
          ],
          [
           "HOLA PERDIDA"
          ],
          [
           "Percocet - Remix"
          ],
          [
           "Tanto La Queria (Version Salsa)"
          ],
          [
           "Ella Dice"
          ],
          [
           "¿Por Qué Me Haces Llorar?"
          ],
          [
           "PERRO NEGRO"
          ],
          [
           "Las Leyes de La Vida"
          ],
          [
           "Alch Si"
          ],
          [
           "QUE VUELVAS"
          ],
          [
           "Que Alguien Me Diga"
          ],
          [
           "Esta Cabron (Remix) [feat. Anuel Aa, Yomo, Pusho, Almighty, D.Ozi & Jamby \"El Favo\"]"
          ],
          [
           "Tu Angelito"
          ],
          [
           "Quiero Creer"
          ],
          [
           "Mayor Que Yo 3"
          ],
          [
           "En To Lao"
          ],
          [
           "Hablamos Mañana"
          ],
          [
           "Amor de Mis Amores"
          ],
          [
           "Eres Mi Bien"
          ],
          [
           "Tu No Metes Cabra"
          ],
          [
           "COLMILLO"
          ],
          [
           "La resaka"
          ],
          [
           "Que Calor"
          ],
          [
           "Tiburon"
          ],
          [
           "Sin Sentimientos"
          ],
          [
           "Me Voy Enamorando - Remix"
          ],
          [
           "Drogo"
          ],
          [
           "Señal De Vida"
          ],
          [
           "El Matadero"
          ],
          [
           "Pierdo la Cabeza"
          ],
          [
           "La player (Bandolera)"
          ],
          [
           "Quien Te Va a Amar Como Yo"
          ],
          [
           "Otra Noche"
          ],
          [
           "Entre Beso y Beso"
          ],
          [
           "BUENOS AIRES"
          ],
          [
           "EN VISTO"
          ],
          [
           "LA BABY"
          ],
          [
           "El Amor de Mi Vida"
          ],
          [
           "LALA"
          ],
          [
           "La Triple T"
          ],
          [
           "FANTASMA | AVC"
          ],
          [
           "Ya No Vuelvas (Versión Cuarteto)"
          ],
          [
           "Salimo en Caravana"
          ],
          [
           "OJITOS ROJOS"
          ],
          [
           "TULUM"
          ],
          [
           "Ojalá Que Te Mueras"
          ],
          [
           "La Magia De Tus Besos"
          ],
          [
           "Un Beso Y Una Flor"
          ],
          [
           "Me Niegas Tanto Amor"
          ],
          [
           "Calle Luna Calle Sol"
          ],
          [
           "Lloraras"
          ],
          [
           "La Más Bella"
          ],
          [
           "No Se Va - EN VIVO"
          ],
          [
           "un x100to"
          ],
          [
           "Mi Buen Amor"
          ],
          [
           "Día De Pago"
          ],
          [
           "Nota de Amor (feat. Daddy Yankee)"
          ],
          [
           "Tu Mueres por Mi"
          ],
          [
           "Si Tú No Estás"
          ],
          [
           "Un Montón De Estrellas"
          ],
          [
           "Sueños"
          ],
          [
           "La Duda"
          ],
          [
           "Hookiao"
          ],
          [
           "Si no te tengo a ti"
          ],
          [
           "La Amante"
          ],
          [
           "Deseándote"
          ],
          [
           "Sin Querer"
          ],
          [
           "Tu Cariñito"
          ],
          [
           "Virgen"
          ],
          [
           "Cuando Seas Grande"
          ],
          [
           "Juana Peña"
          ],
          [
           "El Ritmo de Mi Corazón"
          ],
          [
           "Trampolín"
          ],
          [
           "Niña Bonita"
          ],
          [
           "Aunque no sea conmigo"
          ],
          [
           "Qué Hay de Malo"
          ],
          [
           "Marta tiene un marcapasos"
          ],
          [
           "Eres Mi Religión"
          ],
          [
           "Ven Devórame Otra Vez"
          ],
          [
           "La Noche Mas Linda"
          ],
          [
           "Idilio"
          ],
          [
           "El Níagara en Bicicleta"
          ],
          [
           "Te regalo"
          ],
          [
           "Tus Ojos No Me Ven"
          ],
          [
           "Gozando en la Habana"
          ],
          [
           "El Embrujo"
          ],
          [
           "Mi Libertad"
          ],
          [
           "Ana Milé"
          ],
          [
           "Antídoto Y Veneno"
          ],
          [
           "La Vida Es Un Carnaval"
          ],
          [
           "Lo Mío Es Amor"
          ],
          [
           "Bar"
          ],
          [
           "2:50 Remix"
          ],
          [
           "23 (With Ape Drums)"
          ],
          [
           "El Tiempo"
          ],
          [
           "El Mas Piola"
          ],
          [
           "Fico Assim Sem Você"
          ],
          [
           "Pistola Remix"
          ],
          [
           "L-Gante: RKT SESSIONS #1"
          ],
          [
           "La Ventanita"
          ],
          [
           "LA NOCHE DE ANOCHE"
          ],
          [
           "Atrévete-Te-Te"
          ],
          [
           "Talento De Televisión"
          ],
          [
           "Visionario"
          ],
          [
           "Tinty Nasty"
          ],
          [
           "El Doctorado feat. Don Omar & Ken-Y"
          ],
          [
           "Yo No Sé Mañana"
          ],
          [
           "La Entrevista - Remasterizado"
          ],
          [
           "Pan y mantequilla"
          ],
          [
           "Zun Da Da"
          ],
          [
           "Amor Narcótico"
          ],
          [
           "Necesito un Amor"
          ],
          [
           "Una Rosa Lo Sabe"
          ],
          [
           "Amame una Vez Más"
          ],
          [
           "El Gran Varon"
          ],
          [
           "Elsa / Cariñito / Boquita de Caramelo - En Vivo"
          ],
          [
           "Colgando en tus manos (con Marta Sánchez)"
          ],
          [
           "Oye Mi Amor"
          ],
          [
           "Como Te Deseo"
          ],
          [
           "Que Locura Enamorarme De Ti"
          ],
          [
           "Si Tú Me Besas"
          ],
          [
           "Contigo Aprendí"
          ],
          [
           "Princesa"
          ],
          [
           "Rayando el Sol"
          ],
          [
           "Amor Clandestino"
          ],
          [
           "Fruta Prohibida"
          ],
          [
           "Tanto la Queria"
          ],
          [
           "Todo Cambió"
          ],
          [
           "Fabricando Fantasías"
          ],
          [
           "Para No Verte Más"
          ],
          [
           "Obsesión"
          ],
          [
           "Si Me Tenías"
          ],
          [
           "China"
          ],
          [
           "Coleccionista de Canciones"
          ],
          [
           "Vuelve a mí"
          ],
          [
           "Te Vas"
          ],
          [
           "Me Enamoré De Ti, Y Que"
          ],
          [
           "Tu Cárcel (En Vivo)"
          ],
          [
           "Tu Vida en la Mía"
          ],
          [
           "Ahora Te Puedes Marchar"
          ],
          [
           "Motor y Motivo"
          ],
          [
           "El Doctorado"
          ],
          [
           "Adios Amor"
          ],
          [
           "Labios Compartidos"
          ],
          [
           "A Llorar a Otra Parte"
          ],
          [
           "Como Mirarte"
          ],
          [
           "Te quiero"
          ],
          [
           "Venezia"
          ],
          [
           "Qué Vida la Mía"
          ],
          [
           "En algún lugar"
          ],
          [
           "Me Niego (feat. Ozuna & Wisin)"
          ],
          [
           "Que Va"
          ],
          [
           "Clavado en Un Bar"
          ],
          [
           "Suéltate el pelo"
          ],
          [
           "Devuélveme a mi chica"
          ],
          [
           "Ojos Color Sol (feat. Silvio Rodríguez)"
          ],
          [
           "Muerte En Hawaii"
          ],
          [
           "Casi un Hechizo"
          ],
          [
           "Vicioso"
          ],
          [
           "El ataque de las chicas cocodrilo"
          ],
          [
           "Todo sea por el rocanrol"
          ],
          [
           "En El Muelle de San Blas"
          ],
          [
           "Como te extraño mi amor"
          ],
          [
           "Es Tan Fácil Romper un Corazón - Vivo"
          ],
          [
           "Triste canción"
          ]
         ],
         "hovertemplate": "Broad Genre=Latin<br>Date Added=%{x}<br>Hour Added=%{y}<br>Track Name=%{customdata[0]}<extra></extra>",
         "legendgroup": "Latin",
         "marker": {
          "color": "#ab63fa",
          "symbol": "circle"
         },
         "mode": "markers",
         "name": "Latin",
         "showlegend": true,
         "type": "scattergl",
         "x": [
          "2024-06-07 21:34:11-05:00",
          "2024-06-06 09:02:55-05:00",
          "2024-06-03 15:38:18-05:00",
          "2024-06-03 12:18:29-05:00",
          "2024-06-02 21:02:19-05:00",
          "2024-05-24 14:31:25-05:00",
          "2024-05-18 07:17:00-05:00",
          "2024-04-21 21:45:48-05:00",
          "2024-04-03 12:20:05-05:00",
          "2024-03-29 17:47:58-05:00",
          "2024-03-27 15:20:26-05:00",
          "2024-03-23 19:02:05-05:00",
          "2024-03-23 18:38:58-05:00",
          "2024-03-16 14:52:37-05:00",
          "2024-03-11 22:03:46-05:00",
          "2024-02-27 14:22:26-05:00",
          "2024-02-24 19:35:37-05:00",
          "2024-02-24 19:20:28-05:00",
          "2024-02-12 20:53:42-05:00",
          "2024-02-08 12:36:49-05:00",
          "2024-02-02 12:54:02-05:00",
          "2024-02-02 12:41:39-05:00",
          "2024-01-23 14:55:27-05:00",
          "2024-01-08 12:42:58-05:00",
          "2024-01-05 22:32:12-05:00",
          "2023-12-27 18:12:19-05:00",
          "2023-12-12 13:12:09-05:00",
          "2023-12-10 16:31:49-05:00",
          "2023-12-02 15:18:28-05:00",
          "2023-12-02 15:17:30-05:00",
          "2023-11-21 01:07:25-05:00",
          "2023-11-17 15:28:03-05:00",
          "2023-11-02 01:52:28-05:00",
          "2023-10-26 23:22:41-05:00",
          "2023-10-24 00:48:43-05:00",
          "2023-10-22 19:31:56-05:00",
          "2023-10-19 00:39:31-05:00",
          "2023-10-14 21:15:03-05:00",
          "2023-10-14 21:14:56-05:00",
          "2023-10-13 14:42:33-05:00",
          "2023-10-13 01:50:49-05:00",
          "2023-10-03 17:15:16-05:00",
          "2023-10-03 17:15:16-05:00",
          "2023-10-03 17:15:06-05:00",
          "2023-09-28 00:56:27-05:00",
          "2023-09-25 12:30:36-05:00",
          "2023-09-25 11:48:30-05:00",
          "2023-09-17 13:06:30-05:00",
          "2023-09-12 19:48:03-05:00",
          "2023-09-12 19:32:55-05:00",
          "2023-09-12 18:59:10-05:00",
          "2023-09-11 00:07:24-05:00",
          "2023-09-08 20:36:54-05:00",
          "2023-09-02 01:06:00-05:00",
          "2023-08-29 20:35:21-05:00",
          "2023-08-22 21:25:51-05:00",
          "2023-08-22 21:22:54-05:00",
          "2023-08-19 21:30:20-05:00",
          "2023-08-15 11:21:57-05:00",
          "2023-08-09 00:59:02-05:00",
          "2023-08-06 09:36:57-05:00",
          "2023-08-06 04:48:42-05:00",
          "2023-08-06 04:37:06-05:00",
          "2023-07-27 14:54:28-05:00",
          "2023-07-27 14:24:41-05:00",
          "2023-07-12 15:03:12-05:00",
          "2023-06-28 08:20:38-05:00",
          "2023-06-21 23:01:18-05:00",
          "2023-06-21 19:32:43-05:00",
          "2023-06-13 12:24:55-05:00",
          "2023-06-12 22:15:34-05:00",
          "2023-06-02 14:20:50-05:00",
          "2023-05-25 07:48:47-05:00",
          "2023-05-20 00:04:32-05:00",
          "2023-03-29 19:39:40-05:00",
          "2023-03-24 20:56:24-05:00",
          "2023-02-18 13:35:27-05:00",
          "2023-02-02 17:37:58-05:00",
          "2023-01-20 20:41:24-05:00",
          "2023-01-19 11:56:14-05:00",
          "2023-01-16 08:46:15-05:00",
          "2023-01-02 08:06:22-05:00",
          "2023-01-01 19:48:12-05:00",
          "2022-12-28 17:17:59-05:00",
          "2022-12-26 22:10:26-05:00",
          "2022-11-29 21:16:14-05:00",
          "2022-11-29 16:44:20-05:00",
          "2022-11-29 15:52:16-05:00",
          "2022-11-17 20:31:55-05:00",
          "2022-11-17 16:35:48-05:00",
          "2022-11-10 07:53:45-05:00",
          "2022-11-02 12:40:59-05:00",
          "2022-10-14 19:52:13-05:00",
          "2022-08-31 07:28:34-05:00",
          "2022-08-04 09:57:49-05:00",
          "2022-07-24 20:03:50-05:00",
          "2022-07-21 07:18:02-05:00",
          "2022-07-18 11:38:54-05:00",
          "2022-07-09 20:53:29-05:00",
          "2022-06-01 13:33:17-05:00",
          "2022-05-05 16:26:58-05:00",
          "2022-04-27 23:16:34-05:00",
          "2022-04-23 16:37:52-05:00",
          "2022-04-23 16:32:33-05:00",
          "2022-04-22 22:43:40-05:00",
          "2022-04-22 10:04:59-05:00",
          "2022-04-15 18:18:29-05:00",
          "2022-04-13 20:46:43-05:00",
          "2022-04-07 17:40:05-05:00",
          "2022-03-28 07:06:31-05:00",
          "2022-03-24 16:22:44-05:00",
          "2021-11-11 18:50:56-05:00",
          "2021-10-25 16:54:03-05:00",
          "2021-10-20 17:48:02-05:00",
          "2021-10-14 18:33:05-05:00",
          "2021-10-10 00:51:19-05:00",
          "2021-08-22 13:30:26-05:00",
          "2021-08-11 13:34:46-05:00",
          "2021-07-21 17:09:32-05:00",
          "2021-06-12 21:12:26-05:00",
          "2021-06-12 19:45:45-05:00",
          "2021-06-11 09:10:30-05:00",
          "2021-05-30 14:21:43-05:00",
          "2021-05-12 21:31:37-05:00",
          "2021-05-08 19:20:53-05:00",
          "2020-12-13 23:08:55-05:00",
          "2020-11-20 23:49:09-05:00",
          "2020-11-20 23:39:54-05:00",
          "2020-11-16 18:47:52-05:00",
          "2020-11-15 19:30:08-05:00",
          "2020-10-02 18:50:33-05:00",
          "2020-10-02 16:29:27-05:00",
          "2020-10-02 16:28:02-05:00",
          "2020-10-02 16:14:57-05:00",
          "2020-10-01 18:03:44-05:00",
          "2020-10-01 18:00:17-05:00",
          "2020-09-10 19:51:34-05:00",
          "2020-08-27 18:23:16-05:00",
          "2020-07-28 15:24:34-05:00",
          "2020-06-27 16:38:24-05:00",
          "2020-05-25 23:15:40-05:00",
          "2020-03-22 17:53:50-05:00",
          "2020-03-16 13:03:12-05:00",
          "2020-03-09 13:37:02-05:00",
          "2020-02-19 11:45:39-05:00",
          "2020-01-18 20:19:44-05:00",
          "2020-01-12 18:38:10-05:00",
          "2020-01-12 18:20:28-05:00",
          "2020-01-11 23:21:19-05:00",
          "2019-10-11 23:14:43-05:00",
          "2019-09-20 08:53:07-05:00",
          "2019-08-09 23:05:48-05:00",
          "2019-08-03 00:09:52-05:00",
          "2019-07-28 13:30:33-05:00",
          "2019-06-14 09:22:34-05:00",
          "2019-06-09 02:54:03-05:00",
          "2019-06-09 02:53:51-05:00",
          "2019-03-29 21:13:01-05:00",
          "2019-03-27 11:27:23-05:00",
          "2019-03-22 23:11:05-05:00",
          "2019-03-22 20:40:17-05:00",
          "2019-03-16 16:08:00-05:00",
          "2019-02-27 18:22:31-05:00",
          "2019-02-24 22:59:38-05:00",
          "2019-02-21 21:54:02-05:00",
          "2019-02-18 14:31:18-05:00",
          "2018-12-08 20:32:10-05:00",
          "2018-11-17 10:07:48-05:00",
          "2018-10-21 22:26:55-05:00",
          "2018-06-11 23:29:35-05:00",
          "2018-03-20 00:15:59-05:00",
          "2018-03-17 00:12:18-05:00",
          "2017-11-28 19:04:11-05:00",
          "2017-08-16 10:38:53-05:00",
          "2017-08-08 23:46:49-05:00",
          "2017-07-29 00:18:57-05:00",
          "2017-07-26 01:45:24-05:00",
          "2017-07-05 22:09:31-05:00",
          "2017-06-23 16:30:40-05:00",
          "2017-06-17 00:18:20-05:00",
          "2017-05-01 22:03:46-05:00",
          "2017-04-18 21:59:22-05:00",
          "2017-04-11 13:36:03-05:00",
          "2017-02-14 19:52:32-05:00",
          "2017-02-14 09:20:07-05:00"
         ],
         "xaxis": "x",
         "y": [
          21,
          9,
          15,
          12,
          21,
          14,
          7,
          21,
          12,
          17,
          15,
          19,
          18,
          14,
          22,
          14,
          19,
          19,
          20,
          12,
          12,
          12,
          14,
          12,
          22,
          18,
          13,
          16,
          15,
          15,
          1,
          15,
          1,
          23,
          0,
          19,
          0,
          21,
          21,
          14,
          1,
          17,
          17,
          17,
          0,
          12,
          11,
          13,
          19,
          19,
          18,
          0,
          20,
          1,
          20,
          21,
          21,
          21,
          11,
          0,
          9,
          4,
          4,
          14,
          14,
          15,
          8,
          23,
          19,
          12,
          22,
          14,
          7,
          0,
          19,
          20,
          13,
          17,
          20,
          11,
          8,
          8,
          19,
          17,
          22,
          21,
          16,
          15,
          20,
          16,
          7,
          12,
          19,
          7,
          9,
          20,
          7,
          11,
          20,
          13,
          16,
          23,
          16,
          16,
          22,
          10,
          18,
          20,
          17,
          7,
          16,
          18,
          16,
          17,
          18,
          0,
          13,
          13,
          17,
          21,
          19,
          9,
          14,
          21,
          19,
          23,
          23,
          23,
          18,
          19,
          18,
          16,
          16,
          16,
          18,
          18,
          19,
          18,
          15,
          16,
          23,
          17,
          13,
          13,
          11,
          20,
          18,
          18,
          23,
          23,
          8,
          23,
          0,
          13,
          9,
          2,
          2,
          21,
          11,
          23,
          20,
          16,
          18,
          22,
          21,
          14,
          20,
          10,
          22,
          23,
          0,
          0,
          19,
          10,
          23,
          0,
          1,
          22,
          16,
          0,
          22,
          21,
          13,
          19,
          9
         ],
         "yaxis": "y"
        },
        {
         "customdata": [
          [
           "Something About You"
          ]
         ],
         "hovertemplate": "Broad Genre=Funk<br>Date Added=%{x}<br>Hour Added=%{y}<br>Track Name=%{customdata[0]}<extra></extra>",
         "legendgroup": "Funk",
         "marker": {
          "color": "#FFA15A",
          "symbol": "circle"
         },
         "mode": "markers",
         "name": "Funk",
         "showlegend": true,
         "type": "scattergl",
         "x": [
          "2024-06-05 11:35:28-05:00"
         ],
         "xaxis": "x",
         "y": [
          11
         ],
         "yaxis": "y"
        },
        {
         "customdata": [
          [
           "So Many Ways to Get Downtown"
          ],
          [
           "Young Soul"
          ],
          [
           "Kind Reminder"
          ],
          [
           "Musta Been a Ghost"
          ]
         ],
         "hovertemplate": "Broad Genre=Americana<br>Date Added=%{x}<br>Hour Added=%{y}<br>Track Name=%{customdata[0]}<extra></extra>",
         "legendgroup": "Americana",
         "marker": {
          "color": "#19d3f3",
          "symbol": "circle"
         },
         "mode": "markers",
         "name": "Americana",
         "showlegend": true,
         "type": "scattergl",
         "x": [
          "2024-04-29 22:09:51-05:00",
          "2023-01-04 07:57:32-05:00",
          "2023-01-04 07:53:30-05:00",
          "2023-01-03 21:41:52-05:00"
         ],
         "xaxis": "x",
         "y": [
          22,
          7,
          7,
          21
         ],
         "yaxis": "y"
        },
        {
         "customdata": [
          [
           "Don't You Worry Child - Radio Edit"
          ],
          [
           "Naquele Pique"
          ],
          [
           "Frikitona"
          ],
          [
           "Animal Rights"
          ],
          [
           "Shrunken Heads"
          ],
          [
           "Gettin' Over You (feat. Fergie & LMFAO)"
          ],
          [
           "Gingoba"
          ],
          [
           "Dos"
          ],
          [
           "You Spin Me Round (Like a Record)"
          ],
          [
           "Sexy Bitch (feat. Akon)"
          ],
          [
           "Omen"
          ],
          [
           "Magnets"
          ],
          [
           "Sonnenkind - MÖWE Remix"
          ],
          [
           "Stole the Show"
          ],
          [
           "Latch"
          ],
          [
           "Into the Light"
          ],
          [
           "You & Me - Flume Remix"
          ],
          [
           "One More Time"
          ]
         ],
         "hovertemplate": "Broad Genre=Electronic<br>Date Added=%{x}<br>Hour Added=%{y}<br>Track Name=%{customdata[0]}<extra></extra>",
         "legendgroup": "Electronic",
         "marker": {
          "color": "#FF6692",
          "symbol": "circle"
         },
         "mode": "markers",
         "name": "Electronic",
         "showlegend": true,
         "type": "scattergl",
         "x": [
          "2024-04-12 23:45:33-05:00",
          "2024-01-08 20:32:59-05:00",
          "2024-01-04 16:12:24-05:00",
          "2023-04-07 02:39:22-05:00",
          "2023-04-07 02:37:23-05:00",
          "2023-04-01 00:37:02-05:00",
          "2023-03-16 20:48:10-05:00",
          "2022-08-26 10:09:29-05:00",
          "2022-05-29 22:33:29-05:00",
          "2021-10-26 14:49:26-05:00",
          "2019-02-22 11:16:39-05:00",
          "2019-02-18 18:51:13-05:00",
          "2018-12-30 12:35:26-05:00",
          "2018-12-10 20:04:36-05:00",
          "2017-10-16 06:01:07-05:00",
          "2017-05-16 21:16:42-05:00",
          "2017-04-15 20:12:31-05:00",
          "2017-03-26 10:06:40-05:00"
         ],
         "xaxis": "x",
         "y": [
          23,
          20,
          16,
          2,
          2,
          0,
          20,
          10,
          22,
          14,
          11,
          18,
          12,
          20,
          6,
          21,
          20,
          10
         ],
         "yaxis": "y"
        },
        {
         "customdata": [
          [
           "Panic Attack"
          ],
          [
           "La Vida Me Sabe a Nada"
          ],
          [
           "Podré Cambiar"
          ],
          [
           "Una Vez Una Flor"
          ],
          [
           "Cuando La Cama Me Da Vueltas"
          ],
          [
           "No Llores Más Morena"
          ],
          [
           "Técnicas para Olvidar"
          ],
          [
           "Me Voy de Aquí"
          ],
          [
           "No Llores Más"
          ],
          [
           "Tambaleando"
          ],
          [
           "Me Siento Mejor"
          ],
          [
           "Under Cover of Darkness"
          ],
          [
           "Paranoid (2009 - Remaster)"
          ],
          [
           "Blackout"
          ],
          [
           "Rock You Like A Hurricane"
          ],
          [
           "Imágenes Retro - Remasterizado 2007"
          ],
          [
           "Anybody Seen My Baby?"
          ],
          [
           "The Rain Song - Remaster"
          ],
          [
           "Simple Man"
          ],
          [
           "Esa Sí Es una Mujer"
          ],
          [
           "The Bug"
          ],
          [
           "Breathe (In the Air)"
          ],
          [
           "City Club"
          ],
          [
           "Monotonia"
          ],
          [
           "(I Just) Died In Your Arms"
          ],
          [
           "Automatic"
          ],
          [
           "Hate This and I'll Love You"
          ],
          [
           "Free Bird"
          ],
          [
           "Skateaway"
          ],
          [
           "Portobello Belle"
          ],
          [
           "Industrial Disease"
          ],
          [
           "Mad Life"
          ],
          [
           "Home"
          ],
          [
           "Softcore"
          ],
          [
           "Counting Blue Cars (Tell Me Your Thoughts On God)"
          ],
          [
           "Tell Me Baby"
          ],
          [
           "Free Fallin'"
          ],
          [
           "I'll Be Around"
          ],
          [
           "Beijo na Guanabara"
          ],
          [
           "Exit Music (For A Film)"
          ],
          [
           "Bodysnatchers"
          ],
          [
           "Where I End and You Begin"
          ],
          [
           "My Iron Lung"
          ],
          [
           "Why Does Love Got To Be So Sad?"
          ],
          [
           "Layla"
          ],
          [
           "Strange Brew"
          ],
          [
           "White Room"
          ],
          [
           "Just"
          ],
          [
           "Butterflies and Hurricanes"
          ],
          [
           "Tangerine - Remaster"
          ],
          [
           "Gallows Pole - Remaster"
          ],
          [
           "When The Sun Goes Down"
          ],
          [
           "Weightless"
          ],
          [
           "Booster Seat"
          ],
          [
           "Wasted on Me"
          ],
          [
           "Tears of Rain"
          ],
          [
           "Good Grief"
          ],
          [
           "Skin"
          ],
          [
           "The Barbarians"
          ],
          [
           "Built By Nations"
          ],
          [
           "Broken Bells"
          ],
          [
           "Heat Above"
          ],
          [
           "Citizen Erased"
          ],
          [
           "Oh! Sweet Nuthin' - 2015 Remaster"
          ],
          [
           "Over the Hills and Far Away - Remaster"
          ],
          [
           "Cuando Pienses en Volver"
          ],
          [
           "Fake Tales Of San Francisco"
          ],
          [
           "Expresso Love - Live At Hammersmith Odeon, London/1983"
          ],
          [
           "Every Little Thing"
          ],
          [
           "Wind Of Change"
          ],
          [
           "If You’re Too Shy (Let Me Know)"
          ],
          [
           "Wintering"
          ],
          [
           "When We Are Together"
          ],
          [
           "Looking For Somebody (To Love)"
          ],
          [
           "Oh Caroline"
          ],
          [
           "Happiness"
          ],
          [
           "Burning Love - with The Royal Philharmonic Orchestra"
          ],
          [
           "Anyone Can Play Guitar"
          ],
          [
           "Mi Auto Era Una Rana"
          ],
          [
           "Te Ví en un Tren"
          ],
          [
           "Me Estoy Enamorando"
          ],
          [
           "Abracadabra"
          ],
          [
           "505"
          ],
          [
           "The Way It Was"
          ],
          [
           "La parte de adelante"
          ],
          [
           "En esta habitación"
          ],
          [
           "West Hills"
          ],
          [
           "Psycho"
          ],
          [
           "Tranquility Base Hotel & Casino"
          ],
          [
           "Here With Me"
          ],
          [
           "Unnatural Selection"
          ],
          [
           "What's The Matter Baby? - Live At The BBC"
          ],
          [
           "Solid Rock"
          ],
          [
           "Twisting By The Pool"
          ],
          [
           "Wild West End"
          ],
          [
           "Millionaire Blues"
          ],
          [
           "We Are Fucking Fucked"
          ],
          [
           "Follow Me"
          ],
          [
           "Sing for Absolution"
          ],
          [
           "Animals"
          ],
          [
           "The Handler"
          ],
          [
           "You Make Me Feel Like It’s Halloween"
          ],
          [
           "Huellas - Live From Santiago,Chile/1999"
          ],
          [
           "Body Paint"
          ],
          [
           "From The Ritz To The Rubble"
          ],
          [
           "Do Me a Favour"
          ],
          [
           "Pretty Visitors"
          ],
          [
           "Potion Approaching"
          ],
          [
           "There’d Better Be A Mirrorball"
          ],
          [
           "Hello You"
          ],
          [
           "When the Levee Breaks - Remaster"
          ],
          [
           "Tunnel Of Love - Live At Hammersmith Odeon, London/1983"
          ],
          [
           "Left to My Own Devices"
          ],
          [
           "Starlight"
          ],
          [
           "Assassin"
          ],
          [
           "New Born"
          ],
          [
           "Map of the Problematique"
          ],
          [
           "Disenchanted"
          ],
          [
           "Teenager In Love"
          ],
          [
           "Helena"
          ],
          [
           "I Don't Love You"
          ],
          [
           "Show Me The Way - Live"
          ],
          [
           "Baby, I Love Your Way - Live"
          ],
          [
           "Showbiz - Live from Le Zenith"
          ],
          [
           "Panic Station"
          ],
          [
           "The Love That You Give"
          ],
          [
           "Attack"
          ],
          [
           "Space Dementia"
          ],
          [
           "MK Ultra"
          ],
          [
           "Invincible"
          ],
          [
           "The Void"
          ],
          [
           "Pressure"
          ],
          [
           "Cigarette Daydreams"
          ],
          [
           "Light My Love"
          ],
          [
           "The Riverboat Song"
          ],
          [
           "Girls"
          ],
          [
           "Robbers"
          ],
          [
           "Juicebox"
          ],
          [
           "Once Upon A Time In The West - Live At Hammersmith Odeon, London/1983"
          ],
          [
           "Money - Live"
          ],
          [
           "Sultans of Swing - Live at Live Aid, Wembley Stadium, 13th July 1985"
          ],
          [
           "Since I've Been Loving You - (Live at MSG 1973) [Remaster]"
          ],
          [
           "So Far Away - Remastered 1996"
          ],
          [
           "Twist And Shout - Remastered 2009"
          ],
          [
           "Bonzo Goes to Bitburg"
          ],
          [
           "Paranoid Android"
          ],
          [
           "Rolling In The Deep - Recorded At Spotify Studios NYC"
          ],
          [
           "A Change Is Gonna Come"
          ],
          [
           "LA FORMA DE TUS HUESOS"
          ],
          [
           "Riding with the King"
          ],
          [
           "A Horse with No Name"
          ],
          [
           "Californication"
          ],
          [
           "Lo malo de ser bueno"
          ],
          [
           "Dream A Little Dream Of Me"
          ],
          [
           "Lies - Remastered"
          ],
          [
           "One World - Remastered 1996"
          ],
          [
           "Ride Across The River - Remastered 1996"
          ],
          [
           "Bitch - 2009 Mix"
          ],
          [
           "Can't You Hear Me Knocking - 2009 Mix"
          ],
          [
           "Sway - 2009 Mix"
          ],
          [
           "Brown Sugar - Remastered 2009"
          ],
          [
           "It Never Rains"
          ],
          [
           "Romeo And Juliet"
          ],
          [
           "Expresso Love"
          ],
          [
           "Tunnel Of Love"
          ],
          [
           "Angel Of Mercy"
          ],
          [
           "Where Do You Think You're Going?"
          ],
          [
           "In The Gallery"
          ],
          [
           "Southbound Again"
          ],
          [
           "Setting Me Up"
          ],
          [
           "Pressure Machine"
          ],
          [
           "Fly Away From Here"
          ],
          [
           "ZITTI E BUONI"
          ],
          [
           "All My Life"
          ],
          [
           "Oh My Love"
          ],
          [
           "The Great Escape - Single Version"
          ],
          [
           "Fight On - Single Version"
          ],
          [
           "Stargazing"
          ],
          [
           "Sácala a Bailar"
          ],
          [
           "Vienna"
          ],
          [
           "I Wouldn't Want to Be Like You"
          ],
          [
           "We Built This City"
          ],
          [
           "Nothing's Gonna Stop Us Now"
          ],
          [
           "You Shook Me All Night Long"
          ],
          [
           "NO TE COMAS LA PELI"
          ],
          [
           "AYER TE VI (feat. Zoe Gotusso)"
          ],
          [
           "Landslide - Live at Warner Brothers Studios in Burbank, CA 5/23/97"
          ],
          [
           "Will You Still Love Me? - Alternate"
          ],
          [
           "Dreams"
          ],
          [
           "Mr. Tambourine Man"
          ],
          [
           "Imploding The Mirage"
          ],
          [
           "Fire In Bone"
          ],
          [
           "Running Towards A Place"
          ],
          [
           "My Own Soul’s Warning"
          ],
          [
           "Shot At The Night"
          ],
          [
           "Just Another Girl"
          ],
          [
           "Crying Lightning"
          ],
          [
           "Cornerstone"
          ],
          [
           "Supremacy"
          ],
          [
           "The Judge"
          ],
          [
           "Uma Brasileira"
          ],
          [
           "Only the Good Die Young"
          ],
          [
           "Single Handed Sailor"
          ],
          [
           "La Guitarra"
          ],
          [
           "Doom And Gloom"
          ],
          [
           "Ride 'Em On Down"
          ],
          [
           "Let Your Heart Hold Fast"
          ],
          [
           "We Didn't Start the Fire"
          ],
          [
           "Sea Dragon"
          ],
          [
           "La Voz de los '80"
          ],
          [
           "Dead In The Water - Live At RTÉ 2FM Studios, Dublin"
          ],
          [
           "Ode To The Mets"
          ],
          [
           "Son And Daughter - Remastered 2011"
          ],
          [
           "Brighton Rock - Remastered 2011"
          ],
          [
           "The Rover - Remaster"
          ],
          [
           "Tweeter And The Monkey Man"
          ],
          [
           "Wilbury Twist"
          ],
          [
           "(I Can't Get No) Satisfaction - Mono Version"
          ],
          [
           "Handle With Care"
          ],
          [
           "Sexo"
          ],
          [
           "Crossroads - Live"
          ],
          [
           "Estrechez De Corazón"
          ],
          [
           "Is It True"
          ],
          [
           "One More Year"
          ],
          [
           "Un Día Sin Sexo"
          ],
          [
           "Por Ti (La Poderotza)"
          ],
          [
           "In My Defence - 2000 Remix"
          ],
          [
           "Can't Help Falling in Love"
          ],
          [
           "El Baile De Los Que Sobran"
          ],
          [
           "Old Time Rock & Roll"
          ],
          [
           "La Venenotza"
          ],
          [
           "Angels Or Devils"
          ],
          [
           "Somewhere in the Middle"
          ],
          [
           "Planet Caravan"
          ],
          [
           "Posthumous Forgiveness"
          ],
          [
           "Borderline"
          ],
          [
           "Don't Stop Believin'"
          ],
          [
           "Kashmir - Remaster"
          ],
          [
           "Nothing Else Matters"
          ],
          [
           "Contéstame"
          ],
          [
           "Carreteras Mojadas"
          ],
          [
           "Fade To Black - Remastered"
          ],
          [
           "Ya no quiero más ska"
          ],
          [
           "Aquí"
          ],
          [
           "Amor (Ft. Mon Laferte) - Mtv Unplugged"
          ],
          [
           "Lions"
          ],
          [
           "Libido"
          ],
          [
           "Cuéntame"
          ],
          [
           "Dark Necessities"
          ],
          [
           "The Adventures of Rain Dance Maggie"
          ],
          [
           "When The Curtain Falls"
          ],
          [
           "Once Upon A Time In The West"
          ],
          [
           "Telegraph Road"
          ],
          [
           "Lady Writer"
          ],
          [
           "Down To The Waterline"
          ],
          [
           "Time Waits For No One"
          ],
          [
           "La Chata"
          ],
          [
           "Walk Of Life"
          ],
          [
           "You Don't Mess Around with Jim"
          ],
          [
           "Buscando Razón"
          ],
          [
           "Respectable - Remastered"
          ],
          [
           "A ese infierno no voy a volver"
          ],
          [
           "Y es que sucede así"
          ],
          [
           "Safari Song"
          ],
          [
           "Highway Tune"
          ],
          [
           "Purple Haze"
          ],
          [
           "Fire"
          ],
          [
           "Black Smoke Rising"
          ],
          [
           "Age Of Man"
          ],
          [
           "The Dark Side"
          ],
          [
           "D'yer Mak'er - Remaster"
          ],
          [
           "Under the Bridge"
          ],
          [
           "Down Under"
          ],
          [
           "Ledgarf (bienvenidos)"
          ],
          [
           "Beast Of Burden - Remastered"
          ],
          [
           "Angel"
          ],
          [
           "Walk This Way"
          ],
          [
           "Good Old-Fashioned Lover Boy - Remastered 2011"
          ],
          [
           "Every Night"
          ],
          [
           "En La Ciudad De La Furia - Remasterizado 2007"
          ],
          [
           "Welcome to the Black Parade"
          ],
          [
           "Let's Hurt Tonight"
          ],
          [
           "Easy Lover"
          ],
          [
           "Everybody Talks"
          ],
          [
           "Knights of Cydonia"
          ],
          [
           "Silly Love Songs - 2014 Remaster"
          ],
          [
           "Live Forever"
          ],
          [
           "Golden Slumbers - Remastered 2009"
          ],
          [
           "Counting Stars"
          ],
          [
           "You're So Dark"
          ],
          [
           "Mary Jane's Last Dance"
          ],
          [
           "I Saw Her Standing There - Remastered 2009"
          ],
          [
           "Good Times Bad Times - 1993 Remaster"
          ],
          [
           "All These Things That I've Done"
          ],
          [
           "Love Of My Life - Remastered 2011"
          ],
          [
           "Hammer To Fall - Remastered 2011"
          ],
          [
           "Bones"
          ],
          [
           "Teddy Picker"
          ],
          [
           "Crazy Little Thing Called Love - Remastered 2011"
          ],
          [
           "Martha My Dear - Remastered 2009"
          ],
          [
           "Suck It and See"
          ],
          [
           "Angie - Remastered 2009"
          ],
          [
           "The Small Print"
          ],
          [
           "Survival"
          ],
          [
           "Stockholm Syndrome"
          ],
          [
           "Black Holes (Solid Ground)"
          ],
          [
           "Snap Out Of It"
          ],
          [
           "What You Know"
          ],
          [
           "Para no olvidar"
          ],
          [
           "Demons"
          ],
          [
           "Rock You Like a Hurricane - 2011"
          ],
          [
           "Miss Atomic Bomb"
          ],
          [
           "Heart Of A Girl"
          ],
          [
           "Losing Touch - Live From The Royal Albert Hall / 2009"
          ],
          [
           "Give It Away"
          ],
          [
           "I Was Made For Lovin' You"
          ],
          [
           "Uprising"
          ],
          [
           "Snow (Hey Oh)"
          ],
          [
           "You Get What You Give"
          ],
          [
           "Smile Like You Mean It"
          ],
          [
           "It's Time"
          ],
          [
           "Natural"
          ],
          [
           "Stop The World I Wanna Get Off With You"
          ],
          [
           "Supermassive Black Hole"
          ],
          [
           "My Blood"
          ],
          [
           "Thought Contagion"
          ],
          [
           "Black Dog - Remaster"
          ],
          [
           "Beds Are Burning - Remastered"
          ],
          [
           "Feels Like We Only Go Backwards"
          ],
          [
           "Hysteria"
          ],
          [
           "Shoot to Thrill"
          ],
          [
           "The Less I Know The Better"
          ],
          [
           "The Man Who Can't Be Moved"
          ],
          [
           "Dust In The Wind"
          ],
          [
           "Who The Fuck Are Arctic Monkeys?"
          ],
          [
           "Four Out Of Five"
          ],
          [
           "Any Colour You Like"
          ],
          [
           "Pour Some Sugar On Me - Remastered 2017"
          ],
          [
           "When You Were Young"
          ],
          [
           "The Immigrant Song - Alternate Mix"
          ],
          [
           "Runaways"
          ],
          [
           "Cum on Feel the Noize"
          ],
          [
           "Eye In The Sky"
          ],
          [
           "In The Air Tonight - 2015 Remastered"
          ],
          [
           "Float On"
          ],
          [
           "Can't Stop"
          ],
          [
           "Read My Mind"
          ],
          [
           "Human"
          ],
          [
           "Crazy"
          ],
          [
           "Voodoo Child (Slight Return)"
          ],
          [
           "Cocaine"
          ],
          [
           "Dos en la ciudad"
          ],
          [
           "Rock and Roll - Remaster"
          ],
          [
           "Since I've Been Loving You - Remaster"
          ],
          [
           "Two Princes"
          ],
          [
           "I Want To Hold Your Hand - Remastered 2015"
          ],
          [
           "Whole Lotta Love - 1990 Remaster"
          ],
          [
           "Where The Streets Have No Name - Remastered 2007"
          ],
          [
           "Reapers"
          ],
          [
           "Chibola Manyada"
          ],
          [
           "Hotel California - 2013 Remaster"
          ],
          [
           "Beautiful Day"
          ],
          [
           "A Matter Of Time"
          ],
          [
           "Let It Be - Remastered"
          ],
          [
           "Hey Jude - Remastered 2015"
          ],
          [
           "Flor la Buena"
          ],
          [
           "Loco"
          ],
          [
           "Domino Dancing"
          ],
          [
           "Starman - 2012 Remaster"
          ],
          [
           "Life on Mars? - 2015 Remaster"
          ],
          [
           "What It Is"
          ],
          [
           "One"
          ],
          [
           "Money For Nothing"
          ],
          [
           "Knee Socks"
          ],
          [
           "Lamento Boliviano"
          ],
          [
           "Bye Bye"
          ],
          [
           "A Dustland Fairytale"
          ],
          [
           "With Or Without You - Remastered"
          ],
          [
           "La peor de las guerras - Remastered"
          ],
          [
           "Dancing With Myself"
          ],
          [
           "White Wedding - Pt. 1"
          ],
          [
           "Stand Back"
          ],
          [
           "Go Your Own Way - 2004 Remaster"
          ],
          [
           "Gypsy"
          ],
          [
           "Verte Así"
          ],
          [
           "Dream On"
          ],
          [
           "Basket Case"
          ],
          [
           "Boulevard of Broken Dreams"
          ],
          [
           "Wake Me up When September Ends"
          ],
          [
           "American Idiot"
          ],
          [
           "21 Guns"
          ],
          [
           "Do I Wanna Know?"
          ],
          [
           "Don't Go Away"
          ],
          [
           "Adiós"
          ],
          [
           "Magia"
          ],
          [
           "Deja Vu"
          ],
          [
           "Shine On You Crazy Diamond (Pts. 1-5)"
          ],
          [
           "Hey You"
          ],
          [
           "Bright Lights"
          ],
          [
           "The Kill (Bury Me)"
          ],
          [
           "Closer To The Edge"
          ],
          [
           "This Is War"
          ],
          [
           "Kings And Queens"
          ],
          [
           "Cancer"
          ],
          [
           "Moneytalks"
          ],
          [
           "Soul Sacrifice - Live at The Woodstock Music & Art Fair, August 16, 1969"
          ],
          [
           "For What It's Worth"
          ],
          [
           "Somebody Told Me"
          ],
          [
           "Don't Look Back in Anger - Remastered"
          ],
          [
           "I Wanna Be Yours"
          ],
          [
           "Arabella"
          ],
          [
           "Dani California"
          ],
          [
           "Hurricane"
          ],
          [
           "Europa (Earth's Cry Heaven's Smile)"
          ],
          [
           "Layla - Acoustic; Live at MTV Unplugged, Bray Film Studios, Windsor, England, UK, 1/16/1992; 2013 Remaster"
          ],
          [
           "Black Magic Woman - Single Version"
          ],
          [
           "Every Little Thing She Does Is Magic - Remastered 2003"
          ],
          [
           "Piano Man"
          ],
          [
           "She's Thunderstorms"
          ],
          [
           "Somebody To Love - Remastered 2011"
          ],
          [
           "Magdalena"
          ],
          [
           "In the Heat of the Moment"
          ],
          [
           "Pride and Joy"
          ],
          [
           "Heartbreaker - 1990 Remaster"
          ],
          [
           "Peace Of Mind"
          ],
          [
           "Run For Cover"
          ],
          [
           "The Man"
          ],
          [
           "Las Torres"
          ],
          [
           "Sympathy For The Devil"
          ],
          [
           "Cuando Pase el Temblor"
          ],
          [
           "California Dreamin'"
          ],
          [
           "We're Not Gonna Take It"
          ],
          [
           "Message In A Bottle - Remastered 2003"
          ],
          [
           "Por el Resto"
          ],
          [
           "I Want To Break Free - Single Remix"
          ],
          [
           "Brain Damage"
          ],
          [
           "Quédate"
          ],
          [
           "Decir adiós"
          ],
          [
           "Thunder on the Mountain"
          ],
          [
           "Maneater"
          ],
          [
           "La pachanga"
          ],
          [
           "Al lado del camino"
          ],
          [
           "Mariposa tecknicolor"
          ],
          [
           "Cuando te conocí"
          ],
          [
           "Under Pressure - Remastered 2011"
          ],
          [
           "Lo Olvidé"
          ],
          [
           "La Flaca (feat. Juanes)"
          ],
          [
           "Flaca"
          ],
          [
           "Nada Personal - Remasterizado 2007"
          ],
          [
           "Nothing's Gonna Stop Us Now"
          ],
          [
           "Stop Crying Your Heart Out"
          ],
          [
           "Wonderwall - Remastered"
          ],
          [
           "Champagne Supernova - Remastered"
          ],
          [
           "Every Breath You Take - Remastered 2003"
          ],
          [
           "Los Globos del Cielo"
          ],
          [
           "Killer Queen - Remastered 2011"
          ],
          [
           "Another One Bites The Dust - Remastered 2011"
          ],
          [
           "Stairway to Heaven - Remaster"
          ],
          [
           "In My Life - Remastered"
          ],
          [
           "Wall of Glass"
          ],
          [
           "Creep"
          ],
          [
           "Her Strut"
          ],
          [
           "Don't Go Breaking My Heart"
          ],
          [
           "Manuel Santillán, el León (Versión Reggae) - Remasterizado 2008"
          ],
          [
           "Thunderstruck"
          ],
          [
           "Highway to Hell"
          ],
          [
           "Back In Black"
          ],
          [
           "The Final Countdown"
          ],
          [
           "De Música Ligera - Remasterizado 2007"
          ],
          [
           "Walking The Wire"
          ],
          [
           "Tiny Dancer"
          ],
          [
           "Heart-Shaped Box"
          ],
          [
           "Luna de Miel en la Mano"
          ],
          [
           "El Genio Del Dub"
          ],
          [
           "Demoliendo Hoteles"
          ],
          [
           "Cada Vez Que Digo Adiós"
          ],
          [
           "En Esta Habitación"
          ],
          [
           "Smells Like Teen Spirit"
          ],
          [
           "Mil Horas"
          ],
          [
           "Ojos De ángel"
          ],
          [
           "Spaceman"
          ],
          [
           "Guitarras Blancas"
          ],
          [
           "Mi Primer Dia Sin Ti"
          ],
          [
           "Mr. Brightside"
          ],
          [
           "Mardy Bum"
          ],
          [
           "No.1 Party Anthem"
          ],
          [
           "Don't Stop Me Now - Remastered 2011"
          ],
          [
           "Wish You Were Here"
          ],
          [
           "Another Brick in the Wall, Pt. 2"
          ],
          [
           "Money"
          ],
          [
           "Gimme Shelter"
          ],
          [
           "Paint It Black"
          ],
          [
           "Suna"
          ],
          [
           "Balada de un Encuentro Fugaz"
          ],
          [
           "Nectar"
          ],
          [
           "Hembra"
          ],
          [
           "The Air That I Breathe - 2008 Remaster"
          ],
          [
           "Stand By Me - Remastered 2010"
          ],
          [
           "Long Cool Woman (In a Black Dress) - 1999 Remaster"
          ],
          [
           "Trátame Suavemente - Remasterizado 2007"
          ],
          [
           "Persiana Americana - Remasterizado 2007"
          ],
          [
           "Prófugos"
          ],
          [
           "Mariposas"
          ],
          [
           "Mujer Noche"
          ],
          [
           "Loco"
          ],
          [
           "One For The Road"
          ],
          [
           "Whatever - Remastered"
          ],
          [
           "Come with Me Now"
          ],
          [
           "Can't Stand Losing You"
          ],
          [
           "Sgt. Pepper's Lonely Hearts Club Band - Remastered"
          ],
          [
           "Brianstorm"
          ],
          [
           "I Bet You Look Good On The Dancefloor"
          ],
          [
           "Karma Police"
          ],
          [
           "Te Quiero Tanto"
          ],
          [
           "The Chain - 2004 Remaster"
          ],
          [
           "Let's Dance - 1999 Remaster"
          ],
          [
           "Show Me The Way"
          ],
          [
           "Lemon Tree - Album Edit"
          ],
          [
           "Losing My Religion"
          ],
          [
           "Separate Ways (Worlds Apart)"
          ],
          [
           "Stand by Me"
          ],
          [
           "Rocket Man (I Think It's Going To Be A Long Long Time)"
          ],
          [
           "Radio Ga Ga - Remastered 2011"
          ],
          [
           "More Than a Feeling"
          ],
          [
           "Oye Como Va - Album Verision"
          ],
          [
           "Like a Rolling Stone"
          ],
          [
           "No se puede vivir del amor"
          ],
          [
           "Warriors"
          ],
          [
           "Believer"
          ],
          [
           "Start Me Up - Remastered"
          ],
          [
           "All Along the Watchtower"
          ],
          [
           "Here I Go Again - 2011 Remaster"
          ],
          [
           "Africa"
          ],
          [
           "18 and Life"
          ],
          [
           "Paint It Black"
          ],
          [
           "The Letter - Single Version"
          ],
          [
           "Stand By Me"
          ],
          [
           "Living On My Own - Single Edit"
          ],
          [
           "Degeneración Actual"
          ],
          [
           "Take Me Out"
          ],
          [
           "Lithium"
          ],
          [
           "Come As You Are"
          ],
          [
           "Un Misil en Mi Placard"
          ],
          [
           "Wild Horses"
          ],
          [
           "Here Comes The Sun - Remastered 2009"
          ],
          [
           "Bohemian Rhapsody - Remastered 2011"
          ],
          [
           "Hermanos"
          ],
          [
           "Muchacha"
          ],
          [
           "11 Y 6"
          ],
          [
           "Under My Thumb"
          ],
          [
           "Carry on Wayward Son"
          ],
          [
           "Master Of Puppets"
          ],
          [
           "A Day In The Life - Remastered"
          ],
          [
           "Sunny Afternoon"
          ],
          [
           "I Don't Want to Miss a Thing - From \"Armageddon\" Soundtrack"
          ],
          [
           "Go Your Own Way"
          ],
          [
           "Roxanne - Remastered 2003"
          ],
          [
           "Jump - 2004 Remaster"
          ],
          [
           "Black Magic Woman"
          ],
          [
           "Corazon Espinado (feat. Mana)"
          ],
          [
           "Smooth (feat. Rob Thomas)"
          ],
          [
           "Canción De Luna"
          ],
          [
           "Me vuelvo loco por vos"
          ],
          [
           "Nikita"
          ],
          [
           "Your Song"
          ],
          [
           "Daniel"
          ],
          [
           "Balada de un Encuentro Fugaz"
          ],
          [
           "Como Un Perro"
          ],
          [
           "Un Vino, Una Cerveza"
          ],
          [
           "Me Resfrié en Brasil"
          ],
          [
           "Time"
          ],
          [
           "No Voy en Tren"
          ],
          [
           "Te quiero igual"
          ],
          [
           "Crimen"
          ],
          [
           "Miss You - Remastered"
          ],
          [
           "Hold the Line"
          ],
          [
           "Sweet Home Alabama"
          ],
          [
           "Irresponsables"
          ],
          [
           "Yo No Me Sentaría en Tu Mesa"
          ],
          [
           "Auto rojo"
          ],
          [
           "Crazy Train"
          ],
          [
           "Sweet Emotion"
          ],
          [
           "Sultans of Swing"
          ],
          [
           "Rebel Rebel - 1999 Remaster"
          ],
          [
           "Come Together - Remastered 2009"
          ],
          [
           "Money - 2011 Remastered Version"
          ],
          [
           "Ramble On - 1990 Remaster"
          ],
          [
           "Modern Love - 1999 Remaster"
          ],
          [
           "Lunes Por La Madrugada"
          ],
          [
           "While My Guitar Gently Weeps - Remastered 2009"
          ],
          [
           "Little Wing"
          ],
          [
           "Comfortably Numb"
          ],
          [
           "Tren Al Sur"
          ],
          [
           "Nos Siguen Pegando Abajo"
          ],
          [
           "Sunday Bloody Sunday - Remastered 2008"
          ],
          [
           "Break on Through (To the Other Side)"
          ],
          [
           "R U Mine?"
          ],
          [
           "Why'd You Only Call Me When You're High?"
          ],
          [
           "Fluorescent Adolescent"
          ],
          [
           "Ruby Tuesday - Stereo Version"
          ],
          [
           "Bus Stop - 1997 Remaster"
          ]
         ],
         "hovertemplate": "Broad Genre=Rock<br>Date Added=%{x}<br>Hour Added=%{y}<br>Track Name=%{customdata[0]}<extra></extra>",
         "legendgroup": "Rock",
         "marker": {
          "color": "#B6E880",
          "symbol": "circle"
         },
         "mode": "markers",
         "name": "Rock",
         "showlegend": true,
         "type": "scattergl",
         "x": [
          "2024-04-01 14:51:38-05:00",
          "2024-03-24 20:11:14-05:00",
          "2024-03-24 20:06:20-05:00",
          "2024-03-24 19:55:44-05:00",
          "2024-03-24 19:52:01-05:00",
          "2024-03-23 20:24:06-05:00",
          "2024-03-23 20:11:10-05:00",
          "2024-03-23 20:05:55-05:00",
          "2024-03-23 19:59:54-05:00",
          "2024-03-23 19:53:44-05:00",
          "2024-03-19 17:29:00-05:00",
          "2024-03-03 17:15:18-05:00",
          "2024-02-25 22:35:44-05:00",
          "2024-02-25 22:31:12-05:00",
          "2024-02-25 22:26:07-05:00",
          "2024-02-24 17:55:27-05:00",
          "2024-02-14 15:38:53-05:00",
          "2024-02-03 15:31:01-05:00",
          "2024-01-25 00:45:05-05:00",
          "2024-01-10 10:14:39-05:00",
          "2024-01-09 22:15:50-05:00",
          "2023-12-25 21:22:03-05:00",
          "2023-11-30 15:47:56-05:00",
          "2023-11-30 15:44:18-05:00",
          "2023-10-17 20:39:59-05:00",
          "2023-10-16 20:11:20-05:00",
          "2023-09-24 21:54:04-05:00",
          "2023-09-23 16:36:06-05:00",
          "2023-09-03 21:38:43-05:00",
          "2023-09-03 21:19:19-05:00",
          "2023-09-03 21:11:45-05:00",
          "2023-08-15 20:16:36-05:00",
          "2023-08-15 20:08:32-05:00",
          "2023-08-13 22:05:05-05:00",
          "2023-08-13 02:35:08-05:00",
          "2023-08-12 19:54:10-05:00",
          "2023-08-12 19:37:52-05:00",
          "2023-08-11 15:47:02-05:00",
          "2023-07-22 07:44:19-05:00",
          "2023-07-19 22:01:59-05:00",
          "2023-07-10 23:04:21-05:00",
          "2023-07-10 22:44:59-05:00",
          "2023-07-10 22:14:10-05:00",
          "2023-07-10 21:54:11-05:00",
          "2023-07-10 21:11:15-05:00",
          "2023-07-10 21:10:03-05:00",
          "2023-07-10 21:07:15-05:00",
          "2023-07-10 10:53:37-05:00",
          "2023-07-07 10:12:59-05:00",
          "2023-07-05 19:08:18-05:00",
          "2023-07-05 19:04:40-05:00",
          "2023-07-03 22:28:31-05:00",
          "2023-07-03 15:38:12-05:00",
          "2023-07-03 15:35:26-05:00",
          "2023-07-03 14:59:11-05:00",
          "2023-07-03 14:56:52-05:00",
          "2023-07-03 14:56:30-05:00",
          "2023-07-03 14:56:28-05:00",
          "2023-07-03 12:52:57-05:00",
          "2023-07-03 12:24:10-05:00",
          "2023-07-03 12:21:22-05:00",
          "2023-07-03 12:16:30-05:00",
          "2023-06-10 13:16:02-05:00",
          "2023-06-08 21:04:15-05:00",
          "2023-06-05 23:52:01-05:00",
          "2023-05-11 07:48:57-05:00",
          "2023-04-21 09:44:08-05:00",
          "2023-04-04 08:10:42-05:00",
          "2023-04-01 01:11:10-05:00",
          "2023-03-21 22:58:48-05:00",
          "2023-02-17 07:54:58-05:00",
          "2023-02-14 14:51:23-05:00",
          "2023-02-14 14:40:24-05:00",
          "2023-02-13 18:36:16-05:00",
          "2023-02-13 18:27:46-05:00",
          "2023-02-13 18:19:59-05:00",
          "2023-01-28 21:22:19-05:00",
          "2023-01-25 08:07:59-05:00",
          "2023-01-06 20:49:38-05:00",
          "2023-01-01 19:48:38-05:00",
          "2022-12-28 17:09:13-05:00",
          "2022-12-26 17:18:14-05:00",
          "2022-12-12 08:05:11-05:00",
          "2022-12-09 09:18:40-05:00",
          "2022-12-08 17:42:39-05:00",
          "2022-12-08 17:42:19-05:00",
          "2022-12-07 11:03:49-05:00",
          "2022-12-07 09:34:48-05:00",
          "2022-12-05 20:58:49-05:00",
          "2022-12-04 15:33:24-05:00",
          "2022-12-04 12:50:25-05:00",
          "2022-12-03 22:39:08-05:00",
          "2022-12-03 22:37:12-05:00",
          "2022-12-03 22:29:52-05:00",
          "2022-12-03 21:55:24-05:00",
          "2022-12-03 21:49:05-05:00",
          "2022-12-03 21:34:33-05:00",
          "2022-12-03 14:59:21-05:00",
          "2022-12-03 14:53:02-05:00",
          "2022-12-03 14:48:49-05:00",
          "2022-12-03 14:36:45-05:00",
          "2022-12-03 14:25:45-05:00",
          "2022-11-29 16:52:36-05:00",
          "2022-11-20 12:20:19-05:00",
          "2022-11-15 17:40:03-05:00",
          "2022-11-15 17:39:16-05:00",
          "2022-11-15 16:34:04-05:00",
          "2022-11-15 13:51:50-05:00",
          "2022-11-15 13:51:04-05:00",
          "2022-11-15 13:45:08-05:00",
          "2022-10-31 15:47:33-05:00",
          "2022-10-23 11:02:09-05:00",
          "2022-10-21 19:43:29-05:00",
          "2022-09-30 15:32:05-05:00",
          "2022-09-30 15:11:01-05:00",
          "2022-09-30 14:57:30-05:00",
          "2022-09-30 08:18:53-05:00",
          "2022-09-28 19:43:23-05:00",
          "2022-09-28 19:40:16-05:00",
          "2022-09-28 19:36:42-05:00",
          "2022-09-28 19:23:56-05:00",
          "2022-09-28 07:45:25-05:00",
          "2022-09-27 21:40:42-05:00",
          "2022-09-22 14:02:10-05:00",
          "2022-09-21 16:21:49-05:00",
          "2022-09-21 16:15:31-05:00",
          "2022-09-21 15:49:40-05:00",
          "2022-09-21 14:23:06-05:00",
          "2022-09-21 14:11:45-05:00",
          "2022-09-21 14:09:38-05:00",
          "2022-09-21 13:52:26-05:00",
          "2022-09-21 11:01:29-05:00",
          "2022-09-17 16:10:25-05:00",
          "2022-09-17 16:10:08-05:00",
          "2022-09-16 23:27:42-05:00",
          "2022-09-12 21:58:52-05:00",
          "2022-09-12 21:54:22-05:00",
          "2022-09-06 15:31:15-05:00",
          "2022-08-25 12:40:11-05:00",
          "2022-08-18 21:21:17-05:00",
          "2022-08-18 08:11:10-05:00",
          "2022-08-18 08:11:02-05:00",
          "2022-08-17 20:42:33-05:00",
          "2022-06-18 15:27:05-05:00",
          "2022-06-12 14:19:55-05:00",
          "2022-06-07 20:46:38-05:00",
          "2022-06-07 07:52:52-05:00",
          "2022-06-07 07:49:32-05:00",
          "2022-06-04 21:04:00-05:00",
          "2022-06-01 07:55:00-05:00",
          "2022-05-20 18:48:32-05:00",
          "2022-05-13 15:36:52-05:00",
          "2021-11-23 12:35:45-05:00",
          "2021-10-17 19:44:09-05:00",
          "2021-09-10 13:29:46-05:00",
          "2021-09-10 12:56:41-05:00",
          "2021-09-09 19:00:46-05:00",
          "2021-09-08 19:00:09-05:00",
          "2021-09-08 13:38:47-05:00",
          "2021-09-08 13:30:44-05:00",
          "2021-09-08 13:25:15-05:00",
          "2021-09-07 16:19:58-05:00",
          "2021-09-07 15:58:29-05:00",
          "2021-09-07 15:47:58-05:00",
          "2021-09-07 14:45:16-05:00",
          "2021-09-07 12:19:18-05:00",
          "2021-09-07 11:39:51-05:00",
          "2021-09-06 19:19:14-05:00",
          "2021-09-06 19:09:50-05:00",
          "2021-09-06 18:59:10-05:00",
          "2021-09-02 20:31:41-05:00",
          "2021-07-27 18:19:39-05:00",
          "2021-06-19 09:23:28-05:00",
          "2021-06-12 20:26:26-05:00",
          "2021-06-12 20:26:24-05:00",
          "2021-06-12 20:26:21-05:00",
          "2021-06-12 20:26:18-05:00",
          "2021-06-12 20:25:54-05:00",
          "2021-06-04 17:50:09-05:00",
          "2021-04-20 23:48:21-05:00",
          "2021-03-14 18:29:14-05:00",
          "2021-02-10 18:54:42-05:00",
          "2021-02-10 18:45:42-05:00",
          "2021-01-29 19:36:40-05:00",
          "2021-01-26 20:27:25-05:00",
          "2021-01-24 19:15:19-05:00",
          "2020-12-27 20:58:52-05:00",
          "2020-12-27 10:43:24-05:00",
          "2020-12-04 20:43:55-05:00",
          "2020-11-29 13:42:01-05:00",
          "2020-11-21 17:51:13-05:00",
          "2020-11-20 23:33:27-05:00",
          "2020-11-20 23:30:22-05:00",
          "2020-11-20 23:26:24-05:00",
          "2020-11-19 17:09:03-05:00",
          "2020-11-19 17:04:10-05:00",
          "2020-11-19 16:46:17-05:00",
          "2020-11-19 16:21:45-05:00",
          "2020-11-05 17:40:41-05:00",
          "2020-11-04 11:34:26-05:00",
          "2020-10-15 18:40:30-05:00",
          "2020-10-08 21:31:27-05:00",
          "2020-09-30 22:12:51-05:00",
          "2020-09-29 19:45:26-05:00",
          "2020-09-26 22:04:21-05:00",
          "2020-09-26 22:03:40-05:00",
          "2020-09-21 17:41:43-05:00",
          "2020-09-11 11:27:46-05:00",
          "2020-09-05 20:21:20-05:00",
          "2020-08-12 20:20:04-05:00",
          "2020-08-02 20:07:48-05:00",
          "2020-07-24 13:18:28-05:00",
          "2020-07-14 21:10:16-05:00",
          "2020-07-14 20:57:10-05:00",
          "2020-06-04 12:44:19-05:00",
          "2020-03-25 10:01:54-05:00",
          "2020-03-25 09:58:20-05:00",
          "2020-03-25 09:58:17-05:00",
          "2020-03-25 09:49:26-05:00",
          "2020-03-20 10:39:42-05:00",
          "2020-03-18 23:26:27-05:00",
          "2020-02-18 20:27:46-05:00",
          "2020-02-16 20:24:52-05:00",
          "2020-02-16 20:05:10-05:00",
          "2020-02-15 00:24:29-05:00",
          "2020-02-13 18:16:42-05:00",
          "2020-02-02 17:15:35-05:00",
          "2020-01-30 20:01:49-05:00",
          "2020-01-30 07:30:38-05:00",
          "2020-01-29 22:26:35-05:00",
          "2020-01-23 08:02:33-05:00",
          "2020-01-14 07:15:04-05:00",
          "2020-01-11 19:53:20-05:00",
          "2020-01-01 02:57:37-05:00",
          "2019-12-31 22:05:53-05:00",
          "2019-12-31 21:58:34-05:00",
          "2019-12-28 17:14:58-05:00",
          "2019-12-28 17:14:56-05:00",
          "2019-12-28 17:14:24-05:00",
          "2019-12-21 23:56:56-05:00",
          "2019-12-21 23:48:50-05:00",
          "2019-11-27 16:25:13-05:00",
          "2019-11-06 20:32:38-05:00",
          "2019-11-05 08:14:24-05:00",
          "2019-10-28 23:08:19-05:00",
          "2019-10-06 23:33:07-05:00",
          "2019-10-01 22:44:51-05:00",
          "2019-09-02 06:35:42-05:00",
          "2019-07-29 22:22:02-05:00",
          "2019-07-27 10:44:26-05:00",
          "2019-07-27 10:28:37-05:00",
          "2019-07-23 23:58:35-05:00",
          "2019-07-23 23:52:59-05:00",
          "2019-07-23 23:47:12-05:00",
          "2019-07-18 11:21:14-05:00",
          "2019-07-15 23:51:56-05:00",
          "2019-07-15 23:34:08-05:00",
          "2019-07-12 14:24:55-05:00",
          "2019-07-05 14:27:12-05:00",
          "2019-06-10 18:19:47-05:00",
          "2019-06-09 02:49:25-05:00",
          "2019-05-29 21:18:17-05:00",
          "2019-05-29 20:59:18-05:00",
          "2019-05-10 08:20:20-05:00",
          "2019-05-06 23:40:12-05:00",
          "2019-04-22 11:16:29-05:00",
          "2019-04-21 22:10:01-05:00",
          "2019-04-21 10:01:57-05:00",
          "2019-04-20 21:33:36-05:00",
          "2019-04-19 11:03:51-05:00",
          "2019-04-13 16:50:57-05:00",
          "2019-04-02 21:06:13-05:00",
          "2019-03-24 15:50:21-05:00",
          "2019-03-22 10:48:43-05:00",
          "2019-03-18 11:05:56-05:00",
          "2019-03-18 10:52:13-05:00",
          "2019-03-17 19:18:17-05:00",
          "2019-03-16 23:04:39-05:00",
          "2019-03-08 11:38:43-05:00",
          "2019-02-22 13:50:08-05:00",
          "2019-02-21 19:14:43-05:00",
          "2019-02-17 14:44:26-05:00",
          "2019-02-11 07:42:56-05:00",
          "2019-02-08 09:42:14-05:00",
          "2019-02-03 01:59:49-05:00",
          "2019-01-19 21:21:51-05:00",
          "2019-01-11 21:55:53-05:00",
          "2019-01-11 20:03:18-05:00",
          "2018-12-29 09:55:49-05:00",
          "2018-12-29 01:16:12-05:00",
          "2018-12-15 22:53:42-05:00",
          "2018-12-15 22:47:26-05:00",
          "2018-12-15 19:33:33-05:00",
          "2018-12-06 21:42:02-05:00",
          "2018-12-03 08:11:54-05:00",
          "2018-12-03 08:09:24-05:00",
          "2018-11-24 22:42:23-05:00",
          "2018-11-24 08:08:51-05:00",
          "2018-11-20 08:36:11-05:00",
          "2018-11-19 13:33:39-05:00",
          "2018-11-15 00:05:51-05:00",
          "2018-11-14 15:26:25-05:00",
          "2018-11-14 13:57:50-05:00",
          "2018-11-14 13:54:29-05:00",
          "2018-11-14 13:42:01-05:00",
          "2018-11-06 19:12:33-05:00",
          "2018-10-29 09:37:25-05:00",
          "2018-10-19 22:58:33-05:00",
          "2018-10-19 14:15:02-05:00",
          "2018-10-08 12:11:12-05:00",
          "2018-10-01 20:37:55-05:00",
          "2018-10-01 16:53:05-05:00",
          "2018-10-01 07:12:24-05:00",
          "2018-09-30 22:43:55-05:00",
          "2018-09-24 21:02:46-05:00",
          "2018-09-24 21:02:24-05:00",
          "2018-09-23 17:13:35-05:00",
          "2018-09-22 11:28:41-05:00",
          "2018-09-21 22:26:43-05:00",
          "2018-09-21 18:10:44-05:00",
          "2018-09-15 18:34:16-05:00",
          "2018-09-13 19:02:25-05:00",
          "2018-09-06 23:45:12-05:00",
          "2018-09-06 18:36:56-05:00",
          "2018-09-02 23:42:34-05:00",
          "2018-09-02 23:42:11-05:00",
          "2018-08-29 14:19:54-05:00",
          "2018-08-25 18:05:21-05:00",
          "2018-08-25 00:36:53-05:00",
          "2018-08-21 10:49:37-05:00",
          "2018-08-19 21:11:19-05:00",
          "2018-08-17 08:13:22-05:00",
          "2018-08-04 22:01:56-05:00",
          "2018-08-04 21:54:32-05:00",
          "2018-08-03 19:54:49-05:00",
          "2018-08-03 17:34:37-05:00",
          "2018-08-03 17:07:42-05:00",
          "2018-07-01 21:38:06-05:00",
          "2018-06-24 01:13:46-05:00",
          "2018-05-27 17:48:35-05:00",
          "2018-05-24 13:37:58-05:00",
          "2018-05-12 14:31:53-05:00",
          "2018-05-01 02:08:35-05:00",
          "2018-04-14 17:50:50-05:00",
          "2018-04-06 18:19:07-05:00",
          "2018-03-31 20:44:58-05:00",
          "2018-03-25 20:56:09-05:00",
          "2018-03-25 20:55:58-05:00",
          "2018-03-08 01:33:29-05:00",
          "2018-03-07 13:18:37-05:00",
          "2018-03-07 09:52:48-05:00",
          "2018-03-06 10:24:09-05:00",
          "2018-03-06 00:40:15-05:00",
          "2018-03-06 00:34:22-05:00",
          "2018-03-05 17:53:47-05:00",
          "2018-02-28 00:22:22-05:00",
          "2018-02-27 23:04:12-05:00",
          "2018-02-26 13:51:34-05:00",
          "2018-02-23 12:42:04-05:00",
          "2018-02-21 22:21:37-05:00",
          "2018-02-20 23:10:48-05:00",
          "2018-02-18 01:19:19-05:00",
          "2018-02-14 08:12:54-05:00",
          "2018-02-13 09:48:32-05:00",
          "2018-02-13 00:55:47-05:00",
          "2018-02-11 20:03:15-05:00",
          "2018-02-11 13:31:47-05:00",
          "2018-02-09 08:59:03-05:00",
          "2018-02-06 20:37:41-05:00",
          "2018-02-05 22:01:24-05:00",
          "2018-02-04 01:53:05-05:00",
          "2018-02-04 01:46:21-05:00",
          "2018-02-02 22:49:12-05:00",
          "2018-02-02 13:31:51-05:00",
          "2018-01-24 07:21:21-05:00",
          "2018-01-17 09:35:33-05:00",
          "2018-01-14 16:16:16-05:00",
          "2018-01-10 22:01:32-05:00",
          "2018-01-05 20:05:27-05:00",
          "2017-12-30 16:16:11-05:00",
          "2017-12-30 16:12:56-05:00",
          "2017-12-28 16:09:41-05:00",
          "2017-12-18 22:59:20-05:00",
          "2017-12-18 22:58:39-05:00",
          "2017-12-15 23:18:03-05:00",
          "2017-11-27 17:48:59-05:00",
          "2017-11-18 12:14:57-05:00",
          "2017-11-18 12:12:07-05:00",
          "2017-11-18 12:11:20-05:00",
          "2017-11-18 12:11:05-05:00",
          "2017-11-18 12:10:43-05:00",
          "2017-11-13 21:11:17-05:00",
          "2017-11-08 15:57:26-05:00",
          "2017-11-07 20:15:59-05:00",
          "2017-11-04 01:52:09-05:00",
          "2017-11-04 01:43:51-05:00",
          "2017-10-29 20:37:39-05:00",
          "2017-10-23 21:53:42-05:00",
          "2017-10-21 18:15:33-05:00",
          "2017-10-21 18:14:48-05:00",
          "2017-10-21 18:14:45-05:00",
          "2017-10-21 18:14:42-05:00",
          "2017-10-21 18:14:40-05:00",
          "2017-10-21 18:14:02-05:00",
          "2017-10-18 16:13:25-05:00",
          "2017-10-17 21:46:59-05:00",
          "2017-09-22 18:51:50-05:00",
          "2017-09-20 06:04:14-05:00",
          "2017-09-12 05:59:13-05:00",
          "2017-09-07 15:44:52-05:00",
          "2017-08-23 13:02:55-05:00",
          "2017-08-18 19:24:07-05:00",
          "2017-08-18 01:39:17-05:00",
          "2017-08-17 14:26:58-05:00",
          "2017-08-17 14:25:37-05:00",
          "2017-08-17 01:44:38-05:00",
          "2017-08-17 01:17:09-05:00",
          "2017-08-14 19:25:52-05:00",
          "2017-08-14 14:53:34-05:00",
          "2017-08-14 01:50:45-05:00",
          "2017-08-13 02:52:47-05:00",
          "2017-08-12 19:20:16-05:00",
          "2017-08-11 17:34:47-05:00",
          "2017-08-11 17:30:43-05:00",
          "2017-08-10 23:47:25-05:00",
          "2017-08-10 23:41:22-05:00",
          "2017-08-10 23:39:26-05:00",
          "2017-08-10 23:22:22-05:00",
          "2017-08-09 11:38:28-05:00",
          "2017-08-08 23:52:04-05:00",
          "2017-08-08 23:47:47-05:00",
          "2017-08-08 01:06:40-05:00",
          "2017-08-08 01:04:17-05:00",
          "2017-08-08 00:56:14-05:00",
          "2017-08-06 23:15:57-05:00",
          "2017-08-06 01:16:03-05:00",
          "2017-08-04 01:54:01-05:00",
          "2017-08-04 01:53:35-05:00",
          "2017-08-02 11:46:07-05:00",
          "2017-07-30 10:43:38-05:00",
          "2017-07-29 01:12:52-05:00",
          "2017-07-28 19:38:35-05:00",
          "2017-07-28 19:38:26-05:00",
          "2017-07-28 00:39:19-05:00",
          "2017-07-27 10:37:24-05:00",
          "2017-07-26 11:08:27-05:00",
          "2017-07-26 01:45:58-05:00",
          "2017-07-26 01:45:30-05:00",
          "2017-07-23 03:54:39-05:00",
          "2017-07-21 13:00:36-05:00",
          "2017-07-16 21:30:32-05:00",
          "2017-07-16 17:54:19-05:00",
          "2017-07-15 21:29:23-05:00",
          "2017-07-14 22:39:16-05:00",
          "2017-07-09 20:19:05-05:00",
          "2017-07-07 21:57:02-05:00",
          "2017-07-07 21:56:52-05:00",
          "2017-07-07 21:56:41-05:00",
          "2017-07-02 19:40:02-05:00",
          "2017-07-01 00:08:42-05:00",
          "2017-07-01 00:08:26-05:00",
          "2017-06-30 19:39:19-05:00",
          "2017-06-28 19:52:55-05:00",
          "2017-06-27 19:24:21-05:00",
          "2017-06-25 20:47:57-05:00",
          "2017-06-25 20:47:54-05:00",
          "2017-06-25 20:47:37-05:00",
          "2017-06-25 20:46:44-05:00",
          "2017-06-25 19:56:23-05:00",
          "2017-06-25 19:15:56-05:00",
          "2017-06-24 20:53:18-05:00",
          "2017-06-23 18:57:05-05:00",
          "2017-06-23 16:55:24-05:00",
          "2017-06-23 16:41:36-05:00",
          "2017-06-23 16:29:02-05:00",
          "2017-06-22 22:43:06-05:00",
          "2017-06-22 22:23:06-05:00",
          "2017-06-19 18:46:39-05:00",
          "2017-06-18 22:02:54-05:00",
          "2017-06-18 11:35:38-05:00",
          "2017-06-17 00:35:52-05:00",
          "2017-06-17 00:24:33-05:00",
          "2017-06-17 00:23:07-05:00",
          "2017-06-17 00:05:44-05:00",
          "2017-06-17 00:05:33-05:00",
          "2017-06-17 00:02:21-05:00",
          "2017-06-15 15:42:46-05:00",
          "2017-06-15 15:41:37-05:00",
          "2017-06-15 15:17:46-05:00",
          "2017-06-15 15:17:40-05:00",
          "2017-06-15 15:17:19-05:00",
          "2017-06-15 15:14:05-05:00",
          "2017-06-15 15:13:48-05:00",
          "2017-06-15 15:10:19-05:00",
          "2017-06-15 15:08:02-05:00",
          "2017-06-15 15:05:05-05:00",
          "2017-06-11 21:58:01-05:00",
          "2017-06-09 13:07:30-05:00",
          "2017-06-08 18:37:43-05:00",
          "2017-06-07 19:52:31-05:00",
          "2017-06-06 19:32:27-05:00",
          "2017-06-06 19:26:45-05:00",
          "2017-06-06 16:55:13-05:00",
          "2017-06-03 01:32:53-05:00",
          "2017-06-01 20:24:53-05:00",
          "2017-05-28 17:13:31-05:00",
          "2017-05-28 00:40:28-05:00",
          "2017-05-27 16:54:37-05:00",
          "2017-05-27 15:07:34-05:00",
          "2017-05-27 15:01:42-05:00",
          "2017-05-27 10:18:13-05:00",
          "2017-05-27 10:18:05-05:00",
          "2017-05-26 16:30:40-05:00",
          "2017-05-26 16:22:35-05:00",
          "2017-05-20 17:06:34-05:00",
          "2017-05-14 18:22:07-05:00",
          "2017-05-07 18:49:54-05:00",
          "2017-05-01 22:05:56-05:00",
          "2017-04-26 19:18:00-05:00",
          "2017-04-21 12:56:36-05:00",
          "2017-04-20 12:51:05-05:00",
          "2017-04-19 20:25:32-05:00",
          "2017-04-19 20:03:13-05:00",
          "2017-04-18 20:25:50-05:00",
          "2017-04-18 17:40:02-05:00",
          "2017-04-18 17:29:31-05:00",
          "2017-04-18 08:12:04-05:00",
          "2017-04-14 22:57:39-05:00",
          "2017-04-14 22:57:17-05:00",
          "2017-04-13 09:15:23-05:00",
          "2017-04-13 08:44:04-05:00",
          "2017-04-12 06:30:03-05:00",
          "2017-04-11 22:37:07-05:00",
          "2017-04-11 21:29:00-05:00",
          "2017-04-11 21:17:01-05:00",
          "2017-04-11 19:50:24-05:00",
          "2017-04-11 17:37:32-05:00",
          "2017-04-11 17:30:31-05:00",
          "2017-04-11 13:38:55-05:00",
          "2017-04-10 22:09:20-05:00",
          "2017-04-09 08:04:35-05:00",
          "2017-04-09 08:00:51-05:00",
          "2017-04-09 07:59:10-05:00",
          "2017-04-08 16:50:35-05:00",
          "2017-04-06 13:07:02-05:00",
          "2017-04-05 21:34:33-05:00",
          "2017-04-04 17:53:12-05:00",
          "2017-04-04 17:48:49-05:00",
          "2017-04-04 17:47:14-05:00",
          "2017-04-04 17:40:27-05:00",
          "2017-04-03 21:26:49-05:00",
          "2017-04-02 16:47:09-05:00",
          "2017-03-31 12:27:36-05:00",
          "2017-03-31 12:24:34-05:00",
          "2017-03-31 12:17:38-05:00",
          "2017-03-31 12:16:57-05:00",
          "2017-03-29 20:26:05-05:00",
          "2017-03-29 12:21:42-05:00",
          "2017-03-27 22:34:46-05:00",
          "2017-03-27 22:34:40-05:00",
          "2017-03-27 22:34:35-05:00",
          "2017-03-27 07:32:07-05:00",
          "2017-03-26 11:28:02-05:00",
          "2017-03-25 18:49:47-05:00",
          "2017-03-25 18:49:39-05:00",
          "2017-03-25 18:49:22-05:00",
          "2017-03-25 18:40:30-05:00",
          "2017-03-25 18:37:51-05:00",
          "2017-02-18 13:14:28-05:00",
          "2017-02-18 13:14:14-05:00",
          "2017-02-17 21:40:17-05:00",
          "2017-02-17 21:38:00-05:00",
          "2017-02-17 21:34:32-05:00",
          "2017-02-17 16:09:37-05:00",
          "2017-02-17 12:23:37-05:00",
          "2017-02-16 15:25:21-05:00",
          "2017-02-16 12:14:43-05:00",
          "2017-02-16 12:01:31-05:00",
          "2017-02-16 11:52:51-05:00",
          "2017-02-16 11:38:25-05:00",
          "2017-02-15 17:43:03-05:00",
          "2017-02-15 17:42:03-05:00",
          "2017-02-15 17:33:21-05:00",
          "2017-02-15 17:33:10-05:00",
          "2017-02-15 17:28:06-05:00",
          "2017-02-15 17:24:57-05:00",
          "2017-02-15 17:21:16-05:00",
          "2017-02-14 21:21:45-05:00",
          "2017-02-14 19:56:08-05:00",
          "2017-02-14 09:51:00-05:00",
          "2017-02-14 09:29:20-05:00",
          "2017-02-14 09:24:59-05:00",
          "2017-02-14 09:18:38-05:00",
          "2017-02-14 09:12:46-05:00",
          "2017-02-13 16:21:05-05:00",
          "2017-02-13 16:10:52-05:00",
          "2017-02-13 10:22:27-05:00",
          "2017-02-13 10:20:57-05:00",
          "2017-02-13 10:16:12-05:00",
          "2017-02-13 10:15:40-05:00",
          "2017-02-12 20:16:45-05:00"
         ],
         "xaxis": "x",
         "y": [
          14,
          20,
          20,
          19,
          19,
          20,
          20,
          20,
          19,
          19,
          17,
          17,
          22,
          22,
          22,
          17,
          15,
          15,
          0,
          10,
          22,
          21,
          15,
          15,
          20,
          20,
          21,
          16,
          21,
          21,
          21,
          20,
          20,
          22,
          2,
          19,
          19,
          15,
          7,
          22,
          23,
          22,
          22,
          21,
          21,
          21,
          21,
          10,
          10,
          19,
          19,
          22,
          15,
          15,
          14,
          14,
          14,
          14,
          12,
          12,
          12,
          12,
          13,
          21,
          23,
          7,
          9,
          8,
          1,
          22,
          7,
          14,
          14,
          18,
          18,
          18,
          21,
          8,
          20,
          19,
          17,
          17,
          8,
          9,
          17,
          17,
          11,
          9,
          20,
          15,
          12,
          22,
          22,
          22,
          21,
          21,
          21,
          14,
          14,
          14,
          14,
          14,
          16,
          12,
          17,
          17,
          16,
          13,
          13,
          13,
          15,
          11,
          19,
          15,
          15,
          14,
          8,
          19,
          19,
          19,
          19,
          7,
          21,
          14,
          16,
          16,
          15,
          14,
          14,
          14,
          13,
          11,
          16,
          16,
          23,
          21,
          21,
          15,
          12,
          21,
          8,
          8,
          20,
          15,
          14,
          20,
          7,
          7,
          21,
          7,
          18,
          15,
          12,
          19,
          13,
          12,
          19,
          19,
          13,
          13,
          13,
          16,
          15,
          15,
          14,
          12,
          11,
          19,
          19,
          18,
          20,
          18,
          9,
          20,
          20,
          20,
          20,
          20,
          17,
          23,
          18,
          18,
          18,
          19,
          20,
          19,
          20,
          10,
          20,
          13,
          17,
          23,
          23,
          23,
          17,
          17,
          16,
          16,
          17,
          11,
          18,
          21,
          22,
          19,
          22,
          22,
          17,
          11,
          20,
          20,
          20,
          13,
          21,
          20,
          12,
          10,
          9,
          9,
          9,
          10,
          23,
          20,
          20,
          20,
          0,
          18,
          17,
          20,
          7,
          22,
          8,
          7,
          19,
          2,
          22,
          21,
          17,
          17,
          17,
          23,
          23,
          16,
          20,
          8,
          23,
          23,
          22,
          6,
          22,
          10,
          10,
          23,
          23,
          23,
          11,
          23,
          23,
          14,
          14,
          18,
          2,
          21,
          20,
          8,
          23,
          11,
          22,
          10,
          21,
          11,
          16,
          21,
          15,
          10,
          11,
          10,
          19,
          23,
          11,
          13,
          19,
          14,
          7,
          9,
          1,
          21,
          21,
          20,
          9,
          1,
          22,
          22,
          19,
          21,
          8,
          8,
          22,
          8,
          8,
          13,
          0,
          15,
          13,
          13,
          13,
          19,
          9,
          22,
          14,
          12,
          20,
          16,
          7,
          22,
          21,
          21,
          17,
          11,
          22,
          18,
          18,
          19,
          23,
          18,
          23,
          23,
          14,
          18,
          0,
          10,
          21,
          8,
          22,
          21,
          19,
          17,
          17,
          21,
          1,
          17,
          13,
          14,
          2,
          17,
          18,
          20,
          20,
          20,
          1,
          13,
          9,
          10,
          0,
          0,
          17,
          0,
          23,
          13,
          12,
          22,
          23,
          1,
          8,
          9,
          0,
          20,
          13,
          8,
          20,
          22,
          1,
          1,
          22,
          13,
          7,
          9,
          16,
          22,
          20,
          16,
          16,
          16,
          22,
          22,
          23,
          17,
          12,
          12,
          12,
          12,
          12,
          21,
          15,
          20,
          1,
          1,
          20,
          21,
          18,
          18,
          18,
          18,
          18,
          18,
          16,
          21,
          18,
          6,
          5,
          15,
          13,
          19,
          1,
          14,
          14,
          1,
          1,
          19,
          14,
          1,
          2,
          19,
          17,
          17,
          23,
          23,
          23,
          23,
          11,
          23,
          23,
          1,
          1,
          0,
          23,
          1,
          1,
          1,
          11,
          10,
          1,
          19,
          19,
          0,
          10,
          11,
          1,
          1,
          3,
          13,
          21,
          17,
          21,
          22,
          20,
          21,
          21,
          21,
          19,
          0,
          0,
          19,
          19,
          19,
          20,
          20,
          20,
          20,
          19,
          19,
          20,
          18,
          16,
          16,
          16,
          22,
          22,
          18,
          22,
          11,
          0,
          0,
          0,
          0,
          0,
          0,
          15,
          15,
          15,
          15,
          15,
          15,
          15,
          15,
          15,
          15,
          21,
          13,
          18,
          19,
          19,
          19,
          16,
          1,
          20,
          17,
          0,
          16,
          15,
          15,
          10,
          10,
          16,
          16,
          17,
          18,
          18,
          22,
          19,
          12,
          12,
          20,
          20,
          20,
          17,
          17,
          8,
          22,
          22,
          9,
          8,
          6,
          22,
          21,
          21,
          19,
          17,
          17,
          13,
          22,
          8,
          8,
          7,
          16,
          13,
          21,
          17,
          17,
          17,
          17,
          21,
          16,
          12,
          12,
          12,
          12,
          20,
          12,
          22,
          22,
          22,
          7,
          11,
          18,
          18,
          18,
          18,
          18,
          13,
          13,
          21,
          21,
          21,
          16,
          12,
          15,
          12,
          12,
          11,
          11,
          17,
          17,
          17,
          17,
          17,
          17,
          17,
          21,
          19,
          9,
          9,
          9,
          9,
          9,
          16,
          16,
          10,
          10,
          10,
          10,
          20
         ],
         "yaxis": "y"
        },
        {
         "customdata": [
          [
           "Mi Ideología"
          ],
          [
           "Me Hace Daño Verte"
          ],
          [
           "La Puerta"
          ],
          [
           "M.A - Remix"
          ],
          [
           "Dog Days"
          ],
          [
           "Amor del Bueno"
          ],
          [
           "La Locura Automática - Reggaeton"
          ],
          [
           "Ni Una Ni Dos"
          ],
          [
           "Bailame Despacio Vs La Player - Remix"
          ],
          [
           "Bajo"
          ],
          [
           "Dime"
          ],
          [
           "Loco por Volverte a Ver"
          ],
          [
           "KOMM, SUSSER TOD - M-10 Director's Edit Version"
          ],
          [
           "The Cruel Angel's Thesis (Director's Edit Version)"
          ],
          [
           "Peach Trees"
          ],
          [
           "Tengo"
          ],
          [
           "Remember Summer Days (Night Tempo Showa Groove Mix)"
          ],
          [
           "memories"
          ],
          [
           "Comedy"
          ],
          [
           "Believe (ONE PIECE)"
          ],
          [
           "Kirameki"
          ],
          [
           "STAND PROUD"
          ],
          [
           "CRAZY NOISY BIZARRE TOWN"
          ],
          [
           "Kaikai Kitan"
          ],
          [
           "No Me Conocen (Remix) [con DUKI, Rei & Tiago PZK]"
          ],
          [
           "Kelly"
          ],
          [
           "I Had Control"
          ],
          [
           "Esta Cobardía"
          ],
          [
           "Maravillosos"
          ],
          [
           "Se Fue la Luz"
          ],
          [
           "Sueño en la Altura"
          ],
          [
           "Verte Pasar"
          ],
          [
           "Mr Blue"
          ],
          [
           "El Che y los Rolling Stones"
          ],
          [
           "Nora en Abril"
          ],
          [
           "Da Ya Think I'm Sexy?"
          ],
          [
           "Speechless (Full)"
          ],
          [
           "Bad News Ain't No News At All"
          ],
          [
           "A l'assaut (des ombres sur l'o)"
          ],
          [
           "Louder Than Words"
          ],
          [
           "What You Need"
          ],
          [
           "Lost Stars"
          ]
         ],
         "hovertemplate": "Broad Genre=Other<br>Date Added=%{x}<br>Hour Added=%{y}<br>Track Name=%{customdata[0]}<extra></extra>",
         "legendgroup": "Other",
         "marker": {
          "color": "#FF97FF",
          "symbol": "circle"
         },
         "mode": "markers",
         "name": "Other",
         "showlegend": true,
         "type": "scattergl",
         "x": [
          "2024-03-25 20:22:10-05:00",
          "2024-03-03 19:08:05-05:00",
          "2024-02-27 14:22:43-05:00",
          "2024-01-11 17:21:35-05:00",
          "2024-01-04 08:26:47-05:00",
          "2023-11-26 21:14:38-05:00",
          "2023-09-25 11:08:17-05:00",
          "2023-07-29 19:32:00-05:00",
          "2023-06-30 09:01:59-05:00",
          "2023-06-26 20:40:58-05:00",
          "2023-06-12 13:16:29-05:00",
          "2023-06-11 18:48:41-05:00",
          "2023-03-05 18:17:12-05:00",
          "2023-01-17 19:03:59-05:00",
          "2023-01-03 21:50:43-05:00",
          "2022-11-29 15:47:41-05:00",
          "2022-10-04 21:58:20-05:00",
          "2022-07-13 19:49:32-05:00",
          "2022-07-04 07:19:21-05:00",
          "2022-04-11 10:53:49-05:00",
          "2022-02-23 19:55:30-05:00",
          "2022-02-10 16:32:17-05:00",
          "2022-02-10 16:32:05-05:00",
          "2021-07-24 08:21:33-05:00",
          "2021-07-22 16:13:50-05:00",
          "2021-06-30 12:47:51-05:00",
          "2021-02-26 20:16:55-05:00",
          "2020-10-01 18:05:54-05:00",
          "2020-09-19 15:10:14-05:00",
          "2020-04-14 22:21:26-05:00",
          "2020-03-17 22:30:58-05:00",
          "2020-03-14 12:01:43-05:00",
          "2020-03-11 19:55:01-05:00",
          "2020-02-19 08:11:27-05:00",
          "2019-11-18 21:20:50-05:00",
          "2019-10-02 11:05:02-05:00",
          "2019-06-27 18:17:44-05:00",
          "2019-06-24 21:22:50-05:00",
          "2019-03-18 11:00:01-05:00",
          "2019-03-13 09:44:31-05:00",
          "2019-03-11 17:14:39-05:00",
          "2019-03-05 19:36:32-05:00"
         ],
         "xaxis": "x",
         "y": [
          20,
          19,
          14,
          17,
          8,
          21,
          11,
          19,
          9,
          20,
          13,
          18,
          18,
          19,
          21,
          15,
          21,
          19,
          7,
          10,
          19,
          16,
          16,
          8,
          16,
          12,
          20,
          18,
          15,
          22,
          22,
          12,
          19,
          8,
          21,
          11,
          18,
          21,
          11,
          9,
          17,
          19
         ],
         "yaxis": "y"
        },
        {
         "customdata": [
          [
           "Things A Man Oughta Know"
          ],
          [
           "Tennessee Whiskey"
          ],
          [
           "If I Die Young"
          ],
          [
           "Jesus, Etc."
          ],
          [
           "Yours If You Want It"
          ]
         ],
         "hovertemplate": "Broad Genre=Country<br>Date Added=%{x}<br>Hour Added=%{y}<br>Track Name=%{customdata[0]}<extra></extra>",
         "legendgroup": "Country",
         "marker": {
          "color": "#FECB52",
          "symbol": "circle"
         },
         "mode": "markers",
         "name": "Country",
         "showlegend": true,
         "type": "scattergl",
         "x": [
          "2024-03-21 02:36:54-05:00",
          "2021-06-15 20:13:50-05:00",
          "2020-06-08 14:53:31-05:00",
          "2018-03-08 01:33:09-05:00",
          "2017-05-23 21:40:58-05:00"
         ],
         "xaxis": "x",
         "y": [
          2,
          20,
          14,
          1,
          21
         ],
         "yaxis": "y"
        },
        {
         "customdata": [
          [
           "Eres Para Mí"
          ],
          [
           "cómo dormiste?"
          ],
          [
           "FLEXXX"
          ],
          [
           "Mejor No Nos Vemos"
          ],
          [
           "SHORTY QUE TE VAYA BN <3"
          ],
          [
           "A Mí"
          ],
          [
           "Mimosas - Remix"
          ],
          [
           "Beat It"
          ],
          [
           "Adorn"
          ],
          [
           "Say a Little Prayer - Live"
          ]
         ],
         "hovertemplate": "Broad Genre=R&B<br>Date Added=%{x}<br>Hour Added=%{y}<br>Track Name=%{customdata[0]}<extra></extra>",
         "legendgroup": "R&B",
         "marker": {
          "color": "#636efa",
          "symbol": "circle"
         },
         "mode": "markers",
         "name": "R&B",
         "showlegend": true,
         "type": "scattergl",
         "x": [
          "2024-01-22 17:55:49-05:00",
          "2023-12-01 15:12:57-05:00",
          "2023-11-01 13:16:26-05:00",
          "2023-09-28 01:00:39-05:00",
          "2023-09-28 00:57:18-05:00",
          "2023-08-22 21:10:36-05:00",
          "2022-02-27 00:40:51-05:00",
          "2021-10-10 20:24:24-05:00",
          "2020-06-21 20:40:43-05:00",
          "2019-10-04 18:13:27-05:00"
         ],
         "xaxis": "x",
         "y": [
          17,
          15,
          13,
          1,
          0,
          21,
          0,
          20,
          20,
          18
         ],
         "yaxis": "y"
        },
        {
         "customdata": [
          [
           "I See the Light"
          ],
          [
           "Dance Yrself Clean"
          ],
          [
           "Lasso"
          ],
          [
           "Disco Inferno - Single Edit"
          ],
          [
           "Le Freak - Edit"
          ],
          [
           "Night Fever - From \"Saturday Night Fever\" Soundtrack"
          ],
          [
           "Sing a Song"
          ],
          [
           "Shining Star"
          ],
          [
           "Be My Lady"
          ],
          [
           "Boogie Wonderland"
          ],
          [
           "Stayin' Alive - 2007 Remastered Version Saturday Night Fever"
          ],
          [
           "September"
          ],
          [
           "Walking On A Dream"
          ]
         ],
         "hovertemplate": "Broad Genre=Dance<br>Date Added=%{x}<br>Hour Added=%{y}<br>Track Name=%{customdata[0]}<extra></extra>",
         "legendgroup": "Dance",
         "marker": {
          "color": "#EF553B",
          "symbol": "circle"
         },
         "mode": "markers",
         "name": "Dance",
         "showlegend": true,
         "type": "scattergl",
         "x": [
          "2024-01-08 20:26:35-05:00",
          "2023-08-13 18:22:16-05:00",
          "2019-03-20 20:07:22-05:00",
          "2019-02-22 14:58:26-05:00",
          "2019-01-19 21:44:15-05:00",
          "2019-01-19 21:22:54-05:00",
          "2018-03-06 23:57:13-05:00",
          "2017-05-23 21:31:38-05:00",
          "2017-03-31 17:30:39-05:00",
          "2017-03-29 20:27:58-05:00",
          "2017-02-16 12:09:24-05:00",
          "2017-02-16 12:05:38-05:00",
          "2017-02-15 14:30:18-05:00"
         ],
         "xaxis": "x",
         "y": [
          20,
          18,
          20,
          14,
          21,
          21,
          23,
          21,
          17,
          20,
          12,
          12,
          14
         ],
         "yaxis": "y"
        },
        {
         "customdata": [
          [
           "hot girl bummer (with Khea) - Khea Remix"
          ],
          [
           "No More Lies"
          ],
          [
           "Love to Hate You"
          ],
          [
           "Sparks"
          ],
          [
           "My Universe"
          ],
          [
           "Til Kingdom Come"
          ],
          [
           "People of The Pride"
          ],
          [
           "Humankind"
          ],
          [
           "Higher Power"
          ],
          [
           "Charlie Brown"
          ],
          [
           "Adventure of a Lifetime"
          ],
          [
           "Friday I'm in Love"
          ],
          [
           "Fun (feat. Tove Lo)"
          ],
          [
           "Come On Eileen"
          ],
          [
           "Tainted Love"
          ],
          [
           "Go!"
          ],
          [
           "Up&Up"
          ],
          [
           "Trouble"
          ],
          [
           "Life in Technicolor ii"
          ],
          [
           "Yellow"
          ],
          [
           "Viva La Vida"
          ],
          [
           "Army of One"
          ],
          [
           "Amazing Day"
          ],
          [
           "Fix You"
          ],
          [
           "Paradise"
          ],
          [
           "Quello Che Non C'è"
          ],
          [
           "Everglow"
          ],
          [
           "A L I E N S"
          ],
          [
           "I Ran (So Far Away) - Single Edit"
          ],
          [
           "Sin aliento"
          ],
          [
           "Ni tú ni nadie"
          ],
          [
           "Karma Chameleon - Remastered 2002"
          ],
          [
           "Boys Don't Cry"
          ],
          [
           "Every Teardrop Is a Waterfall"
          ],
          [
           "The Scientist"
          ],
          [
           "Fascination Street - Remastered"
          ],
          [
           "Take on Me"
          ],
          [
           "Hypnotised"
          ]
         ],
         "hovertemplate": "Broad Genre=Alternative<br>Date Added=%{x}<br>Hour Added=%{y}<br>Track Name=%{customdata[0]}<extra></extra>",
         "legendgroup": "Alternative",
         "marker": {
          "color": "#00cc96",
          "symbol": "circle"
         },
         "mode": "markers",
         "name": "Alternative",
         "showlegend": true,
         "type": "scattergl",
         "x": [
          "2024-01-05 22:29:22-05:00",
          "2023-11-26 19:07:56-05:00",
          "2022-12-13 16:59:21-05:00",
          "2022-09-17 16:10:02-05:00",
          "2022-09-14 07:44:17-05:00",
          "2022-09-14 07:36:00-05:00",
          "2022-09-12 08:09:46-05:00",
          "2022-09-12 08:09:35-05:00",
          "2021-05-07 08:41:04-05:00",
          "2020-11-19 16:42:31-05:00",
          "2020-02-11 08:15:57-05:00",
          "2019-12-28 17:16:41-05:00",
          "2019-08-16 16:51:44-05:00",
          "2019-05-27 06:51:16-05:00",
          "2019-03-29 14:19:11-05:00",
          "2018-12-23 10:54:30-05:00",
          "2018-12-15 23:02:43-05:00",
          "2018-12-05 14:37:15-05:00",
          "2018-10-01 16:51:31-05:00",
          "2018-10-01 16:51:24-05:00",
          "2018-10-01 16:51:18-05:00",
          "2018-10-01 16:49:52-05:00",
          "2018-10-01 16:44:16-05:00",
          "2018-09-30 22:36:00-05:00",
          "2018-09-22 11:37:40-05:00",
          "2018-08-26 01:58:53-05:00",
          "2017-12-29 13:39:19-05:00",
          "2017-07-13 21:56:20-05:00",
          "2017-06-25 20:46:54-05:00",
          "2017-06-23 16:32:36-05:00",
          "2017-06-15 17:17:07-05:00",
          "2017-05-26 16:30:36-05:00",
          "2017-05-26 12:31:55-05:00",
          "2017-04-24 22:08:24-05:00",
          "2017-04-24 22:08:15-05:00",
          "2017-04-13 08:10:52-05:00",
          "2017-04-11 22:36:32-05:00",
          "2017-03-26 11:49:38-05:00"
         ],
         "xaxis": "x",
         "y": [
          22,
          19,
          16,
          16,
          7,
          7,
          8,
          8,
          8,
          16,
          8,
          17,
          16,
          6,
          14,
          10,
          23,
          14,
          16,
          16,
          16,
          16,
          16,
          22,
          11,
          1,
          13,
          21,
          20,
          16,
          17,
          16,
          12,
          22,
          22,
          8,
          22,
          11
         ],
         "yaxis": "y"
        },
        {
         "customdata": [
          [
           "She Calls Me Back (with Kacey Musgraves)"
          ],
          [
           "sangria"
          ],
          [
           "slow motion"
          ],
          [
           "nightmares"
          ],
          [
           "Under The Light"
          ],
          [
           "Mad Visions"
          ],
          [
           "Super Slow"
          ],
          [
           "Just for a Minute"
          ],
          [
           "RUN"
          ],
          [
           "Skinny"
          ],
          [
           "Alter Ego"
          ],
          [
           "Break My Baby"
          ],
          [
           "Hey Gringo"
          ],
          [
           "Too Much Time Together"
          ],
          [
           "About You"
          ],
          [
           "Trouble’s Coming"
          ],
          [
           "Oblivion"
          ],
          [
           "See The Sun"
          ],
          [
           "Do You Wanna"
          ],
          [
           "Junk Of The Heart (Happy)"
          ],
          [
           "Ooh La"
          ],
          [
           "Sweet Emotion"
          ],
          [
           "Westside"
          ],
          [
           "The Things We Do"
          ],
          [
           "El Pozo"
          ],
          [
           "Simple Song"
          ],
          [
           "No Te Me Achores"
          ],
          [
           "Pan y Circo"
          ],
          [
           "Cough Syrup"
          ],
          [
           "Los Amigos Que Perdí"
          ],
          [
           "Karaoke Katmandú"
          ],
          [
           "El Momento"
          ],
          [
           "Melancolía Blue Blue Blue"
          ],
          [
           "Naive"
          ],
          [
           "Call It What You Want"
          ],
          [
           "Bad Habit"
          ],
          [
           "Triciclo Perú"
          ],
          [
           "Mistakes"
          ]
         ],
         "hovertemplate": "Broad Genre=Indie<br>Date Added=%{x}<br>Hour Added=%{y}<br>Track Name=%{customdata[0]}<extra></extra>",
         "legendgroup": "Indie",
         "marker": {
          "color": "#ab63fa",
          "symbol": "circle"
         },
         "mode": "markers",
         "name": "Indie",
         "showlegend": true,
         "type": "scattergl",
         "x": [
          "2023-10-22 14:29:19-05:00",
          "2023-10-16 20:28:37-05:00",
          "2023-10-16 20:22:24-05:00",
          "2023-10-16 20:20:48-05:00",
          "2023-08-10 08:52:46-05:00",
          "2023-08-04 19:49:26-05:00",
          "2023-07-25 22:27:57-05:00",
          "2023-07-25 22:12:25-05:00",
          "2023-07-25 21:54:55-05:00",
          "2023-07-11 10:16:06-05:00",
          "2023-07-11 10:13:41-05:00",
          "2023-07-11 09:59:54-05:00",
          "2023-07-07 10:06:18-05:00",
          "2023-07-04 13:37:08-05:00",
          "2023-07-04 13:33:25-05:00",
          "2023-03-16 20:09:45-05:00",
          "2023-03-16 20:05:40-05:00",
          "2022-06-08 07:43:21-05:00",
          "2022-06-06 16:53:55-05:00",
          "2022-06-06 16:51:50-05:00",
          "2022-06-06 16:34:02-05:00",
          "2022-06-06 15:54:51-05:00",
          "2022-06-04 13:43:46-05:00",
          "2021-06-12 21:16:39-05:00",
          "2021-05-30 14:46:37-05:00",
          "2020-09-20 10:11:24-05:00",
          "2020-09-16 09:22:58-05:00",
          "2020-09-16 09:21:11-05:00",
          "2020-05-03 01:37:43-05:00",
          "2020-03-26 12:17:32-05:00",
          "2019-12-08 12:04:31-05:00",
          "2019-09-04 06:04:06-05:00",
          "2018-11-10 22:30:48-05:00",
          "2018-09-26 19:40:13-05:00",
          "2018-03-26 01:56:31-05:00",
          "2018-02-18 18:42:13-05:00",
          "2017-12-11 21:32:20-05:00",
          "2017-09-19 21:06:39-05:00"
         ],
         "xaxis": "x",
         "y": [
          14,
          20,
          20,
          20,
          8,
          19,
          22,
          22,
          21,
          10,
          10,
          9,
          10,
          13,
          13,
          20,
          20,
          7,
          16,
          16,
          16,
          15,
          13,
          21,
          14,
          10,
          9,
          9,
          1,
          12,
          12,
          6,
          22,
          19,
          1,
          18,
          21,
          21
         ],
         "yaxis": "y"
        },
        {
         "customdata": [
          [
           "Presence Of The Lord"
          ],
          [
           "The Thrill Is Gone"
          ],
          [
           "Rock Me Baby"
          ],
          [
           "Rip It Up"
          ],
          [
           "Long Tall Sally"
          ]
         ],
         "hovertemplate": "Broad Genre=Blues<br>Date Added=%{x}<br>Hour Added=%{y}<br>Track Name=%{customdata[0]}<extra></extra>",
         "legendgroup": "Blues",
         "marker": {
          "color": "#FFA15A",
          "symbol": "circle"
         },
         "mode": "markers",
         "name": "Blues",
         "showlegend": true,
         "type": "scattergl",
         "x": [
          "2023-07-10 21:46:14-05:00",
          "2022-06-01 07:49:29-05:00",
          "2021-01-19 08:41:16-05:00",
          "2017-03-25 18:42:50-05:00",
          "2017-03-25 18:42:46-05:00"
         ],
         "xaxis": "x",
         "y": [
          21,
          7,
          8,
          18,
          18
         ],
         "yaxis": "y"
        },
        {
         "customdata": [
          [
           "Red Red Wine"
          ],
          [
           "Groove Bom - Ao Vivo"
          ],
          [
           "One Day"
          ],
          [
           "When We Were Younger"
          ],
          [
           "Not Done Yet"
          ],
          [
           "Wavin' Flag"
          ],
          [
           "Is This Love"
          ]
         ],
         "hovertemplate": "Broad Genre=Reggae<br>Date Added=%{x}<br>Hour Added=%{y}<br>Track Name=%{customdata[0]}<extra></extra>",
         "legendgroup": "Reggae",
         "marker": {
          "color": "#19d3f3",
          "symbol": "circle"
         },
         "mode": "markers",
         "name": "Reggae",
         "showlegend": true,
         "type": "scattergl",
         "x": [
          "2023-06-06 08:40:17-05:00",
          "2022-04-16 13:22:34-05:00",
          "2019-06-26 23:28:17-05:00",
          "2019-03-20 23:59:05-05:00",
          "2019-03-20 23:51:50-05:00",
          "2017-06-04 18:02:56-05:00",
          "2017-02-17 15:06:51-05:00"
         ],
         "xaxis": "x",
         "y": [
          8,
          13,
          23,
          23,
          23,
          18,
          15
         ],
         "yaxis": "y"
        },
        {
         "customdata": [
          [
           "Ballade No. 4 in F Minor, Op. 52"
          ],
          [
           "Con Te Partirò"
          ]
         ],
         "hovertemplate": "Broad Genre=Classical<br>Date Added=%{x}<br>Hour Added=%{y}<br>Track Name=%{customdata[0]}<extra></extra>",
         "legendgroup": "Classical",
         "marker": {
          "color": "#FF6692",
          "symbol": "circle"
         },
         "mode": "markers",
         "name": "Classical",
         "showlegend": true,
         "type": "scattergl",
         "x": [
          "2023-04-22 23:58:39-05:00",
          "2019-10-23 20:14:03-05:00"
         ],
         "xaxis": "x",
         "y": [
          23,
          20
         ],
         "yaxis": "y"
        },
        {
         "customdata": [
          [
           "Juan Pachanga"
          ],
          [
           "Pedro Navaja"
          ]
         ],
         "hovertemplate": "Broad Genre=Jazz<br>Date Added=%{x}<br>Hour Added=%{y}<br>Track Name=%{customdata[0]}<extra></extra>",
         "legendgroup": "Jazz",
         "marker": {
          "color": "#B6E880",
          "symbol": "circle"
         },
         "mode": "markers",
         "name": "Jazz",
         "showlegend": true,
         "type": "scattergl",
         "x": [
          "2022-12-01 20:13:51-05:00",
          "2019-03-23 05:28:12-05:00"
         ],
         "xaxis": "x",
         "y": [
          20,
          5
         ],
         "yaxis": "y"
        },
        {
         "customdata": [
          [
           "LOST IN PARADISE"
          ],
          [
           "Ain't No Mountain High Enough"
          ],
          [
           "If I Ain't Got You"
          ],
          [
           "Chasing Pavements"
          ],
          [
           "For Once In My Life"
          ],
          [
           "When We Were Young"
          ],
          [
           "Master Blaster (Jammin')"
          ],
          [
           "For Once In My Life"
          ],
          [
           "Superstition - Single Version"
          ]
         ],
         "hovertemplate": "Broad Genre=Soul<br>Date Added=%{x}<br>Hour Added=%{y}<br>Track Name=%{customdata[0]}<extra></extra>",
         "legendgroup": "Soul",
         "marker": {
          "color": "#FF97FF",
          "symbol": "circle"
         },
         "mode": "markers",
         "name": "Soul",
         "showlegend": true,
         "type": "scattergl",
         "x": [
          "2021-12-09 12:45:23-05:00",
          "2021-10-20 09:37:06-05:00",
          "2019-07-29 22:11:08-05:00",
          "2019-07-26 17:57:57-05:00",
          "2017-05-09 20:35:31-05:00",
          "2017-04-06 22:08:49-05:00",
          "2017-03-31 12:28:24-05:00",
          "2017-03-31 12:25:46-05:00",
          "2017-03-25 19:04:20-05:00"
         ],
         "xaxis": "x",
         "y": [
          12,
          9,
          22,
          17,
          20,
          22,
          12,
          12,
          19
         ],
         "yaxis": "y"
        },
        {
         "customdata": [
          [
           "Father And Son"
          ],
          [
           "Little Talks"
          ]
         ],
         "hovertemplate": "Broad Genre=Folk<br>Date Added=%{x}<br>Hour Added=%{y}<br>Track Name=%{customdata[0]}<extra></extra>",
         "legendgroup": "Folk",
         "marker": {
          "color": "#FECB52",
          "symbol": "circle"
         },
         "mode": "markers",
         "name": "Folk",
         "showlegend": true,
         "type": "scattergl",
         "x": [
          "2019-12-25 01:05:16-05:00",
          "2017-08-02 11:46:32-05:00"
         ],
         "xaxis": "x",
         "y": [
          1,
          11
         ],
         "yaxis": "y"
        }
       ],
       "layout": {
        "autosize": true,
        "legend": {
         "title": {
          "text": "Broad Genre"
         },
         "tracegroupgap": 0
        },
        "template": {
         "data": {
          "bar": [
           {
            "error_x": {
             "color": "#2a3f5f"
            },
            "error_y": {
             "color": "#2a3f5f"
            },
            "marker": {
             "line": {
              "color": "#E5ECF6",
              "width": 0.5
             },
             "pattern": {
              "fillmode": "overlay",
              "size": 10,
              "solidity": 0.2
             }
            },
            "type": "bar"
           }
          ],
          "barpolar": [
           {
            "marker": {
             "line": {
              "color": "#E5ECF6",
              "width": 0.5
             },
             "pattern": {
              "fillmode": "overlay",
              "size": 10,
              "solidity": 0.2
             }
            },
            "type": "barpolar"
           }
          ],
          "carpet": [
           {
            "aaxis": {
             "endlinecolor": "#2a3f5f",
             "gridcolor": "white",
             "linecolor": "white",
             "minorgridcolor": "white",
             "startlinecolor": "#2a3f5f"
            },
            "baxis": {
             "endlinecolor": "#2a3f5f",
             "gridcolor": "white",
             "linecolor": "white",
             "minorgridcolor": "white",
             "startlinecolor": "#2a3f5f"
            },
            "type": "carpet"
           }
          ],
          "choropleth": [
           {
            "colorbar": {
             "outlinewidth": 0,
             "ticks": ""
            },
            "type": "choropleth"
           }
          ],
          "contour": [
           {
            "colorbar": {
             "outlinewidth": 0,
             "ticks": ""
            },
            "colorscale": [
             [
              0,
              "#0d0887"
             ],
             [
              0.1111111111111111,
              "#46039f"
             ],
             [
              0.2222222222222222,
              "#7201a8"
             ],
             [
              0.3333333333333333,
              "#9c179e"
             ],
             [
              0.4444444444444444,
              "#bd3786"
             ],
             [
              0.5555555555555556,
              "#d8576b"
             ],
             [
              0.6666666666666666,
              "#ed7953"
             ],
             [
              0.7777777777777778,
              "#fb9f3a"
             ],
             [
              0.8888888888888888,
              "#fdca26"
             ],
             [
              1,
              "#f0f921"
             ]
            ],
            "type": "contour"
           }
          ],
          "contourcarpet": [
           {
            "colorbar": {
             "outlinewidth": 0,
             "ticks": ""
            },
            "type": "contourcarpet"
           }
          ],
          "heatmap": [
           {
            "colorbar": {
             "outlinewidth": 0,
             "ticks": ""
            },
            "colorscale": [
             [
              0,
              "#0d0887"
             ],
             [
              0.1111111111111111,
              "#46039f"
             ],
             [
              0.2222222222222222,
              "#7201a8"
             ],
             [
              0.3333333333333333,
              "#9c179e"
             ],
             [
              0.4444444444444444,
              "#bd3786"
             ],
             [
              0.5555555555555556,
              "#d8576b"
             ],
             [
              0.6666666666666666,
              "#ed7953"
             ],
             [
              0.7777777777777778,
              "#fb9f3a"
             ],
             [
              0.8888888888888888,
              "#fdca26"
             ],
             [
              1,
              "#f0f921"
             ]
            ],
            "type": "heatmap"
           }
          ],
          "heatmapgl": [
           {
            "colorbar": {
             "outlinewidth": 0,
             "ticks": ""
            },
            "colorscale": [
             [
              0,
              "#0d0887"
             ],
             [
              0.1111111111111111,
              "#46039f"
             ],
             [
              0.2222222222222222,
              "#7201a8"
             ],
             [
              0.3333333333333333,
              "#9c179e"
             ],
             [
              0.4444444444444444,
              "#bd3786"
             ],
             [
              0.5555555555555556,
              "#d8576b"
             ],
             [
              0.6666666666666666,
              "#ed7953"
             ],
             [
              0.7777777777777778,
              "#fb9f3a"
             ],
             [
              0.8888888888888888,
              "#fdca26"
             ],
             [
              1,
              "#f0f921"
             ]
            ],
            "type": "heatmapgl"
           }
          ],
          "histogram": [
           {
            "marker": {
             "pattern": {
              "fillmode": "overlay",
              "size": 10,
              "solidity": 0.2
             }
            },
            "type": "histogram"
           }
          ],
          "histogram2d": [
           {
            "colorbar": {
             "outlinewidth": 0,
             "ticks": ""
            },
            "colorscale": [
             [
              0,
              "#0d0887"
             ],
             [
              0.1111111111111111,
              "#46039f"
             ],
             [
              0.2222222222222222,
              "#7201a8"
             ],
             [
              0.3333333333333333,
              "#9c179e"
             ],
             [
              0.4444444444444444,
              "#bd3786"
             ],
             [
              0.5555555555555556,
              "#d8576b"
             ],
             [
              0.6666666666666666,
              "#ed7953"
             ],
             [
              0.7777777777777778,
              "#fb9f3a"
             ],
             [
              0.8888888888888888,
              "#fdca26"
             ],
             [
              1,
              "#f0f921"
             ]
            ],
            "type": "histogram2d"
           }
          ],
          "histogram2dcontour": [
           {
            "colorbar": {
             "outlinewidth": 0,
             "ticks": ""
            },
            "colorscale": [
             [
              0,
              "#0d0887"
             ],
             [
              0.1111111111111111,
              "#46039f"
             ],
             [
              0.2222222222222222,
              "#7201a8"
             ],
             [
              0.3333333333333333,
              "#9c179e"
             ],
             [
              0.4444444444444444,
              "#bd3786"
             ],
             [
              0.5555555555555556,
              "#d8576b"
             ],
             [
              0.6666666666666666,
              "#ed7953"
             ],
             [
              0.7777777777777778,
              "#fb9f3a"
             ],
             [
              0.8888888888888888,
              "#fdca26"
             ],
             [
              1,
              "#f0f921"
             ]
            ],
            "type": "histogram2dcontour"
           }
          ],
          "mesh3d": [
           {
            "colorbar": {
             "outlinewidth": 0,
             "ticks": ""
            },
            "type": "mesh3d"
           }
          ],
          "parcoords": [
           {
            "line": {
             "colorbar": {
              "outlinewidth": 0,
              "ticks": ""
             }
            },
            "type": "parcoords"
           }
          ],
          "pie": [
           {
            "automargin": true,
            "type": "pie"
           }
          ],
          "scatter": [
           {
            "fillpattern": {
             "fillmode": "overlay",
             "size": 10,
             "solidity": 0.2
            },
            "type": "scatter"
           }
          ],
          "scatter3d": [
           {
            "line": {
             "colorbar": {
              "outlinewidth": 0,
              "ticks": ""
             }
            },
            "marker": {
             "colorbar": {
              "outlinewidth": 0,
              "ticks": ""
             }
            },
            "type": "scatter3d"
           }
          ],
          "scattercarpet": [
           {
            "marker": {
             "colorbar": {
              "outlinewidth": 0,
              "ticks": ""
             }
            },
            "type": "scattercarpet"
           }
          ],
          "scattergeo": [
           {
            "marker": {
             "colorbar": {
              "outlinewidth": 0,
              "ticks": ""
             }
            },
            "type": "scattergeo"
           }
          ],
          "scattergl": [
           {
            "marker": {
             "colorbar": {
              "outlinewidth": 0,
              "ticks": ""
             }
            },
            "type": "scattergl"
           }
          ],
          "scattermapbox": [
           {
            "marker": {
             "colorbar": {
              "outlinewidth": 0,
              "ticks": ""
             }
            },
            "type": "scattermapbox"
           }
          ],
          "scatterpolar": [
           {
            "marker": {
             "colorbar": {
              "outlinewidth": 0,
              "ticks": ""
             }
            },
            "type": "scatterpolar"
           }
          ],
          "scatterpolargl": [
           {
            "marker": {
             "colorbar": {
              "outlinewidth": 0,
              "ticks": ""
             }
            },
            "type": "scatterpolargl"
           }
          ],
          "scatterternary": [
           {
            "marker": {
             "colorbar": {
              "outlinewidth": 0,
              "ticks": ""
             }
            },
            "type": "scatterternary"
           }
          ],
          "surface": [
           {
            "colorbar": {
             "outlinewidth": 0,
             "ticks": ""
            },
            "colorscale": [
             [
              0,
              "#0d0887"
             ],
             [
              0.1111111111111111,
              "#46039f"
             ],
             [
              0.2222222222222222,
              "#7201a8"
             ],
             [
              0.3333333333333333,
              "#9c179e"
             ],
             [
              0.4444444444444444,
              "#bd3786"
             ],
             [
              0.5555555555555556,
              "#d8576b"
             ],
             [
              0.6666666666666666,
              "#ed7953"
             ],
             [
              0.7777777777777778,
              "#fb9f3a"
             ],
             [
              0.8888888888888888,
              "#fdca26"
             ],
             [
              1,
              "#f0f921"
             ]
            ],
            "type": "surface"
           }
          ],
          "table": [
           {
            "cells": {
             "fill": {
              "color": "#EBF0F8"
             },
             "line": {
              "color": "white"
             }
            },
            "header": {
             "fill": {
              "color": "#C8D4E3"
             },
             "line": {
              "color": "white"
             }
            },
            "type": "table"
           }
          ]
         },
         "layout": {
          "annotationdefaults": {
           "arrowcolor": "#2a3f5f",
           "arrowhead": 0,
           "arrowwidth": 1
          },
          "autotypenumbers": "strict",
          "coloraxis": {
           "colorbar": {
            "outlinewidth": 0,
            "ticks": ""
           }
          },
          "colorscale": {
           "diverging": [
            [
             0,
             "#8e0152"
            ],
            [
             0.1,
             "#c51b7d"
            ],
            [
             0.2,
             "#de77ae"
            ],
            [
             0.3,
             "#f1b6da"
            ],
            [
             0.4,
             "#fde0ef"
            ],
            [
             0.5,
             "#f7f7f7"
            ],
            [
             0.6,
             "#e6f5d0"
            ],
            [
             0.7,
             "#b8e186"
            ],
            [
             0.8,
             "#7fbc41"
            ],
            [
             0.9,
             "#4d9221"
            ],
            [
             1,
             "#276419"
            ]
           ],
           "sequential": [
            [
             0,
             "#0d0887"
            ],
            [
             0.1111111111111111,
             "#46039f"
            ],
            [
             0.2222222222222222,
             "#7201a8"
            ],
            [
             0.3333333333333333,
             "#9c179e"
            ],
            [
             0.4444444444444444,
             "#bd3786"
            ],
            [
             0.5555555555555556,
             "#d8576b"
            ],
            [
             0.6666666666666666,
             "#ed7953"
            ],
            [
             0.7777777777777778,
             "#fb9f3a"
            ],
            [
             0.8888888888888888,
             "#fdca26"
            ],
            [
             1,
             "#f0f921"
            ]
           ],
           "sequentialminus": [
            [
             0,
             "#0d0887"
            ],
            [
             0.1111111111111111,
             "#46039f"
            ],
            [
             0.2222222222222222,
             "#7201a8"
            ],
            [
             0.3333333333333333,
             "#9c179e"
            ],
            [
             0.4444444444444444,
             "#bd3786"
            ],
            [
             0.5555555555555556,
             "#d8576b"
            ],
            [
             0.6666666666666666,
             "#ed7953"
            ],
            [
             0.7777777777777778,
             "#fb9f3a"
            ],
            [
             0.8888888888888888,
             "#fdca26"
            ],
            [
             1,
             "#f0f921"
            ]
           ]
          },
          "colorway": [
           "#636efa",
           "#EF553B",
           "#00cc96",
           "#ab63fa",
           "#FFA15A",
           "#19d3f3",
           "#FF6692",
           "#B6E880",
           "#FF97FF",
           "#FECB52"
          ],
          "font": {
           "color": "#2a3f5f"
          },
          "geo": {
           "bgcolor": "white",
           "lakecolor": "white",
           "landcolor": "#E5ECF6",
           "showlakes": true,
           "showland": true,
           "subunitcolor": "white"
          },
          "hoverlabel": {
           "align": "left"
          },
          "hovermode": "closest",
          "mapbox": {
           "style": "light"
          },
          "paper_bgcolor": "white",
          "plot_bgcolor": "#E5ECF6",
          "polar": {
           "angularaxis": {
            "gridcolor": "white",
            "linecolor": "white",
            "ticks": ""
           },
           "bgcolor": "#E5ECF6",
           "radialaxis": {
            "gridcolor": "white",
            "linecolor": "white",
            "ticks": ""
           }
          },
          "scene": {
           "xaxis": {
            "backgroundcolor": "#E5ECF6",
            "gridcolor": "white",
            "gridwidth": 2,
            "linecolor": "white",
            "showbackground": true,
            "ticks": "",
            "zerolinecolor": "white"
           },
           "yaxis": {
            "backgroundcolor": "#E5ECF6",
            "gridcolor": "white",
            "gridwidth": 2,
            "linecolor": "white",
            "showbackground": true,
            "ticks": "",
            "zerolinecolor": "white"
           },
           "zaxis": {
            "backgroundcolor": "#E5ECF6",
            "gridcolor": "white",
            "gridwidth": 2,
            "linecolor": "white",
            "showbackground": true,
            "ticks": "",
            "zerolinecolor": "white"
           }
          },
          "shapedefaults": {
           "line": {
            "color": "#2a3f5f"
           }
          },
          "ternary": {
           "aaxis": {
            "gridcolor": "white",
            "linecolor": "white",
            "ticks": ""
           },
           "baxis": {
            "gridcolor": "white",
            "linecolor": "white",
            "ticks": ""
           },
           "bgcolor": "#E5ECF6",
           "caxis": {
            "gridcolor": "white",
            "linecolor": "white",
            "ticks": ""
           }
          },
          "title": {
           "x": 0.05
          },
          "xaxis": {
           "automargin": true,
           "gridcolor": "white",
           "linecolor": "white",
           "ticks": "",
           "title": {
            "standoff": 15
           },
           "zerolinecolor": "white",
           "zerolinewidth": 2
          },
          "yaxis": {
           "automargin": true,
           "gridcolor": "white",
           "linecolor": "white",
           "ticks": "",
           "title": {
            "standoff": 15
           },
           "zerolinecolor": "white",
           "zerolinewidth": 2
          }
         }
        },
        "title": {
         "text": "Duration of Songs Over Time by Genre"
        },
        "xaxis": {
         "anchor": "y",
         "autorange": true,
         "domain": [
          0,
          1
         ],
         "range": [
          "2016-09-02 22:33:29.8067",
          "2024-11-22 10:28:36.1933"
         ],
         "title": {
          "text": "Date Added"
         },
         "type": "date"
        },
        "yaxis": {
         "anchor": "x",
         "autorange": true,
         "domain": [
          0,
          1
         ],
         "range": [
          -1.8980582524271845,
          24.898058252427184
         ],
         "title": {
          "text": "Hour Added"
         },
         "type": "linear"
        }
       }
      },
      "image/png": "[encoded data removed]",
      "text/html": [
       "<div>                            <div id=\"8eca1b26-bce4-44a6-9f5e-217e4575bf2e\" class=\"plotly-graph-div\" style=\"height:525px; width:100%;\"></div>            <script type=\"text/javascript\">                require([\"plotly\"], function(Plotly) {                    window.PLOTLYENV=window.PLOTLYENV || {};                                    if (document.getElementById(\"8eca1b26-bce4-44a6-9f5e-217e4575bf2e\")) {                    Plotly.newPlot(                        \"8eca1b26-bce4-44a6-9f5e-217e4575bf2e\",                        [{\"customdata\":[[\"A Place for My Head\"],[\"Lying from You\"],[\"Figure.09\"],[\"Hearts Burst into Fire\"],[\"Question!\"],[\"Wish I Had an Angel\"],[\"Animal I Have Become\"],[\"Welcome to the Family\"],[\"The Trooper - 2015 Remaster\"],[\"Everybody's Fool\"],[\"Unholy Confessions\"],[\"Almost Easy\"],[\"Chop Suey!\"],[\"So Far Away\"],[\"Afterlife\"],[\"Aerials\"],[\"The Middle\"],[\"Lost\"],[\"The Phantom Of The Opera\"],[\"IN MY REMAINS\"],[\"Points of Authority\"],[\"No More Sorrow\"],[\"Bleed It Out\"],[\"I Miss You\"],[\"Show Me How to Live\"],[\"Toxicity\"],[\"Final Masquerade\"],[\"POWERLESS\"],[\"Amaranth\"],[\"End Of All Hope\"],[\"One Step Closer\"],[\"Bullet With Butterfly Wings - Remastered 2012\"],[\"Future Days\"],[\"Conquer Or Die\"],[\"Tornado Of Souls - 2004 Remix\"],[\"This Ain't A Love Song\"],[\"The Devil in I\"],[\"Alone\"],[\"Heretic\"],[\"Buried Alive\"],[\"Dear God\"],[\"Solway Firth\"],[\"Duality\"],[\"Psychosocial\"],[\"New Divide\"],[\"Hail to the King\"],[\"Carry On\"],[\"Shepherd of Fire\"],[\"Even Flow\"],[\"B.Y.O.B.\"],[\"Sirens\"],[\"Waiting for the End\"],[\"Don't Stay\"],[\"One Last Breath\"],[\"Iridescent\"],[\"BURN IT DOWN\"],[\"Shadow of the Day\"],[\"Forgotten\"],[\"Leave Out All The Rest\"],[\"Runaway\"],[\"You Give Love A Bad Name\"],[\"Fury Of The Storm\"],[\"Through The Fire And Flames\"],[\"1979 - Remastered 2012\"],[\"Black\"],[\"Sirens\"],[\"Always\"],[\"Somewhere I Belong\"],[\"Numb\"],[\"In Pieces\"],[\"CASTLE OF GLASS\"],[\"Welcome To The Jungle\"],[\"Burning in the Skies\"],[\"Runaway\"],[\"Walk\"],[\"The Pretender\"],[\"Battle Symphony\"],[\"One More Light\"],[\"Heavy (feat. Kiiara)\"],[\"Talking to Myself\"],[\"Going Under\"],[\"Crawling\"],[\"Breaking the Habit\"],[\"In the End\"],[\"Everlong\"],[\"Today - 2011 Remaster\"],[\"Livin' On A Prayer\"],[\"Be Yourself\"],[\"Knockin' On Heaven's Door\"],[\"Over and Over\"],[\"Given Up\"],[\"Faint\"],[\"LOST IN THE ECHO\"],[\"What I've Done\"],[\"Like a Stone\"],[\"Invisible\"],[\"Sweet Child O' Mine\"],[\"Paradise City\"],[\"November Rain\"],[\"It's My Life\"],[\"I Hate Everything About You\"],[\"Last Resort\"],[\"Kryptonite\"],[\"Symphony Of Destruction - Remastered 2012\"],[\"Alive\"],[\"Sweet Child O' Mine\"]],\"hovertemplate\":\"Broad Genre=Metal<br>Date Added=%{x}<br>Hour Added=%{y}<br>Track Name=%{customdata[0]}<extra></extra>\",\"legendgroup\":\"Metal\",\"marker\":{\"color\":\"#636efa\",\"symbol\":\"circle\"},\"mode\":\"markers\",\"name\":\"Metal\",\"showlegend\":true,\"x\":[\"2024-06-12 12:45:21-05:00\",\"2024-04-05 14:12:20-05:00\",\"2024-04-05 14:01:47-05:00\",\"2024-02-26 15:27:38-05:00\",\"2024-02-26 15:16:37-05:00\",\"2024-02-26 15:11:24-05:00\",\"2024-02-26 15:08:43-05:00\",\"2024-02-25 22:23:43-05:00\",\"2024-02-24 21:06:19-05:00\",\"2024-02-24 21:00:20-05:00\",\"2024-02-24 20:38:17-05:00\",\"2024-02-24 20:34:31-05:00\",\"2024-02-05 23:14:25-05:00\",\"2023-09-01 12:45:59-05:00\",\"2023-05-16 07:57:03-05:00\",\"2023-05-08 08:20:09-05:00\",\"2023-04-19 22:25:57-05:00\",\"2023-02-13 11:52:50-05:00\",\"2022-12-05 21:46:52-05:00\",\"2022-12-03 21:44:56-05:00\",\"2022-12-03 21:38:09-05:00\",\"2022-12-03 21:36:17-05:00\",\"2022-12-03 21:36:07-05:00\",\"2022-09-28 19:29:05-05:00\",\"2022-09-21 16:19:09-05:00\",\"2021-04-17 11:12:21-05:00\",\"2020-11-19 17:15:36-05:00\",\"2020-11-19 16:15:03-05:00\",\"2020-11-05 17:54:15-05:00\",\"2020-11-05 17:51:03-05:00\",\"2020-10-23 09:33:54-05:00\",\"2020-08-16 20:56:29-05:00\",\"2020-07-21 10:50:43-05:00\",\"2020-04-21 18:36:14-05:00\",\"2020-04-21 18:28:15-05:00\",\"2020-01-31 08:20:37-05:00\",\"2020-01-01 01:25:29-05:00\",\"2019-11-28 10:47:20-05:00\",\"2019-11-27 16:33:56-05:00\",\"2019-11-27 16:30:02-05:00\",\"2019-11-27 16:28:32-05:00\",\"2019-11-25 22:40:28-05:00\",\"2019-11-25 22:36:25-05:00\",\"2019-11-25 22:30:48-05:00\",\"2019-11-07 22:14:28-05:00\",\"2019-10-31 16:00:43-05:00\",\"2019-10-31 15:55:57-05:00\",\"2019-10-31 15:54:20-05:00\",\"2019-09-11 20:58:56-05:00\",\"2019-07-12 11:09:43-05:00\",\"2018-12-29 23:48:55-05:00\",\"2018-12-05 18:47:50-05:00\",\"2018-11-27 13:27:13-05:00\",\"2018-10-24 17:32:56-05:00\",\"2018-09-29 21:11:39-05:00\",\"2018-09-29 21:11:10-05:00\",\"2018-09-29 21:10:45-05:00\",\"2018-09-29 21:08:14-05:00\",\"2018-09-29 21:08:09-05:00\",\"2018-09-29 21:04:36-05:00\",\"2018-09-20 23:11:33-05:00\",\"2018-09-01 08:49:51-05:00\",\"2018-08-31 22:25:44-05:00\",\"2018-08-16 00:13:46-05:00\",\"2018-08-04 21:54:30-05:00\",\"2018-07-01 21:38:27-05:00\",\"2018-05-22 15:52:06-05:00\",\"2018-04-04 06:39:13-05:00\",\"2018-03-06 12:44:06-05:00\",\"2018-03-06 12:42:37-05:00\",\"2018-03-06 12:42:11-05:00\",\"2018-02-25 11:23:23-05:00\",\"2017-10-31 18:00:24-05:00\",\"2017-10-30 18:12:39-05:00\",\"2017-09-10 18:31:56-05:00\",\"2017-09-10 18:31:29-05:00\",\"2017-09-10 02:10:53-05:00\",\"2017-08-10 23:53:24-05:00\",\"2017-08-10 22:15:07-05:00\",\"2017-08-06 01:30:41-05:00\",\"2017-08-02 11:47:34-05:00\",\"2017-07-20 22:10:53-05:00\",\"2017-07-20 22:10:45-05:00\",\"2017-07-20 22:10:36-05:00\",\"2017-07-16 21:30:15-05:00\",\"2017-06-28 20:51:52-05:00\",\"2017-06-25 20:47:18-05:00\",\"2017-06-23 18:57:22-05:00\",\"2017-06-23 18:45:12-05:00\",\"2017-06-09 06:27:56-05:00\",\"2017-05-18 22:11:28-05:00\",\"2017-05-18 21:58:52-05:00\",\"2017-05-18 21:58:22-05:00\",\"2017-05-18 21:58:09-05:00\",\"2017-05-18 13:19:59-05:00\",\"2017-05-14 10:45:40-05:00\",\"2017-05-01 22:03:12-05:00\",\"2017-05-01 22:03:04-05:00\",\"2017-05-01 22:02:49-05:00\",\"2017-04-21 16:09:54-05:00\",\"2017-04-09 18:45:17-05:00\",\"2017-04-09 18:40:14-05:00\",\"2017-04-09 18:33:46-05:00\",\"2017-04-02 17:26:17-05:00\",\"2017-02-14 09:32:42-05:00\",\"2017-02-14 09:32:04-05:00\"],\"xaxis\":\"x\",\"y\":[12,14,14,15,15,15,15,22,21,21,20,20,23,12,7,8,22,11,21,21,21,21,21,19,16,11,17,16,17,17,9,20,10,18,18,8,1,10,16,16,16,22,22,22,22,16,15,15,20,11,23,18,13,17,21,21,21,21,21,21,23,8,22,0,21,21,15,6,12,12,12,11,18,18,18,18,2,23,22,1,11,22,22,22,21,20,20,18,18,6,22,21,21,21,13,10,22,22,22,16,18,18,18,17,9,9],\"yaxis\":\"y\",\"type\":\"scattergl\"},{\"customdata\":[[\"Brickell\"],[\"Exclusive.mp3\"],[\"Llorar\\u00e1s\"],[\"Perd\\u00f3name\"],[\"50 Ways to Say Goodbye\"],[\"Darte Amor\"],[\"Murder On The Dancefloor\"],[\"50 Horas\"],[\"Nada Valgo Sin Tu Amor\"],[\"Nada Fue Un Error\"],[\"Ni\\u00f1a\"],[\"Por Fin Te Encontr\\u00e9\"],[\"Burning Friday Night\"],[\"CLASSY 101\"],[\"DE LUNES A LUNES\"],[\"Para Ti\"],[\"Quisiera\"],[\"El Calendario\"],[\"Reggaet\\u00f3n Lento (Bailemos)\"],[\"La Tortura (feat. Alejandro Sanz)\"],[\"Hips Don't Lie (feat. Wyclef Jean)\"],[\"ADI\\u00d3S (Live Version)\"],[\"Hang The Cyst\"],[\"Pattern\"],[\"She Does The Woods\"],[\"Used To Be My Girl\"],[\"Aviation\"],[\"My Mistakes Were Made For You\"],[\"Standing Next To Me\"],[\"Miracle Aligner\"],[\"Sweet Dreams, TN\"],[\"PROBLEMI CON TUTTI (GIUDA)\"],[\"Hey Baby (Drop It to the Floor) (feat. T-Pain)\"],[\"A Dios Le Pido\"],[\"P\\u00eddeme\"],[\"Perderme Contigo\"],[\"NIGHT DANCER\"],[\"Pedro\"],[\"Io non vivo senza te\"],[\"The Only Exception\"],[\"You First\"],[\"This Is Why\"],[\"Pool\"],[\"Rose-Colored Boy\"],[\"Otra Ocupa Mi Lugar\"],[\"Hace Tiempo\"],[\"Deamon Lover\"],[\"Emergency\"],[\"Hello Cold World\"],[\"No Te Pido Flores\"],[\"Esa Muchachita\"],[\"El Problem\\u00f3n\"],[\"Readymade\"],[\"Stop This Song (Love Sick Melody)\"],[\"Backlight\"],[\"Todo Lo Que Quieres Es Bailar (feat. Descemer Bueno)\"],[\"Told You So\"],[\"I Caught Myself\"],[\"Pressure\"],[\"Non c'\\u00e8 rimedio\"],[\"Ignorance\"],[\"Let the Flames Begin\"],[\"crushcrushcrush\"],[\"Tacones Rojos\"],[\"Total Eclipse of the Heart\"],[\"It's Not Unusual\"],[\"This Is Me\"],[\"Venus\"],[\"My Way - 2008 Remastered\"],[\"Sara' Perche Ti Amo\"],[\"La solitudine\"],[\"Like a Prayer\"],[\"Like a Virgin\"],[\"Gimme! Gimme! Gimme! (A Man After Midnight)\"],[\"Lay All Your Love On Me\"],[\"Thinking out Loud\"],[\"Perfect\"],[\"Save You\"],[\"Team\"],[\"Som Ocells\"],[\"como si no importara\"],[\"Wild Blue\"],[\"Your Love\"],[\"Harvest Moon\"],[\"Covered in Rain - Live at Tweeter Center, Philadelphia, Pennsylvania, August 2004\"],[\"Belief - Live at the Nokia Theatre, Los Angeles, CA - December 2007\"],[\"Belief\"],[\"good 4 u\"],[\"Ibiza\"],[\"Devuelveme\"],[\"Todo De Ti\"],[\"Toxic\"],[\"Brick by Boring Brick\"],[\"Homecoming\"],[\"Hey, Soul Sister\"],[\"I Don't Need No Doctor - Live at the Nokia Theatre, Los Angeles, CA - December 2007\"],[\"I'm Gonna Find Another You\"],[\"Caramelo\"],[\"Torn\"],[\"Una voglia assurda\"],[\"Rude\"],[\"Magic\"],[\"Moving On and Getting Over\"],[\"Gravity - Live at the Nokia Theatre, Los Angeles, CA - December 2007\"],[\"Slow Dancing in a Burning Room\"],[\"Helpless\"],[\"Yo x Ti, Tu x Mi\"],[\"Le luci della citt\\u00e0\"],[\"Mal di gola\"],[\"Neon - Live at the Nokia Theatre, Los Angeles, CA - December 2007\"],[\"Nandemonaiya - movie ver.\"],[\"You Are Young\"],[\"My Way\"],[\"Te Quiero Amar\"],[\"Te Voy A Amar\"],[\"Brandy (You're a Fine Girl)\"],[\"Trouble\"],[\"For A Better Day\"],[\"99 Luftballons\"],[\"Drown\"],[\"Buona fortuna\"],[\"all the good girls go to hell\"],[\"I Have Nothing\"],[\"ocean eyes\"],[\"Sunday Morning\"],[\"1973\"],[\"You're Beautiful\"],[\"Goodbye My Lover\"],[\"Complicated\"],[\"I Write Sins Not Tragedies\"],[\"Time to Dance\"],[\"50 Special\"],[\"Summer Of '69\"],[\"I'm Yours\"],[\"Kangaroo Court\"],[\"Pump It\"],[\"High Hopes\"],[\"Mi Primer Millon\"],[\"I Want It That Way\"],[\"Billionaire (feat. Bruno Mars)\"],[\"Te Mando Flores\"],[\"Space\"],[\"Something Just Like This\"],[\"Perfect\"],[\"Se Prepar\\u00f3\"],[\"Me Reh\\u00faso\"],[\"Sovereign Light Caf\\u00e9\"],[\"Everybody's Changing\"],[\"Cuando Me Enamoro\"],[\"Nuova Ossessione\"],[\"Miracle\"],[\"Cooler Than Me - Single Mix\"],[\"Ain't It Fun\"],[\"Still into You\"],[\"D\\u00e9jala Que Vuelva (feat. Manuel Turizo)\"],[\"Misery Business\"],[\"Hard Times\"],[\"What You Say\"],[\"Somewhere Only We Know\"],[\"Piccole cose (feat. Alessandra Amoroso)\"],[\"Vorrei ma non posto\"],[\"Libero\"],[\"That's What You Get\"],[\"Decode - Twilight Soundtrack Version\"],[\"La Camisa Negra\"],[\"Tabaco y Chanel\"],[\"Caraluna\"],[\"Extraordinary (feat. Sharna Bass)\"],[\"Carry On\"],[\"Slow Hands\"],[\"No Diggity\"],[\"Faith - Remastered\"],[\"Talk Is Cheap\"],[\"December, 1963 (Oh What a Night!)\"],[\"Sugar\"],[\"Somebody That I Used To Know\"],[\"Sign of the Times\"],[\"The Tracks Of My Tears\"],[\"Iris\"],[\"Live Is Life (Digitally Remastered) (Single Version)\"],[\"End Of The Road\"],[\"She Will Be Loved\"],[\"The Sweet Escape\"],[\"Corner of the Earth\"],[\"Symphony (feat. Zara Larsson)\"],[\"Old Thing Back (feat. Ja Rule and Ralph Tresvant)\"]],\"hovertemplate\":\"Broad Genre=Pop<br>Date Added=%{x}<br>Hour Added=%{y}<br>Track Name=%{customdata[0]}<extra></extra>\",\"legendgroup\":\"Pop\",\"marker\":{\"color\":\"#EF553B\",\"symbol\":\"circle\"},\"mode\":\"markers\",\"name\":\"Pop\",\"showlegend\":true,\"x\":[\"2024-06-11 17:57:50-05:00\",\"2024-05-24 17:12:24-05:00\",\"2024-05-02 00:41:05-05:00\",\"2024-04-15 22:26:31-05:00\",\"2024-02-27 20:45:03-05:00\",\"2024-02-08 14:37:00-05:00\",\"2024-01-22 00:27:52-05:00\",\"2024-01-11 17:33:06-05:00\",\"2024-01-01 18:34:49-05:00\",\"2024-01-01 16:41:24-05:00\",\"2023-12-07 16:00:10-05:00\",\"2023-10-26 23:07:52-05:00\",\"2023-10-15 20:37:22-05:00\",\"2023-10-13 22:50:21-05:00\",\"2023-09-25 20:45:54-05:00\",\"2023-09-23 20:38:10-05:00\",\"2023-09-23 20:33:28-05:00\",\"2023-09-23 20:29:32-05:00\",\"2023-09-09 13:42:31-05:00\",\"2023-09-08 18:41:34-05:00\",\"2023-09-08 18:41:33-05:00\",\"2023-08-01 23:45:39-05:00\",\"2023-08-01 20:30:18-05:00\",\"2023-08-01 20:14:35-05:00\",\"2023-07-16 21:08:23-05:00\",\"2023-07-16 21:05:12-05:00\",\"2023-07-16 20:57:59-05:00\",\"2023-07-16 12:19:53-05:00\",\"2023-07-16 12:19:51-05:00\",\"2023-07-16 12:19:49-05:00\",\"2023-07-16 12:19:48-05:00\",\"2023-07-04 19:34:08-05:00\",\"2023-06-23 21:11:43-05:00\",\"2023-06-20 07:42:15-05:00\",\"2023-06-12 16:39:51-05:00\",\"2023-06-08 22:17:43-05:00\",\"2023-05-08 20:04:25-05:00\",\"2023-04-03 19:21:36-05:00\",\"2023-04-02 17:38:54-05:00\",\"2023-03-02 07:21:20-05:00\",\"2023-03-02 07:21:05-05:00\",\"2023-03-01 18:57:57-05:00\",\"2023-02-28 08:09:29-05:00\",\"2023-02-28 08:09:21-05:00\",\"2023-02-15 16:40:13-05:00\",\"2023-01-20 16:55:36-05:00\",\"2023-01-01 21:17:51-05:00\",\"2022-12-06 18:12:41-05:00\",\"2022-12-06 18:07:50-05:00\",\"2022-11-29 07:53:58-05:00\",\"2022-11-29 07:53:39-05:00\",\"2022-11-24 13:36:01-05:00\",\"2022-11-09 22:40:18-05:00\",\"2022-11-09 18:19:25-05:00\",\"2022-11-02 22:07:21-05:00\",\"2022-10-26 23:24:16-05:00\",\"2022-10-26 21:36:36-05:00\",\"2022-10-23 18:35:40-05:00\",\"2022-10-23 18:20:07-05:00\",\"2022-10-23 16:20:04-05:00\",\"2022-10-10 12:34:45-05:00\",\"2022-10-08 11:38:09-05:00\",\"2022-10-07 18:21:37-05:00\",\"2022-09-25 17:40:19-05:00\",\"2022-08-27 18:13:09-05:00\",\"2022-08-05 18:56:14-05:00\",\"2022-07-07 07:54:53-05:00\",\"2022-05-29 22:35:57-05:00\",\"2022-04-22 07:47:55-05:00\",\"2022-04-21 18:09:02-05:00\",\"2022-04-11 15:52:07-05:00\",\"2022-04-07 07:57:22-05:00\",\"2022-04-07 07:55:15-05:00\",\"2022-03-12 09:31:40-05:00\",\"2022-03-12 09:27:41-05:00\",\"2021-12-11 00:29:41-05:00\",\"2021-10-21 10:10:19-05:00\",\"2021-10-21 10:10:09-05:00\",\"2021-08-14 11:20:32-05:00\",\"2021-07-27 21:18:17-05:00\",\"2021-07-25 19:36:30-05:00\",\"2021-07-16 11:37:11-05:00\",\"2021-07-14 10:56:09-05:00\",\"2021-06-15 20:13:38-05:00\",\"2021-06-12 20:26:40-05:00\",\"2021-06-12 20:26:37-05:00\",\"2021-06-12 09:00:25-05:00\",\"2021-06-03 09:57:30-05:00\",\"2021-06-02 00:17:55-05:00\",\"2021-05-31 11:27:54-05:00\",\"2021-05-28 19:41:46-05:00\",\"2021-04-17 11:12:23-05:00\",\"2020-11-19 16:28:08-05:00\",\"2020-10-25 19:49:50-05:00\",\"2020-10-03 00:31:49-05:00\",\"2020-08-14 00:23:02-05:00\",\"2020-08-14 00:17:23-05:00\",\"2020-07-06 22:35:11-05:00\",\"2020-06-18 10:52:34-05:00\",\"2020-06-05 08:45:13-05:00\",\"2020-05-13 20:20:41-05:00\",\"2020-05-05 14:07:10-05:00\",\"2020-03-18 23:19:20-05:00\",\"2020-03-18 22:55:43-05:00\",\"2020-03-18 22:46:34-05:00\",\"2020-03-18 22:34:26-05:00\",\"2020-03-11 19:44:44-05:00\",\"2020-03-01 00:55:52-05:00\",\"2020-02-21 14:09:56-05:00\",\"2020-02-19 17:10:03-05:00\",\"2020-02-16 11:41:54-05:00\",\"2020-01-31 07:04:39-05:00\",\"2020-01-30 20:05:11-05:00\",\"2020-01-14 13:21:03-05:00\",\"2020-01-12 18:52:21-05:00\",\"2019-12-24 21:22:42-05:00\",\"2019-12-15 11:36:26-05:00\",\"2019-12-15 11:31:53-05:00\",\"2019-11-18 21:20:42-05:00\",\"2019-10-22 22:56:46-05:00\",\"2019-10-13 22:34:41-05:00\",\"2019-09-07 07:49:49-05:00\",\"2019-07-29 22:11:12-05:00\",\"2019-07-25 13:03:21-05:00\",\"2019-05-05 00:58:20-05:00\",\"2019-04-02 16:55:41-05:00\",\"2019-03-29 21:42:43-05:00\",\"2019-03-29 21:42:40-05:00\",\"2019-02-20 23:05:00-05:00\",\"2019-02-08 10:34:44-05:00\",\"2019-02-08 10:34:39-05:00\",\"2018-12-29 01:13:26-05:00\",\"2018-12-28 10:35:46-05:00\",\"2018-12-15 23:42:55-05:00\",\"2018-11-12 20:34:02-05:00\",\"2018-10-26 20:12:01-05:00\",\"2018-10-23 11:19:36-05:00\",\"2018-09-23 22:41:24-05:00\",\"2018-09-21 18:10:51-05:00\",\"2018-09-06 09:43:28-05:00\",\"2018-08-14 17:46:54-05:00\",\"2018-08-03 16:58:23-05:00\",\"2018-07-16 07:21:41-05:00\",\"2018-04-21 00:37:04-05:00\",\"2018-03-17 00:12:44-05:00\",\"2018-03-17 00:12:20-05:00\",\"2018-01-14 16:12:21-05:00\",\"2018-01-14 16:10:43-05:00\",\"2018-01-08 08:59:15-05:00\",\"2017-12-09 14:04:50-05:00\",\"2017-12-04 22:45:03-05:00\",\"2017-11-30 14:58:45-05:00\",\"2017-11-29 21:07:37-05:00\",\"2017-11-29 21:06:38-05:00\",\"2017-11-26 21:19:51-05:00\",\"2017-11-14 22:50:12-05:00\",\"2017-11-14 22:46:00-05:00\",\"2017-11-14 19:41:46-05:00\",\"2017-11-04 11:59:05-05:00\",\"2017-09-17 22:15:02-05:00\",\"2017-09-15 09:25:21-05:00\",\"2017-09-15 08:59:22-05:00\",\"2017-08-02 11:48:10-05:00\",\"2017-08-02 11:47:54-05:00\",\"2017-08-02 11:45:23-05:00\",\"2017-07-26 13:28:46-05:00\",\"2017-07-26 13:27:23-05:00\",\"2017-07-18 13:18:02-05:00\",\"2017-07-13 08:07:12-05:00\",\"2017-07-02 20:01:59-05:00\",\"2017-06-27 19:24:39-05:00\",\"2017-06-25 20:46:34-05:00\",\"2017-06-21 21:31:30-05:00\",\"2017-06-15 16:55:08-05:00\",\"2017-06-10 20:01:23-05:00\",\"2017-05-28 18:44:31-05:00\",\"2017-05-26 16:06:01-05:00\",\"2017-05-05 14:07:05-05:00\",\"2017-04-27 13:04:47-05:00\",\"2017-04-21 12:56:14-05:00\",\"2017-04-11 21:22:48-05:00\",\"2017-04-06 22:08:51-05:00\",\"2017-03-28 10:04:14-05:00\",\"2017-03-26 19:28:33-05:00\",\"2017-03-26 12:46:24-05:00\",\"2017-03-26 11:40:16-05:00\"],\"xaxis\":\"x\",\"y\":[17,17,0,22,20,14,0,17,18,16,16,23,20,22,20,20,20,20,13,18,18,23,20,20,21,21,20,12,12,12,12,19,21,7,16,22,20,19,17,7,7,18,8,8,16,16,21,18,18,7,7,13,22,18,22,23,21,18,18,16,12,11,18,17,18,18,7,22,7,18,15,7,7,9,9,0,10,10,11,21,19,11,10,20,20,20,9,9,0,11,19,11,16,19,0,0,0,22,10,8,20,14,23,22,22,22,19,0,14,17,11,7,20,13,18,21,11,11,21,22,22,7,22,13,0,16,21,21,23,10,10,1,10,23,20,20,11,22,18,9,17,16,7,0,0,0,16,16,8,14,22,14,21,21,21,22,22,19,11,22,9,8,11,11,11,13,13,13,8,20,19,20,21,16,20,18,16,14,13,12,21,22,10,19,12,11],\"yaxis\":\"y\",\"type\":\"scattergl\"},{\"customdata\":[[\"MY EYES\"],[\"Hustlers\"],[\"UN MONT\\u00d3N\"],[\"WACHA\"],[\"Hold On, We're Going Home\"],[\"Yeah Glo!\"],[\"Ojos Verdes\"],[\"Coyote\"],[\"Ciudad de la Paz\"],[\"Mu\\u00f1ecas\"],[\"Buenos tiempos\"],[\"Mi peor enemigo\"],[\"La novia de mi amigo\"],[\"Cirug\\u00eda\"],[\"offline\"],[\"BESAME (feat. Tiago PZK, Khea & Neo Pistea) - Remix\"],[\"LADRONA - con Mario Luis\"],[\"Creo Que (feat. Asan)\"],[\"A PURO DOLOR\"],[\"Insta Lova\"],[\"Daddy feat. Sfera Ebbasta & Leto (de PSO Thug)\"],[\"M' Manc (con Geolier & Sfera Ebbasta)\"],[\"Piel\"],[\"C\\u00f3mo Le Digo\"],[\"Pensabas\"],[\"Sol y Luna\"],[\"Loca\"],[\"Tu Ritmo\"],[\"Tanta Droga\"],[\"Triste (with Feid)\"],[\"Pininfarina - Remix\"],[\"Fvck Luv\"],[\"No Cap\"],[\"CU\\u00c1NTOS T\\u00c9RMINOS?\"],[\"Cupido (with Khea & Duki feat. Quavo & Elettra Lamborghini) - RMX\"],[\"Princess Diana (with Nicki Minaj)\"],[\"No Me Llores\"],[\"Double Bass\"],[\"Oil (feat. Stevie Nicks)\"],[\"Mala\"],[\"Manicomio\"],[\"CALL ME MAYBE\"],[\"Kemba Walker\"],[\"SINVERG\\u00dcENZA - con Angela Torres\"],[\"The Spins\"],[\"Papa Noel\"],[\"ALV\"],[\"23\"],[\"Yandel 150\"],[\"Thug Passion (ft. Jewell, Outlawz, The Storm)\"],[\"Catch Me Outside\"],[\"Young Flex\"],[\"SANDUNGA\"],[\"L\\u00e1grimas | CROSSOVER #4\"],[\"LOCO X TU CUERPO\"],[\"NO DA M\\u00c1S\"],[\"LUGARES QUE LLEGO\"],[\"La Jumpa\"],[\"ADICTO\"],[\"Dreams, Fairytales, Fantasies (feat. Brent Faiyaz & Salaam Remi)\"],[\"Ele Uve\"],[\"NANA\"],[\"BBYNOSE_147BPM9S\"],[\"TOMBOY\"],[\"One Million Dollar Baby\"],[\"Take A Step Back\"],[\"Mis Ojos Lloran Por Ti\"],[\"El Hokage\"],[\"Que Somos - Remix\"],[\"BabyWipe\"],[\"All Girls Are The Same\"],[\"Quavo #Mododiablo\"],[\"Vuelta a la Luna - Remix\"],[\"Goteo - Remix\"],[\"3 Am\"],[\"Metele Saz\\u00f3n\"],[\"Pa' Que Retozen\"],[\"Nota\"],[\"qu\\u00e9 le pasa conmigo?\"],[\"Tenso\"],[\"Me Usaste\"],[\"Lean Wit Me\"],[\"Wishing Well\"],[\"Robbery\"],[\"Si Te Sentis Sola\"],[\"antes de perderte (OG VERSION)\"],[\"Real Muthaphuckkin G's\"],[\"Te Busco\"],[\"NO voy a llorar :')\"],[\"CAEN LAS ESTRELLAS\"],[\"ATORRANTE - con Los Palmeras\"],[\"Lovumba\"],[\"No Me Dejes Solo\"],[\"Mentiras | CROSSOVER #3\"],[\"AEROBICO REMIX\"],[\"Hijo De La Noche\"],[\"Goteo\"],[\"GiGi\"],[\"ID\"],[\"Ayer Me Llam\\u00f3 Mi Ex\"],[\"How Do U Want It\"],[\"Hood Took Me Under\"],[\"Ticket\"],[\"Remember Me\"],[\"Un Finde | CROSSOVER #2\"],[\"LOVE. FEAT. ZACARI.\"],[\"Me Enter\\u00e9\"],[\"Columbia\"],[\"Hello Cotto\"],[\"TRAP.N.EXPORT (feat. Duki, Ysy A & Neo Pistea)\"],[\"Silent Running (feat. Adeleye Omotayo)\"],[\"Baby Queen\"],[\"DISPARA ***\"],[\"Mbappe\"],[\"Si la Calle Llama\"],[\"Water\"],[\"CSIpher (audio latino)\"],[\"Chico Estrella\"],[\"RoCKSTAR 2.0\"],[\"Freestyle Session #11\"],[\"RIP Roach\"],[\"Hope\"],[\"Los del Espacio\"],[\"Cont\\u00e9stame el Tel\\u00e9fono (feat. Flex)\"],[\"POST MORTEM\"],[\"OLA DE SUICIDIOS\"],[\"You Know How We Do It\"],[\"aPoLLo13\"],[\"Si Me Sobrara el Tiempo\"],[\"New Gold (feat. Tame Impala and Bootie Brown)\"],[\"Cracker Island (feat. Thundercat)\"],[\"MEMORIAS\"],[\"Ayer La Vi\"],[\"Nublado (feat. Travis Barker)\"],[\"Duki: Bzrp Music Sessions, Vol. 50\"],[\"Noche de Novela (feat. Ed Sheeran)\"],[\"Guersace\"],[\"Party en el Barrio (feat. Duki)\"],[\"Surf\"],[\"VISTA AL MAR\"],[\"Dominicana\"],[\"Chucky73: Bzrp Music Sessions, Vol. 43\"],[\"El Amor\"],[\"Pintao\"],[\"REALITY\"],[\"RILI RILI\"],[\"GIVENCHY\"],[\"Quevedo: Bzrp Music Sessions, Vol. 52\"],[\"No More ?'s\"],[\"Express Yourself - Remix\"],[\"California Love - Original Version\"],[\"Nuthin' But A \\\"G\\\" Thang\"],[\"Fuck Tha Police\"],[\"No Vaseline\"],[\"Villano Antillano: Bzrp Music Sessions, Vol. 51\"],[\"Antes de Perderte\"],[\"A$AP\"],[\"Ahora y Siempre\"],[\"Chamaquita\"],[\"Respuesta Cero\"],[\"WAIFU_153BPM2B\"],[\"BICICLETA\"],[\"Guchi Polo\"],[\"La Trampa es Ley\"],[\"220\"],[\"Plan A\"],[\"L-Gante: Bzrp Music Sessions, Vol.38\"],[\"JUNGLE\"],[\"Entre Nosotros (Remix) [con Nicki Nicole]\"],[\"Pinta\"],[\"YIN YAN\"],[\"Tiago PZK: Bzrp Music Sessions, Vol. 48\"],[\"Dillom: Bzrp Music Sessions, Vol. 9\"],[\"TOP 5\"],[\"Sin Frenos\"],[\"ROCKETPOWERS\"],[\"PELOTUDA\"],[\"LA PRIMERA\"],[\"Mamichula - con Nicki Nicole\"],[\"DANCE CRIP\"],[\"PISO 13\"],[\"She Don't Give a Fo\"],[\"Unfollow\"],[\"Adem\\u00e1s de M\\u00ed - Remix\"],[\"YaMeFui\"],[\"My Bag\"],[\"SNITCH E IMPICCI (feat. FSK SATELLITE)\"],[\"Tesla (feat. Sfera Ebbasta & DrefGold)\"],[\"Dame Una Nite\"],[\"Dejame Tranki\"],[\"Mala M\\u00eda\"],[\"Lassie\"],[\"Prende la C\\u00e1mara\"],[\"California\"],[\"Entre Nosotros\"],[\"KHEA: Bzrp Music Sessions, Vol. 34\"],[\"Malbec\"],[\"Eladio Carrion: Bzrp Music Sessions, Vol. 40\"],[\"Sauce\"],[\"OPA\"],[\"DUDADE\"],[\"Zaramay: Bzrp Music Sessions, Vol. 31\"],[\"Snow Tha Product: Bzrp Music Sessions, Vol. 39\"],[\"Nathy Peluso: Bzrp Music Sessions, Vol. 36\"],[\"Flexin'\"],[\"Circles\"],[\"QUELLI CHE NON PENSANO - Il cervello (feat. Coez)\"],[\"Monster\"],[\"Dark Fantasy\"],[\"Better Now\"],[\"Lucid Dreams\"],[\"XO Tour Llif3\"],[\"Davide (feat. Coez)\"],[\"Redbone\"],[\"Crazy\"],[\"Lowrider - Edited LP Version\"],[\"On Melancholy Hill\"],[\"Clint Eastwood\"],[\"Feel Good Inc.\"],[\"White Iverson\"],[\"Congratulations\"],[\"Big Lie\"],[\"Hypnotize - 2014 Remaster\"],[\"Gettin' Jiggy Wit It\"],[\"Ice Ice Baby\"],[\"Big Poppa - 2005 Remaster\"],[\"Juicy - 2005 Remaster\"]],\"hovertemplate\":\"Broad Genre=Hip Hop<br>Date Added=%{x}<br>Hour Added=%{y}<br>Track Name=%{customdata[0]}<extra></extra>\",\"legendgroup\":\"Hip Hop\",\"marker\":{\"color\":\"#00cc96\",\"symbol\":\"circle\"},\"mode\":\"markers\",\"name\":\"Hip Hop\",\"showlegend\":true,\"x\":[\"2024-06-10 20:04:56-05:00\",\"2024-06-04 21:30:10-05:00\",\"2024-05-30 19:46:57-05:00\",\"2024-05-04 09:03:26-05:00\",\"2024-04-28 02:02:31-05:00\",\"2024-04-27 23:16:24-05:00\",\"2024-04-26 17:50:57-05:00\",\"2024-04-26 12:53:29-05:00\",\"2024-04-26 11:44:17-05:00\",\"2024-04-26 11:34:33-05:00\",\"2024-04-26 11:28:03-05:00\",\"2024-04-26 11:12:21-05:00\",\"2024-04-26 11:00:33-05:00\",\"2024-04-26 11:00:32-05:00\",\"2024-04-23 12:33:11-05:00\",\"2024-04-17 11:51:31-05:00\",\"2024-04-10 11:41:16-05:00\",\"2024-02-28 18:05:50-05:00\",\"2024-02-28 00:29:32-05:00\",\"2024-02-27 20:53:48-05:00\",\"2024-02-27 20:45:18-05:00\",\"2024-02-07 16:06:41-05:00\",\"2024-02-02 12:41:29-05:00\",\"2024-01-26 15:27:30-05:00\",\"2024-01-23 15:37:58-05:00\",\"2024-01-23 12:40:51-05:00\",\"2024-01-23 00:47:35-05:00\",\"2024-01-19 02:20:56-05:00\",\"2024-01-19 01:55:36-05:00\",\"2024-01-16 00:20:11-05:00\",\"2024-01-10 08:15:43-05:00\",\"2023-12-29 13:16:37-05:00\",\"2023-12-26 22:13:22-05:00\",\"2023-12-26 22:06:08-05:00\",\"2023-12-26 09:19:37-05:00\",\"2023-12-23 19:07:47-05:00\",\"2023-12-21 07:39:49-05:00\",\"2023-12-20 16:52:50-05:00\",\"2023-12-20 16:41:22-05:00\",\"2023-12-17 21:23:04-05:00\",\"2023-12-12 11:38:33-05:00\",\"2023-12-10 20:26:12-05:00\",\"2023-12-08 13:29:57-05:00\",\"2023-12-05 22:43:10-05:00\",\"2023-12-05 14:48:58-05:00\",\"2023-12-03 20:35:08-05:00\",\"2023-12-02 15:18:18-05:00\",\"2023-12-01 10:30:47-05:00\",\"2023-11-26 22:43:30-05:00\",\"2023-11-26 18:43:37-05:00\",\"2023-11-15 12:26:04-05:00\",\"2023-11-15 01:43:30-05:00\",\"2023-11-14 00:52:26-05:00\",\"2023-11-12 16:25:51-05:00\",\"2023-11-12 00:22:18-05:00\",\"2023-11-12 00:22:13-05:00\",\"2023-11-11 21:04:28-05:00\",\"2023-11-09 13:33:41-05:00\",\"2023-10-30 23:43:23-05:00\",\"2023-10-29 21:41:43-05:00\",\"2023-10-29 19:48:16-05:00\",\"2023-10-29 13:47:52-05:00\",\"2023-10-28 15:42:39-05:00\",\"2023-10-28 15:31:26-05:00\",\"2023-10-26 10:34:18-05:00\",\"2023-10-22 18:53:20-05:00\",\"2023-10-17 01:19:54-05:00\",\"2023-10-15 11:58:40-05:00\",\"2023-10-14 13:41:43-05:00\",\"2023-10-10 16:10:09-05:00\",\"2023-10-08 20:28:12-05:00\",\"2023-10-07 17:57:39-05:00\",\"2023-10-07 02:30:54-05:00\",\"2023-10-06 13:51:32-05:00\",\"2023-10-04 13:52:52-05:00\",\"2023-10-03 14:15:48-05:00\",\"2023-10-03 14:15:45-05:00\",\"2023-09-28 01:06:54-05:00\",\"2023-09-25 12:34:35-05:00\",\"2023-09-25 01:43:06-05:00\",\"2023-09-24 11:52:34-05:00\",\"2023-09-21 17:52:29-05:00\",\"2023-09-21 10:53:27-05:00\",\"2023-09-20 13:48:34-05:00\",\"2023-09-20 12:53:47-05:00\",\"2023-09-19 15:22:22-05:00\",\"2023-09-15 18:40:56-05:00\",\"2023-09-12 19:41:48-05:00\",\"2023-09-12 16:45:20-05:00\",\"2023-09-12 16:41:56-05:00\",\"2023-09-11 11:26:10-05:00\",\"2023-09-09 12:37:05-05:00\",\"2023-09-09 12:37:00-05:00\",\"2023-09-08 12:34:57-05:00\",\"2023-09-04 13:56:29-05:00\",\"2023-09-01 13:22:52-05:00\",\"2023-08-20 01:40:04-05:00\",\"2023-08-20 00:55:25-05:00\",\"2023-08-13 23:46:55-05:00\",\"2023-08-13 02:21:54-05:00\",\"2023-08-12 22:26:08-05:00\",\"2023-08-09 12:06:07-05:00\",\"2023-08-02 18:42:16-05:00\",\"2023-08-02 15:26:29-05:00\",\"2023-08-02 10:35:07-05:00\",\"2023-07-28 18:37:20-05:00\",\"2023-07-27 14:50:46-05:00\",\"2023-07-25 17:09:16-05:00\",\"2023-07-18 14:46:06-05:00\",\"2023-07-15 12:23:32-05:00\",\"2023-07-13 00:14:30-05:00\",\"2023-07-13 00:07:45-05:00\",\"2023-07-06 10:51:39-05:00\",\"2023-07-03 19:48:24-05:00\",\"2023-06-29 18:21:21-05:00\",\"2023-06-27 12:25:46-05:00\",\"2023-06-23 09:29:36-05:00\",\"2023-06-22 21:29:41-05:00\",\"2023-06-22 09:18:22-05:00\",\"2023-06-21 13:20:30-05:00\",\"2023-06-21 12:57:35-05:00\",\"2023-06-20 12:29:33-05:00\",\"2023-06-11 02:19:57-05:00\",\"2023-06-02 10:18:38-05:00\",\"2023-05-20 13:01:58-05:00\",\"2023-05-16 19:12:52-05:00\",\"2023-05-11 07:06:25-05:00\",\"2023-05-04 11:57:06-05:00\",\"2023-03-11 11:40:10-05:00\",\"2023-02-26 11:18:13-05:00\",\"2023-02-24 19:53:08-05:00\",\"2023-02-11 16:26:08-05:00\",\"2022-11-29 08:12:22-05:00\",\"2022-11-22 21:22:47-05:00\",\"2022-11-17 12:51:05-05:00\",\"2022-11-12 11:46:56-05:00\",\"2022-10-23 16:19:28-05:00\",\"2022-09-20 11:55:22-05:00\",\"2022-09-14 15:27:01-05:00\",\"2022-09-12 17:08:11-05:00\",\"2022-09-12 15:17:12-05:00\",\"2022-09-07 21:56:58-05:00\",\"2022-09-02 07:46:41-05:00\",\"2022-08-05 09:29:27-05:00\",\"2022-08-05 09:23:32-05:00\",\"2022-08-05 07:43:19-05:00\",\"2022-08-04 09:36:46-05:00\",\"2022-07-06 17:23:26-05:00\",\"2022-06-22 13:10:36-05:00\",\"2022-06-15 11:43:49-05:00\",\"2022-06-12 14:03:32-05:00\",\"2022-06-12 13:33:34-05:00\",\"2022-06-12 13:33:16-05:00\",\"2022-06-12 13:33:09-05:00\",\"2022-06-10 20:33:56-05:00\",\"2022-06-07 07:36:11-05:00\",\"2022-05-29 14:30:12-05:00\",\"2022-05-13 20:17:51-05:00\",\"2022-05-09 15:50:02-05:00\",\"2022-05-09 15:33:39-05:00\",\"2022-05-01 16:32:42-05:00\",\"2022-04-27 08:46:14-05:00\",\"2022-04-24 20:51:05-05:00\",\"2022-04-14 21:20:46-05:00\",\"2022-04-06 16:48:29-05:00\",\"2022-03-24 10:56:26-05:00\",\"2022-03-06 01:14:50-05:00\",\"2022-02-25 19:35:30-05:00\",\"2022-01-27 09:29:34-05:00\",\"2022-01-21 19:01:11-05:00\",\"2022-01-18 10:09:11-05:00\",\"2022-01-10 09:24:59-05:00\",\"2022-01-07 15:20:58-05:00\",\"2021-12-17 10:11:00-05:00\",\"2021-12-04 07:57:18-05:00\",\"2021-12-02 16:18:33-05:00\",\"2021-12-02 16:11:42-05:00\",\"2021-12-02 15:59:17-05:00\",\"2021-11-20 19:25:10-05:00\",\"2021-11-18 16:27:25-05:00\",\"2021-11-12 19:44:11-05:00\",\"2021-11-11 19:11:27-05:00\",\"2021-11-11 19:00:12-05:00\",\"2021-10-25 11:22:14-05:00\",\"2021-10-01 12:45:07-05:00\",\"2021-08-27 16:44:16-05:00\",\"2021-08-22 20:03:20-05:00\",\"2021-08-22 20:03:12-05:00\",\"2021-08-22 13:46:25-05:00\",\"2021-08-20 10:14:39-05:00\",\"2021-08-20 10:13:58-05:00\",\"2021-08-06 16:54:56-05:00\",\"2021-08-04 13:28:57-05:00\",\"2021-07-25 02:09:56-05:00\",\"2021-07-25 02:06:43-05:00\",\"2021-07-24 19:14:49-05:00\",\"2021-07-22 16:15:29-05:00\",\"2021-06-19 10:56:30-05:00\",\"2021-06-14 20:20:59-05:00\",\"2021-06-02 00:26:37-05:00\",\"2021-05-27 10:01:18-05:00\",\"2021-05-24 19:32:18-05:00\",\"2021-04-30 11:35:23-05:00\",\"2021-01-22 18:21:19-05:00\",\"2020-08-31 16:40:03-05:00\",\"2020-03-31 10:34:59-05:00\",\"2020-03-01 01:06:33-05:00\",\"2019-12-28 17:42:53-05:00\",\"2019-12-28 17:42:46-05:00\",\"2018-11-01 20:50:22-05:00\",\"2018-09-11 13:40:54-05:00\",\"2018-09-11 13:39:40-05:00\",\"2018-06-03 21:27:53-05:00\",\"2018-03-02 22:55:05-05:00\",\"2018-01-25 09:05:28-05:00\",\"2017-09-28 06:27:19-05:00\",\"2017-08-23 21:27:39-05:00\",\"2017-08-23 21:24:27-05:00\",\"2017-08-23 21:24:07-05:00\",\"2017-07-04 09:08:46-05:00\",\"2017-07-04 09:02:14-05:00\",\"2017-07-03 00:38:31-05:00\",\"2017-06-28 20:51:29-05:00\",\"2017-06-28 20:47:29-05:00\",\"2017-06-28 20:44:08-05:00\",\"2017-03-26 11:39:26-05:00\",\"2017-03-26 11:39:21-05:00\"],\"xaxis\":\"x\",\"y\":[20,21,19,9,2,23,17,12,11,11,11,11,11,11,12,11,11,18,0,20,20,16,12,15,15,12,0,2,1,0,8,13,22,22,9,19,7,16,16,21,11,20,13,22,14,20,15,10,22,18,12,1,0,16,0,0,21,13,23,21,19,13,15,15,10,18,1,11,13,16,20,17,2,13,13,14,14,1,12,1,11,17,10,13,12,15,18,19,16,16,11,12,12,12,13,13,1,0,23,2,22,12,18,15,10,18,14,17,14,12,0,0,10,19,18,12,9,21,9,13,12,12,2,10,13,19,7,11,11,11,19,16,8,21,12,11,16,11,15,17,15,21,7,9,9,7,9,17,13,11,14,13,13,13,20,7,14,20,15,15,16,8,20,21,16,10,1,19,9,19,10,9,15,10,7,16,16,15,19,16,19,19,19,11,12,16,20,20,13,10,10,16,13,2,2,19,16,10,20,0,10,19,11,18,16,10,1,17,17,20,13,13,21,22,9,6,21,21,21,9,9,0,20,20,20,11,11],\"yaxis\":\"y\",\"type\":\"scattergl\"},{\"customdata\":[[\"La Incondicional\"],[\"El D\\u00eda De Mi Suerte\"],[\"Pierdo la Cabeza - Remix\"],[\"Ese Hombre\"],[\"T\\u00fa y T\\u00fa\"],[\"Perdonarte, \\u00bfPara Qu\\u00e9?\"],[\"Que Tengo Que Hacer\"],[\"Soldado Y Profeta (feat. Ozuna, Almighty, Kendo & \\u00d1engo Flow)\"],[\"Se\\u00f1orita\"],[\"Sin Despertar\"],[\"Si o No\"],[\"Tu de Que Vas\"],[\"Entre la Playa Ella y Yo\"],[\"Baila Morena\"],[\"TE FUISTE DE MI VIDA\"],[\"Comerte a Besos - Salsa Version\"],[\"Noche Loca\"],[\"Todo Comenz\\u00f3 Bailando - Remix\"],[\"Las Avispas\"],[\"QUE ME FALTE TODO\"],[\"OJAL\\u00c1\"],[\"HOLA PERDIDA\"],[\"Percocet - Remix\"],[\"Tanto La Queria (Version Salsa)\"],[\"Ella Dice\"],[\"\\u00bfPor Qu\\u00e9 Me Haces Llorar?\"],[\"PERRO NEGRO\"],[\"Las Leyes de La Vida\"],[\"Alch Si\"],[\"QUE VUELVAS\"],[\"Que Alguien Me Diga\"],[\"Esta Cabron (Remix) [feat. Anuel Aa, Yomo, Pusho, Almighty, D.Ozi & Jamby \\\"El Favo\\\"]\"],[\"Tu Angelito\"],[\"Quiero Creer\"],[\"Mayor Que Yo 3\"],[\"En To Lao\"],[\"Hablamos Ma\\u00f1ana\"],[\"Amor de Mis Amores\"],[\"Eres Mi Bien\"],[\"Tu No Metes Cabra\"],[\"COLMILLO\"],[\"La resaka\"],[\"Que Calor\"],[\"Tiburon\"],[\"Sin Sentimientos\"],[\"Me Voy Enamorando - Remix\"],[\"Drogo\"],[\"Se\\u00f1al De Vida\"],[\"El Matadero\"],[\"Pierdo la Cabeza\"],[\"La player (Bandolera)\"],[\"Quien Te Va a Amar Como Yo\"],[\"Otra Noche\"],[\"Entre Beso y Beso\"],[\"BUENOS AIRES\"],[\"EN VISTO\"],[\"LA BABY\"],[\"El Amor de Mi Vida\"],[\"LALA\"],[\"La Triple T\"],[\"FANTASMA | AVC\"],[\"Ya No Vuelvas (Versi\\u00f3n Cuarteto)\"],[\"Salimo en Caravana\"],[\"OJITOS ROJOS\"],[\"TULUM\"],[\"Ojal\\u00e1 Que Te Mueras\"],[\"La Magia De Tus Besos\"],[\"Un Beso Y Una Flor\"],[\"Me Niegas Tanto Amor\"],[\"Calle Luna Calle Sol\"],[\"Lloraras\"],[\"La M\\u00e1s Bella\"],[\"No Se Va - EN VIVO\"],[\"un x100to\"],[\"Mi Buen Amor\"],[\"D\\u00eda De Pago\"],[\"Nota de Amor (feat. Daddy Yankee)\"],[\"Tu Mueres por Mi\"],[\"Si T\\u00fa No Est\\u00e1s\"],[\"Un Mont\\u00f3n De Estrellas\"],[\"Sue\\u00f1os\"],[\"La Duda\"],[\"Hookiao\"],[\"Si no te tengo a ti\"],[\"La Amante\"],[\"Dese\\u00e1ndote\"],[\"Sin Querer\"],[\"Tu Cari\\u00f1ito\"],[\"Virgen\"],[\"Cuando Seas Grande\"],[\"Juana Pe\\u00f1a\"],[\"El Ritmo de Mi Coraz\\u00f3n\"],[\"Trampol\\u00edn\"],[\"Ni\\u00f1a Bonita\"],[\"Aunque no sea conmigo\"],[\"Qu\\u00e9 Hay de Malo\"],[\"Marta tiene un marcapasos\"],[\"Eres Mi Religi\\u00f3n\"],[\"Ven Dev\\u00f3rame Otra Vez\"],[\"La Noche Mas Linda\"],[\"Idilio\"],[\"El N\\u00edagara en Bicicleta\"],[\"Te regalo\"],[\"Tus Ojos No Me Ven\"],[\"Gozando en la Habana\"],[\"El Embrujo\"],[\"Mi Libertad\"],[\"Ana Mil\\u00e9\"],[\"Ant\\u00eddoto Y Veneno\"],[\"La Vida Es Un Carnaval\"],[\"Lo M\\u00edo Es Amor\"],[\"Bar\"],[\"2:50 Remix\"],[\"23 (With Ape Drums)\"],[\"El Tiempo\"],[\"El Mas Piola\"],[\"Fico Assim Sem Voc\\u00ea\"],[\"Pistola Remix\"],[\"L-Gante: RKT SESSIONS #1\"],[\"La Ventanita\"],[\"LA NOCHE DE ANOCHE\"],[\"Atr\\u00e9vete-Te-Te\"],[\"Talento De Televisi\\u00f3n\"],[\"Visionario\"],[\"Tinty Nasty\"],[\"El Doctorado feat. Don Omar & Ken-Y\"],[\"Yo No S\\u00e9 Ma\\u00f1ana\"],[\"La Entrevista - Remasterizado\"],[\"Pan y mantequilla\"],[\"Zun Da Da\"],[\"Amor Narc\\u00f3tico\"],[\"Necesito un Amor\"],[\"Una Rosa Lo Sabe\"],[\"Amame una Vez M\\u00e1s\"],[\"El Gran Varon\"],[\"Elsa / Cari\\u00f1ito / Boquita de Caramelo - En Vivo\"],[\"Colgando en tus manos (con Marta S\\u00e1nchez)\"],[\"Oye Mi Amor\"],[\"Como Te Deseo\"],[\"Que Locura Enamorarme De Ti\"],[\"Si T\\u00fa Me Besas\"],[\"Contigo Aprend\\u00ed\"],[\"Princesa\"],[\"Rayando el Sol\"],[\"Amor Clandestino\"],[\"Fruta Prohibida\"],[\"Tanto la Queria\"],[\"Todo Cambi\\u00f3\"],[\"Fabricando Fantas\\u00edas\"],[\"Para No Verte M\\u00e1s\"],[\"Obsesi\\u00f3n\"],[\"Si Me Ten\\u00edas\"],[\"China\"],[\"Coleccionista de Canciones\"],[\"Vuelve a m\\u00ed\"],[\"Te Vas\"],[\"Me Enamor\\u00e9 De Ti, Y Que\"],[\"Tu C\\u00e1rcel (En Vivo)\"],[\"Tu Vida en la M\\u00eda\"],[\"Ahora Te Puedes Marchar\"],[\"Motor y Motivo\"],[\"El Doctorado\"],[\"Adios Amor\"],[\"Labios Compartidos\"],[\"A Llorar a Otra Parte\"],[\"Como Mirarte\"],[\"Te quiero\"],[\"Venezia\"],[\"Qu\\u00e9 Vida la M\\u00eda\"],[\"En alg\\u00fan lugar\"],[\"Me Niego (feat. Ozuna & Wisin)\"],[\"Que Va\"],[\"Clavado en Un Bar\"],[\"Su\\u00e9ltate el pelo\"],[\"Devu\\u00e9lveme a mi chica\"],[\"Ojos Color Sol (feat. Silvio Rodr\\u00edguez)\"],[\"Muerte En Hawaii\"],[\"Casi un Hechizo\"],[\"Vicioso\"],[\"El ataque de las chicas cocodrilo\"],[\"Todo sea por el rocanrol\"],[\"En El Muelle de San Blas\"],[\"Como te extra\\u00f1o mi amor\"],[\"Es Tan F\\u00e1cil Romper un Coraz\\u00f3n - Vivo\"],[\"Triste canci\\u00f3n\"]],\"hovertemplate\":\"Broad Genre=Latin<br>Date Added=%{x}<br>Hour Added=%{y}<br>Track Name=%{customdata[0]}<extra></extra>\",\"legendgroup\":\"Latin\",\"marker\":{\"color\":\"#ab63fa\",\"symbol\":\"circle\"},\"mode\":\"markers\",\"name\":\"Latin\",\"showlegend\":true,\"x\":[\"2024-06-07 21:34:11-05:00\",\"2024-06-06 09:02:55-05:00\",\"2024-06-03 15:38:18-05:00\",\"2024-06-03 12:18:29-05:00\",\"2024-06-02 21:02:19-05:00\",\"2024-05-24 14:31:25-05:00\",\"2024-05-18 07:17:00-05:00\",\"2024-04-21 21:45:48-05:00\",\"2024-04-03 12:20:05-05:00\",\"2024-03-29 17:47:58-05:00\",\"2024-03-27 15:20:26-05:00\",\"2024-03-23 19:02:05-05:00\",\"2024-03-23 18:38:58-05:00\",\"2024-03-16 14:52:37-05:00\",\"2024-03-11 22:03:46-05:00\",\"2024-02-27 14:22:26-05:00\",\"2024-02-24 19:35:37-05:00\",\"2024-02-24 19:20:28-05:00\",\"2024-02-12 20:53:42-05:00\",\"2024-02-08 12:36:49-05:00\",\"2024-02-02 12:54:02-05:00\",\"2024-02-02 12:41:39-05:00\",\"2024-01-23 14:55:27-05:00\",\"2024-01-08 12:42:58-05:00\",\"2024-01-05 22:32:12-05:00\",\"2023-12-27 18:12:19-05:00\",\"2023-12-12 13:12:09-05:00\",\"2023-12-10 16:31:49-05:00\",\"2023-12-02 15:18:28-05:00\",\"2023-12-02 15:17:30-05:00\",\"2023-11-21 01:07:25-05:00\",\"2023-11-17 15:28:03-05:00\",\"2023-11-02 01:52:28-05:00\",\"2023-10-26 23:22:41-05:00\",\"2023-10-24 00:48:43-05:00\",\"2023-10-22 19:31:56-05:00\",\"2023-10-19 00:39:31-05:00\",\"2023-10-14 21:15:03-05:00\",\"2023-10-14 21:14:56-05:00\",\"2023-10-13 14:42:33-05:00\",\"2023-10-13 01:50:49-05:00\",\"2023-10-03 17:15:16-05:00\",\"2023-10-03 17:15:16-05:00\",\"2023-10-03 17:15:06-05:00\",\"2023-09-28 00:56:27-05:00\",\"2023-09-25 12:30:36-05:00\",\"2023-09-25 11:48:30-05:00\",\"2023-09-17 13:06:30-05:00\",\"2023-09-12 19:48:03-05:00\",\"2023-09-12 19:32:55-05:00\",\"2023-09-12 18:59:10-05:00\",\"2023-09-11 00:07:24-05:00\",\"2023-09-08 20:36:54-05:00\",\"2023-09-02 01:06:00-05:00\",\"2023-08-29 20:35:21-05:00\",\"2023-08-22 21:25:51-05:00\",\"2023-08-22 21:22:54-05:00\",\"2023-08-19 21:30:20-05:00\",\"2023-08-15 11:21:57-05:00\",\"2023-08-09 00:59:02-05:00\",\"2023-08-06 09:36:57-05:00\",\"2023-08-06 04:48:42-05:00\",\"2023-08-06 04:37:06-05:00\",\"2023-07-27 14:54:28-05:00\",\"2023-07-27 14:24:41-05:00\",\"2023-07-12 15:03:12-05:00\",\"2023-06-28 08:20:38-05:00\",\"2023-06-21 23:01:18-05:00\",\"2023-06-21 19:32:43-05:00\",\"2023-06-13 12:24:55-05:00\",\"2023-06-12 22:15:34-05:00\",\"2023-06-02 14:20:50-05:00\",\"2023-05-25 07:48:47-05:00\",\"2023-05-20 00:04:32-05:00\",\"2023-03-29 19:39:40-05:00\",\"2023-03-24 20:56:24-05:00\",\"2023-02-18 13:35:27-05:00\",\"2023-02-02 17:37:58-05:00\",\"2023-01-20 20:41:24-05:00\",\"2023-01-19 11:56:14-05:00\",\"2023-01-16 08:46:15-05:00\",\"2023-01-02 08:06:22-05:00\",\"2023-01-01 19:48:12-05:00\",\"2022-12-28 17:17:59-05:00\",\"2022-12-26 22:10:26-05:00\",\"2022-11-29 21:16:14-05:00\",\"2022-11-29 16:44:20-05:00\",\"2022-11-29 15:52:16-05:00\",\"2022-11-17 20:31:55-05:00\",\"2022-11-17 16:35:48-05:00\",\"2022-11-10 07:53:45-05:00\",\"2022-11-02 12:40:59-05:00\",\"2022-10-14 19:52:13-05:00\",\"2022-08-31 07:28:34-05:00\",\"2022-08-04 09:57:49-05:00\",\"2022-07-24 20:03:50-05:00\",\"2022-07-21 07:18:02-05:00\",\"2022-07-18 11:38:54-05:00\",\"2022-07-09 20:53:29-05:00\",\"2022-06-01 13:33:17-05:00\",\"2022-05-05 16:26:58-05:00\",\"2022-04-27 23:16:34-05:00\",\"2022-04-23 16:37:52-05:00\",\"2022-04-23 16:32:33-05:00\",\"2022-04-22 22:43:40-05:00\",\"2022-04-22 10:04:59-05:00\",\"2022-04-15 18:18:29-05:00\",\"2022-04-13 20:46:43-05:00\",\"2022-04-07 17:40:05-05:00\",\"2022-03-28 07:06:31-05:00\",\"2022-03-24 16:22:44-05:00\",\"2021-11-11 18:50:56-05:00\",\"2021-10-25 16:54:03-05:00\",\"2021-10-20 17:48:02-05:00\",\"2021-10-14 18:33:05-05:00\",\"2021-10-10 00:51:19-05:00\",\"2021-08-22 13:30:26-05:00\",\"2021-08-11 13:34:46-05:00\",\"2021-07-21 17:09:32-05:00\",\"2021-06-12 21:12:26-05:00\",\"2021-06-12 19:45:45-05:00\",\"2021-06-11 09:10:30-05:00\",\"2021-05-30 14:21:43-05:00\",\"2021-05-12 21:31:37-05:00\",\"2021-05-08 19:20:53-05:00\",\"2020-12-13 23:08:55-05:00\",\"2020-11-20 23:49:09-05:00\",\"2020-11-20 23:39:54-05:00\",\"2020-11-16 18:47:52-05:00\",\"2020-11-15 19:30:08-05:00\",\"2020-10-02 18:50:33-05:00\",\"2020-10-02 16:29:27-05:00\",\"2020-10-02 16:28:02-05:00\",\"2020-10-02 16:14:57-05:00\",\"2020-10-01 18:03:44-05:00\",\"2020-10-01 18:00:17-05:00\",\"2020-09-10 19:51:34-05:00\",\"2020-08-27 18:23:16-05:00\",\"2020-07-28 15:24:34-05:00\",\"2020-06-27 16:38:24-05:00\",\"2020-05-25 23:15:40-05:00\",\"2020-03-22 17:53:50-05:00\",\"2020-03-16 13:03:12-05:00\",\"2020-03-09 13:37:02-05:00\",\"2020-02-19 11:45:39-05:00\",\"2020-01-18 20:19:44-05:00\",\"2020-01-12 18:38:10-05:00\",\"2020-01-12 18:20:28-05:00\",\"2020-01-11 23:21:19-05:00\",\"2019-10-11 23:14:43-05:00\",\"2019-09-20 08:53:07-05:00\",\"2019-08-09 23:05:48-05:00\",\"2019-08-03 00:09:52-05:00\",\"2019-07-28 13:30:33-05:00\",\"2019-06-14 09:22:34-05:00\",\"2019-06-09 02:54:03-05:00\",\"2019-06-09 02:53:51-05:00\",\"2019-03-29 21:13:01-05:00\",\"2019-03-27 11:27:23-05:00\",\"2019-03-22 23:11:05-05:00\",\"2019-03-22 20:40:17-05:00\",\"2019-03-16 16:08:00-05:00\",\"2019-02-27 18:22:31-05:00\",\"2019-02-24 22:59:38-05:00\",\"2019-02-21 21:54:02-05:00\",\"2019-02-18 14:31:18-05:00\",\"2018-12-08 20:32:10-05:00\",\"2018-11-17 10:07:48-05:00\",\"2018-10-21 22:26:55-05:00\",\"2018-06-11 23:29:35-05:00\",\"2018-03-20 00:15:59-05:00\",\"2018-03-17 00:12:18-05:00\",\"2017-11-28 19:04:11-05:00\",\"2017-08-16 10:38:53-05:00\",\"2017-08-08 23:46:49-05:00\",\"2017-07-29 00:18:57-05:00\",\"2017-07-26 01:45:24-05:00\",\"2017-07-05 22:09:31-05:00\",\"2017-06-23 16:30:40-05:00\",\"2017-06-17 00:18:20-05:00\",\"2017-05-01 22:03:46-05:00\",\"2017-04-18 21:59:22-05:00\",\"2017-04-11 13:36:03-05:00\",\"2017-02-14 19:52:32-05:00\",\"2017-02-14 09:20:07-05:00\"],\"xaxis\":\"x\",\"y\":[21,9,15,12,21,14,7,21,12,17,15,19,18,14,22,14,19,19,20,12,12,12,14,12,22,18,13,16,15,15,1,15,1,23,0,19,0,21,21,14,1,17,17,17,0,12,11,13,19,19,18,0,20,1,20,21,21,21,11,0,9,4,4,14,14,15,8,23,19,12,22,14,7,0,19,20,13,17,20,11,8,8,19,17,22,21,16,15,20,16,7,12,19,7,9,20,7,11,20,13,16,23,16,16,22,10,18,20,17,7,16,18,16,17,18,0,13,13,17,21,19,9,14,21,19,23,23,23,18,19,18,16,16,16,18,18,19,18,15,16,23,17,13,13,11,20,18,18,23,23,8,23,0,13,9,2,2,21,11,23,20,16,18,22,21,14,20,10,22,23,0,0,19,10,23,0,1,22,16,0,22,21,13,19,9],\"yaxis\":\"y\",\"type\":\"scattergl\"},{\"customdata\":[[\"Something About You\"]],\"hovertemplate\":\"Broad Genre=Funk<br>Date Added=%{x}<br>Hour Added=%{y}<br>Track Name=%{customdata[0]}<extra></extra>\",\"legendgroup\":\"Funk\",\"marker\":{\"color\":\"#FFA15A\",\"symbol\":\"circle\"},\"mode\":\"markers\",\"name\":\"Funk\",\"showlegend\":true,\"x\":[\"2024-06-05 11:35:28-05:00\"],\"xaxis\":\"x\",\"y\":[11],\"yaxis\":\"y\",\"type\":\"scattergl\"},{\"customdata\":[[\"So Many Ways to Get Downtown\"],[\"Young Soul\"],[\"Kind Reminder\"],[\"Musta Been a Ghost\"]],\"hovertemplate\":\"Broad Genre=Americana<br>Date Added=%{x}<br>Hour Added=%{y}<br>Track Name=%{customdata[0]}<extra></extra>\",\"legendgroup\":\"Americana\",\"marker\":{\"color\":\"#19d3f3\",\"symbol\":\"circle\"},\"mode\":\"markers\",\"name\":\"Americana\",\"showlegend\":true,\"x\":[\"2024-04-29 22:09:51-05:00\",\"2023-01-04 07:57:32-05:00\",\"2023-01-04 07:53:30-05:00\",\"2023-01-03 21:41:52-05:00\"],\"xaxis\":\"x\",\"y\":[22,7,7,21],\"yaxis\":\"y\",\"type\":\"scattergl\"},{\"customdata\":[[\"Don't You Worry Child - Radio Edit\"],[\"Naquele Pique\"],[\"Frikitona\"],[\"Animal Rights\"],[\"Shrunken Heads\"],[\"Gettin' Over You (feat. Fergie & LMFAO)\"],[\"Gingoba\"],[\"Dos\"],[\"You Spin Me Round (Like a Record)\"],[\"Sexy Bitch (feat. Akon)\"],[\"Omen\"],[\"Magnets\"],[\"Sonnenkind - M\\u00d6WE Remix\"],[\"Stole the Show\"],[\"Latch\"],[\"Into the Light\"],[\"You & Me - Flume Remix\"],[\"One More Time\"]],\"hovertemplate\":\"Broad Genre=Electronic<br>Date Added=%{x}<br>Hour Added=%{y}<br>Track Name=%{customdata[0]}<extra></extra>\",\"legendgroup\":\"Electronic\",\"marker\":{\"color\":\"#FF6692\",\"symbol\":\"circle\"},\"mode\":\"markers\",\"name\":\"Electronic\",\"showlegend\":true,\"x\":[\"2024-04-12 23:45:33-05:00\",\"2024-01-08 20:32:59-05:00\",\"2024-01-04 16:12:24-05:00\",\"2023-04-07 02:39:22-05:00\",\"2023-04-07 02:37:23-05:00\",\"2023-04-01 00:37:02-05:00\",\"2023-03-16 20:48:10-05:00\",\"2022-08-26 10:09:29-05:00\",\"2022-05-29 22:33:29-05:00\",\"2021-10-26 14:49:26-05:00\",\"2019-02-22 11:16:39-05:00\",\"2019-02-18 18:51:13-05:00\",\"2018-12-30 12:35:26-05:00\",\"2018-12-10 20:04:36-05:00\",\"2017-10-16 06:01:07-05:00\",\"2017-05-16 21:16:42-05:00\",\"2017-04-15 20:12:31-05:00\",\"2017-03-26 10:06:40-05:00\"],\"xaxis\":\"x\",\"y\":[23,20,16,2,2,0,20,10,22,14,11,18,12,20,6,21,20,10],\"yaxis\":\"y\",\"type\":\"scattergl\"},{\"customdata\":[[\"Panic Attack\"],[\"La Vida Me Sabe a Nada\"],[\"Podr\\u00e9 Cambiar\"],[\"Una Vez Una Flor\"],[\"Cuando La Cama Me Da Vueltas\"],[\"No Llores M\\u00e1s Morena\"],[\"T\\u00e9cnicas para Olvidar\"],[\"Me Voy de Aqu\\u00ed\"],[\"No Llores M\\u00e1s\"],[\"Tambaleando\"],[\"Me Siento Mejor\"],[\"Under Cover of Darkness\"],[\"Paranoid (2009 - Remaster)\"],[\"Blackout\"],[\"Rock You Like A Hurricane\"],[\"Im\\u00e1genes Retro - Remasterizado 2007\"],[\"Anybody Seen My Baby?\"],[\"The Rain Song - Remaster\"],[\"Simple Man\"],[\"Esa S\\u00ed Es una Mujer\"],[\"The Bug\"],[\"Breathe (In the Air)\"],[\"City Club\"],[\"Monotonia\"],[\"(I Just) Died In Your Arms\"],[\"Automatic\"],[\"Hate This and I'll Love You\"],[\"Free Bird\"],[\"Skateaway\"],[\"Portobello Belle\"],[\"Industrial Disease\"],[\"Mad Life\"],[\"Home\"],[\"Softcore\"],[\"Counting Blue Cars (Tell Me Your Thoughts On God)\"],[\"Tell Me Baby\"],[\"Free Fallin'\"],[\"I'll Be Around\"],[\"Beijo na Guanabara\"],[\"Exit Music (For A Film)\"],[\"Bodysnatchers\"],[\"Where I End and You Begin\"],[\"My Iron Lung\"],[\"Why Does Love Got To Be So Sad?\"],[\"Layla\"],[\"Strange Brew\"],[\"White Room\"],[\"Just\"],[\"Butterflies and Hurricanes\"],[\"Tangerine - Remaster\"],[\"Gallows Pole - Remaster\"],[\"When The Sun Goes Down\"],[\"Weightless\"],[\"Booster Seat\"],[\"Wasted on Me\"],[\"Tears of Rain\"],[\"Good Grief\"],[\"Skin\"],[\"The Barbarians\"],[\"Built By Nations\"],[\"Broken Bells\"],[\"Heat Above\"],[\"Citizen Erased\"],[\"Oh! Sweet Nuthin' - 2015 Remaster\"],[\"Over the Hills and Far Away - Remaster\"],[\"Cuando Pienses en Volver\"],[\"Fake Tales Of San Francisco\"],[\"Expresso Love - Live At Hammersmith Odeon, London/1983\"],[\"Every Little Thing\"],[\"Wind Of Change\"],[\"If You\\u2019re Too Shy (Let Me Know)\"],[\"Wintering\"],[\"When We Are Together\"],[\"Looking For Somebody (To Love)\"],[\"Oh Caroline\"],[\"Happiness\"],[\"Burning Love - with The Royal Philharmonic Orchestra\"],[\"Anyone Can Play Guitar\"],[\"Mi Auto Era Una Rana\"],[\"Te V\\u00ed en un Tren\"],[\"Me Estoy Enamorando\"],[\"Abracadabra\"],[\"505\"],[\"The Way It Was\"],[\"La parte de adelante\"],[\"En esta habitaci\\u00f3n\"],[\"West Hills\"],[\"Psycho\"],[\"Tranquility Base Hotel & Casino\"],[\"Here With Me\"],[\"Unnatural Selection\"],[\"What's The Matter Baby? - Live At The BBC\"],[\"Solid Rock\"],[\"Twisting By The Pool\"],[\"Wild West End\"],[\"Millionaire Blues\"],[\"We Are Fucking Fucked\"],[\"Follow Me\"],[\"Sing for Absolution\"],[\"Animals\"],[\"The Handler\"],[\"You Make Me Feel Like It\\u2019s Halloween\"],[\"Huellas - Live From Santiago,Chile/1999\"],[\"Body Paint\"],[\"From The Ritz To The Rubble\"],[\"Do Me a Favour\"],[\"Pretty Visitors\"],[\"Potion Approaching\"],[\"There\\u2019d Better Be A Mirrorball\"],[\"Hello You\"],[\"When the Levee Breaks - Remaster\"],[\"Tunnel Of Love - Live At Hammersmith Odeon, London/1983\"],[\"Left to My Own Devices\"],[\"Starlight\"],[\"Assassin\"],[\"New Born\"],[\"Map of the Problematique\"],[\"Disenchanted\"],[\"Teenager In Love\"],[\"Helena\"],[\"I Don't Love You\"],[\"Show Me The Way - Live\"],[\"Baby, I Love Your Way - Live\"],[\"Showbiz - Live from Le Zenith\"],[\"Panic Station\"],[\"The Love That You Give\"],[\"Attack\"],[\"Space Dementia\"],[\"MK Ultra\"],[\"Invincible\"],[\"The Void\"],[\"Pressure\"],[\"Cigarette Daydreams\"],[\"Light My Love\"],[\"The Riverboat Song\"],[\"Girls\"],[\"Robbers\"],[\"Juicebox\"],[\"Once Upon A Time In The West - Live At Hammersmith Odeon, London/1983\"],[\"Money - Live\"],[\"Sultans of Swing - Live at Live Aid, Wembley Stadium, 13th July 1985\"],[\"Since I've Been Loving You - (Live at MSG 1973) [Remaster]\"],[\"So Far Away - Remastered 1996\"],[\"Twist And Shout - Remastered 2009\"],[\"Bonzo Goes to Bitburg\"],[\"Paranoid Android\"],[\"Rolling In The Deep - Recorded At Spotify Studios NYC\"],[\"A Change Is Gonna Come\"],[\"LA FORMA DE TUS HUESOS\"],[\"Riding with the King\"],[\"A Horse with No Name\"],[\"Californication\"],[\"Lo malo de ser bueno\"],[\"Dream A Little Dream Of Me\"],[\"Lies - Remastered\"],[\"One World - Remastered 1996\"],[\"Ride Across The River - Remastered 1996\"],[\"Bitch - 2009 Mix\"],[\"Can't You Hear Me Knocking - 2009 Mix\"],[\"Sway - 2009 Mix\"],[\"Brown Sugar - Remastered 2009\"],[\"It Never Rains\"],[\"Romeo And Juliet\"],[\"Expresso Love\"],[\"Tunnel Of Love\"],[\"Angel Of Mercy\"],[\"Where Do You Think You're Going?\"],[\"In The Gallery\"],[\"Southbound Again\"],[\"Setting Me Up\"],[\"Pressure Machine\"],[\"Fly Away From Here\"],[\"ZITTI E BUONI\"],[\"All My Life\"],[\"Oh My Love\"],[\"The Great Escape - Single Version\"],[\"Fight On - Single Version\"],[\"Stargazing\"],[\"S\\u00e1cala a Bailar\"],[\"Vienna\"],[\"I Wouldn't Want to Be Like You\"],[\"We Built This City\"],[\"Nothing's Gonna Stop Us Now\"],[\"You Shook Me All Night Long\"],[\"NO TE COMAS LA PELI\"],[\"AYER TE VI (feat. Zoe Gotusso)\"],[\"Landslide - Live at Warner Brothers Studios in Burbank, CA 5/23/97\"],[\"Will You Still Love Me? - Alternate\"],[\"Dreams\"],[\"Mr. Tambourine Man\"],[\"Imploding The Mirage\"],[\"Fire In Bone\"],[\"Running Towards A Place\"],[\"My Own Soul\\u2019s Warning\"],[\"Shot At The Night\"],[\"Just Another Girl\"],[\"Crying Lightning\"],[\"Cornerstone\"],[\"Supremacy\"],[\"The Judge\"],[\"Uma Brasileira\"],[\"Only the Good Die Young\"],[\"Single Handed Sailor\"],[\"La Guitarra\"],[\"Doom And Gloom\"],[\"Ride 'Em On Down\"],[\"Let Your Heart Hold Fast\"],[\"We Didn't Start the Fire\"],[\"Sea Dragon\"],[\"La Voz de los '80\"],[\"Dead In The Water - Live At RT\\u00c9 2FM Studios, Dublin\"],[\"Ode To The Mets\"],[\"Son And Daughter - Remastered 2011\"],[\"Brighton Rock - Remastered 2011\"],[\"The Rover - Remaster\"],[\"Tweeter And The Monkey Man\"],[\"Wilbury Twist\"],[\"(I Can't Get No) Satisfaction - Mono Version\"],[\"Handle With Care\"],[\"Sexo\"],[\"Crossroads - Live\"],[\"Estrechez De Coraz\\u00f3n\"],[\"Is It True\"],[\"One More Year\"],[\"Un D\\u00eda Sin Sexo\"],[\"Por Ti (La Poderotza)\"],[\"In My Defence - 2000 Remix\"],[\"Can't Help Falling in Love\"],[\"El Baile De Los Que Sobran\"],[\"Old Time Rock & Roll\"],[\"La Venenotza\"],[\"Angels Or Devils\"],[\"Somewhere in the Middle\"],[\"Planet Caravan\"],[\"Posthumous Forgiveness\"],[\"Borderline\"],[\"Don't Stop Believin'\"],[\"Kashmir - Remaster\"],[\"Nothing Else Matters\"],[\"Cont\\u00e9stame\"],[\"Carreteras Mojadas\"],[\"Fade To Black - Remastered\"],[\"Ya no quiero m\\u00e1s ska\"],[\"Aqu\\u00ed\"],[\"Amor (Ft. Mon Laferte) - Mtv Unplugged\"],[\"Lions\"],[\"Libido\"],[\"Cu\\u00e9ntame\"],[\"Dark Necessities\"],[\"The Adventures of Rain Dance Maggie\"],[\"When The Curtain Falls\"],[\"Once Upon A Time In The West\"],[\"Telegraph Road\"],[\"Lady Writer\"],[\"Down To The Waterline\"],[\"Time Waits For No One\"],[\"La Chata\"],[\"Walk Of Life\"],[\"You Don't Mess Around with Jim\"],[\"Buscando Raz\\u00f3n\"],[\"Respectable - Remastered\"],[\"A ese infierno no voy a volver\"],[\"Y es que sucede as\\u00ed\"],[\"Safari Song\"],[\"Highway Tune\"],[\"Purple Haze\"],[\"Fire\"],[\"Black Smoke Rising\"],[\"Age Of Man\"],[\"The Dark Side\"],[\"D'yer Mak'er - Remaster\"],[\"Under the Bridge\"],[\"Down Under\"],[\"Ledgarf (bienvenidos)\"],[\"Beast Of Burden - Remastered\"],[\"Angel\"],[\"Walk This Way\"],[\"Good Old-Fashioned Lover Boy - Remastered 2011\"],[\"Every Night\"],[\"En La Ciudad De La Furia - Remasterizado 2007\"],[\"Welcome to the Black Parade\"],[\"Let's Hurt Tonight\"],[\"Easy Lover\"],[\"Everybody Talks\"],[\"Knights of Cydonia\"],[\"Silly Love Songs - 2014 Remaster\"],[\"Live Forever\"],[\"Golden Slumbers - Remastered 2009\"],[\"Counting Stars\"],[\"You're So Dark\"],[\"Mary Jane's Last Dance\"],[\"I Saw Her Standing There - Remastered 2009\"],[\"Good Times Bad Times - 1993 Remaster\"],[\"All These Things That I've Done\"],[\"Love Of My Life - Remastered 2011\"],[\"Hammer To Fall - Remastered 2011\"],[\"Bones\"],[\"Teddy Picker\"],[\"Crazy Little Thing Called Love - Remastered 2011\"],[\"Martha My Dear - Remastered 2009\"],[\"Suck It and See\"],[\"Angie - Remastered 2009\"],[\"The Small Print\"],[\"Survival\"],[\"Stockholm Syndrome\"],[\"Black Holes (Solid Ground)\"],[\"Snap Out Of It\"],[\"What You Know\"],[\"Para no olvidar\"],[\"Demons\"],[\"Rock You Like a Hurricane - 2011\"],[\"Miss Atomic Bomb\"],[\"Heart Of A Girl\"],[\"Losing Touch - Live From The Royal Albert Hall / 2009\"],[\"Give It Away\"],[\"I Was Made For Lovin' You\"],[\"Uprising\"],[\"Snow (Hey Oh)\"],[\"You Get What You Give\"],[\"Smile Like You Mean It\"],[\"It's Time\"],[\"Natural\"],[\"Stop The World I Wanna Get Off With You\"],[\"Supermassive Black Hole\"],[\"My Blood\"],[\"Thought Contagion\"],[\"Black Dog - Remaster\"],[\"Beds Are Burning - Remastered\"],[\"Feels Like We Only Go Backwards\"],[\"Hysteria\"],[\"Shoot to Thrill\"],[\"The Less I Know The Better\"],[\"The Man Who Can't Be Moved\"],[\"Dust In The Wind\"],[\"Who The Fuck Are Arctic Monkeys?\"],[\"Four Out Of Five\"],[\"Any Colour You Like\"],[\"Pour Some Sugar On Me - Remastered 2017\"],[\"When You Were Young\"],[\"The Immigrant Song - Alternate Mix\"],[\"Runaways\"],[\"Cum on Feel the Noize\"],[\"Eye In The Sky\"],[\"In The Air Tonight - 2015 Remastered\"],[\"Float On\"],[\"Can't Stop\"],[\"Read My Mind\"],[\"Human\"],[\"Crazy\"],[\"Voodoo Child (Slight Return)\"],[\"Cocaine\"],[\"Dos en la ciudad\"],[\"Rock and Roll - Remaster\"],[\"Since I've Been Loving You - Remaster\"],[\"Two Princes\"],[\"I Want To Hold Your Hand - Remastered 2015\"],[\"Whole Lotta Love - 1990 Remaster\"],[\"Where The Streets Have No Name - Remastered 2007\"],[\"Reapers\"],[\"Chibola Manyada\"],[\"Hotel California - 2013 Remaster\"],[\"Beautiful Day\"],[\"A Matter Of Time\"],[\"Let It Be - Remastered\"],[\"Hey Jude - Remastered 2015\"],[\"Flor la Buena\"],[\"Loco\"],[\"Domino Dancing\"],[\"Starman - 2012 Remaster\"],[\"Life on Mars? - 2015 Remaster\"],[\"What It Is\"],[\"One\"],[\"Money For Nothing\"],[\"Knee Socks\"],[\"Lamento Boliviano\"],[\"Bye Bye\"],[\"A Dustland Fairytale\"],[\"With Or Without You - Remastered\"],[\"La peor de las guerras - Remastered\"],[\"Dancing With Myself\"],[\"White Wedding - Pt. 1\"],[\"Stand Back\"],[\"Go Your Own Way - 2004 Remaster\"],[\"Gypsy\"],[\"Verte As\\u00ed\"],[\"Dream On\"],[\"Basket Case\"],[\"Boulevard of Broken Dreams\"],[\"Wake Me up When September Ends\"],[\"American Idiot\"],[\"21 Guns\"],[\"Do I Wanna Know?\"],[\"Don't Go Away\"],[\"Adi\\u00f3s\"],[\"Magia\"],[\"Deja Vu\"],[\"Shine On You Crazy Diamond (Pts. 1-5)\"],[\"Hey You\"],[\"Bright Lights\"],[\"The Kill (Bury Me)\"],[\"Closer To The Edge\"],[\"This Is War\"],[\"Kings And Queens\"],[\"Cancer\"],[\"Moneytalks\"],[\"Soul Sacrifice - Live at The Woodstock Music & Art Fair, August 16, 1969\"],[\"For What It's Worth\"],[\"Somebody Told Me\"],[\"Don't Look Back in Anger - Remastered\"],[\"I Wanna Be Yours\"],[\"Arabella\"],[\"Dani California\"],[\"Hurricane\"],[\"Europa (Earth's Cry Heaven's Smile)\"],[\"Layla - Acoustic; Live at MTV Unplugged, Bray Film Studios, Windsor, England, UK, 1/16/1992; 2013 Remaster\"],[\"Black Magic Woman - Single Version\"],[\"Every Little Thing She Does Is Magic - Remastered 2003\"],[\"Piano Man\"],[\"She's Thunderstorms\"],[\"Somebody To Love - Remastered 2011\"],[\"Magdalena\"],[\"In the Heat of the Moment\"],[\"Pride and Joy\"],[\"Heartbreaker - 1990 Remaster\"],[\"Peace Of Mind\"],[\"Run For Cover\"],[\"The Man\"],[\"Las Torres\"],[\"Sympathy For The Devil\"],[\"Cuando Pase el Temblor\"],[\"California Dreamin'\"],[\"We're Not Gonna Take It\"],[\"Message In A Bottle - Remastered 2003\"],[\"Por el Resto\"],[\"I Want To Break Free - Single Remix\"],[\"Brain Damage\"],[\"Qu\\u00e9date\"],[\"Decir adi\\u00f3s\"],[\"Thunder on the Mountain\"],[\"Maneater\"],[\"La pachanga\"],[\"Al lado del camino\"],[\"Mariposa tecknicolor\"],[\"Cuando te conoc\\u00ed\"],[\"Under Pressure - Remastered 2011\"],[\"Lo Olvid\\u00e9\"],[\"La Flaca (feat. Juanes)\"],[\"Flaca\"],[\"Nada Personal - Remasterizado 2007\"],[\"Nothing's Gonna Stop Us Now\"],[\"Stop Crying Your Heart Out\"],[\"Wonderwall - Remastered\"],[\"Champagne Supernova - Remastered\"],[\"Every Breath You Take - Remastered 2003\"],[\"Los Globos del Cielo\"],[\"Killer Queen - Remastered 2011\"],[\"Another One Bites The Dust - Remastered 2011\"],[\"Stairway to Heaven - Remaster\"],[\"In My Life - Remastered\"],[\"Wall of Glass\"],[\"Creep\"],[\"Her Strut\"],[\"Don't Go Breaking My Heart\"],[\"Manuel Santill\\u00e1n, el Le\\u00f3n (Versi\\u00f3n Reggae) - Remasterizado 2008\"],[\"Thunderstruck\"],[\"Highway to Hell\"],[\"Back In Black\"],[\"The Final Countdown\"],[\"De M\\u00fasica Ligera - Remasterizado 2007\"],[\"Walking The Wire\"],[\"Tiny Dancer\"],[\"Heart-Shaped Box\"],[\"Luna de Miel en la Mano\"],[\"El Genio Del Dub\"],[\"Demoliendo Hoteles\"],[\"Cada Vez Que Digo Adi\\u00f3s\"],[\"En Esta Habitaci\\u00f3n\"],[\"Smells Like Teen Spirit\"],[\"Mil Horas\"],[\"Ojos De \\u00e1ngel\"],[\"Spaceman\"],[\"Guitarras Blancas\"],[\"Mi Primer Dia Sin Ti\"],[\"Mr. Brightside\"],[\"Mardy Bum\"],[\"No.1 Party Anthem\"],[\"Don't Stop Me Now - Remastered 2011\"],[\"Wish You Were Here\"],[\"Another Brick in the Wall, Pt. 2\"],[\"Money\"],[\"Gimme Shelter\"],[\"Paint It Black\"],[\"Suna\"],[\"Balada de un Encuentro Fugaz\"],[\"Nectar\"],[\"Hembra\"],[\"The Air That I Breathe - 2008 Remaster\"],[\"Stand By Me - Remastered 2010\"],[\"Long Cool Woman (In a Black Dress) - 1999 Remaster\"],[\"Tr\\u00e1tame Suavemente - Remasterizado 2007\"],[\"Persiana Americana - Remasterizado 2007\"],[\"Pr\\u00f3fugos\"],[\"Mariposas\"],[\"Mujer Noche\"],[\"Loco\"],[\"One For The Road\"],[\"Whatever - Remastered\"],[\"Come with Me Now\"],[\"Can't Stand Losing You\"],[\"Sgt. Pepper's Lonely Hearts Club Band - Remastered\"],[\"Brianstorm\"],[\"I Bet You Look Good On The Dancefloor\"],[\"Karma Police\"],[\"Te Quiero Tanto\"],[\"The Chain - 2004 Remaster\"],[\"Let's Dance - 1999 Remaster\"],[\"Show Me The Way\"],[\"Lemon Tree - Album Edit\"],[\"Losing My Religion\"],[\"Separate Ways (Worlds Apart)\"],[\"Stand by Me\"],[\"Rocket Man (I Think It's Going To Be A Long Long Time)\"],[\"Radio Ga Ga - Remastered 2011\"],[\"More Than a Feeling\"],[\"Oye Como Va - Album Verision\"],[\"Like a Rolling Stone\"],[\"No se puede vivir del amor\"],[\"Warriors\"],[\"Believer\"],[\"Start Me Up - Remastered\"],[\"All Along the Watchtower\"],[\"Here I Go Again - 2011 Remaster\"],[\"Africa\"],[\"18 and Life\"],[\"Paint It Black\"],[\"The Letter - Single Version\"],[\"Stand By Me\"],[\"Living On My Own - Single Edit\"],[\"Degeneraci\\u00f3n Actual\"],[\"Take Me Out\"],[\"Lithium\"],[\"Come As You Are\"],[\"Un Misil en Mi Placard\"],[\"Wild Horses\"],[\"Here Comes The Sun - Remastered 2009\"],[\"Bohemian Rhapsody - Remastered 2011\"],[\"Hermanos\"],[\"Muchacha\"],[\"11 Y 6\"],[\"Under My Thumb\"],[\"Carry on Wayward Son\"],[\"Master Of Puppets\"],[\"A Day In The Life - Remastered\"],[\"Sunny Afternoon\"],[\"I Don't Want to Miss a Thing - From \\\"Armageddon\\\" Soundtrack\"],[\"Go Your Own Way\"],[\"Roxanne - Remastered 2003\"],[\"Jump - 2004 Remaster\"],[\"Black Magic Woman\"],[\"Corazon Espinado (feat. Mana)\"],[\"Smooth (feat. Rob Thomas)\"],[\"Canci\\u00f3n De Luna\"],[\"Me vuelvo loco por vos\"],[\"Nikita\"],[\"Your Song\"],[\"Daniel\"],[\"Balada de un Encuentro Fugaz\"],[\"Como Un Perro\"],[\"Un Vino, Una Cerveza\"],[\"Me Resfri\\u00e9 en Brasil\"],[\"Time\"],[\"No Voy en Tren\"],[\"Te quiero igual\"],[\"Crimen\"],[\"Miss You - Remastered\"],[\"Hold the Line\"],[\"Sweet Home Alabama\"],[\"Irresponsables\"],[\"Yo No Me Sentar\\u00eda en Tu Mesa\"],[\"Auto rojo\"],[\"Crazy Train\"],[\"Sweet Emotion\"],[\"Sultans of Swing\"],[\"Rebel Rebel - 1999 Remaster\"],[\"Come Together - Remastered 2009\"],[\"Money - 2011 Remastered Version\"],[\"Ramble On - 1990 Remaster\"],[\"Modern Love - 1999 Remaster\"],[\"Lunes Por La Madrugada\"],[\"While My Guitar Gently Weeps - Remastered 2009\"],[\"Little Wing\"],[\"Comfortably Numb\"],[\"Tren Al Sur\"],[\"Nos Siguen Pegando Abajo\"],[\"Sunday Bloody Sunday - Remastered 2008\"],[\"Break on Through (To the Other Side)\"],[\"R U Mine?\"],[\"Why'd You Only Call Me When You're High?\"],[\"Fluorescent Adolescent\"],[\"Ruby Tuesday - Stereo Version\"],[\"Bus Stop - 1997 Remaster\"]],\"hovertemplate\":\"Broad Genre=Rock<br>Date Added=%{x}<br>Hour Added=%{y}<br>Track Name=%{customdata[0]}<extra></extra>\",\"legendgroup\":\"Rock\",\"marker\":{\"color\":\"#B6E880\",\"symbol\":\"circle\"},\"mode\":\"markers\",\"name\":\"Rock\",\"showlegend\":true,\"x\":[\"2024-04-01 14:51:38-05:00\",\"2024-03-24 20:11:14-05:00\",\"2024-03-24 20:06:20-05:00\",\"2024-03-24 19:55:44-05:00\",\"2024-03-24 19:52:01-05:00\",\"2024-03-23 20:24:06-05:00\",\"2024-03-23 20:11:10-05:00\",\"2024-03-23 20:05:55-05:00\",\"2024-03-23 19:59:54-05:00\",\"2024-03-23 19:53:44-05:00\",\"2024-03-19 17:29:00-05:00\",\"2024-03-03 17:15:18-05:00\",\"2024-02-25 22:35:44-05:00\",\"2024-02-25 22:31:12-05:00\",\"2024-02-25 22:26:07-05:00\",\"2024-02-24 17:55:27-05:00\",\"2024-02-14 15:38:53-05:00\",\"2024-02-03 15:31:01-05:00\",\"2024-01-25 00:45:05-05:00\",\"2024-01-10 10:14:39-05:00\",\"2024-01-09 22:15:50-05:00\",\"2023-12-25 21:22:03-05:00\",\"2023-11-30 15:47:56-05:00\",\"2023-11-30 15:44:18-05:00\",\"2023-10-17 20:39:59-05:00\",\"2023-10-16 20:11:20-05:00\",\"2023-09-24 21:54:04-05:00\",\"2023-09-23 16:36:06-05:00\",\"2023-09-03 21:38:43-05:00\",\"2023-09-03 21:19:19-05:00\",\"2023-09-03 21:11:45-05:00\",\"2023-08-15 20:16:36-05:00\",\"2023-08-15 20:08:32-05:00\",\"2023-08-13 22:05:05-05:00\",\"2023-08-13 02:35:08-05:00\",\"2023-08-12 19:54:10-05:00\",\"2023-08-12 19:37:52-05:00\",\"2023-08-11 15:47:02-05:00\",\"2023-07-22 07:44:19-05:00\",\"2023-07-19 22:01:59-05:00\",\"2023-07-10 23:04:21-05:00\",\"2023-07-10 22:44:59-05:00\",\"2023-07-10 22:14:10-05:00\",\"2023-07-10 21:54:11-05:00\",\"2023-07-10 21:11:15-05:00\",\"2023-07-10 21:10:03-05:00\",\"2023-07-10 21:07:15-05:00\",\"2023-07-10 10:53:37-05:00\",\"2023-07-07 10:12:59-05:00\",\"2023-07-05 19:08:18-05:00\",\"2023-07-05 19:04:40-05:00\",\"2023-07-03 22:28:31-05:00\",\"2023-07-03 15:38:12-05:00\",\"2023-07-03 15:35:26-05:00\",\"2023-07-03 14:59:11-05:00\",\"2023-07-03 14:56:52-05:00\",\"2023-07-03 14:56:30-05:00\",\"2023-07-03 14:56:28-05:00\",\"2023-07-03 12:52:57-05:00\",\"2023-07-03 12:24:10-05:00\",\"2023-07-03 12:21:22-05:00\",\"2023-07-03 12:16:30-05:00\",\"2023-06-10 13:16:02-05:00\",\"2023-06-08 21:04:15-05:00\",\"2023-06-05 23:52:01-05:00\",\"2023-05-11 07:48:57-05:00\",\"2023-04-21 09:44:08-05:00\",\"2023-04-04 08:10:42-05:00\",\"2023-04-01 01:11:10-05:00\",\"2023-03-21 22:58:48-05:00\",\"2023-02-17 07:54:58-05:00\",\"2023-02-14 14:51:23-05:00\",\"2023-02-14 14:40:24-05:00\",\"2023-02-13 18:36:16-05:00\",\"2023-02-13 18:27:46-05:00\",\"2023-02-13 18:19:59-05:00\",\"2023-01-28 21:22:19-05:00\",\"2023-01-25 08:07:59-05:00\",\"2023-01-06 20:49:38-05:00\",\"2023-01-01 19:48:38-05:00\",\"2022-12-28 17:09:13-05:00\",\"2022-12-26 17:18:14-05:00\",\"2022-12-12 08:05:11-05:00\",\"2022-12-09 09:18:40-05:00\",\"2022-12-08 17:42:39-05:00\",\"2022-12-08 17:42:19-05:00\",\"2022-12-07 11:03:49-05:00\",\"2022-12-07 09:34:48-05:00\",\"2022-12-05 20:58:49-05:00\",\"2022-12-04 15:33:24-05:00\",\"2022-12-04 12:50:25-05:00\",\"2022-12-03 22:39:08-05:00\",\"2022-12-03 22:37:12-05:00\",\"2022-12-03 22:29:52-05:00\",\"2022-12-03 21:55:24-05:00\",\"2022-12-03 21:49:05-05:00\",\"2022-12-03 21:34:33-05:00\",\"2022-12-03 14:59:21-05:00\",\"2022-12-03 14:53:02-05:00\",\"2022-12-03 14:48:49-05:00\",\"2022-12-03 14:36:45-05:00\",\"2022-12-03 14:25:45-05:00\",\"2022-11-29 16:52:36-05:00\",\"2022-11-20 12:20:19-05:00\",\"2022-11-15 17:40:03-05:00\",\"2022-11-15 17:39:16-05:00\",\"2022-11-15 16:34:04-05:00\",\"2022-11-15 13:51:50-05:00\",\"2022-11-15 13:51:04-05:00\",\"2022-11-15 13:45:08-05:00\",\"2022-10-31 15:47:33-05:00\",\"2022-10-23 11:02:09-05:00\",\"2022-10-21 19:43:29-05:00\",\"2022-09-30 15:32:05-05:00\",\"2022-09-30 15:11:01-05:00\",\"2022-09-30 14:57:30-05:00\",\"2022-09-30 08:18:53-05:00\",\"2022-09-28 19:43:23-05:00\",\"2022-09-28 19:40:16-05:00\",\"2022-09-28 19:36:42-05:00\",\"2022-09-28 19:23:56-05:00\",\"2022-09-28 07:45:25-05:00\",\"2022-09-27 21:40:42-05:00\",\"2022-09-22 14:02:10-05:00\",\"2022-09-21 16:21:49-05:00\",\"2022-09-21 16:15:31-05:00\",\"2022-09-21 15:49:40-05:00\",\"2022-09-21 14:23:06-05:00\",\"2022-09-21 14:11:45-05:00\",\"2022-09-21 14:09:38-05:00\",\"2022-09-21 13:52:26-05:00\",\"2022-09-21 11:01:29-05:00\",\"2022-09-17 16:10:25-05:00\",\"2022-09-17 16:10:08-05:00\",\"2022-09-16 23:27:42-05:00\",\"2022-09-12 21:58:52-05:00\",\"2022-09-12 21:54:22-05:00\",\"2022-09-06 15:31:15-05:00\",\"2022-08-25 12:40:11-05:00\",\"2022-08-18 21:21:17-05:00\",\"2022-08-18 08:11:10-05:00\",\"2022-08-18 08:11:02-05:00\",\"2022-08-17 20:42:33-05:00\",\"2022-06-18 15:27:05-05:00\",\"2022-06-12 14:19:55-05:00\",\"2022-06-07 20:46:38-05:00\",\"2022-06-07 07:52:52-05:00\",\"2022-06-07 07:49:32-05:00\",\"2022-06-04 21:04:00-05:00\",\"2022-06-01 07:55:00-05:00\",\"2022-05-20 18:48:32-05:00\",\"2022-05-13 15:36:52-05:00\",\"2021-11-23 12:35:45-05:00\",\"2021-10-17 19:44:09-05:00\",\"2021-09-10 13:29:46-05:00\",\"2021-09-10 12:56:41-05:00\",\"2021-09-09 19:00:46-05:00\",\"2021-09-08 19:00:09-05:00\",\"2021-09-08 13:38:47-05:00\",\"2021-09-08 13:30:44-05:00\",\"2021-09-08 13:25:15-05:00\",\"2021-09-07 16:19:58-05:00\",\"2021-09-07 15:58:29-05:00\",\"2021-09-07 15:47:58-05:00\",\"2021-09-07 14:45:16-05:00\",\"2021-09-07 12:19:18-05:00\",\"2021-09-07 11:39:51-05:00\",\"2021-09-06 19:19:14-05:00\",\"2021-09-06 19:09:50-05:00\",\"2021-09-06 18:59:10-05:00\",\"2021-09-02 20:31:41-05:00\",\"2021-07-27 18:19:39-05:00\",\"2021-06-19 09:23:28-05:00\",\"2021-06-12 20:26:26-05:00\",\"2021-06-12 20:26:24-05:00\",\"2021-06-12 20:26:21-05:00\",\"2021-06-12 20:26:18-05:00\",\"2021-06-12 20:25:54-05:00\",\"2021-06-04 17:50:09-05:00\",\"2021-04-20 23:48:21-05:00\",\"2021-03-14 18:29:14-05:00\",\"2021-02-10 18:54:42-05:00\",\"2021-02-10 18:45:42-05:00\",\"2021-01-29 19:36:40-05:00\",\"2021-01-26 20:27:25-05:00\",\"2021-01-24 19:15:19-05:00\",\"2020-12-27 20:58:52-05:00\",\"2020-12-27 10:43:24-05:00\",\"2020-12-04 20:43:55-05:00\",\"2020-11-29 13:42:01-05:00\",\"2020-11-21 17:51:13-05:00\",\"2020-11-20 23:33:27-05:00\",\"2020-11-20 23:30:22-05:00\",\"2020-11-20 23:26:24-05:00\",\"2020-11-19 17:09:03-05:00\",\"2020-11-19 17:04:10-05:00\",\"2020-11-19 16:46:17-05:00\",\"2020-11-19 16:21:45-05:00\",\"2020-11-05 17:40:41-05:00\",\"2020-11-04 11:34:26-05:00\",\"2020-10-15 18:40:30-05:00\",\"2020-10-08 21:31:27-05:00\",\"2020-09-30 22:12:51-05:00\",\"2020-09-29 19:45:26-05:00\",\"2020-09-26 22:04:21-05:00\",\"2020-09-26 22:03:40-05:00\",\"2020-09-21 17:41:43-05:00\",\"2020-09-11 11:27:46-05:00\",\"2020-09-05 20:21:20-05:00\",\"2020-08-12 20:20:04-05:00\",\"2020-08-02 20:07:48-05:00\",\"2020-07-24 13:18:28-05:00\",\"2020-07-14 21:10:16-05:00\",\"2020-07-14 20:57:10-05:00\",\"2020-06-04 12:44:19-05:00\",\"2020-03-25 10:01:54-05:00\",\"2020-03-25 09:58:20-05:00\",\"2020-03-25 09:58:17-05:00\",\"2020-03-25 09:49:26-05:00\",\"2020-03-20 10:39:42-05:00\",\"2020-03-18 23:26:27-05:00\",\"2020-02-18 20:27:46-05:00\",\"2020-02-16 20:24:52-05:00\",\"2020-02-16 20:05:10-05:00\",\"2020-02-15 00:24:29-05:00\",\"2020-02-13 18:16:42-05:00\",\"2020-02-02 17:15:35-05:00\",\"2020-01-30 20:01:49-05:00\",\"2020-01-30 07:30:38-05:00\",\"2020-01-29 22:26:35-05:00\",\"2020-01-23 08:02:33-05:00\",\"2020-01-14 07:15:04-05:00\",\"2020-01-11 19:53:20-05:00\",\"2020-01-01 02:57:37-05:00\",\"2019-12-31 22:05:53-05:00\",\"2019-12-31 21:58:34-05:00\",\"2019-12-28 17:14:58-05:00\",\"2019-12-28 17:14:56-05:00\",\"2019-12-28 17:14:24-05:00\",\"2019-12-21 23:56:56-05:00\",\"2019-12-21 23:48:50-05:00\",\"2019-11-27 16:25:13-05:00\",\"2019-11-06 20:32:38-05:00\",\"2019-11-05 08:14:24-05:00\",\"2019-10-28 23:08:19-05:00\",\"2019-10-06 23:33:07-05:00\",\"2019-10-01 22:44:51-05:00\",\"2019-09-02 06:35:42-05:00\",\"2019-07-29 22:22:02-05:00\",\"2019-07-27 10:44:26-05:00\",\"2019-07-27 10:28:37-05:00\",\"2019-07-23 23:58:35-05:00\",\"2019-07-23 23:52:59-05:00\",\"2019-07-23 23:47:12-05:00\",\"2019-07-18 11:21:14-05:00\",\"2019-07-15 23:51:56-05:00\",\"2019-07-15 23:34:08-05:00\",\"2019-07-12 14:24:55-05:00\",\"2019-07-05 14:27:12-05:00\",\"2019-06-10 18:19:47-05:00\",\"2019-06-09 02:49:25-05:00\",\"2019-05-29 21:18:17-05:00\",\"2019-05-29 20:59:18-05:00\",\"2019-05-10 08:20:20-05:00\",\"2019-05-06 23:40:12-05:00\",\"2019-04-22 11:16:29-05:00\",\"2019-04-21 22:10:01-05:00\",\"2019-04-21 10:01:57-05:00\",\"2019-04-20 21:33:36-05:00\",\"2019-04-19 11:03:51-05:00\",\"2019-04-13 16:50:57-05:00\",\"2019-04-02 21:06:13-05:00\",\"2019-03-24 15:50:21-05:00\",\"2019-03-22 10:48:43-05:00\",\"2019-03-18 11:05:56-05:00\",\"2019-03-18 10:52:13-05:00\",\"2019-03-17 19:18:17-05:00\",\"2019-03-16 23:04:39-05:00\",\"2019-03-08 11:38:43-05:00\",\"2019-02-22 13:50:08-05:00\",\"2019-02-21 19:14:43-05:00\",\"2019-02-17 14:44:26-05:00\",\"2019-02-11 07:42:56-05:00\",\"2019-02-08 09:42:14-05:00\",\"2019-02-03 01:59:49-05:00\",\"2019-01-19 21:21:51-05:00\",\"2019-01-11 21:55:53-05:00\",\"2019-01-11 20:03:18-05:00\",\"2018-12-29 09:55:49-05:00\",\"2018-12-29 01:16:12-05:00\",\"2018-12-15 22:53:42-05:00\",\"2018-12-15 22:47:26-05:00\",\"2018-12-15 19:33:33-05:00\",\"2018-12-06 21:42:02-05:00\",\"2018-12-03 08:11:54-05:00\",\"2018-12-03 08:09:24-05:00\",\"2018-11-24 22:42:23-05:00\",\"2018-11-24 08:08:51-05:00\",\"2018-11-20 08:36:11-05:00\",\"2018-11-19 13:33:39-05:00\",\"2018-11-15 00:05:51-05:00\",\"2018-11-14 15:26:25-05:00\",\"2018-11-14 13:57:50-05:00\",\"2018-11-14 13:54:29-05:00\",\"2018-11-14 13:42:01-05:00\",\"2018-11-06 19:12:33-05:00\",\"2018-10-29 09:37:25-05:00\",\"2018-10-19 22:58:33-05:00\",\"2018-10-19 14:15:02-05:00\",\"2018-10-08 12:11:12-05:00\",\"2018-10-01 20:37:55-05:00\",\"2018-10-01 16:53:05-05:00\",\"2018-10-01 07:12:24-05:00\",\"2018-09-30 22:43:55-05:00\",\"2018-09-24 21:02:46-05:00\",\"2018-09-24 21:02:24-05:00\",\"2018-09-23 17:13:35-05:00\",\"2018-09-22 11:28:41-05:00\",\"2018-09-21 22:26:43-05:00\",\"2018-09-21 18:10:44-05:00\",\"2018-09-15 18:34:16-05:00\",\"2018-09-13 19:02:25-05:00\",\"2018-09-06 23:45:12-05:00\",\"2018-09-06 18:36:56-05:00\",\"2018-09-02 23:42:34-05:00\",\"2018-09-02 23:42:11-05:00\",\"2018-08-29 14:19:54-05:00\",\"2018-08-25 18:05:21-05:00\",\"2018-08-25 00:36:53-05:00\",\"2018-08-21 10:49:37-05:00\",\"2018-08-19 21:11:19-05:00\",\"2018-08-17 08:13:22-05:00\",\"2018-08-04 22:01:56-05:00\",\"2018-08-04 21:54:32-05:00\",\"2018-08-03 19:54:49-05:00\",\"2018-08-03 17:34:37-05:00\",\"2018-08-03 17:07:42-05:00\",\"2018-07-01 21:38:06-05:00\",\"2018-06-24 01:13:46-05:00\",\"2018-05-27 17:48:35-05:00\",\"2018-05-24 13:37:58-05:00\",\"2018-05-12 14:31:53-05:00\",\"2018-05-01 02:08:35-05:00\",\"2018-04-14 17:50:50-05:00\",\"2018-04-06 18:19:07-05:00\",\"2018-03-31 20:44:58-05:00\",\"2018-03-25 20:56:09-05:00\",\"2018-03-25 20:55:58-05:00\",\"2018-03-08 01:33:29-05:00\",\"2018-03-07 13:18:37-05:00\",\"2018-03-07 09:52:48-05:00\",\"2018-03-06 10:24:09-05:00\",\"2018-03-06 00:40:15-05:00\",\"2018-03-06 00:34:22-05:00\",\"2018-03-05 17:53:47-05:00\",\"2018-02-28 00:22:22-05:00\",\"2018-02-27 23:04:12-05:00\",\"2018-02-26 13:51:34-05:00\",\"2018-02-23 12:42:04-05:00\",\"2018-02-21 22:21:37-05:00\",\"2018-02-20 23:10:48-05:00\",\"2018-02-18 01:19:19-05:00\",\"2018-02-14 08:12:54-05:00\",\"2018-02-13 09:48:32-05:00\",\"2018-02-13 00:55:47-05:00\",\"2018-02-11 20:03:15-05:00\",\"2018-02-11 13:31:47-05:00\",\"2018-02-09 08:59:03-05:00\",\"2018-02-06 20:37:41-05:00\",\"2018-02-05 22:01:24-05:00\",\"2018-02-04 01:53:05-05:00\",\"2018-02-04 01:46:21-05:00\",\"2018-02-02 22:49:12-05:00\",\"2018-02-02 13:31:51-05:00\",\"2018-01-24 07:21:21-05:00\",\"2018-01-17 09:35:33-05:00\",\"2018-01-14 16:16:16-05:00\",\"2018-01-10 22:01:32-05:00\",\"2018-01-05 20:05:27-05:00\",\"2017-12-30 16:16:11-05:00\",\"2017-12-30 16:12:56-05:00\",\"2017-12-28 16:09:41-05:00\",\"2017-12-18 22:59:20-05:00\",\"2017-12-18 22:58:39-05:00\",\"2017-12-15 23:18:03-05:00\",\"2017-11-27 17:48:59-05:00\",\"2017-11-18 12:14:57-05:00\",\"2017-11-18 12:12:07-05:00\",\"2017-11-18 12:11:20-05:00\",\"2017-11-18 12:11:05-05:00\",\"2017-11-18 12:10:43-05:00\",\"2017-11-13 21:11:17-05:00\",\"2017-11-08 15:57:26-05:00\",\"2017-11-07 20:15:59-05:00\",\"2017-11-04 01:52:09-05:00\",\"2017-11-04 01:43:51-05:00\",\"2017-10-29 20:37:39-05:00\",\"2017-10-23 21:53:42-05:00\",\"2017-10-21 18:15:33-05:00\",\"2017-10-21 18:14:48-05:00\",\"2017-10-21 18:14:45-05:00\",\"2017-10-21 18:14:42-05:00\",\"2017-10-21 18:14:40-05:00\",\"2017-10-21 18:14:02-05:00\",\"2017-10-18 16:13:25-05:00\",\"2017-10-17 21:46:59-05:00\",\"2017-09-22 18:51:50-05:00\",\"2017-09-20 06:04:14-05:00\",\"2017-09-12 05:59:13-05:00\",\"2017-09-07 15:44:52-05:00\",\"2017-08-23 13:02:55-05:00\",\"2017-08-18 19:24:07-05:00\",\"2017-08-18 01:39:17-05:00\",\"2017-08-17 14:26:58-05:00\",\"2017-08-17 14:25:37-05:00\",\"2017-08-17 01:44:38-05:00\",\"2017-08-17 01:17:09-05:00\",\"2017-08-14 19:25:52-05:00\",\"2017-08-14 14:53:34-05:00\",\"2017-08-14 01:50:45-05:00\",\"2017-08-13 02:52:47-05:00\",\"2017-08-12 19:20:16-05:00\",\"2017-08-11 17:34:47-05:00\",\"2017-08-11 17:30:43-05:00\",\"2017-08-10 23:47:25-05:00\",\"2017-08-10 23:41:22-05:00\",\"2017-08-10 23:39:26-05:00\",\"2017-08-10 23:22:22-05:00\",\"2017-08-09 11:38:28-05:00\",\"2017-08-08 23:52:04-05:00\",\"2017-08-08 23:47:47-05:00\",\"2017-08-08 01:06:40-05:00\",\"2017-08-08 01:04:17-05:00\",\"2017-08-08 00:56:14-05:00\",\"2017-08-06 23:15:57-05:00\",\"2017-08-06 01:16:03-05:00\",\"2017-08-04 01:54:01-05:00\",\"2017-08-04 01:53:35-05:00\",\"2017-08-02 11:46:07-05:00\",\"2017-07-30 10:43:38-05:00\",\"2017-07-29 01:12:52-05:00\",\"2017-07-28 19:38:35-05:00\",\"2017-07-28 19:38:26-05:00\",\"2017-07-28 00:39:19-05:00\",\"2017-07-27 10:37:24-05:00\",\"2017-07-26 11:08:27-05:00\",\"2017-07-26 01:45:58-05:00\",\"2017-07-26 01:45:30-05:00\",\"2017-07-23 03:54:39-05:00\",\"2017-07-21 13:00:36-05:00\",\"2017-07-16 21:30:32-05:00\",\"2017-07-16 17:54:19-05:00\",\"2017-07-15 21:29:23-05:00\",\"2017-07-14 22:39:16-05:00\",\"2017-07-09 20:19:05-05:00\",\"2017-07-07 21:57:02-05:00\",\"2017-07-07 21:56:52-05:00\",\"2017-07-07 21:56:41-05:00\",\"2017-07-02 19:40:02-05:00\",\"2017-07-01 00:08:42-05:00\",\"2017-07-01 00:08:26-05:00\",\"2017-06-30 19:39:19-05:00\",\"2017-06-28 19:52:55-05:00\",\"2017-06-27 19:24:21-05:00\",\"2017-06-25 20:47:57-05:00\",\"2017-06-25 20:47:54-05:00\",\"2017-06-25 20:47:37-05:00\",\"2017-06-25 20:46:44-05:00\",\"2017-06-25 19:56:23-05:00\",\"2017-06-25 19:15:56-05:00\",\"2017-06-24 20:53:18-05:00\",\"2017-06-23 18:57:05-05:00\",\"2017-06-23 16:55:24-05:00\",\"2017-06-23 16:41:36-05:00\",\"2017-06-23 16:29:02-05:00\",\"2017-06-22 22:43:06-05:00\",\"2017-06-22 22:23:06-05:00\",\"2017-06-19 18:46:39-05:00\",\"2017-06-18 22:02:54-05:00\",\"2017-06-18 11:35:38-05:00\",\"2017-06-17 00:35:52-05:00\",\"2017-06-17 00:24:33-05:00\",\"2017-06-17 00:23:07-05:00\",\"2017-06-17 00:05:44-05:00\",\"2017-06-17 00:05:33-05:00\",\"2017-06-17 00:02:21-05:00\",\"2017-06-15 15:42:46-05:00\",\"2017-06-15 15:41:37-05:00\",\"2017-06-15 15:17:46-05:00\",\"2017-06-15 15:17:40-05:00\",\"2017-06-15 15:17:19-05:00\",\"2017-06-15 15:14:05-05:00\",\"2017-06-15 15:13:48-05:00\",\"2017-06-15 15:10:19-05:00\",\"2017-06-15 15:08:02-05:00\",\"2017-06-15 15:05:05-05:00\",\"2017-06-11 21:58:01-05:00\",\"2017-06-09 13:07:30-05:00\",\"2017-06-08 18:37:43-05:00\",\"2017-06-07 19:52:31-05:00\",\"2017-06-06 19:32:27-05:00\",\"2017-06-06 19:26:45-05:00\",\"2017-06-06 16:55:13-05:00\",\"2017-06-03 01:32:53-05:00\",\"2017-06-01 20:24:53-05:00\",\"2017-05-28 17:13:31-05:00\",\"2017-05-28 00:40:28-05:00\",\"2017-05-27 16:54:37-05:00\",\"2017-05-27 15:07:34-05:00\",\"2017-05-27 15:01:42-05:00\",\"2017-05-27 10:18:13-05:00\",\"2017-05-27 10:18:05-05:00\",\"2017-05-26 16:30:40-05:00\",\"2017-05-26 16:22:35-05:00\",\"2017-05-20 17:06:34-05:00\",\"2017-05-14 18:22:07-05:00\",\"2017-05-07 18:49:54-05:00\",\"2017-05-01 22:05:56-05:00\",\"2017-04-26 19:18:00-05:00\",\"2017-04-21 12:56:36-05:00\",\"2017-04-20 12:51:05-05:00\",\"2017-04-19 20:25:32-05:00\",\"2017-04-19 20:03:13-05:00\",\"2017-04-18 20:25:50-05:00\",\"2017-04-18 17:40:02-05:00\",\"2017-04-18 17:29:31-05:00\",\"2017-04-18 08:12:04-05:00\",\"2017-04-14 22:57:39-05:00\",\"2017-04-14 22:57:17-05:00\",\"2017-04-13 09:15:23-05:00\",\"2017-04-13 08:44:04-05:00\",\"2017-04-12 06:30:03-05:00\",\"2017-04-11 22:37:07-05:00\",\"2017-04-11 21:29:00-05:00\",\"2017-04-11 21:17:01-05:00\",\"2017-04-11 19:50:24-05:00\",\"2017-04-11 17:37:32-05:00\",\"2017-04-11 17:30:31-05:00\",\"2017-04-11 13:38:55-05:00\",\"2017-04-10 22:09:20-05:00\",\"2017-04-09 08:04:35-05:00\",\"2017-04-09 08:00:51-05:00\",\"2017-04-09 07:59:10-05:00\",\"2017-04-08 16:50:35-05:00\",\"2017-04-06 13:07:02-05:00\",\"2017-04-05 21:34:33-05:00\",\"2017-04-04 17:53:12-05:00\",\"2017-04-04 17:48:49-05:00\",\"2017-04-04 17:47:14-05:00\",\"2017-04-04 17:40:27-05:00\",\"2017-04-03 21:26:49-05:00\",\"2017-04-02 16:47:09-05:00\",\"2017-03-31 12:27:36-05:00\",\"2017-03-31 12:24:34-05:00\",\"2017-03-31 12:17:38-05:00\",\"2017-03-31 12:16:57-05:00\",\"2017-03-29 20:26:05-05:00\",\"2017-03-29 12:21:42-05:00\",\"2017-03-27 22:34:46-05:00\",\"2017-03-27 22:34:40-05:00\",\"2017-03-27 22:34:35-05:00\",\"2017-03-27 07:32:07-05:00\",\"2017-03-26 11:28:02-05:00\",\"2017-03-25 18:49:47-05:00\",\"2017-03-25 18:49:39-05:00\",\"2017-03-25 18:49:22-05:00\",\"2017-03-25 18:40:30-05:00\",\"2017-03-25 18:37:51-05:00\",\"2017-02-18 13:14:28-05:00\",\"2017-02-18 13:14:14-05:00\",\"2017-02-17 21:40:17-05:00\",\"2017-02-17 21:38:00-05:00\",\"2017-02-17 21:34:32-05:00\",\"2017-02-17 16:09:37-05:00\",\"2017-02-17 12:23:37-05:00\",\"2017-02-16 15:25:21-05:00\",\"2017-02-16 12:14:43-05:00\",\"2017-02-16 12:01:31-05:00\",\"2017-02-16 11:52:51-05:00\",\"2017-02-16 11:38:25-05:00\",\"2017-02-15 17:43:03-05:00\",\"2017-02-15 17:42:03-05:00\",\"2017-02-15 17:33:21-05:00\",\"2017-02-15 17:33:10-05:00\",\"2017-02-15 17:28:06-05:00\",\"2017-02-15 17:24:57-05:00\",\"2017-02-15 17:21:16-05:00\",\"2017-02-14 21:21:45-05:00\",\"2017-02-14 19:56:08-05:00\",\"2017-02-14 09:51:00-05:00\",\"2017-02-14 09:29:20-05:00\",\"2017-02-14 09:24:59-05:00\",\"2017-02-14 09:18:38-05:00\",\"2017-02-14 09:12:46-05:00\",\"2017-02-13 16:21:05-05:00\",\"2017-02-13 16:10:52-05:00\",\"2017-02-13 10:22:27-05:00\",\"2017-02-13 10:20:57-05:00\",\"2017-02-13 10:16:12-05:00\",\"2017-02-13 10:15:40-05:00\",\"2017-02-12 20:16:45-05:00\"],\"xaxis\":\"x\",\"y\":[14,20,20,19,19,20,20,20,19,19,17,17,22,22,22,17,15,15,0,10,22,21,15,15,20,20,21,16,21,21,21,20,20,22,2,19,19,15,7,22,23,22,22,21,21,21,21,10,10,19,19,22,15,15,14,14,14,14,12,12,12,12,13,21,23,7,9,8,1,22,7,14,14,18,18,18,21,8,20,19,17,17,8,9,17,17,11,9,20,15,12,22,22,22,21,21,21,14,14,14,14,14,16,12,17,17,16,13,13,13,15,11,19,15,15,14,8,19,19,19,19,7,21,14,16,16,15,14,14,14,13,11,16,16,23,21,21,15,12,21,8,8,20,15,14,20,7,7,21,7,18,15,12,19,13,12,19,19,13,13,13,16,15,15,14,12,11,19,19,18,20,18,9,20,20,20,20,20,17,23,18,18,18,19,20,19,20,10,20,13,17,23,23,23,17,17,16,16,17,11,18,21,22,19,22,22,17,11,20,20,20,13,21,20,12,10,9,9,9,10,23,20,20,20,0,18,17,20,7,22,8,7,19,2,22,21,17,17,17,23,23,16,20,8,23,23,22,6,22,10,10,23,23,23,11,23,23,14,14,18,2,21,20,8,23,11,22,10,21,11,16,21,15,10,11,10,19,23,11,13,19,14,7,9,1,21,21,20,9,1,22,22,19,21,8,8,22,8,8,13,0,15,13,13,13,19,9,22,14,12,20,16,7,22,21,21,17,11,22,18,18,19,23,18,23,23,14,18,0,10,21,8,22,21,19,17,17,21,1,17,13,14,2,17,18,20,20,20,1,13,9,10,0,0,17,0,23,13,12,22,23,1,8,9,0,20,13,8,20,22,1,1,22,13,7,9,16,22,20,16,16,16,22,22,23,17,12,12,12,12,12,21,15,20,1,1,20,21,18,18,18,18,18,18,16,21,18,6,5,15,13,19,1,14,14,1,1,19,14,1,2,19,17,17,23,23,23,23,11,23,23,1,1,0,23,1,1,1,11,10,1,19,19,0,10,11,1,1,3,13,21,17,21,22,20,21,21,21,19,0,0,19,19,19,20,20,20,20,19,19,20,18,16,16,16,22,22,18,22,11,0,0,0,0,0,0,15,15,15,15,15,15,15,15,15,15,21,13,18,19,19,19,16,1,20,17,0,16,15,15,10,10,16,16,17,18,18,22,19,12,12,20,20,20,17,17,8,22,22,9,8,6,22,21,21,19,17,17,13,22,8,8,7,16,13,21,17,17,17,17,21,16,12,12,12,12,20,12,22,22,22,7,11,18,18,18,18,18,13,13,21,21,21,16,12,15,12,12,11,11,17,17,17,17,17,17,17,21,19,9,9,9,9,9,16,16,10,10,10,10,20],\"yaxis\":\"y\",\"type\":\"scattergl\"},{\"customdata\":[[\"Mi Ideolog\\u00eda\"],[\"Me Hace Da\\u00f1o Verte\"],[\"La Puerta\"],[\"M.A - Remix\"],[\"Dog Days\"],[\"Amor del Bueno\"],[\"La Locura Autom\\u00e1tica - Reggaeton\"],[\"Ni Una Ni Dos\"],[\"Bailame Despacio Vs La Player - Remix\"],[\"Bajo\"],[\"Dime\"],[\"Loco por Volverte a Ver\"],[\"KOMM, SUSSER TOD - M-10 Director's Edit Version\"],[\"The Cruel Angel's Thesis (Director's Edit Version)\"],[\"Peach Trees\"],[\"Tengo\"],[\"Remember Summer Days (Night Tempo Showa Groove Mix)\"],[\"memories\"],[\"Comedy\"],[\"Believe (ONE PIECE)\"],[\"Kirameki\"],[\"STAND PROUD\"],[\"CRAZY NOISY BIZARRE TOWN\"],[\"Kaikai Kitan\"],[\"No Me Conocen (Remix) [con DUKI, Rei & Tiago PZK]\"],[\"Kelly\"],[\"I Had Control\"],[\"Esta Cobard\\u00eda\"],[\"Maravillosos\"],[\"Se Fue la Luz\"],[\"Sue\\u00f1o en la Altura\"],[\"Verte Pasar\"],[\"Mr Blue\"],[\"El Che y los Rolling Stones\"],[\"Nora en Abril\"],[\"Da Ya Think I'm Sexy?\"],[\"Speechless (Full)\"],[\"Bad News Ain't No News At All\"],[\"A l'assaut (des ombres sur l'o)\"],[\"Louder Than Words\"],[\"What You Need\"],[\"Lost Stars\"]],\"hovertemplate\":\"Broad Genre=Other<br>Date Added=%{x}<br>Hour Added=%{y}<br>Track Name=%{customdata[0]}<extra></extra>\",\"legendgroup\":\"Other\",\"marker\":{\"color\":\"#FF97FF\",\"symbol\":\"circle\"},\"mode\":\"markers\",\"name\":\"Other\",\"showlegend\":true,\"x\":[\"2024-03-25 20:22:10-05:00\",\"2024-03-03 19:08:05-05:00\",\"2024-02-27 14:22:43-05:00\",\"2024-01-11 17:21:35-05:00\",\"2024-01-04 08:26:47-05:00\",\"2023-11-26 21:14:38-05:00\",\"2023-09-25 11:08:17-05:00\",\"2023-07-29 19:32:00-05:00\",\"2023-06-30 09:01:59-05:00\",\"2023-06-26 20:40:58-05:00\",\"2023-06-12 13:16:29-05:00\",\"2023-06-11 18:48:41-05:00\",\"2023-03-05 18:17:12-05:00\",\"2023-01-17 19:03:59-05:00\",\"2023-01-03 21:50:43-05:00\",\"2022-11-29 15:47:41-05:00\",\"2022-10-04 21:58:20-05:00\",\"2022-07-13 19:49:32-05:00\",\"2022-07-04 07:19:21-05:00\",\"2022-04-11 10:53:49-05:00\",\"2022-02-23 19:55:30-05:00\",\"2022-02-10 16:32:17-05:00\",\"2022-02-10 16:32:05-05:00\",\"2021-07-24 08:21:33-05:00\",\"2021-07-22 16:13:50-05:00\",\"2021-06-30 12:47:51-05:00\",\"2021-02-26 20:16:55-05:00\",\"2020-10-01 18:05:54-05:00\",\"2020-09-19 15:10:14-05:00\",\"2020-04-14 22:21:26-05:00\",\"2020-03-17 22:30:58-05:00\",\"2020-03-14 12:01:43-05:00\",\"2020-03-11 19:55:01-05:00\",\"2020-02-19 08:11:27-05:00\",\"2019-11-18 21:20:50-05:00\",\"2019-10-02 11:05:02-05:00\",\"2019-06-27 18:17:44-05:00\",\"2019-06-24 21:22:50-05:00\",\"2019-03-18 11:00:01-05:00\",\"2019-03-13 09:44:31-05:00\",\"2019-03-11 17:14:39-05:00\",\"2019-03-05 19:36:32-05:00\"],\"xaxis\":\"x\",\"y\":[20,19,14,17,8,21,11,19,9,20,13,18,18,19,21,15,21,19,7,10,19,16,16,8,16,12,20,18,15,22,22,12,19,8,21,11,18,21,11,9,17,19],\"yaxis\":\"y\",\"type\":\"scattergl\"},{\"customdata\":[[\"Things A Man Oughta Know\"],[\"Tennessee Whiskey\"],[\"If I Die Young\"],[\"Jesus, Etc.\"],[\"Yours If You Want It\"]],\"hovertemplate\":\"Broad Genre=Country<br>Date Added=%{x}<br>Hour Added=%{y}<br>Track Name=%{customdata[0]}<extra></extra>\",\"legendgroup\":\"Country\",\"marker\":{\"color\":\"#FECB52\",\"symbol\":\"circle\"},\"mode\":\"markers\",\"name\":\"Country\",\"showlegend\":true,\"x\":[\"2024-03-21 02:36:54-05:00\",\"2021-06-15 20:13:50-05:00\",\"2020-06-08 14:53:31-05:00\",\"2018-03-08 01:33:09-05:00\",\"2017-05-23 21:40:58-05:00\"],\"xaxis\":\"x\",\"y\":[2,20,14,1,21],\"yaxis\":\"y\",\"type\":\"scattergl\"},{\"customdata\":[[\"Eres Para M\\u00ed\"],[\"c\\u00f3mo dormiste?\"],[\"FLEXXX\"],[\"Mejor No Nos Vemos\"],[\"SHORTY QUE TE VAYA BN <3\"],[\"A M\\u00ed\"],[\"Mimosas - Remix\"],[\"Beat It\"],[\"Adorn\"],[\"Say a Little Prayer - Live\"]],\"hovertemplate\":\"Broad Genre=R&B<br>Date Added=%{x}<br>Hour Added=%{y}<br>Track Name=%{customdata[0]}<extra></extra>\",\"legendgroup\":\"R&B\",\"marker\":{\"color\":\"#636efa\",\"symbol\":\"circle\"},\"mode\":\"markers\",\"name\":\"R&B\",\"showlegend\":true,\"x\":[\"2024-01-22 17:55:49-05:00\",\"2023-12-01 15:12:57-05:00\",\"2023-11-01 13:16:26-05:00\",\"2023-09-28 01:00:39-05:00\",\"2023-09-28 00:57:18-05:00\",\"2023-08-22 21:10:36-05:00\",\"2022-02-27 00:40:51-05:00\",\"2021-10-10 20:24:24-05:00\",\"2020-06-21 20:40:43-05:00\",\"2019-10-04 18:13:27-05:00\"],\"xaxis\":\"x\",\"y\":[17,15,13,1,0,21,0,20,20,18],\"yaxis\":\"y\",\"type\":\"scattergl\"},{\"customdata\":[[\"I See the Light\"],[\"Dance Yrself Clean\"],[\"Lasso\"],[\"Disco Inferno - Single Edit\"],[\"Le Freak - Edit\"],[\"Night Fever - From \\\"Saturday Night Fever\\\" Soundtrack\"],[\"Sing a Song\"],[\"Shining Star\"],[\"Be My Lady\"],[\"Boogie Wonderland\"],[\"Stayin' Alive - 2007 Remastered Version Saturday Night Fever\"],[\"September\"],[\"Walking On A Dream\"]],\"hovertemplate\":\"Broad Genre=Dance<br>Date Added=%{x}<br>Hour Added=%{y}<br>Track Name=%{customdata[0]}<extra></extra>\",\"legendgroup\":\"Dance\",\"marker\":{\"color\":\"#EF553B\",\"symbol\":\"circle\"},\"mode\":\"markers\",\"name\":\"Dance\",\"showlegend\":true,\"x\":[\"2024-01-08 20:26:35-05:00\",\"2023-08-13 18:22:16-05:00\",\"2019-03-20 20:07:22-05:00\",\"2019-02-22 14:58:26-05:00\",\"2019-01-19 21:44:15-05:00\",\"2019-01-19 21:22:54-05:00\",\"2018-03-06 23:57:13-05:00\",\"2017-05-23 21:31:38-05:00\",\"2017-03-31 17:30:39-05:00\",\"2017-03-29 20:27:58-05:00\",\"2017-02-16 12:09:24-05:00\",\"2017-02-16 12:05:38-05:00\",\"2017-02-15 14:30:18-05:00\"],\"xaxis\":\"x\",\"y\":[20,18,20,14,21,21,23,21,17,20,12,12,14],\"yaxis\":\"y\",\"type\":\"scattergl\"},{\"customdata\":[[\"hot girl bummer (with Khea) - Khea Remix\"],[\"No More Lies\"],[\"Love to Hate You\"],[\"Sparks\"],[\"My Universe\"],[\"Til Kingdom Come\"],[\"People of The Pride\"],[\"Humankind\"],[\"Higher Power\"],[\"Charlie Brown\"],[\"Adventure of a Lifetime\"],[\"Friday I'm in Love\"],[\"Fun (feat. Tove Lo)\"],[\"Come On Eileen\"],[\"Tainted Love\"],[\"Go!\"],[\"Up&Up\"],[\"Trouble\"],[\"Life in Technicolor ii\"],[\"Yellow\"],[\"Viva La Vida\"],[\"Army of One\"],[\"Amazing Day\"],[\"Fix You\"],[\"Paradise\"],[\"Quello Che Non C'\\u00e8\"],[\"Everglow\"],[\"A L I E N S\"],[\"I Ran (So Far Away) - Single Edit\"],[\"Sin aliento\"],[\"Ni t\\u00fa ni nadie\"],[\"Karma Chameleon - Remastered 2002\"],[\"Boys Don't Cry\"],[\"Every Teardrop Is a Waterfall\"],[\"The Scientist\"],[\"Fascination Street - Remastered\"],[\"Take on Me\"],[\"Hypnotised\"]],\"hovertemplate\":\"Broad Genre=Alternative<br>Date Added=%{x}<br>Hour Added=%{y}<br>Track Name=%{customdata[0]}<extra></extra>\",\"legendgroup\":\"Alternative\",\"marker\":{\"color\":\"#00cc96\",\"symbol\":\"circle\"},\"mode\":\"markers\",\"name\":\"Alternative\",\"showlegend\":true,\"x\":[\"2024-01-05 22:29:22-05:00\",\"2023-11-26 19:07:56-05:00\",\"2022-12-13 16:59:21-05:00\",\"2022-09-17 16:10:02-05:00\",\"2022-09-14 07:44:17-05:00\",\"2022-09-14 07:36:00-05:00\",\"2022-09-12 08:09:46-05:00\",\"2022-09-12 08:09:35-05:00\",\"2021-05-07 08:41:04-05:00\",\"2020-11-19 16:42:31-05:00\",\"2020-02-11 08:15:57-05:00\",\"2019-12-28 17:16:41-05:00\",\"2019-08-16 16:51:44-05:00\",\"2019-05-27 06:51:16-05:00\",\"2019-03-29 14:19:11-05:00\",\"2018-12-23 10:54:30-05:00\",\"2018-12-15 23:02:43-05:00\",\"2018-12-05 14:37:15-05:00\",\"2018-10-01 16:51:31-05:00\",\"2018-10-01 16:51:24-05:00\",\"2018-10-01 16:51:18-05:00\",\"2018-10-01 16:49:52-05:00\",\"2018-10-01 16:44:16-05:00\",\"2018-09-30 22:36:00-05:00\",\"2018-09-22 11:37:40-05:00\",\"2018-08-26 01:58:53-05:00\",\"2017-12-29 13:39:19-05:00\",\"2017-07-13 21:56:20-05:00\",\"2017-06-25 20:46:54-05:00\",\"2017-06-23 16:32:36-05:00\",\"2017-06-15 17:17:07-05:00\",\"2017-05-26 16:30:36-05:00\",\"2017-05-26 12:31:55-05:00\",\"2017-04-24 22:08:24-05:00\",\"2017-04-24 22:08:15-05:00\",\"2017-04-13 08:10:52-05:00\",\"2017-04-11 22:36:32-05:00\",\"2017-03-26 11:49:38-05:00\"],\"xaxis\":\"x\",\"y\":[22,19,16,16,7,7,8,8,8,16,8,17,16,6,14,10,23,14,16,16,16,16,16,22,11,1,13,21,20,16,17,16,12,22,22,8,22,11],\"yaxis\":\"y\",\"type\":\"scattergl\"},{\"customdata\":[[\"She Calls Me Back (with Kacey Musgraves)\"],[\"sangria\"],[\"slow motion\"],[\"nightmares\"],[\"Under The Light\"],[\"Mad Visions\"],[\"Super Slow\"],[\"Just for a Minute\"],[\"RUN\"],[\"Skinny\"],[\"Alter Ego\"],[\"Break My Baby\"],[\"Hey Gringo\"],[\"Too Much Time Together\"],[\"About You\"],[\"Trouble\\u2019s Coming\"],[\"Oblivion\"],[\"See The Sun\"],[\"Do You Wanna\"],[\"Junk Of The Heart (Happy)\"],[\"Ooh La\"],[\"Sweet Emotion\"],[\"Westside\"],[\"The Things We Do\"],[\"El Pozo\"],[\"Simple Song\"],[\"No Te Me Achores\"],[\"Pan y Circo\"],[\"Cough Syrup\"],[\"Los Amigos Que Perd\\u00ed\"],[\"Karaoke Katmandu\\u0301\"],[\"El Momento\"],[\"Melancol\\u00eda Blue Blue Blue\"],[\"Naive\"],[\"Call It What You Want\"],[\"Bad Habit\"],[\"Triciclo Per\\u00fa\"],[\"Mistakes\"]],\"hovertemplate\":\"Broad Genre=Indie<br>Date Added=%{x}<br>Hour Added=%{y}<br>Track Name=%{customdata[0]}<extra></extra>\",\"legendgroup\":\"Indie\",\"marker\":{\"color\":\"#ab63fa\",\"symbol\":\"circle\"},\"mode\":\"markers\",\"name\":\"Indie\",\"showlegend\":true,\"x\":[\"2023-10-22 14:29:19-05:00\",\"2023-10-16 20:28:37-05:00\",\"2023-10-16 20:22:24-05:00\",\"2023-10-16 20:20:48-05:00\",\"2023-08-10 08:52:46-05:00\",\"2023-08-04 19:49:26-05:00\",\"2023-07-25 22:27:57-05:00\",\"2023-07-25 22:12:25-05:00\",\"2023-07-25 21:54:55-05:00\",\"2023-07-11 10:16:06-05:00\",\"2023-07-11 10:13:41-05:00\",\"2023-07-11 09:59:54-05:00\",\"2023-07-07 10:06:18-05:00\",\"2023-07-04 13:37:08-05:00\",\"2023-07-04 13:33:25-05:00\",\"2023-03-16 20:09:45-05:00\",\"2023-03-16 20:05:40-05:00\",\"2022-06-08 07:43:21-05:00\",\"2022-06-06 16:53:55-05:00\",\"2022-06-06 16:51:50-05:00\",\"2022-06-06 16:34:02-05:00\",\"2022-06-06 15:54:51-05:00\",\"2022-06-04 13:43:46-05:00\",\"2021-06-12 21:16:39-05:00\",\"2021-05-30 14:46:37-05:00\",\"2020-09-20 10:11:24-05:00\",\"2020-09-16 09:22:58-05:00\",\"2020-09-16 09:21:11-05:00\",\"2020-05-03 01:37:43-05:00\",\"2020-03-26 12:17:32-05:00\",\"2019-12-08 12:04:31-05:00\",\"2019-09-04 06:04:06-05:00\",\"2018-11-10 22:30:48-05:00\",\"2018-09-26 19:40:13-05:00\",\"2018-03-26 01:56:31-05:00\",\"2018-02-18 18:42:13-05:00\",\"2017-12-11 21:32:20-05:00\",\"2017-09-19 21:06:39-05:00\"],\"xaxis\":\"x\",\"y\":[14,20,20,20,8,19,22,22,21,10,10,9,10,13,13,20,20,7,16,16,16,15,13,21,14,10,9,9,1,12,12,6,22,19,1,18,21,21],\"yaxis\":\"y\",\"type\":\"scattergl\"},{\"customdata\":[[\"Presence Of The Lord\"],[\"The Thrill Is Gone\"],[\"Rock Me Baby\"],[\"Rip It Up\"],[\"Long Tall Sally\"]],\"hovertemplate\":\"Broad Genre=Blues<br>Date Added=%{x}<br>Hour Added=%{y}<br>Track Name=%{customdata[0]}<extra></extra>\",\"legendgroup\":\"Blues\",\"marker\":{\"color\":\"#FFA15A\",\"symbol\":\"circle\"},\"mode\":\"markers\",\"name\":\"Blues\",\"showlegend\":true,\"x\":[\"2023-07-10 21:46:14-05:00\",\"2022-06-01 07:49:29-05:00\",\"2021-01-19 08:41:16-05:00\",\"2017-03-25 18:42:50-05:00\",\"2017-03-25 18:42:46-05:00\"],\"xaxis\":\"x\",\"y\":[21,7,8,18,18],\"yaxis\":\"y\",\"type\":\"scattergl\"},{\"customdata\":[[\"Red Red Wine\"],[\"Groove Bom - Ao Vivo\"],[\"One Day\"],[\"When We Were Younger\"],[\"Not Done Yet\"],[\"Wavin' Flag\"],[\"Is This Love\"]],\"hovertemplate\":\"Broad Genre=Reggae<br>Date Added=%{x}<br>Hour Added=%{y}<br>Track Name=%{customdata[0]}<extra></extra>\",\"legendgroup\":\"Reggae\",\"marker\":{\"color\":\"#19d3f3\",\"symbol\":\"circle\"},\"mode\":\"markers\",\"name\":\"Reggae\",\"showlegend\":true,\"x\":[\"2023-06-06 08:40:17-05:00\",\"2022-04-16 13:22:34-05:00\",\"2019-06-26 23:28:17-05:00\",\"2019-03-20 23:59:05-05:00\",\"2019-03-20 23:51:50-05:00\",\"2017-06-04 18:02:56-05:00\",\"2017-02-17 15:06:51-05:00\"],\"xaxis\":\"x\",\"y\":[8,13,23,23,23,18,15],\"yaxis\":\"y\",\"type\":\"scattergl\"},{\"customdata\":[[\"Ballade No. 4 in F Minor, Op. 52\"],[\"Con Te Partir\\u00f2\"]],\"hovertemplate\":\"Broad Genre=Classical<br>Date Added=%{x}<br>Hour Added=%{y}<br>Track Name=%{customdata[0]}<extra></extra>\",\"legendgroup\":\"Classical\",\"marker\":{\"color\":\"#FF6692\",\"symbol\":\"circle\"},\"mode\":\"markers\",\"name\":\"Classical\",\"showlegend\":true,\"x\":[\"2023-04-22 23:58:39-05:00\",\"2019-10-23 20:14:03-05:00\"],\"xaxis\":\"x\",\"y\":[23,20],\"yaxis\":\"y\",\"type\":\"scattergl\"},{\"customdata\":[[\"Juan Pachanga\"],[\"Pedro Navaja\"]],\"hovertemplate\":\"Broad Genre=Jazz<br>Date Added=%{x}<br>Hour Added=%{y}<br>Track Name=%{customdata[0]}<extra></extra>\",\"legendgroup\":\"Jazz\",\"marker\":{\"color\":\"#B6E880\",\"symbol\":\"circle\"},\"mode\":\"markers\",\"name\":\"Jazz\",\"showlegend\":true,\"x\":[\"2022-12-01 20:13:51-05:00\",\"2019-03-23 05:28:12-05:00\"],\"xaxis\":\"x\",\"y\":[20,5],\"yaxis\":\"y\",\"type\":\"scattergl\"},{\"customdata\":[[\"LOST IN PARADISE\"],[\"Ain't No Mountain High Enough\"],[\"If I Ain't Got You\"],[\"Chasing Pavements\"],[\"For Once In My Life\"],[\"When We Were Young\"],[\"Master Blaster (Jammin')\"],[\"For Once In My Life\"],[\"Superstition - Single Version\"]],\"hovertemplate\":\"Broad Genre=Soul<br>Date Added=%{x}<br>Hour Added=%{y}<br>Track Name=%{customdata[0]}<extra></extra>\",\"legendgroup\":\"Soul\",\"marker\":{\"color\":\"#FF97FF\",\"symbol\":\"circle\"},\"mode\":\"markers\",\"name\":\"Soul\",\"showlegend\":true,\"x\":[\"2021-12-09 12:45:23-05:00\",\"2021-10-20 09:37:06-05:00\",\"2019-07-29 22:11:08-05:00\",\"2019-07-26 17:57:57-05:00\",\"2017-05-09 20:35:31-05:00\",\"2017-04-06 22:08:49-05:00\",\"2017-03-31 12:28:24-05:00\",\"2017-03-31 12:25:46-05:00\",\"2017-03-25 19:04:20-05:00\"],\"xaxis\":\"x\",\"y\":[12,9,22,17,20,22,12,12,19],\"yaxis\":\"y\",\"type\":\"scattergl\"},{\"customdata\":[[\"Father And Son\"],[\"Little Talks\"]],\"hovertemplate\":\"Broad Genre=Folk<br>Date Added=%{x}<br>Hour Added=%{y}<br>Track Name=%{customdata[0]}<extra></extra>\",\"legendgroup\":\"Folk\",\"marker\":{\"color\":\"#FECB52\",\"symbol\":\"circle\"},\"mode\":\"markers\",\"name\":\"Folk\",\"showlegend\":true,\"x\":[\"2019-12-25 01:05:16-05:00\",\"2017-08-02 11:46:32-05:00\"],\"xaxis\":\"x\",\"y\":[1,11],\"yaxis\":\"y\",\"type\":\"scattergl\"}],                        {\"template\":{\"data\":{\"histogram2dcontour\":[{\"type\":\"histogram2dcontour\",\"colorbar\":{\"outlinewidth\":0,\"ticks\":\"\"},\"colorscale\":[[0.0,\"#0d0887\"],[0.1111111111111111,\"#46039f\"],[0.2222222222222222,\"#7201a8\"],[0.3333333333333333,\"#9c179e\"],[0.4444444444444444,\"#bd3786\"],[0.5555555555555556,\"#d8576b\"],[0.6666666666666666,\"#ed7953\"],[0.7777777777777778,\"#fb9f3a\"],[0.8888888888888888,\"#fdca26\"],[1.0,\"#f0f921\"]]}],\"choropleth\":[{\"type\":\"choropleth\",\"colorbar\":{\"outlinewidth\":0,\"ticks\":\"\"}}],\"histogram2d\":[{\"type\":\"histogram2d\",\"colorbar\":{\"outlinewidth\":0,\"ticks\":\"\"},\"colorscale\":[[0.0,\"#0d0887\"],[0.1111111111111111,\"#46039f\"],[0.2222222222222222,\"#7201a8\"],[0.3333333333333333,\"#9c179e\"],[0.4444444444444444,\"#bd3786\"],[0.5555555555555556,\"#d8576b\"],[0.6666666666666666,\"#ed7953\"],[0.7777777777777778,\"#fb9f3a\"],[0.8888888888888888,\"#fdca26\"],[1.0,\"#f0f921\"]]}],\"heatmap\":[{\"type\":\"heatmap\",\"colorbar\":{\"outlinewidth\":0,\"ticks\":\"\"},\"colorscale\":[[0.0,\"#0d0887\"],[0.1111111111111111,\"#46039f\"],[0.2222222222222222,\"#7201a8\"],[0.3333333333333333,\"#9c179e\"],[0.4444444444444444,\"#bd3786\"],[0.5555555555555556,\"#d8576b\"],[0.6666666666666666,\"#ed7953\"],[0.7777777777777778,\"#fb9f3a\"],[0.8888888888888888,\"#fdca26\"],[1.0,\"#f0f921\"]]}],\"heatmapgl\":[{\"type\":\"heatmapgl\",\"colorbar\":{\"outlinewidth\":0,\"ticks\":\"\"},\"colorscale\":[[0.0,\"#0d0887\"],[0.1111111111111111,\"#46039f\"],[0.2222222222222222,\"#7201a8\"],[0.3333333333333333,\"#9c179e\"],[0.4444444444444444,\"#bd3786\"],[0.5555555555555556,\"#d8576b\"],[0.6666666666666666,\"#ed7953\"],[0.7777777777777778,\"#fb9f3a\"],[0.8888888888888888,\"#fdca26\"],[1.0,\"#f0f921\"]]}],\"contourcarpet\":[{\"type\":\"contourcarpet\",\"colorbar\":{\"outlinewidth\":0,\"ticks\":\"\"}}],\"contour\":[{\"type\":\"contour\",\"colorbar\":{\"outlinewidth\":0,\"ticks\":\"\"},\"colorscale\":[[0.0,\"#0d0887\"],[0.1111111111111111,\"#46039f\"],[0.2222222222222222,\"#7201a8\"],[0.3333333333333333,\"#9c179e\"],[0.4444444444444444,\"#bd3786\"],[0.5555555555555556,\"#d8576b\"],[0.6666666666666666,\"#ed7953\"],[0.7777777777777778,\"#fb9f3a\"],[0.8888888888888888,\"#fdca26\"],[1.0,\"#f0f921\"]]}],\"surface\":[{\"type\":\"surface\",\"colorbar\":{\"outlinewidth\":0,\"ticks\":\"\"},\"colorscale\":[[0.0,\"#0d0887\"],[0.1111111111111111,\"#46039f\"],[0.2222222222222222,\"#7201a8\"],[0.3333333333333333,\"#9c179e\"],[0.4444444444444444,\"#bd3786\"],[0.5555555555555556,\"#d8576b\"],[0.6666666666666666,\"#ed7953\"],[0.7777777777777778,\"#fb9f3a\"],[0.8888888888888888,\"#fdca26\"],[1.0,\"#f0f921\"]]}],\"mesh3d\":[{\"type\":\"mesh3d\",\"colorbar\":{\"outlinewidth\":0,\"ticks\":\"\"}}],\"scatter\":[{\"fillpattern\":{\"fillmode\":\"overlay\",\"size\":10,\"solidity\":0.2},\"type\":\"scatter\"}],\"parcoords\":[{\"type\":\"parcoords\",\"line\":{\"colorbar\":{\"outlinewidth\":0,\"ticks\":\"\"}}}],\"scatterpolargl\":[{\"type\":\"scatterpolargl\",\"marker\":{\"colorbar\":{\"outlinewidth\":0,\"ticks\":\"\"}}}],\"bar\":[{\"error_x\":{\"color\":\"#2a3f5f\"},\"error_y\":{\"color\":\"#2a3f5f\"},\"marker\":{\"line\":{\"color\":\"#E5ECF6\",\"width\":0.5},\"pattern\":{\"fillmode\":\"overlay\",\"size\":10,\"solidity\":0.2}},\"type\":\"bar\"}],\"scattergeo\":[{\"type\":\"scattergeo\",\"marker\":{\"colorbar\":{\"outlinewidth\":0,\"ticks\":\"\"}}}],\"scatterpolar\":[{\"type\":\"scatterpolar\",\"marker\":{\"colorbar\":{\"outlinewidth\":0,\"ticks\":\"\"}}}],\"histogram\":[{\"marker\":{\"pattern\":{\"fillmode\":\"overlay\",\"size\":10,\"solidity\":0.2}},\"type\":\"histogram\"}],\"scattergl\":[{\"type\":\"scattergl\",\"marker\":{\"colorbar\":{\"outlinewidth\":0,\"ticks\":\"\"}}}],\"scatter3d\":[{\"type\":\"scatter3d\",\"line\":{\"colorbar\":{\"outlinewidth\":0,\"ticks\":\"\"}},\"marker\":{\"colorbar\":{\"outlinewidth\":0,\"ticks\":\"\"}}}],\"scattermapbox\":[{\"type\":\"scattermapbox\",\"marker\":{\"colorbar\":{\"outlinewidth\":0,\"ticks\":\"\"}}}],\"scatterternary\":[{\"type\":\"scatterternary\",\"marker\":{\"colorbar\":{\"outlinewidth\":0,\"ticks\":\"\"}}}],\"scattercarpet\":[{\"type\":\"scattercarpet\",\"marker\":{\"colorbar\":{\"outlinewidth\":0,\"ticks\":\"\"}}}],\"carpet\":[{\"aaxis\":{\"endlinecolor\":\"#2a3f5f\",\"gridcolor\":\"white\",\"linecolor\":\"white\",\"minorgridcolor\":\"white\",\"startlinecolor\":\"#2a3f5f\"},\"baxis\":{\"endlinecolor\":\"#2a3f5f\",\"gridcolor\":\"white\",\"linecolor\":\"white\",\"minorgridcolor\":\"white\",\"startlinecolor\":\"#2a3f5f\"},\"type\":\"carpet\"}],\"table\":[{\"cells\":{\"fill\":{\"color\":\"#EBF0F8\"},\"line\":{\"color\":\"white\"}},\"header\":{\"fill\":{\"color\":\"#C8D4E3\"},\"line\":{\"color\":\"white\"}},\"type\":\"table\"}],\"barpolar\":[{\"marker\":{\"line\":{\"color\":\"#E5ECF6\",\"width\":0.5},\"pattern\":{\"fillmode\":\"overlay\",\"size\":10,\"solidity\":0.2}},\"type\":\"barpolar\"}],\"pie\":[{\"automargin\":true,\"type\":\"pie\"}]},\"layout\":{\"autotypenumbers\":\"strict\",\"colorway\":[\"#636efa\",\"#EF553B\",\"#00cc96\",\"#ab63fa\",\"#FFA15A\",\"#19d3f3\",\"#FF6692\",\"#B6E880\",\"#FF97FF\",\"#FECB52\"],\"font\":{\"color\":\"#2a3f5f\"},\"hovermode\":\"closest\",\"hoverlabel\":{\"align\":\"left\"},\"paper_bgcolor\":\"white\",\"plot_bgcolor\":\"#E5ECF6\",\"polar\":{\"bgcolor\":\"#E5ECF6\",\"angularaxis\":{\"gridcolor\":\"white\",\"linecolor\":\"white\",\"ticks\":\"\"},\"radialaxis\":{\"gridcolor\":\"white\",\"linecolor\":\"white\",\"ticks\":\"\"}},\"ternary\":{\"bgcolor\":\"#E5ECF6\",\"aaxis\":{\"gridcolor\":\"white\",\"linecolor\":\"white\",\"ticks\":\"\"},\"baxis\":{\"gridcolor\":\"white\",\"linecolor\":\"white\",\"ticks\":\"\"},\"caxis\":{\"gridcolor\":\"white\",\"linecolor\":\"white\",\"ticks\":\"\"}},\"coloraxis\":{\"colorbar\":{\"outlinewidth\":0,\"ticks\":\"\"}},\"colorscale\":{\"sequential\":[[0.0,\"#0d0887\"],[0.1111111111111111,\"#46039f\"],[0.2222222222222222,\"#7201a8\"],[0.3333333333333333,\"#9c179e\"],[0.4444444444444444,\"#bd3786\"],[0.5555555555555556,\"#d8576b\"],[0.6666666666666666,\"#ed7953\"],[0.7777777777777778,\"#fb9f3a\"],[0.8888888888888888,\"#fdca26\"],[1.0,\"#f0f921\"]],\"sequentialminus\":[[0.0,\"#0d0887\"],[0.1111111111111111,\"#46039f\"],[0.2222222222222222,\"#7201a8\"],[0.3333333333333333,\"#9c179e\"],[0.4444444444444444,\"#bd3786\"],[0.5555555555555556,\"#d8576b\"],[0.6666666666666666,\"#ed7953\"],[0.7777777777777778,\"#fb9f3a\"],[0.8888888888888888,\"#fdca26\"],[1.0,\"#f0f921\"]],\"diverging\":[[0,\"#8e0152\"],[0.1,\"#c51b7d\"],[0.2,\"#de77ae\"],[0.3,\"#f1b6da\"],[0.4,\"#fde0ef\"],[0.5,\"#f7f7f7\"],[0.6,\"#e6f5d0\"],[0.7,\"#b8e186\"],[0.8,\"#7fbc41\"],[0.9,\"#4d9221\"],[1,\"#276419\"]]},\"xaxis\":{\"gridcolor\":\"white\",\"linecolor\":\"white\",\"ticks\":\"\",\"title\":{\"standoff\":15},\"zerolinecolor\":\"white\",\"automargin\":true,\"zerolinewidth\":2},\"yaxis\":{\"gridcolor\":\"white\",\"linecolor\":\"white\",\"ticks\":\"\",\"title\":{\"standoff\":15},\"zerolinecolor\":\"white\",\"automargin\":true,\"zerolinewidth\":2},\"scene\":{\"xaxis\":{\"backgroundcolor\":\"#E5ECF6\",\"gridcolor\":\"white\",\"linecolor\":\"white\",\"showbackground\":true,\"ticks\":\"\",\"zerolinecolor\":\"white\",\"gridwidth\":2},\"yaxis\":{\"backgroundcolor\":\"#E5ECF6\",\"gridcolor\":\"white\",\"linecolor\":\"white\",\"showbackground\":true,\"ticks\":\"\",\"zerolinecolor\":\"white\",\"gridwidth\":2},\"zaxis\":{\"backgroundcolor\":\"#E5ECF6\",\"gridcolor\":\"white\",\"linecolor\":\"white\",\"showbackground\":true,\"ticks\":\"\",\"zerolinecolor\":\"white\",\"gridwidth\":2}},\"shapedefaults\":{\"line\":{\"color\":\"#2a3f5f\"}},\"annotationdefaults\":{\"arrowcolor\":\"#2a3f5f\",\"arrowhead\":0,\"arrowwidth\":1},\"geo\":{\"bgcolor\":\"white\",\"landcolor\":\"#E5ECF6\",\"subunitcolor\":\"white\",\"showland\":true,\"showlakes\":true,\"lakecolor\":\"white\"},\"title\":{\"x\":0.05},\"mapbox\":{\"style\":\"light\"}}},\"xaxis\":{\"anchor\":\"y\",\"domain\":[0.0,1.0],\"title\":{\"text\":\"Date Added\"}},\"yaxis\":{\"anchor\":\"x\",\"domain\":[0.0,1.0],\"title\":{\"text\":\"Hour Added\"}},\"legend\":{\"title\":{\"text\":\"Broad Genre\"},\"tracegroupgap\":0},\"title\":{\"text\":\"Duration of Songs Over Time by Genre\"}},                        {\"responsive\": true}                    ).then(function(){\n",
       "                            \n",
       "var gd = document.getElementById('8eca1b26-bce4-44a6-9f5e-217e4575bf2e');\n",
       "var x = new MutationObserver(function (mutations, observer) {{\n",
       "        var display = window.getComputedStyle(gd).display;\n",
       "        if (!display || display === 'none') {{\n",
       "            console.log([gd, 'removed!']);\n",
       "            Plotly.purge(gd);\n",
       "            observer.disconnect();\n",
       "        }}\n",
       "}});\n",
       "\n",
       "// Listen for the removal of the full notebook cells\n",
       "var notebookContainer = gd.closest('#notebook-container');\n",
       "if (notebookContainer) {{\n",
       "    x.observe(notebookContainer, {childList: true});\n",
       "}}\n",
       "\n",
       "// Listen for the clearing of the current output cell\n",
       "var outputEl = gd.closest('.output');\n",
       "if (outputEl) {{\n",
       "    x.observe(outputEl, {childList: true});\n",
       "}}\n",
       "\n",
       "                        })                };                });            </script>        </div>"
      ]
     },
     "metadata": {},
     "output_type": "display_data"
    }
   ],
   "source": [
    "top_genres = ['Alternative', 'Dance', 'Electronic', 'Hip Hop', 'Indie', 'Latin', 'Metal', 'Other', 'Pop', 'Rock']\n",
    "df_top_genres = df[df['Broad Genre'].isin(top_genres)]\n",
    "fig = px.scatter(df, y='Hour Added', x='Date Added', color='Broad Genre', hover_data={'Track Name': True}, title='Duration of Songs Over Time by Genre')\n",
    "fig.show()"
   ]
  },
  {
   "cell_type": "code",
   "execution_count": null,
   "id": "5dee7bc4-7ec9-4022-8c8f-1b6239d2012b",
   "metadata": {},
   "outputs": [],
   "source": []
  }
 ],
 "metadata": {
  "kernelspec": {
   "display_name": "Python 3 (ipykernel)",
   "language": "python",
   "name": "python3"
  },
  "language_info": {
   "codemirror_mode": {
    "name": "ipython",
    "version": 3
   },
   "file_extension": ".py",
   "mimetype": "text/x-python",
   "name": "python",
   "nbconvert_exporter": "python",
   "pygments_lexer": "ipython3",
   "version": "3.11.7"
  }
 },
 "nbformat": 4,
 "nbformat_minor": 5
}
